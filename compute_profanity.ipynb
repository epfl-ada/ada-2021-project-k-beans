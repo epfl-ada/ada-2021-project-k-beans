{
 "cells": [
  {
   "cell_type": "code",
   "execution_count": 1,
   "id": "2b9bcb00-48a0-4fe8-9ba6-75335d21fd07",
   "metadata": {},
   "outputs": [
    {
     "data": {
      "text/plain": [
       "'/usr/local/anaconda3/envs/ada/bin/python'"
      ]
     },
     "execution_count": 1,
     "metadata": {},
     "output_type": "execute_result"
    }
   ],
   "source": [
    "import sys\n",
    "sys.executable"
   ]
  },
  {
   "cell_type": "code",
   "execution_count": 2,
   "id": "d8cca67f-bfa3-4de2-aaf5-e1c1c6e0960a",
   "metadata": {},
   "outputs": [
    {
     "name": "stdout",
     "output_type": "stream",
     "text": [
      "env: SPARK_PYTHON=/usr/local/anaconda3/envs/ada/bin/python\n",
      "env: SPARK_DRIVER=/usr/local/anaconda3/envs/ada/bin/python\n"
     ]
    }
   ],
   "source": [
    "%env SPARK_PYTHON=/usr/local/anaconda3/envs/ada/bin/python\n",
    "%env SPARK_DRIVER=/usr/local/anaconda3/envs/ada/bin/python"
   ]
  },
  {
   "cell_type": "code",
   "execution_count": 3,
   "id": "36dd4ee0-313a-4028-8da4-20e10ee7adf0",
   "metadata": {},
   "outputs": [],
   "source": [
    "# Data handling and visualization\n",
    "import numpy as np\n",
    "import pandas as pd\n",
    "import matplotlib.pyplot as plt\n",
    "import seaborn as sns\n",
    "\n",
    "# PySpark\n",
    "import pyspark\n",
    "from pyspark import SparkContext\n",
    "from pyspark.sql import functions as f\n",
    "from pyspark.sql import SparkSession\n",
    "from pyspark.sql.types import IntegerType, BooleanType, ArrayType, StringType\n",
    "\n",
    "# Profanity check\n",
    "import profanity_check\n",
    "\n",
    "# Helpers\n",
    "import os"
   ]
  },
  {
   "cell_type": "code",
   "execution_count": 4,
   "id": "fc34c58f-586f-4e41-9f53-2a1e3f69cb5f",
   "metadata": {},
   "outputs": [
    {
     "name": "stdout",
     "output_type": "stream",
     "text": [
      ":: loading settings :: url = jar:file:/usr/local/anaconda3/envs/ada/lib/python3.8/site-packages/pyspark/jars/ivy-2.4.0.jar!/org/apache/ivy/core/settings/ivysettings.xml\n"
     ]
    },
    {
     "name": "stderr",
     "output_type": "stream",
     "text": [
      "Ivy Default Cache set to: /Users/MDS/.ivy2/cache\n",
      "The jars for the packages stored in: /Users/MDS/.ivy2/jars\n",
      "com.johnsnowlabs.nlp#spark-nlp_2.12 added as a dependency\n",
      ":: resolving dependencies :: org.apache.spark#spark-submit-parent-c513a1b8-b6bd-40cd-b689-443144e3c616;1.0\n",
      "\tconfs: [default]\n",
      "\tfound com.johnsnowlabs.nlp#spark-nlp_2.12;3.3.2 in central\n",
      "\tfound com.typesafe#config;1.4.1 in central\n",
      "\tfound org.rocksdb#rocksdbjni;6.5.3 in central\n",
      "\tfound com.amazonaws#aws-java-sdk-bundle;1.11.603 in central\n",
      "\tfound com.github.universal-automata#liblevenshtein;3.0.0 in central\n",
      "\tfound com.google.code.findbugs#annotations;3.0.1 in central\n",
      "\tfound net.jcip#jcip-annotations;1.0 in central\n",
      "\tfound com.google.code.findbugs#jsr305;3.0.1 in central\n",
      "\tfound com.google.protobuf#protobuf-java-util;3.0.0-beta-3 in central\n",
      "\tfound com.google.protobuf#protobuf-java;3.0.0-beta-3 in central\n",
      "\tfound com.google.code.gson#gson;2.3 in central\n",
      "\tfound it.unimi.dsi#fastutil;7.0.12 in central\n",
      "\tfound org.projectlombok#lombok;1.16.8 in central\n",
      "\tfound org.slf4j#slf4j-api;1.7.21 in central\n",
      "\tfound com.navigamez#greex;1.0 in central\n",
      "\tfound dk.brics.automaton#automaton;1.11-8 in central\n",
      "\tfound org.json4s#json4s-ext_2.12;3.5.3 in central\n",
      "\tfound joda-time#joda-time;2.9.5 in central\n",
      "\tfound org.joda#joda-convert;1.8.1 in central\n",
      "\tfound com.johnsnowlabs.nlp#tensorflow-cpu_2.12;0.3.3 in central\n",
      "\tfound net.sf.trove4j#trove4j;3.0.3 in central\n",
      ":: resolution report :: resolve 2424ms :: artifacts dl 27ms\n",
      "\t:: modules in use:\n",
      "\tcom.amazonaws#aws-java-sdk-bundle;1.11.603 from central in [default]\n",
      "\tcom.github.universal-automata#liblevenshtein;3.0.0 from central in [default]\n",
      "\tcom.google.code.findbugs#annotations;3.0.1 from central in [default]\n",
      "\tcom.google.code.findbugs#jsr305;3.0.1 from central in [default]\n",
      "\tcom.google.code.gson#gson;2.3 from central in [default]\n",
      "\tcom.google.protobuf#protobuf-java;3.0.0-beta-3 from central in [default]\n",
      "\tcom.google.protobuf#protobuf-java-util;3.0.0-beta-3 from central in [default]\n",
      "\tcom.johnsnowlabs.nlp#spark-nlp_2.12;3.3.2 from central in [default]\n",
      "\tcom.johnsnowlabs.nlp#tensorflow-cpu_2.12;0.3.3 from central in [default]\n",
      "\tcom.navigamez#greex;1.0 from central in [default]\n",
      "\tcom.typesafe#config;1.4.1 from central in [default]\n",
      "\tdk.brics.automaton#automaton;1.11-8 from central in [default]\n",
      "\tit.unimi.dsi#fastutil;7.0.12 from central in [default]\n",
      "\tjoda-time#joda-time;2.9.5 from central in [default]\n",
      "\tnet.jcip#jcip-annotations;1.0 from central in [default]\n",
      "\tnet.sf.trove4j#trove4j;3.0.3 from central in [default]\n",
      "\torg.joda#joda-convert;1.8.1 from central in [default]\n",
      "\torg.json4s#json4s-ext_2.12;3.5.3 from central in [default]\n",
      "\torg.projectlombok#lombok;1.16.8 from central in [default]\n",
      "\torg.rocksdb#rocksdbjni;6.5.3 from central in [default]\n",
      "\torg.slf4j#slf4j-api;1.7.21 from central in [default]\n",
      "\t---------------------------------------------------------------------\n",
      "\t|                  |            modules            ||   artifacts   |\n",
      "\t|       conf       | number| search|dwnlded|evicted|| number|dwnlded|\n",
      "\t---------------------------------------------------------------------\n",
      "\t|      default     |   21  |   3   |   3   |   0   ||   21  |   0   |\n",
      "\t---------------------------------------------------------------------\n",
      "\n",
      ":: problems summary ::\n",
      ":::: ERRORS\n",
      "\tunknown resolver null\n",
      "\n",
      "\tunknown resolver null\n",
      "\n",
      "\tunknown resolver null\n",
      "\n",
      "\n",
      ":: USE VERBOSE OR DEBUG MESSAGE LEVEL FOR MORE DETAILS\n",
      ":: retrieving :: org.apache.spark#spark-submit-parent-c513a1b8-b6bd-40cd-b689-443144e3c616\n",
      "\tconfs: [default]\n",
      "\t0 artifacts copied, 21 already retrieved (0kB/31ms)\n",
      "21/11/11 04:00:44 WARN NativeCodeLoader: Unable to load native-hadoop library for your platform... using builtin-java classes where applicable\n",
      "Using Spark's default log4j profile: org/apache/spark/log4j-defaults.properties\n",
      "Setting default log level to \"WARN\".\n",
      "To adjust logging level use sc.setLogLevel(newLevel). For SparkR, use setLogLevel(newLevel).\n",
      "21/11/11 04:00:45 WARN SparkConf: Note that spark.local.dir will be overridden by the value set by the cluster manager (via SPARK_LOCAL_DIRS in mesos/standalone/kubernetes and LOCAL_DIRS in YARN).\n"
     ]
    },
    {
     "data": {
      "text/html": [
       "\n",
       "            <div>\n",
       "                <p><b>SparkSession - in-memory</b></p>\n",
       "                \n",
       "        <div>\n",
       "            <p><b>SparkContext</b></p>\n",
       "\n",
       "            <p><a href=\"http://172.22.22.63:4040\">Spark UI</a></p>\n",
       "\n",
       "            <dl>\n",
       "              <dt>Version</dt>\n",
       "                <dd><code>v3.1.1</code></dd>\n",
       "              <dt>Master</dt>\n",
       "                <dd><code>local[*]</code></dd>\n",
       "              <dt>AppName</dt>\n",
       "                <dd><code>pyspark-shell</code></dd>\n",
       "            </dl>\n",
       "        </div>\n",
       "        \n",
       "            </div>\n",
       "        "
      ],
      "text/plain": [
       "<pyspark.sql.session.SparkSession at 0x7fb94b8a3e20>"
      ]
     },
     "execution_count": 4,
     "metadata": {},
     "output_type": "execute_result"
    }
   ],
   "source": [
    "conf = pyspark.SparkConf().setMaster(\"local[*]\").setAll([\n",
    "    ('spark.driver.memory','8G'),\n",
    "    ('spark.driver.maxResultSize', '8G'),\n",
    "    ('spark.sql.execution.arrow.pyspark.enabled', True),\n",
    "    ('spark.sql.execution.arrow.maxRecordsPerBatch', 10000),\n",
    "    ('spark.local.dir', '/tmp')\n",
    "])\n",
    "\n",
    "spark = SparkSession.builder.config(conf=conf).config(\"spark.jars.packages\", \"com.johnsnowlabs.nlp:spark-nlp_2.12:3.3.2\").getOrCreate()\n",
    "sc = spark.sparkContext\n",
    "sc.setLogLevel(\"ERROR\")\n",
    "spark"
   ]
  },
  {
   "cell_type": "code",
   "execution_count": 5,
   "id": "f5532c48-5bf5-4a61-99ba-8324f5636abf",
   "metadata": {},
   "outputs": [],
   "source": [
    "DATA_DIR = 'data/'\n",
    "# DATA_DIR = '/Volumes/Seagate1TB/ada-project/data/'\n",
    "QUOTEBANK_DATA_DIR = DATA_DIR + 'quotebank_data_raw/'"
   ]
  },
  {
   "cell_type": "code",
   "execution_count": 6,
   "id": "1782f754-0fd9-4ff4-b3ca-4b86cfd99904",
   "metadata": {},
   "outputs": [
    {
     "name": "stderr",
     "output_type": "stream",
     "text": [
      "[Stage 1:======================================================>(120 + 2) / 122]\r"
     ]
    },
    {
     "name": "stdout",
     "output_type": "stream",
     "text": [
      "CPU times: user 127 ms, sys: 61 ms, total: 188 ms\n",
      "Wall time: 1min 26s\n"
     ]
    },
    {
     "name": "stderr",
     "output_type": "stream",
     "text": [
      "                                                                                \r"
     ]
    }
   ],
   "source": [
    "%%time\n",
    "dfs = []\n",
    "for fn in os.listdir(QUOTEBANK_DATA_DIR):\n",
    "    dfs.append(spark.read.json(QUOTEBANK_DATA_DIR + fn))"
   ]
  },
  {
   "cell_type": "code",
   "execution_count": 7,
   "id": "afd2a030-e5af-475c-8a6b-3f7905df46d1",
   "metadata": {},
   "outputs": [
    {
     "name": "stdout",
     "output_type": "stream",
     "text": [
      "CPU times: user 2.65 ms, sys: 2.95 ms, total: 5.6 ms\n",
      "Wall time: 185 ms\n"
     ]
    }
   ],
   "source": [
    "%%time\n",
    "df_all = dfs[0]\n",
    "for df_part in dfs[1:]:\n",
    "    df_all = df_all.union(df_part)\n"
   ]
  },
  {
   "cell_type": "code",
   "execution_count": 8,
   "id": "0ba3c5f2-2dc8-4d52-9a94-48c3b6b19b93",
   "metadata": {},
   "outputs": [],
   "source": [
    "# %%time\n",
    "# df_all.write.parquet(DATA_DIR + \"quotebank_data.parquet\")"
   ]
  },
  {
   "cell_type": "code",
   "execution_count": 9,
   "id": "cfd7b654-2301-4a7d-a17a-88a6aeabf499",
   "metadata": {},
   "outputs": [],
   "source": [
    "# If quotebank data is already converted to parquet, start from here\n",
    "# df_all = spark.read.parquet(DATA_DIR + \"quotebank_data.parquet\")"
   ]
  },
  {
   "cell_type": "code",
   "execution_count": 10,
   "id": "b8806fa3-ce86-4eae-9638-815b61e88f69",
   "metadata": {
    "tags": []
   },
   "outputs": [],
   "source": [
    "df = df_all"
   ]
  },
  {
   "cell_type": "code",
   "execution_count": 11,
   "id": "c733761b-a470-420c-9303-6faa982f89bf",
   "metadata": {},
   "outputs": [],
   "source": [
    "# Uncomment to run only on a random subset of 10% of the results\n",
    "# df = df_all.withColumn(\"random\", f.rand()).filter(f.col(\"random\") < 0.1)"
   ]
  },
  {
   "cell_type": "code",
   "execution_count": 12,
   "id": "c2f82ab9-22f4-47c9-8808-8901cf844c53",
   "metadata": {},
   "outputs": [],
   "source": [
    "# %%time\n",
    "# df.write.parquet(DATA_DIR + 'randsample.parquet', 'overwrite')"
   ]
  },
  {
   "cell_type": "code",
   "execution_count": 13,
   "id": "8d0f7508-9b06-49e9-9c2e-e65934ec6652",
   "metadata": {},
   "outputs": [],
   "source": [
    "# df = spark.read.parquet(DATA_DIR + 'randsample.parquet')"
   ]
  },
  {
   "cell_type": "code",
   "execution_count": 14,
   "id": "f2bbdfe8-dc2d-420f-a4a2-e7ae6792611e",
   "metadata": {},
   "outputs": [],
   "source": [
    "# Works on an iterator of pandas dataframes and used for mapInPandas()\n",
    "def compute_profanity(iterator):\n",
    "    for pdf in iterator:\n",
    "        yield pd.DataFrame({\"quoteID\" : pdf.quoteID, \"profanity\": profanity_check.predict_prob(pdf.quotation)})"
   ]
  },
  {
   "cell_type": "code",
   "execution_count": 15,
   "id": "a4ae7780-f67d-4363-9724-d61013a2dfa6",
   "metadata": {},
   "outputs": [],
   "source": [
    "dfp = df.select('quoteID', 'quotation').withColumn('profanity', f.lit(0.0))\n",
    "dfp = dfp.mapInPandas(compute_profanity, schema=\"quoteID string, profanity float\")"
   ]
  },
  {
   "cell_type": "code",
   "execution_count": 16,
   "id": "a50dcf05-613f-4923-a5c7-b19e770793de",
   "metadata": {},
   "outputs": [],
   "source": [
    "# %%time\n",
    "# dfp.write.parquet(DATA_DIR + \"profanity.parquet\", \"overwrite\")"
   ]
  },
  {
   "cell_type": "code",
   "execution_count": 17,
   "id": "3a0b9607-b5eb-4738-ba9b-1118665d8f20",
   "metadata": {},
   "outputs": [],
   "source": [
    "# If profanity scores are already computed, start from here to avoid recomputation\n",
    "# dfp = spark.read.parquet(DATA_DIR + \"profanity.parquet\")"
   ]
  },
  {
   "cell_type": "code",
   "execution_count": 18,
   "id": "24fa0032-e171-4de8-9cea-9576976608a3",
   "metadata": {},
   "outputs": [],
   "source": [
    "# Extract the yyyy-mm part from the date\n",
    "@f.udf(StringType())\n",
    "def get_month(date_str):\n",
    "    return \"-\".join(date_str.split(\"-\")[:2])"
   ]
  },
  {
   "cell_type": "code",
   "execution_count": 19,
   "id": "dc1d2301-7de8-4482-b4ed-b1d44b6bb4da",
   "metadata": {},
   "outputs": [],
   "source": [
    "def normalize(key, pdf):\n",
    "    return pd.DataFrame({\"date\": [ key[0] ], \"mean\" : [ pdf.profanity.mean() ], \"sem\" : [ pdf.profanity.sem() ]})"
   ]
  },
  {
   "cell_type": "code",
   "execution_count": 20,
   "id": "cb2b1b14-bc23-4c4f-9355-b7ed95948a6e",
   "metadata": {},
   "outputs": [
    {
     "name": "stderr",
     "output_type": "stream",
     "text": [
      "[Stage 5:======================================================>(199 + 1) / 200]\r"
     ]
    },
    {
     "name": "stdout",
     "output_type": "stream",
     "text": [
      "CPU times: user 386 ms, sys: 172 ms, total: 558 ms\n",
      "Wall time: 8min 31s\n"
     ]
    },
    {
     "name": "stderr",
     "output_type": "stream",
     "text": [
      "                                                                                \r"
     ]
    }
   ],
   "source": [
    "%%time\n",
    "d1 = dfp.withColumn('date', get_month(f.col('quoteID'))) \\\n",
    "        .groupby('date') \\\n",
    "        .applyInPandas(normalize, schema=\"date string, mean double, sem double\") \\\n",
    "        .sort(\"date\") \\\n",
    "        .toPandas()"
   ]
  },
  {
   "cell_type": "code",
   "execution_count": 21,
   "id": "0e2a8a17-948c-45f9-8fc4-d95740cd6817",
   "metadata": {},
   "outputs": [
    {
     "data": {
      "image/png": "[encoded data removed]",
      "text/plain": [
       "<Figure size 1080x576 with 1 Axes>"
      ]
     },
     "metadata": {
      "needs_background": "light"
     },
     "output_type": "display_data"
    }
   ],
   "source": [
    "plt.figure(figsize=(15,8))\n",
    "plt.ylim(0.0575, 0.065)\n",
    "sns.barplot(x=d1[\"date\"], y=d1[\"mean\"], yerr=1.96*d1[\"sem\"])\n",
    "plt.xlabel(\"month\")\n",
    "plt.ylabel(\"average profanity with 95% error bars\")\n",
    "plt.title(\"monthly profanity\")\n",
    "plt.show()"
   ]
  },
  {
   "cell_type": "code",
   "execution_count": null,
   "id": "7d59cdd6-645e-40ef-9804-6eb3cfa4cc4f",
   "metadata": {},
   "outputs": [],
   "source": []
  }
 ],
 "metadata": {
  "kernelspec": {
   "display_name": "Python 3 (ipykernel)",
   "language": "python",
   "name": "python3"
  },
  "language_info": {
   "codemirror_mode": {
    "name": "ipython",
    "version": 3
   },
   "file_extension": ".py",
   "mimetype": "text/x-python",
   "name": "python",
   "nbconvert_exporter": "python",
   "pygments_lexer": "ipython3",
   "version": "3.8.11"
  }
 },
 "nbformat": 4,
 "nbformat_minor": 5
}
