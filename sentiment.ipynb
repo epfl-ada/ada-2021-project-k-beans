{
 "cells": [
  {
   "cell_type": "code",
   "execution_count": 1,
   "id": "0e1088af-56f7-4b4d-8e53-d4a10df59a1c",
   "metadata": {},
   "outputs": [],
   "source": [
    "# Data handling and visualization\n",
    "import numpy as np\n",
    "import pandas as pd\n",
    "import matplotlib.pyplot as plt\n",
    "import seaborn as sns\n",
    "\n",
    "# PySpark\n",
    "import pyspark\n",
    "from pyspark import SparkContext\n",
    "from pyspark.sql import functions as f\n",
    "from pyspark.sql import SparkSession, Window\n",
    "from pyspark.sql.types import IntegerType, BooleanType, ArrayType, StringType, MapType, FloatType\n",
    "\n",
    "#Spark NLP\n",
    "import sparknlp\n",
    "from sparknlp.base import *\n",
    "from sparknlp.annotator import *\n",
    "from sparknlp.pretrained import PretrainedPipeline\n",
    "\n",
    "# Helpers\n",
    "import os\n",
    "from empath import Empath"
   ]
  },
  {
   "cell_type": "code",
   "execution_count": 2,
   "id": "bce70914-6d72-4af4-b6c8-9853de652b01",
   "metadata": {},
   "outputs": [
    {
     "name": "stderr",
     "output_type": "stream",
     "text": [
      "21/11/12 20:21:09 WARN Utils: Your hostname, aventinus resolves to a loopback address: 127.0.1.1; using 192.168.1.118 instead (on interface wlp5s0)\n",
      "21/11/12 20:21:09 WARN Utils: Set SPARK_LOCAL_IP if you need to bind to another address\n",
      "WARNING: An illegal reflective access operation has occurred\n",
      "WARNING: Illegal reflective access by org.apache.spark.unsafe.Platform (file:/home/maculjak/anaconda3/envs/ada/lib/python3.8/site-packages/pyspark/jars/spark-unsafe_2.12-3.1.2.jar) to constructor java.nio.DirectByteBuffer(long,int)\n",
      "WARNING: Please consider reporting this to the maintainers of org.apache.spark.unsafe.Platform\n",
      "WARNING: Use --illegal-access=warn to enable warnings of further illegal reflective access operations\n",
      "WARNING: All illegal access operations will be denied in a future release\n"
     ]
    },
    {
     "name": "stdout",
     "output_type": "stream",
     "text": [
      ":: loading settings :: url = jar:file:/home/maculjak/anaconda3/envs/ada/lib/python3.8/site-packages/pyspark/jars/ivy-2.4.0.jar!/org/apache/ivy/core/settings/ivysettings.xml\n"
     ]
    },
    {
     "name": "stderr",
     "output_type": "stream",
     "text": [
      "Ivy Default Cache set to: /home/maculjak/.ivy2/cache\n",
      "The jars for the packages stored in: /home/maculjak/.ivy2/jars\n",
      "com.johnsnowlabs.nlp#spark-nlp_2.12 added as a dependency\n",
      ":: resolving dependencies :: org.apache.spark#spark-submit-parent-8643f3c7-0e73-480f-b96f-817c1f223145;1.0\n",
      "\tconfs: [default]\n",
      "\tfound com.johnsnowlabs.nlp#spark-nlp_2.12;3.3.2 in central\n",
      "\tfound com.typesafe#config;1.4.1 in central\n",
      "\tfound org.rocksdb#rocksdbjni;6.5.3 in central\n",
      "\tfound com.amazonaws#aws-java-sdk-bundle;1.11.603 in central\n",
      "\tfound com.github.universal-automata#liblevenshtein;3.0.0 in central\n",
      "\tfound com.google.code.findbugs#annotations;3.0.1 in central\n",
      "\tfound net.jcip#jcip-annotations;1.0 in central\n",
      "\tfound com.google.code.findbugs#jsr305;3.0.1 in central\n",
      "\tfound com.google.protobuf#protobuf-java-util;3.0.0-beta-3 in central\n",
      "\tfound com.google.protobuf#protobuf-java;3.0.0-beta-3 in central\n",
      "\tfound com.google.code.gson#gson;2.3 in central\n",
      "\tfound it.unimi.dsi#fastutil;7.0.12 in central\n",
      "\tfound org.projectlombok#lombok;1.16.8 in central\n",
      "\tfound org.slf4j#slf4j-api;1.7.21 in central\n",
      "\tfound com.navigamez#greex;1.0 in central\n",
      "\tfound dk.brics.automaton#automaton;1.11-8 in central\n",
      "\tfound org.json4s#json4s-ext_2.12;3.5.3 in central\n",
      "\tfound joda-time#joda-time;2.9.5 in central\n",
      "\tfound org.joda#joda-convert;1.8.1 in central\n",
      "\tfound com.johnsnowlabs.nlp#tensorflow-cpu_2.12;0.3.3 in central\n",
      "\tfound net.sf.trove4j#trove4j;3.0.3 in central\n",
      ":: resolution report :: resolve 580ms :: artifacts dl 10ms\n",
      "\t:: modules in use:\n",
      "\tcom.amazonaws#aws-java-sdk-bundle;1.11.603 from central in [default]\n",
      "\tcom.github.universal-automata#liblevenshtein;3.0.0 from central in [default]\n",
      "\tcom.google.code.findbugs#annotations;3.0.1 from central in [default]\n",
      "\tcom.google.code.findbugs#jsr305;3.0.1 from central in [default]\n",
      "\tcom.google.code.gson#gson;2.3 from central in [default]\n",
      "\tcom.google.protobuf#protobuf-java;3.0.0-beta-3 from central in [default]\n",
      "\tcom.google.protobuf#protobuf-java-util;3.0.0-beta-3 from central in [default]\n",
      "\tcom.johnsnowlabs.nlp#spark-nlp_2.12;3.3.2 from central in [default]\n",
      "\tcom.johnsnowlabs.nlp#tensorflow-cpu_2.12;0.3.3 from central in [default]\n",
      "\tcom.navigamez#greex;1.0 from central in [default]\n",
      "\tcom.typesafe#config;1.4.1 from central in [default]\n",
      "\tdk.brics.automaton#automaton;1.11-8 from central in [default]\n",
      "\tit.unimi.dsi#fastutil;7.0.12 from central in [default]\n",
      "\tjoda-time#joda-time;2.9.5 from central in [default]\n",
      "\tnet.jcip#jcip-annotations;1.0 from central in [default]\n",
      "\tnet.sf.trove4j#trove4j;3.0.3 from central in [default]\n",
      "\torg.joda#joda-convert;1.8.1 from central in [default]\n",
      "\torg.json4s#json4s-ext_2.12;3.5.3 from central in [default]\n",
      "\torg.projectlombok#lombok;1.16.8 from central in [default]\n",
      "\torg.rocksdb#rocksdbjni;6.5.3 from central in [default]\n",
      "\torg.slf4j#slf4j-api;1.7.21 from central in [default]\n",
      "\t---------------------------------------------------------------------\n",
      "\t|                  |            modules            ||   artifacts   |\n",
      "\t|       conf       | number| search|dwnlded|evicted|| number|dwnlded|\n",
      "\t---------------------------------------------------------------------\n",
      "\t|      default     |   21  |   0   |   0   |   0   ||   21  |   0   |\n",
      "\t---------------------------------------------------------------------\n",
      ":: retrieving :: org.apache.spark#spark-submit-parent-8643f3c7-0e73-480f-b96f-817c1f223145\n",
      "\tconfs: [default]\n",
      "\t0 artifacts copied, 21 already retrieved (0kB/12ms)\n",
      "21/11/12 20:21:10 WARN NativeCodeLoader: Unable to load native-hadoop library for your platform... using builtin-java classes where applicable\n",
      "Using Spark's default log4j profile: org/apache/spark/log4j-defaults.properties\n",
      "Setting default log level to \"WARN\".\n",
      "To adjust logging level use sc.setLogLevel(newLevel). For SparkR, use setLogLevel(newLevel).\n",
      "21/11/12 20:21:11 WARN SparkConf: Note that spark.local.dir will be overridden by the value set by the cluster manager (via SPARK_LOCAL_DIRS in mesos/standalone/kubernetes and LOCAL_DIRS in YARN).\n"
     ]
    },
    {
     "data": {
      "text/html": [
       "\n",
       "            <div>\n",
       "                <p><b>SparkSession - in-memory</b></p>\n",
       "                \n",
       "        <div>\n",
       "            <p><b>SparkContext</b></p>\n",
       "\n",
       "            <p><a href=\"http://192.168.1.118:4040\">Spark UI</a></p>\n",
       "\n",
       "            <dl>\n",
       "              <dt>Version</dt>\n",
       "                <dd><code>v3.1.2</code></dd>\n",
       "              <dt>Master</dt>\n",
       "                <dd><code>local[*]</code></dd>\n",
       "              <dt>AppName</dt>\n",
       "                <dd><code>pyspark-shell</code></dd>\n",
       "            </dl>\n",
       "        </div>\n",
       "        \n",
       "            </div>\n",
       "        "
      ],
      "text/plain": [
       "<pyspark.sql.session.SparkSession at 0x7f87454714f0>"
      ]
     },
     "execution_count": 2,
     "metadata": {},
     "output_type": "execute_result"
    }
   ],
   "source": [
    "conf = pyspark.SparkConf().setMaster(\"local[*]\").setAll([\n",
    "    ('spark.driver.memory','16G'),\n",
    "    ('spark.driver.maxResultSize', '8G'),\n",
    "    ('spark.sql.execution.arrow.pyspark.enabled', True),\n",
    "    ('spark.local.dir', '/media/maculjak/2e9080dc-73f3-426f-a054-a46f620aea95/tmp')\n",
    "])\n",
    "\n",
    "spark = SparkSession.builder.config(conf=conf).config(\"spark.jars.packages\", \"com.johnsnowlabs.nlp:spark-nlp_2.12:3.3.2\").getOrCreate()\n",
    "sc = spark.sparkContext\n",
    "sc.setLogLevel(\"ERROR\")\n",
    "spark\n"
   ]
  },
  {
   "cell_type": "code",
   "execution_count": 3,
   "id": "17d7f6f3-ba4e-4987-86ef-9169457363f5",
   "metadata": {},
   "outputs": [],
   "source": [
    "DATA_DIR = 'data/'\n",
    "QUOTEBANK_DATA_DIR = DATA_DIR + 'quotebank_data/'"
   ]
  },
  {
   "cell_type": "code",
   "execution_count": null,
   "id": "c87cf3e7-9e9b-49fc-a615-f66658fe0a28",
   "metadata": {},
   "outputs": [],
   "source": [
    "dfs = []\n",
    "\n",
    "for i in os.listdir(QUOTEBANK_DATA_DIR):\n",
    "    dfs.append(spark.read.json(QUOTEBANK_DATA_DIR + i))"
   ]
  },
  {
   "cell_type": "code",
   "execution_count": 15,
   "id": "3d05a6c1-4226-442d-a3af-8bce811a375c",
   "metadata": {},
   "outputs": [],
   "source": [
    "df = dfs[0]\n",
    "for df_part in dfs[1:]:\n",
    "    df = df.union(df_part)"
   ]
  },
  {
   "cell_type": "code",
   "execution_count": 73,
   "id": "b5edc981-fdb3-425d-bb63-065e8244188a",
   "metadata": {},
   "outputs": [
    {
     "name": "stderr",
     "output_type": "stream",
     "text": [
      "                                                                                \r"
     ]
    }
   ],
   "source": [
    "df = spark.read.parquet(DATA_DIR + 'qb_data.parquet')"
   ]
  },
  {
   "cell_type": "markdown",
   "id": "f583c52a-1c61-4691-bf48-20958115b31e",
   "metadata": {},
   "source": [
    "## Sentiment analysis with SparkNLP"
   ]
  },
  {
   "cell_type": "code",
   "execution_count": 8,
   "id": "b99151ae-feb8-4407-a267-bae48bef99a2",
   "metadata": {},
   "outputs": [
    {
     "name": "stdout",
     "output_type": "stream",
     "text": [
      "analyze_sentiment download started this may take some time.\n",
      "Approx size to download 4.9 MB\n",
      "[OK!]\n"
     ]
    }
   ],
   "source": [
    "# Loading the model\n",
    "pipeline = PretrainedPipeline('analyze_sentiment', lang='en')"
   ]
  },
  {
   "cell_type": "code",
   "execution_count": null,
   "id": "afa57fcd-c609-43be-b254-5080203f5878",
   "metadata": {},
   "outputs": [],
   "source": [
    "# Calculating sentiments of the quotes. We will select only the quoteID, sentiment, and classifier confidence so that the sentiments can be joined with other data.\n",
    "sentiment = pipeline.fullAnnotate(df.where(f.col('date').rlike('^2020')), column='quotation')\\\n",
    "                    .select('quoteID',\n",
    "                            f.col('sentiment.result').getItem(0).alias('sentiment'),\n",
    "                            f.col('sentiment.metadata').getItem(0).confidence.alias('confidence'))\n",
    "\n",
    "# Save sentiment sentiment scores for 2020 data so that they don't have to be recomputed\n",
    "sentiment.write.parquet('data/2020-sentiments.parquet')\n",
    "\n",
    "# It took ~43 minutes to calculate sentiments for the 2020 data. For the entire data it would then take ~16 hours, which is doable."
   ]
  },
  {
   "cell_type": "code",
   "execution_count": 68,
   "id": "029563d4-bbb0-466d-bb0c-dcb4c539d9c7",
   "metadata": {},
   "outputs": [],
   "source": [
    "sentiment = spark.read.parquet('data/2020-sentiments.parquet')\n",
    "\n",
    "# Join the datasets\n",
    "df = df.join(sentiment, on='quoteID')"
   ]
  },
  {
   "cell_type": "code",
   "execution_count": null,
   "id": "907b4f9f-3fd7-462d-a1f5-64ec0f91a670",
   "metadata": {},
   "outputs": [],
   "source": [
    "# Overall sentiment distribution\n",
    "sentiment_counts = df.groupby('sentiment').count().toPandas()"
   ]
  },
  {
   "cell_type": "code",
   "execution_count": 64,
   "id": "214d1ab6-7363-46ec-8bc4-10dfea55f50c",
   "metadata": {},
   "outputs": [
    {
     "data": {
      "text/plain": [
       "<AxesSubplot:title={'center':'Overall sentiment distribution'}, xlabel='sentiment', ylabel='count'>"
      ]
     },
     "execution_count": 64,
     "metadata": {},
     "output_type": "execute_result"
    },
    {
     "data": {
      "image/png": "[encoded data removed]",
      "text/plain": [
       "<Figure size 720x360 with 1 Axes>"
      ]
     },
     "metadata": {
      "needs_background": "light"
     },
     "output_type": "display_data"
    }
   ],
   "source": [
    "sentiment_counts.loc[sentiment_counts['sentiment'] == 'na', 'sentiment'] = 'neutral'\n",
    "sentiment_counts.plot.bar(x='sentiment', y='count', figsize=[10, 5], title='Overall sentiment distribution', ylabel='count')"
   ]
  },
  {
   "cell_type": "markdown",
   "id": "c9cadb29-24a3-457c-9e84-61902b12b0ee",
   "metadata": {},
   "source": [
    "'na' sentiment actually corresponds to the situation where the classifier is confident neither in positive nor negative sentiment. Here we refer to it is neutral, but as it can be seen, this portion is rather small. Currently, by default, the classifier assigns 'na' label only when its confidence is zero (as it can be seen below) so the overall distribution may change if we decide to use some higher confidence threshold. "
   ]
  },
  {
   "cell_type": "code",
   "execution_count": 66,
   "id": "5ec3ac00-f23e-4cc8-8efd-9f6b3559f708",
   "metadata": {},
   "outputs": [
    {
     "name": "stderr",
     "output_type": "stream",
     "text": [
      "                                                                                \r"
     ]
    },
    {
     "name": "stdout",
     "output_type": "stream",
     "text": [
      "+---------+-----+\n",
      "|sentiment|count|\n",
      "+---------+-----+\n",
      "|       na| 3390|\n",
      "+---------+-----+\n",
      "\n"
     ]
    }
   ],
   "source": [
    "df.where((f.col('confidence') < 1e-6)).groupby('sentiment').count().show()"
   ]
  },
  {
   "cell_type": "code",
   "execution_count": 171,
   "id": "6f299652-2381-424a-9549-494eca16e4ab",
   "metadata": {},
   "outputs": [
    {
     "name": "stderr",
     "output_type": "stream",
     "text": [
      "                                                                                \r"
     ]
    },
    {
     "data": {
      "text/html": [
       "<div>\n",
       "<style scoped>\n",
       "    .dataframe tbody tr th:only-of-type {\n",
       "        vertical-align: middle;\n",
       "    }\n",
       "\n",
       "    .dataframe tbody tr th {\n",
       "        vertical-align: top;\n",
       "    }\n",
       "\n",
       "    .dataframe thead th {\n",
       "        text-align: right;\n",
       "    }\n",
       "</style>\n",
       "<table border=\"1\" class=\"dataframe\">\n",
       "  <thead>\n",
       "    <tr style=\"text-align: right;\">\n",
       "      <th></th>\n",
       "      <th>speaker</th>\n",
       "      <th>sentiment</th>\n",
       "      <th>count</th>\n",
       "    </tr>\n",
       "  </thead>\n",
       "  <tbody>\n",
       "    <tr>\n",
       "      <th>0</th>\n",
       "      <td>Veng Sakhon</td>\n",
       "      <td>negative</td>\n",
       "      <td>7</td>\n",
       "    </tr>\n",
       "    <tr>\n",
       "      <th>1</th>\n",
       "      <td>Amarinder Singh</td>\n",
       "      <td>negative</td>\n",
       "      <td>395</td>\n",
       "    </tr>\n",
       "    <tr>\n",
       "      <th>2</th>\n",
       "      <td>Lynn Hamilton</td>\n",
       "      <td>negative</td>\n",
       "      <td>23</td>\n",
       "    </tr>\n",
       "    <tr>\n",
       "      <th>3</th>\n",
       "      <td>Reilly Smith</td>\n",
       "      <td>negative</td>\n",
       "      <td>32</td>\n",
       "    </tr>\n",
       "    <tr>\n",
       "      <th>4</th>\n",
       "      <td>Christian Diaz</td>\n",
       "      <td>negative</td>\n",
       "      <td>7</td>\n",
       "    </tr>\n",
       "  </tbody>\n",
       "</table>\n",
       "</div>"
      ],
      "text/plain": [
       "           speaker sentiment  count\n",
       "0      Veng Sakhon  negative      7\n",
       "1  Amarinder Singh  negative    395\n",
       "2    Lynn Hamilton  negative     23\n",
       "3     Reilly Smith  negative     32\n",
       "4   Christian Diaz  negative      7"
      ]
     },
     "execution_count": 171,
     "metadata": {},
     "output_type": "execute_result"
    }
   ],
   "source": [
    "# Count quotes with positive and negative sentiment for each speaker\n",
    "speaker_sentiments = df.where(f.col('speaker') != 'None')\\\n",
    "                        .groupby('speaker', 'sentiment')\\\n",
    "                        .agg(f.count('quoteID').alias('count'))\\\n",
    "                        .toPandas()\n",
    "\n",
    "# Counts -> percenages per speaker\n",
    "speaker_sentiments.head()"
   ]
  },
  {
   "cell_type": "code",
   "execution_count": 7,
   "id": "df35daa6-5b0d-44bc-badf-e06eacb54381",
   "metadata": {},
   "outputs": [],
   "source": [
    "def replace_value(df, column, value_old, value_new):\n",
    "    \"\"\"Replaces a given value in a given column of a dataframe with a new one\"\"\"\n",
    "    df.loc[df[column] == value_old, column] = value_new\n",
    "    return df\n",
    "\n",
    "# Calculate average sentiments\n",
    "speaker_sentiments = replace_value(speaker_sentiments, 'sentiment', 'positive', 1)\n",
    "speaker_sentiments = replace_value(speaker_sentiments, 'sentiment', 'negative', -1)\n",
    "speaker_sentiments = replace_value(speaker_sentiments, 'sentiment', 'na', 0)\n",
    "\n",
    "speaker_sentiments.head()"
   ]
  },
  {
   "cell_type": "code",
   "execution_count": 183,
   "id": "f038f786-a03d-44a9-8bc9-18c288a44e8c",
   "metadata": {},
   "outputs": [
    {
     "name": "stderr",
     "output_type": "stream",
     "text": [
      "                                                                                \r"
     ]
    }
   ],
   "source": [
    "# We are only considering the speakers with 1000 or more quotes\n",
    "more_than_1000_speakers = set([i.speaker for i in df.groupby('speaker')\n",
    "                                                   .agg(f.count('quoteID').alias('count'))\n",
    "                                                   .where(f.col('count') >= 1000).collect()])"
   ]
  },
  {
   "cell_type": "code",
   "execution_count": 196,
   "id": "2e0b2b64-fcc3-4ae9-8e79-41318aae7ac6",
   "metadata": {},
   "outputs": [],
   "source": [
    "# Computing average sentiment for each speaker\n",
    "speaker_sentiments = speaker_sentiments[speaker_sentiments['speaker'].isin(more_than_1000_speakers)]\n",
    "speaker_sentiments['sentiment_sum'] = speaker_sentiments['sentiment'] * speaker_sentiments['count']\n",
    "value_sums = speaker_sentiments.groupby('speaker').sum(0)\n",
    "average_sentiments = value_sums['sentiment_sum'] / value_sums['count']\n",
    "\n",
    "most_negative = average_sentiments.nsmallest(10)\n",
    "most_positive = average_sentiments.nlargest(10)"
   ]
  },
  {
   "cell_type": "code",
   "execution_count": 197,
   "id": "774f422c-091b-42fc-b3fd-6961d209f307",
   "metadata": {},
   "outputs": [
    {
     "data": {
      "text/plain": [
       "speaker\n",
       "Nick Nurse        -0.306852\n",
       "Jimmy Kimmel      -0.261181\n",
       "Piers Morgan      -0.248230\n",
       "Stephen Colbert   -0.247863\n",
       "Rush Limbaugh     -0.246301\n",
       "Jim Cramer        -0.236842\n",
       "Francisco Duque   -0.236111\n",
       "Tucker Carlson    -0.234508\n",
       "William Barr      -0.220322\n",
       "Pope Francis      -0.214615\n",
       "dtype: float64"
      ]
     },
     "execution_count": 197,
     "metadata": {},
     "output_type": "execute_result"
    }
   ],
   "source": [
    "most_negative"
   ]
  },
  {
   "cell_type": "code",
   "execution_count": 198,
   "id": "9e30b0e4-8016-46f9-9f6e-5092c0bc844b",
   "metadata": {},
   "outputs": [
    {
     "data": {
      "text/plain": [
       "speaker\n",
       "Selena Gomez          0.041769\n",
       "Dwyane Wade           0.039537\n",
       "Virat Kohli          -0.001448\n",
       "Rafael Nadal         -0.001946\n",
       "Demi Lovato          -0.026170\n",
       "Tom Steyer           -0.027656\n",
       "Gladys Berejiklian   -0.028571\n",
       "Jessica Simpson      -0.031161\n",
       "Billie Eilish        -0.036806\n",
       "Taylor Swift         -0.044223\n",
       "dtype: float64"
      ]
     },
     "execution_count": 198,
     "metadata": {},
     "output_type": "execute_result"
    }
   ],
   "source": [
    "most_positive"
   ]
  },
  {
   "cell_type": "code",
   "execution_count": 10,
   "id": "3bce2b83-b84c-4e70-87d4-f7e75c9546c3",
   "metadata": {},
   "outputs": [],
   "source": [
    "@f.udf(StringType())\n",
    "def get_month(date_str):\n",
    "    return \"-\".join(date_str.split(\"-\")[:2])\n",
    "\n",
    "@f.udf(StringType())\n",
    "def get_date(date_str):\n",
    "    return \"-\".join(date_str.split(\"-\")[:3])\n",
    "\n",
    "def normalize_sentiment(key, pdf):\n",
    "    pdf = replace_value(pdf, 'sentiment', 'positive', 1)\n",
    "    pdf = replace_value(pdf, 'sentiment', 'negative', -1)\n",
    "    pdf = replace_value(pdf, 'sentiment', 'na', 0)\n",
    "    \n",
    "    return pd.DataFrame({\"key\": [ key[0] ], \"mean\" : [ pdf.sentiment.mean() ], \"sem\" : [ pdf.sentiment.sem() ]})"
   ]
  },
  {
   "cell_type": "code",
   "execution_count": 12,
   "id": "a343efcb-dc87-4e54-9867-bfe5040933b8",
   "metadata": {},
   "outputs": [
    {
     "name": "stderr",
     "output_type": "stream",
     "text": [
      "                                                                                \r"
     ]
    }
   ],
   "source": [
    "# Moving average of sentiment\n",
    "sentiment_through_time = df \\\n",
    "        .select('quoteID', 'sentiment')\\\n",
    "        .withColumn('date', get_date(f.col('quoteID'))) \\\n",
    "        .groupby('date') \\\n",
    "        .applyInPandas(normalize_sentiment, schema=\"key string, mean double, sem double\") \\\n",
    "        .sort(\"key\") \\\n",
    "        .toPandas() \\\n",
    "        .set_index('key')"
   ]
  },
  {
   "cell_type": "code",
   "execution_count": 13,
   "id": "4c849f8b-e8ce-4bf9-b482-45c0f07b9f2b",
   "metadata": {},
   "outputs": [],
   "source": [
    "mavg = sentiment_through_time.rolling(14).mean()"
   ]
  },
  {
   "cell_type": "code",
   "execution_count": 84,
   "id": "fcabf15a-fa54-4212-b63e-137b475fa358",
   "metadata": {},
   "outputs": [
    {
     "name": "stderr",
     "output_type": "stream",
     "text": [
      "/home/maculjak/anaconda3/envs/ada/lib/python3.8/site-packages/matplotlib/cbook/__init__.py:1061: UserWarning: Warning: converting a masked element to nan.\n",
      "  x = np.asanyarray(x)\n"
     ]
    },
    {
     "ename": "AttributeError",
     "evalue": "'function' object has no attribute 'vline'",
     "output_type": "error",
     "traceback": [
      "\u001b[0;31m---------------------------------------------------------------------------\u001b[0m",
      "\u001b[0;31mAttributeError\u001b[0m                            Traceback (most recent call last)",
      "\u001b[0;32m/tmp/ipykernel_39258/2462727022.py\u001b[0m in \u001b[0;36m<module>\u001b[0;34m\u001b[0m\n\u001b[1;32m      1\u001b[0m \u001b[0mplt\u001b[0m\u001b[0;34m.\u001b[0m\u001b[0mfigure\u001b[0m\u001b[0;34m(\u001b[0m\u001b[0mfigsize\u001b[0m\u001b[0;34m=\u001b[0m\u001b[0;34m(\u001b[0m\u001b[0;36m8\u001b[0m\u001b[0;34m,\u001b[0m \u001b[0;36m6\u001b[0m\u001b[0;34m)\u001b[0m\u001b[0;34m)\u001b[0m\u001b[0;34m\u001b[0m\u001b[0;34m\u001b[0m\u001b[0m\n\u001b[1;32m      2\u001b[0m \u001b[0mmavg\u001b[0m\u001b[0;34m[\u001b[0m\u001b[0;34m'mean'\u001b[0m\u001b[0;34m]\u001b[0m\u001b[0;34m.\u001b[0m\u001b[0mplot\u001b[0m\u001b[0;34m.\u001b[0m\u001b[0mline\u001b[0m\u001b[0;34m(\u001b[0m\u001b[0myerr\u001b[0m\u001b[0;34m=\u001b[0m\u001b[0mmavg\u001b[0m\u001b[0;34m[\u001b[0m\u001b[0;34m'sem'\u001b[0m\u001b[0;34m]\u001b[0m\u001b[0;34m,\u001b[0m \u001b[0mylabel\u001b[0m\u001b[0;34m=\u001b[0m\u001b[0;34m'Average sentiment'\u001b[0m\u001b[0;34m,\u001b[0m \u001b[0mxlabel\u001b[0m\u001b[0;34m=\u001b[0m\u001b[0;34m'Date'\u001b[0m\u001b[0;34m)\u001b[0m\u001b[0;34m\u001b[0m\u001b[0;34m\u001b[0m\u001b[0m\n\u001b[0;32m----> 3\u001b[0;31m \u001b[0mplt\u001b[0m\u001b[0;34m.\u001b[0m\u001b[0mplot\u001b[0m\u001b[0;34m.\u001b[0m\u001b[0mvline\u001b[0m\u001b[0;34m(\u001b[0m\u001b[0;34m'2020-03-21'\u001b[0m\u001b[0;34m)\u001b[0m\u001b[0;34m\u001b[0m\u001b[0;34m\u001b[0m\u001b[0m\n\u001b[0m",
      "\u001b[0;31mAttributeError\u001b[0m: 'function' object has no attribute 'vline'"
     ]
    },
    {
     "data": {
      "image/png": "[encoded data removed]",
      "text/plain": [
       "<Figure size 576x432 with 1 Axes>"
      ]
     },
     "metadata": {
      "needs_background": "light"
     },
     "output_type": "display_data"
    }
   ],
   "source": [
    "plt.figure(figsize=(8, 6))\n",
    "mavg['mean'].plot.line(yerr=mavg['sem'], ylabel='Average sentiment', xlabel='Date')\n",
    "plt.plot.vline('2020-03-21')"
   ]
  },
  {
   "cell_type": "markdown",
   "id": "c62bc591-82a7-4df5-b0e4-b1bd1d3b04f0",
   "metadata": {},
   "source": [
    "# EMPATH\n",
    "Here we simply analyze whether it is feasible to use EMPATH."
   ]
  },
  {
   "cell_type": "code",
   "execution_count": 69,
   "id": "2de04df8-e87b-4718-86e6-0c8575b6e111",
   "metadata": {},
   "outputs": [],
   "source": [
    "lexicon = Empath()\n",
    "get_aggression = f.udf(lambda x: lexicon.analyze(x, categories=['aggression'], normalize=True)['aggression'], FloatType())"
   ]
  },
  {
   "cell_type": "code",
   "execution_count": 80,
   "id": "227e59ca-fe16-4467-b835-7d26d66b5afe",
   "metadata": {},
   "outputs": [],
   "source": [
    "aggressions = df.where(f.col('date').rlike('^2020'))\\\n",
    "                       .select('quoteID', get_aggression(f.col('quotation')).alias('aggression')) # Get aggression scores\n",
    "aggressions.write.parquet('data/2020-aggression.parquet') # Save the data to memory\n",
    "\n",
    "# Assigning aggression scores on the 2020 data took only ~2 minutes, which means it would take ~46 minutes for the entire data, which is fine.\n",
    "# However it is important to note that this number will be multiplied by the number of categories that we opt for."
   ]
  },
  {
   "cell_type": "code",
   "execution_count": 81,
   "id": "4356c555-cb31-40a9-8fc9-9702d9b1ff69",
   "metadata": {},
   "outputs": [],
   "source": [
    "# Load aggression scores\n",
    "aggressions = spark.read.parquet('data/2020-aggression.parquet')"
   ]
  },
  {
   "cell_type": "code",
   "execution_count": 92,
   "id": "a7d9a902-287b-4129-b2fd-35864ab47e79",
   "metadata": {},
   "outputs": [],
   "source": [
    "def normalize_sentiment(key, pdf):\n",
    "    pdf = replace_value(pdf, 'aggression', 'positive', 1)\n",
    "    pdf = replace_value(pdf, 'aggression', 'negative', -1)\n",
    "    pdf = replace_value(pdf, 'aggression', 'na', 0)\n",
    "    \n",
    "    return pd.DataFrame({\"key\": [ key[0] ], \"mean\" : [ pdf.aggression.mean() ], \"sem\" : [ pdf.aggression.sem() ]})"
   ]
  },
  {
   "cell_type": "code",
   "execution_count": 95,
   "id": "cf0bddd1-cb93-4a98-ae06-af8eaa6c096b",
   "metadata": {},
   "outputs": [
    {
     "name": "stderr",
     "output_type": "stream",
     "text": [
      "                                                                                \r"
     ]
    }
   ],
   "source": [
    "# A simple plot of aggression through time\n",
    "ggression_through_time = aggressions \\\n",
    "        .select('quoteID', 'aggression')\\\n",
    "        .withColumn('date', get_date(f.col('quoteID'))) \\\n",
    "        .groupby('date') \\\n",
    "        .applyInPandas(normalize_sentiment, schema=\"key string, mean double, sem double\") \\\n",
    "        .sort(\"key\") \\\n",
    "        .toPandas() \\\n",
    "        .set_index('key')"
   ]
  },
  {
   "cell_type": "code",
   "execution_count": 96,
   "id": "f2af1d8d-49a4-4e73-8208-a7c1b14184cd",
   "metadata": {},
   "outputs": [
    {
     "name": "stderr",
     "output_type": "stream",
     "text": [
      "/home/maculjak/anaconda3/envs/ada/lib/python3.8/site-packages/matplotlib/cbook/__init__.py:1061: UserWarning: Warning: converting a masked element to nan.\n",
      "  x = np.asanyarray(x)\n"
     ]
    },
    {
     "data": {
      "text/plain": [
       "<AxesSubplot:xlabel='Date', ylabel='Average aggression'>"
      ]
     },
     "execution_count": 96,
     "metadata": {},
     "output_type": "execute_result"
    },
    {
     "data": {
      "image/png": "[encoded data removed]",
      "text/plain": [
       "<Figure size 576x432 with 1 Axes>"
      ]
     },
     "metadata": {
      "needs_background": "light"
     },
     "output_type": "display_data"
    }
   ],
   "source": [
    "mavg = aggression_through_time.rolling(14).mean()\n",
    "\n",
    "plt.figure(figsize=(8, 6))\n",
    "mavg['mean'].plot.line(yerr=mavg['sem'], ylabel='Average aggression', xlabel='Date')"
   ]
  },
  {
   "cell_type": "code",
   "execution_count": 106,
   "id": "a85d5d68-0afa-4f18-a20a-28535976525d",
   "metadata": {},
   "outputs": [],
   "source": [
    "def url_list_to_tlds(urls):\n",
    "    if urls is None or len(urls) == 0:\n",
    "        return None\n",
    "    res = list(map(lambda url : tldextract.extract(url).domain, urls))\n",
    "    return res if res else None\n"
   ]
  },
  {
   "cell_type": "code",
   "execution_count": null,
   "id": "89e307b6-864a-413d-bf6a-bc5ebb30033a",
   "metadata": {},
   "outputs": [
    {
     "name": "stderr",
     "output_type": "stream",
     "text": [
      "[Stage 89:=====================================================>(302 + 1) / 303]\r"
     ]
    }
   ],
   "source": [
    "# Top 20 most frequent domains. The number may seem high, but this is becauase the same quote can appear in multiple articles.\n",
    "domain_counts = df.where(f.col('date').rlike('^2020'))\\\n",
    "                .select(f.explode(f.udf(url_list_to_tlds, ArrayType(StringType()))(f.col('urls'))).alias('tld'))\\\n",
    "                .groupby('tld')\\\n",
    "                .count()\\\n",
    "                .sort('count', ascending=False)\\\n",
    "                .show()"
   ]
  },
  {
   "cell_type": "code",
   "execution_count": null,
   "id": "951a5e45-f491-4088-888d-31288ad08e3d",
   "metadata": {},
   "outputs": [],
   "source": []
  }
 ],
 "metadata": {
  "kernelspec": {
   "display_name": "Python [conda env:ada] *",
   "language": "python",
   "name": "conda-env-ada-py"
  },
  "language_info": {
   "codemirror_mode": {
    "name": "ipython",
    "version": 3
   },
   "file_extension": ".py",
   "mimetype": "text/x-python",
   "name": "python",
   "nbconvert_exporter": "python",
   "pygments_lexer": "ipython3",
   "version": "3.8.11"
  }
 },
 "nbformat": 4,
 "nbformat_minor": 5
}
