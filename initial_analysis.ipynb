{
 "cells": [
  {
   "cell_type": "code",
   "execution_count": 1,
   "id": "37c45d2f-2dcf-4ccd-a3f4-f7fd90825f49",
   "metadata": {},
   "outputs": [
    {
     "name": "stdout",
     "output_type": "stream",
     "text": [
      "Requirement already satisfied: pyspark==3.1.1 in /usr/local/anaconda3/envs/ada/lib/python3.8/site-packages (3.1.1)\n",
      "Requirement already satisfied: pyarrow in /usr/local/anaconda3/envs/ada/lib/python3.8/site-packages (6.0.0)\n",
      "Requirement already satisfied: tldextract in /usr/local/anaconda3/envs/ada/lib/python3.8/site-packages (3.1.2)\n",
      "Requirement already satisfied: py4j==0.10.9 in /usr/local/anaconda3/envs/ada/lib/python3.8/site-packages (from pyspark==3.1.1) (0.10.9)\n",
      "Requirement already satisfied: numpy>=1.16.6 in /usr/local/anaconda3/envs/ada/lib/python3.8/site-packages (from pyarrow) (1.20.3)\n",
      "Requirement already satisfied: requests-file>=1.4 in /usr/local/anaconda3/envs/ada/lib/python3.8/site-packages (from tldextract) (1.5.1)\n",
      "Requirement already satisfied: idna in /usr/local/anaconda3/envs/ada/lib/python3.8/site-packages (from tldextract) (3.2)\n",
      "Requirement already satisfied: requests>=2.1.0 in /usr/local/anaconda3/envs/ada/lib/python3.8/site-packages (from tldextract) (2.26.0)\n",
      "Requirement already satisfied: filelock>=3.0.8 in /usr/local/anaconda3/envs/ada/lib/python3.8/site-packages (from tldextract) (3.3.2)\n",
      "Requirement already satisfied: certifi>=2017.4.17 in /usr/local/anaconda3/envs/ada/lib/python3.8/site-packages (from requests>=2.1.0->tldextract) (2021.5.30)\n",
      "Requirement already satisfied: urllib3<1.27,>=1.21.1 in /usr/local/anaconda3/envs/ada/lib/python3.8/site-packages (from requests>=2.1.0->tldextract) (1.26.6)\n",
      "Requirement already satisfied: charset-normalizer~=2.0.0 in /usr/local/anaconda3/envs/ada/lib/python3.8/site-packages (from requests>=2.1.0->tldextract) (2.0.4)\n",
      "Requirement already satisfied: six in /usr/local/anaconda3/envs/ada/lib/python3.8/site-packages (from requests-file>=1.4->tldextract) (1.16.0)\n",
      "Note: you may need to restart the kernel to use updated packages.\n"
     ]
    }
   ],
   "source": [
    "%pip install pyspark==3.1.1 pyarrow tldextract"
   ]
  },
  {
   "cell_type": "code",
   "execution_count": 2,
   "id": "6c528d01-580d-4a29-8c9e-be1a53566c26",
   "metadata": {},
   "outputs": [
    {
     "data": {
      "text/plain": [
       "'/usr/local/anaconda3/envs/ada/bin/python'"
      ]
     },
     "execution_count": 2,
     "metadata": {},
     "output_type": "execute_result"
    }
   ],
   "source": [
    "import sys\n",
    "sys.executable"
   ]
  },
  {
   "cell_type": "code",
   "execution_count": 3,
   "id": "78dc7367-9b2b-4847-a1ac-8a04144d9dd4",
   "metadata": {},
   "outputs": [
    {
     "name": "stdout",
     "output_type": "stream",
     "text": [
      "env: PYSPARK_PYTHON=/usr/local/anaconda3/envs/ada/bin/python\n",
      "env: PYSPARK_DRIVER_PYTHON=/usr/local/anaconda3/envs/ada/bin/python\n"
     ]
    }
   ],
   "source": [
    "# Make sure that spark uses the same python distribution to avoid serialization issues due to missing packages\n",
    "%env PYSPARK_PYTHON=/usr/local/anaconda3/envs/ada/bin/python\n",
    "%env PYSPARK_DRIVER_PYTHON=/usr/local/anaconda3/envs/ada/bin/python"
   ]
  },
  {
   "cell_type": "code",
   "execution_count": 29,
   "id": "41a33064-bd3f-4fc6-b95e-4bd4a6f67353",
   "metadata": {},
   "outputs": [],
   "source": [
    "# Data handling and visualization\n",
    "import pandas as pd\n",
    "import seaborn as sns\n",
    "import matplotlib.pyplot as plt\n",
    "\n",
    "# PySpark\n",
    "import pyspark\n",
    "from pyspark import SparkContext\n",
    "from pyspark.sql import SparkSession\n",
    "from pyspark.sql.types import StructType\n",
    "from pyspark.sql import functions as f\n",
    "from pyspark.sql.types import IntegerType, BooleanType, ArrayType, StringType, DoubleType\n",
    "\n",
    "# Helpers\n",
    "import os\n",
    "import json\n",
    "\n",
    "# External libraries\n",
    "import profanity_check\n",
    "import tldextract"
   ]
  },
  {
   "cell_type": "code",
   "execution_count": 5,
   "id": "baa951e9-3e4b-4499-8ea0-2d2d635cb571",
   "metadata": {},
   "outputs": [
    {
     "name": "stdout",
     "output_type": "stream",
     "text": [
      ":: loading settings :: url = jar:file:/usr/local/anaconda3/envs/ada/lib/python3.8/site-packages/pyspark/jars/ivy-2.4.0.jar!/org/apache/ivy/core/settings/ivysettings.xml\n"
     ]
    },
    {
     "name": "stderr",
     "output_type": "stream",
     "text": [
      "Ivy Default Cache set to: /Users/MDS/.ivy2/cache\n",
      "The jars for the packages stored in: /Users/MDS/.ivy2/jars\n",
      "com.johnsnowlabs.nlp#spark-nlp_2.12 added as a dependency\n",
      ":: resolving dependencies :: org.apache.spark#spark-submit-parent-ca5a238b-b5e1-46fa-a818-aca39c110586;1.0\n",
      "\tconfs: [default]\n",
      "\tfound com.johnsnowlabs.nlp#spark-nlp_2.12;3.3.2 in central\n",
      "\tfound com.typesafe#config;1.4.1 in central\n",
      "\tfound org.rocksdb#rocksdbjni;6.5.3 in central\n",
      "\tfound com.amazonaws#aws-java-sdk-bundle;1.11.603 in central\n",
      "\tfound com.github.universal-automata#liblevenshtein;3.0.0 in central\n",
      "\tfound com.google.code.findbugs#annotations;3.0.1 in central\n",
      "\tfound net.jcip#jcip-annotations;1.0 in central\n",
      "\tfound com.google.code.findbugs#jsr305;3.0.1 in central\n",
      "\tfound com.google.protobuf#protobuf-java-util;3.0.0-beta-3 in central\n",
      "\tfound com.google.protobuf#protobuf-java;3.0.0-beta-3 in central\n",
      "\tfound com.google.code.gson#gson;2.3 in central\n",
      "\tfound it.unimi.dsi#fastutil;7.0.12 in central\n",
      "\tfound org.projectlombok#lombok;1.16.8 in central\n",
      "\tfound org.slf4j#slf4j-api;1.7.21 in central\n",
      "\tfound com.navigamez#greex;1.0 in central\n",
      "\tfound dk.brics.automaton#automaton;1.11-8 in central\n",
      "\tfound org.json4s#json4s-ext_2.12;3.5.3 in central\n",
      "\tfound joda-time#joda-time;2.9.5 in central\n",
      "\tfound org.joda#joda-convert;1.8.1 in central\n",
      "\tfound com.johnsnowlabs.nlp#tensorflow-cpu_2.12;0.3.3 in central\n",
      "\tfound net.sf.trove4j#trove4j;3.0.3 in central\n",
      ":: resolution report :: resolve 2738ms :: artifacts dl 28ms\n",
      "\t:: modules in use:\n",
      "\tcom.amazonaws#aws-java-sdk-bundle;1.11.603 from central in [default]\n",
      "\tcom.github.universal-automata#liblevenshtein;3.0.0 from central in [default]\n",
      "\tcom.google.code.findbugs#annotations;3.0.1 from central in [default]\n",
      "\tcom.google.code.findbugs#jsr305;3.0.1 from central in [default]\n",
      "\tcom.google.code.gson#gson;2.3 from central in [default]\n",
      "\tcom.google.protobuf#protobuf-java;3.0.0-beta-3 from central in [default]\n",
      "\tcom.google.protobuf#protobuf-java-util;3.0.0-beta-3 from central in [default]\n",
      "\tcom.johnsnowlabs.nlp#spark-nlp_2.12;3.3.2 from central in [default]\n",
      "\tcom.johnsnowlabs.nlp#tensorflow-cpu_2.12;0.3.3 from central in [default]\n",
      "\tcom.navigamez#greex;1.0 from central in [default]\n",
      "\tcom.typesafe#config;1.4.1 from central in [default]\n",
      "\tdk.brics.automaton#automaton;1.11-8 from central in [default]\n",
      "\tit.unimi.dsi#fastutil;7.0.12 from central in [default]\n",
      "\tjoda-time#joda-time;2.9.5 from central in [default]\n",
      "\tnet.jcip#jcip-annotations;1.0 from central in [default]\n",
      "\tnet.sf.trove4j#trove4j;3.0.3 from central in [default]\n",
      "\torg.joda#joda-convert;1.8.1 from central in [default]\n",
      "\torg.json4s#json4s-ext_2.12;3.5.3 from central in [default]\n",
      "\torg.projectlombok#lombok;1.16.8 from central in [default]\n",
      "\torg.rocksdb#rocksdbjni;6.5.3 from central in [default]\n",
      "\torg.slf4j#slf4j-api;1.7.21 from central in [default]\n",
      "\t---------------------------------------------------------------------\n",
      "\t|                  |            modules            ||   artifacts   |\n",
      "\t|       conf       | number| search|dwnlded|evicted|| number|dwnlded|\n",
      "\t---------------------------------------------------------------------\n",
      "\t|      default     |   21  |   3   |   3   |   0   ||   21  |   0   |\n",
      "\t---------------------------------------------------------------------\n",
      "\n",
      ":: problems summary ::\n",
      ":::: ERRORS\n",
      "\tunknown resolver null\n",
      "\n",
      "\tunknown resolver null\n",
      "\n",
      "\tunknown resolver null\n",
      "\n",
      "\n",
      ":: USE VERBOSE OR DEBUG MESSAGE LEVEL FOR MORE DETAILS\n",
      ":: retrieving :: org.apache.spark#spark-submit-parent-ca5a238b-b5e1-46fa-a818-aca39c110586\n",
      "\tconfs: [default]\n",
      "\t0 artifacts copied, 21 already retrieved (0kB/36ms)\n",
      "21/11/12 07:18:00 WARN NativeCodeLoader: Unable to load native-hadoop library for your platform... using builtin-java classes where applicable\n",
      "Using Spark's default log4j profile: org/apache/spark/log4j-defaults.properties\n",
      "Setting default log level to \"WARN\".\n",
      "To adjust logging level use sc.setLogLevel(newLevel). For SparkR, use setLogLevel(newLevel).\n",
      "21/11/12 07:18:01 WARN SparkConf: Note that spark.local.dir will be overridden by the value set by the cluster manager (via SPARK_LOCAL_DIRS in mesos/standalone/kubernetes and LOCAL_DIRS in YARN).\n"
     ]
    },
    {
     "data": {
      "text/html": [
       "\n",
       "            <div>\n",
       "                <p><b>SparkSession - in-memory</b></p>\n",
       "                \n",
       "        <div>\n",
       "            <p><b>SparkContext</b></p>\n",
       "\n",
       "            <p><a href=\"http://172.22.22.63:4040\">Spark UI</a></p>\n",
       "\n",
       "            <dl>\n",
       "              <dt>Version</dt>\n",
       "                <dd><code>v3.1.1</code></dd>\n",
       "              <dt>Master</dt>\n",
       "                <dd><code>local[*]</code></dd>\n",
       "              <dt>AppName</dt>\n",
       "                <dd><code>pyspark-shell</code></dd>\n",
       "            </dl>\n",
       "        </div>\n",
       "        \n",
       "            </div>\n",
       "        "
      ],
      "text/plain": [
       "<pyspark.sql.session.SparkSession at 0x7fa5be375850>"
      ]
     },
     "execution_count": 5,
     "metadata": {},
     "output_type": "execute_result"
    }
   ],
   "source": [
    "conf = pyspark.SparkConf().setMaster(\"local[*]\").setAll([\n",
    "    ('spark.driver.memory','8G'),\n",
    "    ('spark.driver.maxResultSize', '8G'),\n",
    "    ('spark.sql.execution.arrow.pyspark.enabled', True),\n",
    "    ('spark.sql.execution.arrow.maxRecordsPerBatch', 10000),\n",
    "    ('spark.local.dir', '/tmp')\n",
    "])\n",
    "\n",
    "spark = SparkSession.builder.config(conf=conf).config('spark.jars.packages', 'com.johnsnowlabs.nlp:spark-nlp_2.12:3.3.2').getOrCreate()\n",
    "sc = spark.sparkContext\n",
    "sc.setLogLevel('ERROR')\n",
    "spark"
   ]
  },
  {
   "cell_type": "code",
   "execution_count": 50,
   "id": "3e8a1338-bf13-4dd0-9c6c-89113cb6fc30",
   "metadata": {},
   "outputs": [],
   "source": [
    "DATA_DIR    = 'data/'\n",
    "QB_DATA_DIR = DATA_DIR + 'quotebank_data/'\n",
    "\n",
    "QB_DATA_JSON_PATH     = QB_DATA_DIR + 'json/quotes-%s.json'\n",
    "QB_DATA_JSON_BZ2_PATH = QB_DATA_DIR + 'json/quotes-%s.json.bz2'\n",
    "QB_DATA_PARQUET_PATH  = QB_DATA_DIR + 'parquet/quotes-%s.parquet'\n",
    "QB_DATA_PROC_PATH     = QB_DATA_DIR + 'processed/quotes-%s.parquet' # contains qb data with profanity scores, tlds, prominent speaker qid, prominent speaker prob, prominent speaker label\n",
    "\n",
    "SPK_ATTR_PATH             = DATA_DIR + 'speaker_attributes.parquet'\n",
    "SPK_ATTR_WITH_LABELS_PATH = DATA_DIR + 'speaker_attributes_with_labels.parquet'\n",
    "\n",
    "LABELS_PATH = DATA_DIR + 'wikidata_labels_descriptions_quotebank.csv.bz2'\n",
    "\n",
    "YEARS = ['2020']"
   ]
  },
  {
   "cell_type": "code",
   "execution_count": 7,
   "id": "3a480b1b-4e18-435f-a7d2-d55d2fc50ebf",
   "metadata": {},
   "outputs": [],
   "source": [
    "QB_JSON_SCHEMA = StructType.fromJson(json.loads(\n",
    "    '''{  \"type\": \"struct\", \n",
    "        \"fields\": [\n",
    "            {\"name\": \"date\", \"type\": \"string\", \"nullable\": true, \"metadata\": {}}, \n",
    "            {\"name\": \"numOccurrences\", \"type\": \"long\", \"nullable\": true,\"metadata\": {}}, \n",
    "            {\"name\": \"phase\", \"type\": \"string\", \"nullable\": true, \"metadata\": {}}, \n",
    "            {\"name\": \"probas\", \"type\": \n",
    "            {\"type\": \"array\", \"elementType\": {\"type\": \"array\", \"elementType\": \"string\", \"containsNull\": true}, \"containsNull\": true}, \"nullable\": true, \"metadata\": {}}, \n",
    "            {\"name\": \"qids\", \"type\": {\"type\": \"array\", \"elementType\": \"string\", \"containsNull\": true}, \"nullable\": true, \"metadata\": {}}, \n",
    "            {\"name\": \"quotation\", \"type\": \"string\", \"nullable\": true, \"metadata\": {}}, \n",
    "            {\"name\": \"quoteID\", \"type\": \"string\", \"nullable\": true, \"metadata\": {}}, \n",
    "            {\"name\": \"speaker\", \"type\": \"string\", \"nullable\": true, \"metadata\": {}}, \n",
    "            {\"name\": \"urls\", \"type\": {\"type\": \"array\", \"elementType\": \"string\", \"containsNull\": true}, \"nullable\": true, \"metadata\": {}}\n",
    "            ]\n",
    "    }'''))"
   ]
  },
  {
   "cell_type": "markdown",
   "id": "c8d23fe2-e344-4cc4-9e10-ce59f9f43eda",
   "metadata": {},
   "source": [
    "### Load the labels of QIDS"
   ]
  },
  {
   "cell_type": "code",
   "execution_count": 8,
   "id": "49a53de5-8a56-4f15-af79-3dd22fa2cff9",
   "metadata": {},
   "outputs": [],
   "source": [
    "labels = pd.read_csv(LABELS_PATH)\n",
    "labels = labels.set_index(\"QID\")"
   ]
  },
  {
   "cell_type": "markdown",
   "id": "bb006626-24da-4443-8e0b-67f0f64f0900",
   "metadata": {},
   "source": [
    "### Expand speaker attributes with labels"
   ]
  },
  {
   "cell_type": "code",
   "execution_count": 9,
   "id": "ed51fe4b-7b6e-4bfc-bb7b-11e4a21f8d2d",
   "metadata": {},
   "outputs": [],
   "source": [
    "def qids_to_attr_labels(qids):\n",
    "    if qids is None or len(qids) == 0:\n",
    "        return []\n",
    "    return list(map(lambda qid : labels.Label[qid] if qid in labels.index else qid, qids))"
   ]
  },
  {
   "cell_type": "code",
   "execution_count": 10,
   "id": "830b0716-d1ab-4350-abbc-2f8898590e1a",
   "metadata": {},
   "outputs": [],
   "source": [
    "def map_missing(iterator):\n",
    "    for df in iterator:\n",
    "        for col in ['nationality', 'gender', 'ethnic_group', 'occupation', 'party', 'academic_degree', 'candidacy', 'religion']:\n",
    "            df[col + '_labels'] = df[col].apply(qids_to_attrib_labels)\n",
    "        yield df"
   ]
  },
  {
   "cell_type": "code",
   "execution_count": 11,
   "id": "9047b902-7feb-493d-81dc-2ab83a449ee7",
   "metadata": {},
   "outputs": [],
   "source": [
    "def expand_spk_attr_with_labels():\n",
    "    spk_attr = spark.read.parquet(SPK_ATTR_PATH)\n",
    "    for col in ['nationality', 'gender', 'ethnic_group', 'occupation', 'party', 'academic_degree', 'candidacy', 'religion']:\n",
    "        spk_attr = spk_attr.withColumn(col + '_labels', spk_attr[col])\n",
    "    spk_attr.write.parquet(SPK_ATTR_WITH_LABELS_PATH, 'overwrite')"
   ]
  },
  {
   "cell_type": "code",
   "execution_count": 51,
   "id": "3a05a29c-d5dc-48bd-bd6e-dcf253730704",
   "metadata": {},
   "outputs": [],
   "source": [
    "# Uncomment for the first-run to save the processed files\n",
    "# expand_spk_attr_with_labels()"
   ]
  },
  {
   "cell_type": "code",
   "execution_count": 52,
   "id": "52bed7ce-1f98-47c4-a716-a12b3fa24fe7",
   "metadata": {},
   "outputs": [],
   "source": [
    "# Load expanded data\n",
    "spk_attr = spark.read.parquet(SPK_ATTR_WITH_LABELS_PATH)"
   ]
  },
  {
   "cell_type": "markdown",
   "id": "7ab11ee5-c406-4e02-b805-7fb80926bd98",
   "metadata": {},
   "source": [
    "### Expand the quotebank data with top-level-domains, profanity-scores, etc. and save for eaiser loading in the future"
   ]
  },
  {
   "cell_type": "code",
   "execution_count": 48,
   "id": "585d44aa-38aa-479c-983c-bc274bc8b8c1",
   "metadata": {},
   "outputs": [],
   "source": [
    "def url_list_to_tlds(urls):\n",
    "    if urls is None or len(urls) == 0:\n",
    "        return None\n",
    "    res = list(map(lambda url : tldextract.extract(url).domain, urls))\n",
    "    return res if res else None"
   ]
  },
  {
   "cell_type": "code",
   "execution_count": 47,
   "id": "85b0af88-879b-442e-ae8b-0f10f5c81554",
   "metadata": {},
   "outputs": [],
   "source": [
    "def fill_columns(iterator):\n",
    "    for df in iterator:\n",
    "        df['profanity'] = profanity_check.predict_prob(df.quotation)\n",
    "        df['speaker_qid'] = df['qids'].apply(lambda qids : None if (qids is None or len(qids) == 0) else qids[0])         \n",
    "        df['speaker_label'] = df['qids'].apply(lambda qids : None if (qids is None or len(qids) == 0) else (labels.Label[qids[0]] if qids[0] in labels.index else None))\n",
    "        df['tlds'] = df['urls'].apply(url_list_to_tlds)\n",
    "        df['speaker_prob'] = df['probas'].apply(lambda p : 0.0 if (p is None or len(p) == 0) else float(p[0][1]))\n",
    "        yield df"
   ]
  },
  {
   "cell_type": "code",
   "execution_count": 46,
   "id": "d1456874-ec55-436f-9113-dfd1becbcfad",
   "metadata": {},
   "outputs": [],
   "source": [
    "def prepare_data(df):    \n",
    "    df = df.withColumn('speaker_qid', f.lit(None).cast(StringType()))\n",
    "    df = df.withColumn('speaker_label', f.lit(None).cast(StringType()))\n",
    "    df = df.withColumn('speaker_prob', f.lit(None).cast(DoubleType()))\n",
    "    df = df.withColumn('tlds', df.urls)\n",
    "    df = df.withColumn('profanity', f.lit(None).cast(DoubleType()))\n",
    "    df = df.mapInPandas(fill_columns, schema = df.schema)\n",
    "    return df"
   ]
  },
  {
   "cell_type": "code",
   "execution_count": 44,
   "id": "a2c0b727-4c05-4118-a844-9b3a03fefe86",
   "metadata": {},
   "outputs": [],
   "source": [
    "def prepare_data_for_years(years):\n",
    "    for y in years:\n",
    "        df = spark.read.json(QB_DATA_JSON_PATH % y, schema=QB_JSON_SCHEMA)\n",
    "        df = prepare_data(df)\n",
    "        df.write.parquet(QB_DATA_PROC_PATH % y, 'overwrite')"
   ]
  },
  {
   "cell_type": "code",
   "execution_count": 49,
   "id": "3836db70-4d83-4b27-bc45-525331b56724",
   "metadata": {},
   "outputs": [
    {
     "name": "stderr",
     "output_type": "stream",
     "text": [
      "                                                                                \r"
     ]
    }
   ],
   "source": [
    "# Uncomment for the first-run to save the processed files\n",
    "#prepare_data_for_years(YEARS)"
   ]
  },
  {
   "cell_type": "code",
   "execution_count": 53,
   "id": "95ef00a5-418c-4f72-88f6-f8c7907d435c",
   "metadata": {},
   "outputs": [],
   "source": [
    "qb = spark.read.parquet(QB_DATA_PROC_PATH % YEARS[0])\n",
    "for y in YEARS[1:]:\n",
    "    qb = qb.union(spark.read_parquet(QB_DATA_PROC_PATH % y))"
   ]
  },
  {
   "cell_type": "markdown",
   "id": "034b5cae-15b3-40b2-a65a-e1853c633890",
   "metadata": {},
   "source": [
    "### Top news domains with high profanity quotes"
   ]
  },
  {
   "cell_type": "code",
   "execution_count": 54,
   "id": "d5435e16-4e07-4b6b-b8ca-d0d780d39d2f",
   "metadata": {},
   "outputs": [],
   "source": [
    "def profanity_by_news_outlet(df, min_quotes = 10000):\n",
    "    return df \\\n",
    "        .withColumn('tld', f.explode('tlds')) \\\n",
    "        .groupby('tld') \\\n",
    "        .agg(f.avg('profanity').alias('avg_profanity'), f.count('quotation').alias('count')) \\\n",
    "        .where(f.col('count') >= min_quotes) \\\n",
    "        .sort('avg_profanity', ascending=False)"
   ]
  },
  {
   "cell_type": "code",
   "execution_count": 55,
   "id": "0036281d-5289-42f5-a480-8f9b34e077c4",
   "metadata": {},
   "outputs": [
    {
     "name": "stderr",
     "output_type": "stream",
     "text": [
      "[Stage 32:==================================================>   (187 + 4) / 200]\r"
     ]
    },
    {
     "name": "stdout",
     "output_type": "stream",
     "text": [
      "+------------------+-------------------+-----+\n",
      "|               tld|      avg_profanity|count|\n",
      "+------------------+-------------------+-----+\n",
      "|               nme|0.12396075646092378|10657|\n",
      "|thehollywoodgossip| 0.1010810278703445|12271|\n",
      "|         inquisitr|0.09300202883093707|23046|\n",
      "|           eonline|0.08896868517040082|11800|\n",
      "|     thedailybeast|0.08871525342695481|13377|\n",
      "|        cheatsheet|0.08829257405797264|29177|\n",
      "|          etcanada|0.08813149158649779|10862|\n",
      "|            thesun|0.08797538194233366|35166|\n",
      "|        usmagazine|0.08560456494210512|13111|\n",
      "|            people|0.08506631683579856|26263|\n",
      "|              vice|0.08398846484226385|12531|\n",
      "|       femalefirst|0.08353762173273721|13719|\n",
      "|         wordpress|0.08251095076109365|21260|\n",
      "|            mirror|0.08032704952593808|46170|\n",
      "|         billboard|0.08022228466629261|15511|\n",
      "|         dailystar|0.08013808967264716|29499|\n",
      "|       irishmirror|0.07977294491611693|29566|\n",
      "| hollywoodreporter|0.07638583168069987|11697|\n",
      "|            nypost|0.07496871204762696|16602|\n",
      "|       onenewspage|0.07389546373587501|13412|\n",
      "+------------------+-------------------+-----+\n",
      "only showing top 20 rows\n",
      "\n"
     ]
    },
    {
     "name": "stderr",
     "output_type": "stream",
     "text": [
      "                                                                                \r"
     ]
    }
   ],
   "source": [
    "profanity_by_news_outlet(qb, 10000).show()"
   ]
  },
  {
   "cell_type": "markdown",
   "id": "b77358fd-bf52-4f12-8dd8-490e2ad663ed",
   "metadata": {},
   "source": [
    "### Quote distribution by profession"
   ]
  },
  {
   "cell_type": "code",
   "execution_count": 61,
   "id": "3899abe9-ef9e-47b4-896e-624b78550be0",
   "metadata": {},
   "outputs": [
    {
     "name": "stderr",
     "output_type": "stream",
     "text": [
      "                                                                                \r"
     ]
    }
   ],
   "source": [
    "occupation_stats = qb.where(qb.speaker_qid.isNotNull()) \\\n",
    "    .join(spk_attr.withColumnRenamed('id', 'speaker_qid'), on='speaker_qid') \\\n",
    "    .withColumn('profession', f.explode('occupation_labels')) \\\n",
    "    .groupby('profession') \\\n",
    "    .agg(f.count('quotation').alias('count')) \\\n",
    "    .sort('count', ascending=False).limit(10).toPandas()"
   ]
  },
  {
   "cell_type": "code",
   "execution_count": 63,
   "id": "25704b26-c16a-4e44-b06d-5aa3f02bfa7a",
   "metadata": {},
   "outputs": [
    {
     "data": {
      "text/plain": [
       "Text(0, 0.5, 'Profession')"
      ]
     },
     "execution_count": 63,
     "metadata": {},
     "output_type": "execute_result"
    },
    {
     "data": {
      "image/png": "[encoded data removed]",
      "text/plain": [
       "<Figure size 1080x576 with 1 Axes>"
      ]
     },
     "metadata": {
      "needs_background": "light"
     },
     "output_type": "display_data"
    }
   ],
   "source": [
    "occupation_stats['profession_label'] = occupation_stats.profession.apply(lambda qid : labels.Label[qid])\n",
    "plt.figure(figsize=(15,8))\n",
    "sns.barplot(y='profession_label', x='count', data=occupation_stats)\n",
    "plt.title(\"Number of quotes by profession\")\n",
    "plt.xlabel(\"Number of quotes\")\n",
    "plt.ylabel(\"Profession\")"
   ]
  },
  {
   "cell_type": "markdown",
   "id": "a19ee388-3fbd-4bea-be23-d82a2f4f97ec",
   "metadata": {},
   "source": [
    "## Temporal Analysis"
   ]
  },
  {
   "cell_type": "code",
   "execution_count": 64,
   "id": "38f89f5c-e148-4d59-a102-082fcf4a897f",
   "metadata": {},
   "outputs": [],
   "source": [
    "# Extract the yyyy-mm part from the date\n",
    "@f.udf(StringType())\n",
    "def get_month(date_str):\n",
    "    return \"-\".join(date_str.split(\"-\")[:2])"
   ]
  },
  {
   "cell_type": "code",
   "execution_count": 65,
   "id": "c06799b3-04e6-436e-b9a7-8fc3113ad0f6",
   "metadata": {},
   "outputs": [],
   "source": [
    "def normalize(key, pdf):\n",
    "    return pd.DataFrame({\"key\": [ key[0] ], \"mean\" : [ pdf.profanity.mean() ], \"sem\" : [ pdf.profanity.sem() ]})"
   ]
  },
  {
   "cell_type": "code",
   "execution_count": 66,
   "id": "d1f58ec5-fdc2-469c-aeba-a8597c2e7b62",
   "metadata": {},
   "outputs": [],
   "source": [
    "def plot_distribution(df, title):\n",
    "    plt.figure(figsize=(6,8))\n",
    "    plt.ylim(0.99 * df['mean'].min(), 1.01 * df['mean'].max())\n",
    "    sns.barplot(x=df[\"key\"], y=df[\"mean\"], yerr=1.96*df[\"sem\"])\n",
    "    plt.xlabel(\"month\")\n",
    "    plt.ylabel(\"average profanity with 95% error bars\")\n",
    "    plt.title(title)\n",
    "    plt.show()"
   ]
  },
  {
   "cell_type": "code",
   "execution_count": 67,
   "id": "49bf5208-3b4e-4991-8b14-4257d1b5ede0",
   "metadata": {},
   "outputs": [
    {
     "name": "stderr",
     "output_type": "stream",
     "text": [
      "                                                                                \r"
     ]
    }
   ],
   "source": [
    "d1 = qb.where(qb.speaker_qid.isNotNull()) \\\n",
    "        .withColumn('date', get_month(f.col('quoteID'))) \\\n",
    "        .groupby('date') \\\n",
    "        .applyInPandas(normalize, schema=\"key string, mean double, sem double\") \\\n",
    "        .sort(\"key\") \\\n",
    "        .toPandas()"
   ]
  },
  {
   "cell_type": "code",
   "execution_count": 68,
   "id": "d2ad3565-8207-4936-aeeb-dc1cc40448ea",
   "metadata": {},
   "outputs": [
    {
     "name": "stderr",
     "output_type": "stream",
     "text": [
      "                                                                                \r"
     ]
    }
   ],
   "source": [
    "d2 = qb.where(qb.speaker_qid.isNotNull()) \\\n",
    "        .withColumn('date', get_month(f.col('quoteID'))) \\\n",
    "        .where( (qb.speaker != \"President Donald Trump\") \\\n",
    "               & (qb.speaker != \"President Trump\") \\\n",
    "               & (qb.speaker != \"Donald Trump\") ) \\\n",
    "        .groupby(\"date\") \\\n",
    "        .applyInPandas(normalize, schema=\"key string, mean double, sem double\") \\\n",
    "        .sort(\"key\") \\\n",
    "        .toPandas()"
   ]
  },
  {
   "cell_type": "code",
   "execution_count": 69,
   "id": "9ab57a8b-76dc-4713-884e-19f07d511b04",
   "metadata": {},
   "outputs": [
    {
     "data": {
      "image/png": "[encoded data removed]",
      "text/plain": [
       "<Figure size 432x576 with 1 Axes>"
      ]
     },
     "metadata": {
      "needs_background": "light"
     },
     "output_type": "display_data"
    },
    {
     "data": {
      "image/png": "[encoded data removed]",
      "text/plain": [
       "<Figure size 432x576 with 1 Axes>"
      ]
     },
     "metadata": {
      "needs_background": "light"
     },
     "output_type": "display_data"
    }
   ],
   "source": [
    "plot_distribution(d1, \"Monthly average profanity\")\n",
    "plot_distribution(d2, \"Monthly averate profanity excluding Trump\")"
   ]
  },
  {
   "cell_type": "code",
   "execution_count": 70,
   "id": "ccd9ef84-c8d4-49b8-92ee-985799e08e35",
   "metadata": {},
   "outputs": [
    {
     "data": {
      "text/plain": [
       "(0.05621509567879076, 0.06116344827488733)"
      ]
     },
     "execution_count": 70,
     "metadata": {},
     "output_type": "execute_result"
    },
    {
     "data": {
      "image/png": "[encoded data removed]",
      "text/plain": [
       "<Figure size 469x360 with 1 Axes>"
      ]
     },
     "metadata": {
      "needs_background": "light"
     },
     "output_type": "display_data"
    }
   ],
   "source": [
    "d1['kind'] = 'With Trump'\n",
    "d2['kind'] = 'Without Trump'\n",
    "d = pd.concat([d1, d2])\n",
    "sns.catplot(x='key', y='mean', hue='kind', data=d, kind='bar', yerr=1.96 * d1['sem'])\n",
    "plt.ylim(0.99 * d['mean'].min(), 1.01 * d['mean'].max())"
   ]
  },
  {
   "cell_type": "code",
   "execution_count": null,
   "id": "0c6c1dfa-fdf7-49f4-b53e-d77285e301e4",
   "metadata": {},
   "outputs": [],
   "source": []
  }
 ],
 "metadata": {
  "kernelspec": {
   "display_name": "Python 3 (ipykernel)",
   "language": "python",
   "name": "python3"
  },
  "language_info": {
   "codemirror_mode": {
    "name": "ipython",
    "version": 3
   },
   "file_extension": ".py",
   "mimetype": "text/x-python",
   "name": "python",
   "nbconvert_exporter": "python",
   "pygments_lexer": "ipython3",
   "version": "3.8.11"
  }
 },
 "nbformat": 4,
 "nbformat_minor": 5
}
