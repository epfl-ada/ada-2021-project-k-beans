{
 "cells": [
  {
   "cell_type": "code",
   "execution_count": 59,
   "id": "61e30694",
   "metadata": {},
   "outputs": [],
   "source": [
    "import pandas as pd\n",
    "import numpy as np\n",
    "import matplotlib.pyplot as plt\n",
    "import seaborn as sns\n",
    "\n",
    "!pip install alt-profanity-check\n",
    "import profanity_check\n",
    "import nltk\n",
    "nltk.download('stopwords')\n",
    "from nltk.corpus import stopwords\n",
    "\n",
    "import os"
   ]
  },
  {
   "cell_type": "code",
   "execution_count": 2,
   "id": "01f3431a",
   "metadata": {},
   "outputs": [],
   "source": [
    "DATA_DIR = 'data/'\n",
    "QUOTEBANK_DATA_DIR = DATA_DIR + 'quotebank_data_raw/'"
   ]
  },
  {
   "cell_type": "code",
   "execution_count": 6,
   "id": "90f3712a",
   "metadata": {},
   "outputs": [],
   "source": [
    "speaker_attribs = pd.read_parquet(DATA_DIR + 'speaker_attributes.parquet')\n",
    "speaker_attribs = speaker_attribs.set_index('id')\n",
    "attrib_labels = pd.read_csv('data/wikidata_labels_descriptions_quotebank.csv.bz2')\n",
    "attrib_labels = attrib_labels.set_index(\"QID\")"
   ]
  },
  {
   "cell_type": "code",
   "execution_count": 3,
   "id": "cfeda32e",
   "metadata": {},
   "outputs": [],
   "source": [
    "dfs = []\n",
    "for i in os.listdir(QUOTEBANK_DATA_DIR):\n",
    "    dfs.append(pd.read_json((QUOTEBANK_DATA_DIR + i), lines=True))\n",
    "               \n",
    "df = dfs[0]\n",
    "if len(dfs) > 1:\n",
    "    for df_part in dfs[1:]:\n",
    "        df = df.union(df_part)"
   ]
  },
  {
   "cell_type": "code",
   "execution_count": 4,
   "id": "a12c8718",
   "metadata": {},
   "outputs": [
    {
     "data": {
      "text/html": [
       "<div>\n",
       "<style scoped>\n",
       "    .dataframe tbody tr th:only-of-type {\n",
       "        vertical-align: middle;\n",
       "    }\n",
       "\n",
       "    .dataframe tbody tr th {\n",
       "        vertical-align: top;\n",
       "    }\n",
       "\n",
       "    .dataframe thead th {\n",
       "        text-align: right;\n",
       "    }\n",
       "</style>\n",
       "<table border=\"1\" class=\"dataframe\">\n",
       "  <thead>\n",
       "    <tr style=\"text-align: right;\">\n",
       "      <th></th>\n",
       "      <th>quoteID</th>\n",
       "      <th>quotation</th>\n",
       "      <th>speaker</th>\n",
       "      <th>qids</th>\n",
       "      <th>date</th>\n",
       "      <th>numOccurrences</th>\n",
       "      <th>probas</th>\n",
       "      <th>urls</th>\n",
       "      <th>phase</th>\n",
       "    </tr>\n",
       "  </thead>\n",
       "  <tbody>\n",
       "    <tr>\n",
       "      <th>0</th>\n",
       "      <td>2019-04-17-024782</td>\n",
       "      <td>It is not a low-income immigration,</td>\n",
       "      <td>James Fisher</td>\n",
       "      <td>[Q16213953, Q20707104, Q43143598, Q58886302, Q...</td>\n",
       "      <td>2019-04-17 13:31:18</td>\n",
       "      <td>1</td>\n",
       "      <td>[[James Fisher, 0.7475], [None, 0.2525]]</td>\n",
       "      <td>[https://www.nytimes.com/2019/04/17/realestate...</td>\n",
       "      <td>E</td>\n",
       "    </tr>\n",
       "    <tr>\n",
       "      <th>1</th>\n",
       "      <td>2019-04-02-001128</td>\n",
       "      <td>a champion figure skater switching to roller s...</td>\n",
       "      <td>John Updike</td>\n",
       "      <td>[Q105756]</td>\n",
       "      <td>2019-04-02 14:58:33</td>\n",
       "      <td>2</td>\n",
       "      <td>[[John Updike, 0.5856], [None, 0.4144]]</td>\n",
       "      <td>[https://www.nytimes.com/2019/04/02/opinion/vl...</td>\n",
       "      <td>E</td>\n",
       "    </tr>\n",
       "    <tr>\n",
       "      <th>2</th>\n",
       "      <td>2019-05-09-055187</td>\n",
       "      <td>It makes it much more difficult for him to mak...</td>\n",
       "      <td>None</td>\n",
       "      <td>[]</td>\n",
       "      <td>2019-05-09 18:11:29</td>\n",
       "      <td>1</td>\n",
       "      <td>[[None, 0.6493], [President Bill Clinton, 0.27...</td>\n",
       "      <td>[http://mobile.nytimes.com/2019/05/09/world/as...</td>\n",
       "      <td>E</td>\n",
       "    </tr>\n",
       "    <tr>\n",
       "      <th>3</th>\n",
       "      <td>2019-10-31-056366</td>\n",
       "      <td>It puts me in a predicament,</td>\n",
       "      <td>Xavier Becerra</td>\n",
       "      <td>[Q1855840]</td>\n",
       "      <td>2019-10-31 16:45:15</td>\n",
       "      <td>3</td>\n",
       "      <td>[[Xavier Becerra, 0.9065], [None, 0.0909], [St...</td>\n",
       "      <td>[http://www.nytimes.com/2019/10/31/technology/...</td>\n",
       "      <td>E</td>\n",
       "    </tr>\n",
       "    <tr>\n",
       "      <th>4</th>\n",
       "      <td>2019-01-04-001792</td>\n",
       "      <td>A Pile of Leaves.</td>\n",
       "      <td>None</td>\n",
       "      <td>[]</td>\n",
       "      <td>2019-01-04 10:00:07</td>\n",
       "      <td>1</td>\n",
       "      <td>[[None, 0.8737], [Jason Fulford, 0.1263]]</td>\n",
       "      <td>[https://www.nytimes.com/2019/01/04/books/revi...</td>\n",
       "      <td>E</td>\n",
       "    </tr>\n",
       "  </tbody>\n",
       "</table>\n",
       "</div>"
      ],
      "text/plain": [
       "             quoteID                                          quotation  \\\n",
       "0  2019-04-17-024782                It is not a low-income immigration,   \n",
       "1  2019-04-02-001128  a champion figure skater switching to roller s...   \n",
       "2  2019-05-09-055187  It makes it much more difficult for him to mak...   \n",
       "3  2019-10-31-056366                       It puts me in a predicament,   \n",
       "4  2019-01-04-001792                                  A Pile of Leaves.   \n",
       "\n",
       "          speaker                                               qids  \\\n",
       "0    James Fisher  [Q16213953, Q20707104, Q43143598, Q58886302, Q...   \n",
       "1     John Updike                                          [Q105756]   \n",
       "2            None                                                 []   \n",
       "3  Xavier Becerra                                         [Q1855840]   \n",
       "4            None                                                 []   \n",
       "\n",
       "                 date  numOccurrences  \\\n",
       "0 2019-04-17 13:31:18               1   \n",
       "1 2019-04-02 14:58:33               2   \n",
       "2 2019-05-09 18:11:29               1   \n",
       "3 2019-10-31 16:45:15               3   \n",
       "4 2019-01-04 10:00:07               1   \n",
       "\n",
       "                                              probas  \\\n",
       "0           [[James Fisher, 0.7475], [None, 0.2525]]   \n",
       "1            [[John Updike, 0.5856], [None, 0.4144]]   \n",
       "2  [[None, 0.6493], [President Bill Clinton, 0.27...   \n",
       "3  [[Xavier Becerra, 0.9065], [None, 0.0909], [St...   \n",
       "4          [[None, 0.8737], [Jason Fulford, 0.1263]]   \n",
       "\n",
       "                                                urls phase  \n",
       "0  [https://www.nytimes.com/2019/04/17/realestate...     E  \n",
       "1  [https://www.nytimes.com/2019/04/02/opinion/vl...     E  \n",
       "2  [http://mobile.nytimes.com/2019/05/09/world/as...     E  \n",
       "3  [http://www.nytimes.com/2019/10/31/technology/...     E  \n",
       "4  [https://www.nytimes.com/2019/01/04/books/revi...     E  "
      ]
     },
     "execution_count": 4,
     "metadata": {},
     "output_type": "execute_result"
    }
   ],
   "source": [
    "df.head()"
   ]
  },
  {
   "cell_type": "code",
   "execution_count": 5,
   "id": "291cd90a",
   "metadata": {},
   "outputs": [
    {
     "data": {
      "text/plain": [
       "0"
      ]
     },
     "execution_count": 5,
     "metadata": {},
     "output_type": "execute_result"
    }
   ],
   "source": [
    "len(df[df.duplicated('quoteID')]) # 0 ~> no duplicate rows"
   ]
  },
  {
   "cell_type": "markdown",
   "id": "02150407",
   "metadata": {},
   "source": [
    "## Exploring speakers\n",
    "\n",
    "### Speaker frequency"
   ]
  },
  {
   "cell_type": "code",
   "execution_count": 7,
   "id": "463dbb82",
   "metadata": {},
   "outputs": [
    {
     "data": {
      "text/plain": [
       "None                      75582\n",
       "President Donald Trump     2217\n",
       "President Trump            1919\n",
       "Elizabeth Warren            783\n",
       "Joe Biden                   762\n",
       "Bernie Sanders              562\n",
       "Nancy Pelosi                560\n",
       "Pete Buttigieg              549\n",
       "Mike Pompeo                 469\n",
       "Donald Trump                338\n",
       "Bill de Blasio              335\n",
       "Cory Booker                 312\n",
       "Stephen Colbert             305\n",
       "Mitch McConnell             265\n",
       "Amy Klobuchar               259\n",
       "Name: speaker, dtype: int64"
      ]
     },
     "execution_count": 7,
     "metadata": {},
     "output_type": "execute_result"
    }
   ],
   "source": [
    "speaker_freq = df['speaker'].value_counts()\n",
    "speaker_freq.head(15)"
   ]
  },
  {
   "cell_type": "markdown",
   "id": "9b52f8f3",
   "metadata": {},
   "source": [
    "We can notice a few problems: \n",
    " - most quotes don't have an attributed speaker\n",
    " - same speaker can have multiple differing labels"
   ]
  },
  {
   "cell_type": "code",
   "execution_count": 8,
   "id": "d0947386",
   "metadata": {},
   "outputs": [
    {
     "data": {
      "text/plain": [
       "count    26579.000000\n",
       "mean         4.964257\n",
       "std         22.688574\n",
       "min          1.000000\n",
       "25%          1.000000\n",
       "50%          2.000000\n",
       "75%          5.000000\n",
       "max       2217.000000\n",
       "Name: speaker, dtype: float64"
      ]
     },
     "execution_count": 8,
     "metadata": {},
     "output_type": "execute_result"
    }
   ],
   "source": [
    "speaker_freq[1:].describe() # without None"
   ]
  },
  {
   "cell_type": "code",
   "execution_count": 9,
   "id": "47360d52",
   "metadata": {},
   "outputs": [
    {
     "data": {
      "image/png": "[encoded data removed]",
      "text/plain": [
       "<Figure size 432x288 with 1 Axes>"
      ]
     },
     "metadata": {
      "needs_background": "light"
     },
     "output_type": "display_data"
    }
   ],
   "source": [
    "_ = speaker_freq[1:].plot(kind='box') # without None"
   ]
  },
  {
   "cell_type": "markdown",
   "id": "dbe8abb4",
   "metadata": {},
   "source": [
    "### Speaker occupations"
   ]
  },
  {
   "cell_type": "code",
   "execution_count": 10,
   "id": "2e460f25",
   "metadata": {},
   "outputs": [],
   "source": [
    "# Helper functions\n",
    "def speaker_to_occupation(qid):\n",
    "    \"\"\"Return the label associated with a qid or None if not available.\"\"\"\n",
    "    if qid in speaker_attribs.index:\n",
    "        return speaker_attribs.occupation[qid]\n",
    "    return None\n",
    "\n",
    "def qid_to_label(qid):\n",
    "    \"\"\"Return the label associated with a qid or None if not available.\"\"\"\n",
    "    if qid in attrib_labels.index:\n",
    "        return attrib_labels.Label[qid]\n",
    "    return None\n",
    "    \n",
    "def map_list(fn, values):\n",
    "    if values is not None:\n",
    "        return list(map(fn, values))\n",
    "    return []"
   ]
  },
  {
   "cell_type": "code",
   "execution_count": 11,
   "id": "eeb98824",
   "metadata": {},
   "outputs": [],
   "source": [
    "df_occupations = df.replace(to_replace='None', value=np.nan).dropna()\n",
    "df_occupations[\"occupation\"] = df_occupations.qids.apply(lambda val : speaker_to_occupation(val[0]))\n",
    "df_occupations[\"occupation_labels\"] = df_occupations.occupation.apply(lambda val : map_list(qid_to_label, val))"
   ]
  },
  {
   "cell_type": "code",
   "execution_count": 12,
   "id": "07b6540d",
   "metadata": {},
   "outputs": [
    {
     "data": {
      "text/html": [
       "<div>\n",
       "<style scoped>\n",
       "    .dataframe tbody tr th:only-of-type {\n",
       "        vertical-align: middle;\n",
       "    }\n",
       "\n",
       "    .dataframe tbody tr th {\n",
       "        vertical-align: top;\n",
       "    }\n",
       "\n",
       "    .dataframe thead th {\n",
       "        text-align: right;\n",
       "    }\n",
       "</style>\n",
       "<table border=\"1\" class=\"dataframe\">\n",
       "  <thead>\n",
       "    <tr style=\"text-align: right;\">\n",
       "      <th></th>\n",
       "      <th>quoteID</th>\n",
       "      <th>quotation</th>\n",
       "      <th>speaker</th>\n",
       "      <th>qids</th>\n",
       "      <th>date</th>\n",
       "      <th>numOccurrences</th>\n",
       "      <th>probas</th>\n",
       "      <th>urls</th>\n",
       "      <th>phase</th>\n",
       "      <th>occupation</th>\n",
       "      <th>occupation_labels</th>\n",
       "    </tr>\n",
       "  </thead>\n",
       "  <tbody>\n",
       "    <tr>\n",
       "      <th>0</th>\n",
       "      <td>2019-04-17-024782</td>\n",
       "      <td>It is not a low-income immigration,</td>\n",
       "      <td>James Fisher</td>\n",
       "      <td>[Q16213953, Q20707104, Q43143598, Q58886302, Q...</td>\n",
       "      <td>2019-04-17 13:31:18</td>\n",
       "      <td>1</td>\n",
       "      <td>[[James Fisher, 0.7475], [None, 0.2525]]</td>\n",
       "      <td>[https://www.nytimes.com/2019/04/17/realestate...</td>\n",
       "      <td>E</td>\n",
       "      <td>[Q33999, Q10798782, Q3282637]</td>\n",
       "      <td>[actor, television actor, film producer]</td>\n",
       "    </tr>\n",
       "    <tr>\n",
       "      <th>1</th>\n",
       "      <td>2019-04-02-001128</td>\n",
       "      <td>a champion figure skater switching to roller s...</td>\n",
       "      <td>John Updike</td>\n",
       "      <td>[Q105756]</td>\n",
       "      <td>2019-04-02 14:58:33</td>\n",
       "      <td>2</td>\n",
       "      <td>[[John Updike, 0.5856], [None, 0.4144]]</td>\n",
       "      <td>[https://www.nytimes.com/2019/04/02/opinion/vl...</td>\n",
       "      <td>E</td>\n",
       "      <td>[Q49757, Q36180, Q6625963, Q11774202, Q214917,...</td>\n",
       "      <td>[poet, writer, novelist, essayist, playwright,...</td>\n",
       "    </tr>\n",
       "    <tr>\n",
       "      <th>3</th>\n",
       "      <td>2019-10-31-056366</td>\n",
       "      <td>It puts me in a predicament,</td>\n",
       "      <td>Xavier Becerra</td>\n",
       "      <td>[Q1855840]</td>\n",
       "      <td>2019-10-31 16:45:15</td>\n",
       "      <td>3</td>\n",
       "      <td>[[Xavier Becerra, 0.9065], [None, 0.0909], [St...</td>\n",
       "      <td>[http://www.nytimes.com/2019/10/31/technology/...</td>\n",
       "      <td>E</td>\n",
       "      <td>[Q82955, Q40348]</td>\n",
       "      <td>[politician, lawyer]</td>\n",
       "    </tr>\n",
       "    <tr>\n",
       "      <th>5</th>\n",
       "      <td>2019-08-15-002017</td>\n",
       "      <td>A Senator we can call our own.</td>\n",
       "      <td>Tom Rath</td>\n",
       "      <td>[Q7817334]</td>\n",
       "      <td>2019-08-15 22:36:33</td>\n",
       "      <td>1</td>\n",
       "      <td>[[Tom Rath, 0.7598], [None, 0.1993], [Warren R...</td>\n",
       "      <td>[http://www.nytimes.com/2019/08/15/us/politics...</td>\n",
       "      <td>E</td>\n",
       "      <td>[Q36180]</td>\n",
       "      <td>[writer]</td>\n",
       "    </tr>\n",
       "    <tr>\n",
       "      <th>8</th>\n",
       "      <td>2019-07-22-032883</td>\n",
       "      <td>It's a success, a relief and a technical feat,</td>\n",
       "      <td>Florence Parly</td>\n",
       "      <td>[Q3074013]</td>\n",
       "      <td>2019-07-22 02:37:50</td>\n",
       "      <td>21</td>\n",
       "      <td>[[Florence Parly, 0.9262], [None, 0.0738]]</td>\n",
       "      <td>[http://www.breitbart.com/news/french-submarin...</td>\n",
       "      <td>E</td>\n",
       "      <td>[Q82955]</td>\n",
       "      <td>[politician]</td>\n",
       "    </tr>\n",
       "  </tbody>\n",
       "</table>\n",
       "</div>"
      ],
      "text/plain": [
       "             quoteID                                          quotation  \\\n",
       "0  2019-04-17-024782                It is not a low-income immigration,   \n",
       "1  2019-04-02-001128  a champion figure skater switching to roller s...   \n",
       "3  2019-10-31-056366                       It puts me in a predicament,   \n",
       "5  2019-08-15-002017                     A Senator we can call our own.   \n",
       "8  2019-07-22-032883     It's a success, a relief and a technical feat,   \n",
       "\n",
       "          speaker                                               qids  \\\n",
       "0    James Fisher  [Q16213953, Q20707104, Q43143598, Q58886302, Q...   \n",
       "1     John Updike                                          [Q105756]   \n",
       "3  Xavier Becerra                                         [Q1855840]   \n",
       "5        Tom Rath                                         [Q7817334]   \n",
       "8  Florence Parly                                         [Q3074013]   \n",
       "\n",
       "                 date  numOccurrences  \\\n",
       "0 2019-04-17 13:31:18               1   \n",
       "1 2019-04-02 14:58:33               2   \n",
       "3 2019-10-31 16:45:15               3   \n",
       "5 2019-08-15 22:36:33               1   \n",
       "8 2019-07-22 02:37:50              21   \n",
       "\n",
       "                                              probas  \\\n",
       "0           [[James Fisher, 0.7475], [None, 0.2525]]   \n",
       "1            [[John Updike, 0.5856], [None, 0.4144]]   \n",
       "3  [[Xavier Becerra, 0.9065], [None, 0.0909], [St...   \n",
       "5  [[Tom Rath, 0.7598], [None, 0.1993], [Warren R...   \n",
       "8         [[Florence Parly, 0.9262], [None, 0.0738]]   \n",
       "\n",
       "                                                urls phase  \\\n",
       "0  [https://www.nytimes.com/2019/04/17/realestate...     E   \n",
       "1  [https://www.nytimes.com/2019/04/02/opinion/vl...     E   \n",
       "3  [http://www.nytimes.com/2019/10/31/technology/...     E   \n",
       "5  [http://www.nytimes.com/2019/08/15/us/politics...     E   \n",
       "8  [http://www.breitbart.com/news/french-submarin...     E   \n",
       "\n",
       "                                          occupation  \\\n",
       "0                      [Q33999, Q10798782, Q3282637]   \n",
       "1  [Q49757, Q36180, Q6625963, Q11774202, Q214917,...   \n",
       "3                                   [Q82955, Q40348]   \n",
       "5                                           [Q36180]   \n",
       "8                                           [Q82955]   \n",
       "\n",
       "                                   occupation_labels  \n",
       "0           [actor, television actor, film producer]  \n",
       "1  [poet, writer, novelist, essayist, playwright,...  \n",
       "3                               [politician, lawyer]  \n",
       "5                                           [writer]  \n",
       "8                                       [politician]  "
      ]
     },
     "execution_count": 12,
     "metadata": {},
     "output_type": "execute_result"
    }
   ],
   "source": [
    "df_occupations.head()"
   ]
  },
  {
   "cell_type": "code",
   "execution_count": 13,
   "id": "7b87abbd",
   "metadata": {},
   "outputs": [],
   "source": [
    "# Helper\n",
    "def freq_count(vals, counts):\n",
    "    if vals is None: return\n",
    "    for val in vals:\n",
    "        if val not in counts: counts[val] = 0\n",
    "        counts[val] += 1"
   ]
  },
  {
   "cell_type": "code",
   "execution_count": 14,
   "id": "220b5f01",
   "metadata": {},
   "outputs": [],
   "source": [
    "occupation_to_cnt = {}\n",
    "df_occupations.occupation_labels.apply(lambda vals: freq_count(vals, occupation_to_cnt));\n",
    "top10_occupations = sorted(occupation_to_cnt.items(), key=lambda x: x[1], reverse=True)[:10]"
   ]
  },
  {
   "cell_type": "code",
   "execution_count": 17,
   "id": "1fda8bb9",
   "metadata": {},
   "outputs": [
    {
     "data": {
      "image/png": "[encoded data removed]",
      "text/plain": [
       "<Figure size 1080x576 with 1 Axes>"
      ]
     },
     "metadata": {
      "needs_background": "light"
     },
     "output_type": "display_data"
    }
   ],
   "source": [
    "plt.figure(figsize=(15,8))\n",
    "_ = sns.barplot(x=[x for x,y in top10_occupations], y=[y for x,y in top10_occupations])"
   ]
  },
  {
   "cell_type": "markdown",
   "id": "049cdac6",
   "metadata": {},
   "source": [
    "## Exploring Quotes\n",
    "\n",
    "### Quotation length distribution"
   ]
  },
  {
   "cell_type": "code",
   "execution_count": 18,
   "id": "a5bb5f7b",
   "metadata": {},
   "outputs": [
    {
     "data": {
      "image/png": "[encoded data removed]",
      "text/plain": [
       "<Figure size 432x288 with 1 Axes>"
      ]
     },
     "metadata": {
      "needs_background": "light"
     },
     "output_type": "display_data"
    }
   ],
   "source": [
    "df['len'] = df['quotation'].apply(len) # Add quotation length feature\n",
    "_ = df['len'].plot(kind='box', ylabel=\"quotation length\", xlabel=\"quotation length\") "
   ]
  },
  {
   "cell_type": "code",
   "execution_count": 19,
   "id": "23050b97",
   "metadata": {},
   "outputs": [
    {
     "data": {
      "image/png": "[encoded data removed]",
      "text/plain": [
       "<Figure size 432x288 with 1 Axes>"
      ]
     },
     "metadata": {
      "needs_background": "light"
     },
     "output_type": "display_data"
    }
   ],
   "source": [
    "_ = df['len'].plot(kind='hist', bins=50, xlabel=\"quotation length\")"
   ]
  },
  {
   "cell_type": "markdown",
   "id": "c011f3a4",
   "metadata": {},
   "source": [
    "### Most cited quotations"
   ]
  },
  {
   "cell_type": "code",
   "execution_count": 20,
   "id": "08de8720",
   "metadata": {},
   "outputs": [
    {
     "data": {
      "image/png": "[encoded data removed]",
      "text/plain": [
       "<Figure size 432x288 with 1 Axes>"
      ]
     },
     "metadata": {
      "needs_background": "light"
     },
     "output_type": "display_data"
    }
   ],
   "source": [
    "_ = df['numOccurrences'].plot(kind='box')"
   ]
  },
  {
   "cell_type": "code",
   "execution_count": 21,
   "id": "b7c4930c",
   "metadata": {},
   "outputs": [
    {
     "data": {
      "text/plain": [
       "quoteID                                           2019-04-12-080259\n",
       "quotation                 Star... [ + ] Wars: The Rise of Skywalker\n",
       "speaker                                                        None\n",
       "qids                                                             []\n",
       "date                                            2019-04-12 00:00:00\n",
       "numOccurrences                                                12095\n",
       "probas            [[None, 0.4952], [J.J. Abrams, 0.0752], [Daisy...\n",
       "urls              [http://chronicle.northcoastnow.com/national-n...\n",
       "phase                                                             E\n",
       "len                                                              41\n",
       "Name: 21764, dtype: object"
      ]
     },
     "execution_count": 21,
     "metadata": {},
     "output_type": "execute_result"
    }
   ],
   "source": [
    "df.loc[df['numOccurrences'].argmax()] # Most cited quotation"
   ]
  },
  {
   "cell_type": "code",
   "execution_count": 22,
   "id": "e43657f5",
   "metadata": {},
   "outputs": [
    {
     "data": {
      "image/png": "[encoded data removed]",
      "text/plain": [
       "<Figure size 432x288 with 1 Axes>"
      ]
     },
     "metadata": {
      "needs_background": "light"
     },
     "output_type": "display_data"
    }
   ],
   "source": [
    "_ = df.plot(kind='scatter', x='numOccurrences', y='len') # Shorter quotes are more cited"
   ]
  },
  {
   "cell_type": "markdown",
   "id": "d2b23aea",
   "metadata": {},
   "source": [
    "## Exploring Profanity"
   ]
  },
  {
   "cell_type": "code",
   "execution_count": 23,
   "id": "8da6eb5c",
   "metadata": {},
   "outputs": [
    {
     "data": {
      "text/html": [
       "<div>\n",
       "<style scoped>\n",
       "    .dataframe tbody tr th:only-of-type {\n",
       "        vertical-align: middle;\n",
       "    }\n",
       "\n",
       "    .dataframe tbody tr th {\n",
       "        vertical-align: top;\n",
       "    }\n",
       "\n",
       "    .dataframe thead th {\n",
       "        text-align: right;\n",
       "    }\n",
       "</style>\n",
       "<table border=\"1\" class=\"dataframe\">\n",
       "  <thead>\n",
       "    <tr style=\"text-align: right;\">\n",
       "      <th></th>\n",
       "      <th>quoteID</th>\n",
       "      <th>quotation</th>\n",
       "      <th>speaker</th>\n",
       "      <th>qids</th>\n",
       "      <th>date</th>\n",
       "      <th>numOccurrences</th>\n",
       "      <th>probas</th>\n",
       "      <th>urls</th>\n",
       "      <th>phase</th>\n",
       "      <th>len</th>\n",
       "      <th>profanity</th>\n",
       "    </tr>\n",
       "  </thead>\n",
       "  <tbody>\n",
       "    <tr>\n",
       "      <th>0</th>\n",
       "      <td>2019-04-17-024782</td>\n",
       "      <td>It is not a low-income immigration,</td>\n",
       "      <td>James Fisher</td>\n",
       "      <td>[Q16213953, Q20707104, Q43143598, Q58886302, Q...</td>\n",
       "      <td>2019-04-17 13:31:18</td>\n",
       "      <td>1</td>\n",
       "      <td>[[James Fisher, 0.7475], [None, 0.2525]]</td>\n",
       "      <td>[https://www.nytimes.com/2019/04/17/realestate...</td>\n",
       "      <td>E</td>\n",
       "      <td>35</td>\n",
       "      <td>0.017196</td>\n",
       "    </tr>\n",
       "    <tr>\n",
       "      <th>1</th>\n",
       "      <td>2019-04-02-001128</td>\n",
       "      <td>a champion figure skater switching to roller s...</td>\n",
       "      <td>John Updike</td>\n",
       "      <td>[Q105756]</td>\n",
       "      <td>2019-04-02 14:58:33</td>\n",
       "      <td>2</td>\n",
       "      <td>[[John Updike, 0.5856], [None, 0.4144]]</td>\n",
       "      <td>[https://www.nytimes.com/2019/04/02/opinion/vl...</td>\n",
       "      <td>E</td>\n",
       "      <td>52</td>\n",
       "      <td>0.012897</td>\n",
       "    </tr>\n",
       "    <tr>\n",
       "      <th>2</th>\n",
       "      <td>2019-05-09-055187</td>\n",
       "      <td>It makes it much more difficult for him to mak...</td>\n",
       "      <td>None</td>\n",
       "      <td>[]</td>\n",
       "      <td>2019-05-09 18:11:29</td>\n",
       "      <td>1</td>\n",
       "      <td>[[None, 0.6493], [President Bill Clinton, 0.27...</td>\n",
       "      <td>[http://mobile.nytimes.com/2019/05/09/world/as...</td>\n",
       "      <td>E</td>\n",
       "      <td>71</td>\n",
       "      <td>0.025312</td>\n",
       "    </tr>\n",
       "    <tr>\n",
       "      <th>3</th>\n",
       "      <td>2019-10-31-056366</td>\n",
       "      <td>It puts me in a predicament,</td>\n",
       "      <td>Xavier Becerra</td>\n",
       "      <td>[Q1855840]</td>\n",
       "      <td>2019-10-31 16:45:15</td>\n",
       "      <td>3</td>\n",
       "      <td>[[Xavier Becerra, 0.9065], [None, 0.0909], [St...</td>\n",
       "      <td>[http://www.nytimes.com/2019/10/31/technology/...</td>\n",
       "      <td>E</td>\n",
       "      <td>28</td>\n",
       "      <td>0.046677</td>\n",
       "    </tr>\n",
       "    <tr>\n",
       "      <th>4</th>\n",
       "      <td>2019-01-04-001792</td>\n",
       "      <td>A Pile of Leaves.</td>\n",
       "      <td>None</td>\n",
       "      <td>[]</td>\n",
       "      <td>2019-01-04 10:00:07</td>\n",
       "      <td>1</td>\n",
       "      <td>[[None, 0.8737], [Jason Fulford, 0.1263]]</td>\n",
       "      <td>[https://www.nytimes.com/2019/01/04/books/revi...</td>\n",
       "      <td>E</td>\n",
       "      <td>17</td>\n",
       "      <td>0.125558</td>\n",
       "    </tr>\n",
       "  </tbody>\n",
       "</table>\n",
       "</div>"
      ],
      "text/plain": [
       "             quoteID                                          quotation  \\\n",
       "0  2019-04-17-024782                It is not a low-income immigration,   \n",
       "1  2019-04-02-001128  a champion figure skater switching to roller s...   \n",
       "2  2019-05-09-055187  It makes it much more difficult for him to mak...   \n",
       "3  2019-10-31-056366                       It puts me in a predicament,   \n",
       "4  2019-01-04-001792                                  A Pile of Leaves.   \n",
       "\n",
       "          speaker                                               qids  \\\n",
       "0    James Fisher  [Q16213953, Q20707104, Q43143598, Q58886302, Q...   \n",
       "1     John Updike                                          [Q105756]   \n",
       "2            None                                                 []   \n",
       "3  Xavier Becerra                                         [Q1855840]   \n",
       "4            None                                                 []   \n",
       "\n",
       "                 date  numOccurrences  \\\n",
       "0 2019-04-17 13:31:18               1   \n",
       "1 2019-04-02 14:58:33               2   \n",
       "2 2019-05-09 18:11:29               1   \n",
       "3 2019-10-31 16:45:15               3   \n",
       "4 2019-01-04 10:00:07               1   \n",
       "\n",
       "                                              probas  \\\n",
       "0           [[James Fisher, 0.7475], [None, 0.2525]]   \n",
       "1            [[John Updike, 0.5856], [None, 0.4144]]   \n",
       "2  [[None, 0.6493], [President Bill Clinton, 0.27...   \n",
       "3  [[Xavier Becerra, 0.9065], [None, 0.0909], [St...   \n",
       "4          [[None, 0.8737], [Jason Fulford, 0.1263]]   \n",
       "\n",
       "                                                urls phase  len  profanity  \n",
       "0  [https://www.nytimes.com/2019/04/17/realestate...     E   35   0.017196  \n",
       "1  [https://www.nytimes.com/2019/04/02/opinion/vl...     E   52   0.012897  \n",
       "2  [http://mobile.nytimes.com/2019/05/09/world/as...     E   71   0.025312  \n",
       "3  [http://www.nytimes.com/2019/10/31/technology/...     E   28   0.046677  \n",
       "4  [https://www.nytimes.com/2019/01/04/books/revi...     E   17   0.125558  "
      ]
     },
     "execution_count": 23,
     "metadata": {},
     "output_type": "execute_result"
    }
   ],
   "source": [
    "df['profanity'] = profanity_check.predict_prob(df['quotation']) # Add profanity feature\n",
    "df.head()"
   ]
  },
  {
   "cell_type": "code",
   "execution_count": 24,
   "id": "08fe084d",
   "metadata": {},
   "outputs": [
    {
     "data": {
      "image/png": "[encoded data removed]",
      "text/plain": [
       "<Figure size 432x288 with 1 Axes>"
      ]
     },
     "metadata": {
      "needs_background": "light"
     },
     "output_type": "display_data"
    }
   ],
   "source": [
    "_ = df['profanity'].plot(kind='hist', bins=30, xlabel='profanity')"
   ]
  },
  {
   "cell_type": "code",
   "execution_count": 25,
   "id": "b288c906",
   "metadata": {},
   "outputs": [
    {
     "data": {
      "text/plain": [
       "count    207527.000000\n",
       "mean          0.071493\n",
       "std           0.109267\n",
       "min           0.000230\n",
       "25%           0.017624\n",
       "50%           0.036600\n",
       "75%           0.076663\n",
       "max           1.000000\n",
       "Name: profanity, dtype: float64"
      ]
     },
     "execution_count": 25,
     "metadata": {},
     "output_type": "execute_result"
    },
    {
     "data": {
      "image/png": "[encoded data removed]",
      "text/plain": [
       "<Figure size 432x288 with 1 Axes>"
      ]
     },
     "metadata": {
      "needs_background": "light"
     },
     "output_type": "display_data"
    }
   ],
   "source": [
    "_ = df['profanity'].plot(kind='box')\n",
    "df['profanity'].describe()"
   ]
  },
  {
   "cell_type": "markdown",
   "id": "e294e4c9",
   "metadata": {},
   "source": [
    "### High profanity quotations"
   ]
  },
  {
   "cell_type": "code",
   "execution_count": 26,
   "id": "a75254d4",
   "metadata": {},
   "outputs": [
    {
     "name": "stdout",
     "output_type": "stream",
     "text": [
      "1389 quotes with profanity score > 0.7\n"
     ]
    },
    {
     "data": {
      "text/html": [
       "<div>\n",
       "<style scoped>\n",
       "    .dataframe tbody tr th:only-of-type {\n",
       "        vertical-align: middle;\n",
       "    }\n",
       "\n",
       "    .dataframe tbody tr th {\n",
       "        vertical-align: top;\n",
       "    }\n",
       "\n",
       "    .dataframe thead th {\n",
       "        text-align: right;\n",
       "    }\n",
       "</style>\n",
       "<table border=\"1\" class=\"dataframe\">\n",
       "  <thead>\n",
       "    <tr style=\"text-align: right;\">\n",
       "      <th></th>\n",
       "      <th>quoteID</th>\n",
       "      <th>quotation</th>\n",
       "      <th>speaker</th>\n",
       "      <th>qids</th>\n",
       "      <th>date</th>\n",
       "      <th>numOccurrences</th>\n",
       "      <th>probas</th>\n",
       "      <th>urls</th>\n",
       "      <th>phase</th>\n",
       "      <th>len</th>\n",
       "      <th>profanity</th>\n",
       "    </tr>\n",
       "  </thead>\n",
       "  <tbody>\n",
       "    <tr>\n",
       "      <th>172</th>\n",
       "      <td>2019-01-10-120671</td>\n",
       "      <td>You can put perfume on a pile of dung, and it ...</td>\n",
       "      <td>None</td>\n",
       "      <td>[]</td>\n",
       "      <td>2019-01-10 00:54:59</td>\n",
       "      <td>2</td>\n",
       "      <td>[[None, 0.876], [Michael Harrison, 0.0715], [M...</td>\n",
       "      <td>[http://www.nytimes.com/2019/01/09/us/baltimor...</td>\n",
       "      <td>E</td>\n",
       "      <td>144</td>\n",
       "      <td>0.747473</td>\n",
       "    </tr>\n",
       "    <tr>\n",
       "      <th>232</th>\n",
       "      <td>2019-09-21-039668</td>\n",
       "      <td>Tell her to keep her mouth shut,</td>\n",
       "      <td>President Barack Obama</td>\n",
       "      <td>[Q76]</td>\n",
       "      <td>2019-09-21 09:00:11</td>\n",
       "      <td>2</td>\n",
       "      <td>[[President Barack Obama, 0.6097], [David Axel...</td>\n",
       "      <td>[http://www.nytimes.com/2019/09/21/us/politics...</td>\n",
       "      <td>E</td>\n",
       "      <td>32</td>\n",
       "      <td>0.975267</td>\n",
       "    </tr>\n",
       "    <tr>\n",
       "      <th>275</th>\n",
       "      <td>2019-07-05-076464</td>\n",
       "      <td>We wanted to blow all that up,</td>\n",
       "      <td>Steven Wilson</td>\n",
       "      <td>[Q352766]</td>\n",
       "      <td>2019-07-05 19:00:56</td>\n",
       "      <td>4</td>\n",
       "      <td>[[Steven Wilson, 0.7926], [None, 0.2074]]</td>\n",
       "      <td>[http://mobile.nytimes.com/2019/07/05/nyregion...</td>\n",
       "      <td>E</td>\n",
       "      <td>30</td>\n",
       "      <td>0.743172</td>\n",
       "    </tr>\n",
       "    <tr>\n",
       "      <th>355</th>\n",
       "      <td>2019-09-19-033144</td>\n",
       "      <td>I find myself more concerned about the terribl...</td>\n",
       "      <td>None</td>\n",
       "      <td>[]</td>\n",
       "      <td>2019-09-19 14:11:58</td>\n",
       "      <td>1</td>\n",
       "      <td>[[None, 0.918], [President Trump, 0.082]]</td>\n",
       "      <td>[https://www.nytimes.com/2019/09/19/style/patt...</td>\n",
       "      <td>E</td>\n",
       "      <td>210</td>\n",
       "      <td>0.745001</td>\n",
       "    </tr>\n",
       "    <tr>\n",
       "      <th>362</th>\n",
       "      <td>2019-06-27-034157</td>\n",
       "      <td>I think he was a racist,</td>\n",
       "      <td>Gabriel Sherman</td>\n",
       "      <td>[Q16210395]</td>\n",
       "      <td>2019-06-27 18:00:46</td>\n",
       "      <td>1</td>\n",
       "      <td>[[Gabriel Sherman, 0.8783], [None, 0.1044], [R...</td>\n",
       "      <td>[https://www.nytimes.com/2019/06/27/arts/telev...</td>\n",
       "      <td>E</td>\n",
       "      <td>24</td>\n",
       "      <td>0.813794</td>\n",
       "    </tr>\n",
       "  </tbody>\n",
       "</table>\n",
       "</div>"
      ],
      "text/plain": [
       "               quoteID                                          quotation  \\\n",
       "172  2019-01-10-120671  You can put perfume on a pile of dung, and it ...   \n",
       "232  2019-09-21-039668                   Tell her to keep her mouth shut,   \n",
       "275  2019-07-05-076464                     We wanted to blow all that up,   \n",
       "355  2019-09-19-033144  I find myself more concerned about the terribl...   \n",
       "362  2019-06-27-034157                           I think he was a racist,   \n",
       "\n",
       "                    speaker         qids                date  numOccurrences  \\\n",
       "172                    None           [] 2019-01-10 00:54:59               2   \n",
       "232  President Barack Obama        [Q76] 2019-09-21 09:00:11               2   \n",
       "275           Steven Wilson    [Q352766] 2019-07-05 19:00:56               4   \n",
       "355                    None           [] 2019-09-19 14:11:58               1   \n",
       "362         Gabriel Sherman  [Q16210395] 2019-06-27 18:00:46               1   \n",
       "\n",
       "                                                probas  \\\n",
       "172  [[None, 0.876], [Michael Harrison, 0.0715], [M...   \n",
       "232  [[President Barack Obama, 0.6097], [David Axel...   \n",
       "275          [[Steven Wilson, 0.7926], [None, 0.2074]]   \n",
       "355          [[None, 0.918], [President Trump, 0.082]]   \n",
       "362  [[Gabriel Sherman, 0.8783], [None, 0.1044], [R...   \n",
       "\n",
       "                                                  urls phase  len  profanity  \n",
       "172  [http://www.nytimes.com/2019/01/09/us/baltimor...     E  144   0.747473  \n",
       "232  [http://www.nytimes.com/2019/09/21/us/politics...     E   32   0.975267  \n",
       "275  [http://mobile.nytimes.com/2019/07/05/nyregion...     E   30   0.743172  \n",
       "355  [https://www.nytimes.com/2019/09/19/style/patt...     E  210   0.745001  \n",
       "362  [https://www.nytimes.com/2019/06/27/arts/telev...     E   24   0.813794  "
      ]
     },
     "execution_count": 26,
     "metadata": {},
     "output_type": "execute_result"
    }
   ],
   "source": [
    "threshold = 0.7\n",
    "df_profane = df[df['profanity'] > threshold]\n",
    "print(f\"{len(df_profane)} quotes with profanity score > {threshold}\")\n",
    "df_profane.head()"
   ]
  },
  {
   "cell_type": "code",
   "execution_count": 27,
   "id": "b56d3951",
   "metadata": {},
   "outputs": [
    {
     "data": {
      "image/png": "[encoded data removed]",
      "text/plain": [
       "<Figure size 432x288 with 1 Axes>"
      ]
     },
     "metadata": {
      "needs_background": "light"
     },
     "output_type": "display_data"
    }
   ],
   "source": [
    "_ = df_profane['profanity'].plot(kind='hist', bins=30)"
   ]
  },
  {
   "cell_type": "code",
   "execution_count": 28,
   "id": "2b0041e2",
   "metadata": {},
   "outputs": [
    {
     "data": {
      "text/plain": [
       "None                      570\n",
       "President Donald Trump     37\n",
       "President Trump            23\n",
       "Joe Biden                  16\n",
       "Elizabeth Warren            8\n",
       "JIMMY KIMMEL                7\n",
       "Bernie Sanders              6\n",
       "Pete Buttigieg              5\n",
       "Lindsey Graham              5\n",
       "Kirsten Gillibrand          5\n",
       "Javier Marías               4\n",
       "Saeed Jones                 3\n",
       "Bill de Blasio              3\n",
       "STEPHEN COLBERT             3\n",
       "Rodrigo Duterte             3\n",
       "Name: speaker, dtype: int64"
      ]
     },
     "execution_count": 28,
     "metadata": {},
     "output_type": "execute_result"
    }
   ],
   "source": [
    "df_profane['speaker'].value_counts().head(15) # Speaker frequency in high profanity quotations"
   ]
  },
  {
   "cell_type": "code",
   "execution_count": 29,
   "id": "65bb18b9",
   "metadata": {},
   "outputs": [
    {
     "data": {
      "image/png": "[encoded data removed]",
      "text/plain": [
       "<Figure size 432x288 with 1 Axes>"
      ]
     },
     "metadata": {
      "needs_background": "light"
     },
     "output_type": "display_data"
    }
   ],
   "source": [
    "_ = df_profane.plot(kind='scatter', x='len', y='profanity', xlabel='quotation length') # No visible correlation"
   ]
  },
  {
   "cell_type": "code",
   "execution_count": 43,
   "id": "c43fcffe",
   "metadata": {},
   "outputs": [],
   "source": [
    "words = df_profane.quotation.str.split(expand=True).stack()\n",
    "filtered_words = pd.Series(filter(lambda word: word.lower() not in stopwords.words(), words))"
   ]
  },
  {
   "cell_type": "code",
   "execution_count": 44,
   "id": "ddd7340a",
   "metadata": {},
   "outputs": [
    {
     "data": {
      "text/plain": [
       "I'm       99\n",
       "like      99\n",
       "going     73\n",
       "--        63\n",
       "kill      63\n",
       "people    61\n",
       "get       56\n",
       "stupid    52\n",
       "would     49\n",
       "hate      48\n",
       "hell      46\n",
       "think     43\n",
       "gay       39\n",
       "like,     38\n",
       "know      38\n",
       "shut      36\n",
       "black     35\n",
       "got       34\n",
       "white     33\n",
       "racist    33\n",
       "dtype: int64"
      ]
     },
     "execution_count": 44,
     "metadata": {},
     "output_type": "execute_result"
    }
   ],
   "source": [
    "filtered_words.value_counts().head(20) # Most frequent words in high profanity quotations"
   ]
  },
  {
   "cell_type": "code",
   "execution_count": 35,
   "id": "51c71e18",
   "metadata": {},
   "outputs": [
    {
     "data": {
      "image/png": "[encoded data removed]",
      "text/plain": [
       "<Figure size 432x288 with 1 Axes>"
      ]
     },
     "metadata": {
      "needs_background": "light"
     },
     "output_type": "display_data"
    }
   ],
   "source": [
    "_ = df_profane.plot(kind='scatter', x='numOccurrences', y='profanity')"
   ]
  },
  {
   "cell_type": "code",
   "execution_count": 36,
   "id": "1db3a0ba",
   "metadata": {},
   "outputs": [
    {
     "data": {
      "text/plain": [
       "quoteID                                           2019-07-24-011721\n",
       "quotation                disgusting, rat, and rodent infested mess.\n",
       "speaker                                      President Donald Trump\n",
       "qids                                                       [Q22686]\n",
       "date                                            2019-07-24 21:11:30\n",
       "numOccurrences                                                 3119\n",
       "probas            [[President Donald Trump, 0.4486], [None, 0.22...\n",
       "urls              [https://www.mitchellrepublic.com/news/nation/...\n",
       "phase                                                             E\n",
       "len                                                              42\n",
       "profanity                                                  0.931411\n",
       "Name: 186166, dtype: object"
      ]
     },
     "execution_count": 36,
     "metadata": {},
     "output_type": "execute_result"
    }
   ],
   "source": [
    "df_profane.iloc[df_profane['numOccurrences'].argmax()] # Most common high profanity quote"
   ]
  },
  {
   "cell_type": "code",
   "execution_count": 37,
   "id": "63c29f7e",
   "metadata": {
    "scrolled": true
   },
   "outputs": [
    {
     "data": {
      "text/plain": [
       "quoteID                                           2019-06-21-021744\n",
       "quotation                                         Fuck you, Sparky.\n",
       "speaker                                                        None\n",
       "qids                                                             []\n",
       "date                                            2019-06-21 14:57:07\n",
       "numOccurrences                                                    3\n",
       "probas            [[None, 0.5406], [Jeremy Denk, 0.3325], [Errol...\n",
       "urls              [http://www.nytimes.com/interactive/2019/06/21...\n",
       "phase                                                             E\n",
       "len                                                              17\n",
       "profanity                                                       1.0\n",
       "Name: 37622, dtype: object"
      ]
     },
     "execution_count": 37,
     "metadata": {},
     "output_type": "execute_result"
    }
   ],
   "source": [
    "df.loc[df['profanity'].argmax()] # Highest profanity quote"
   ]
  },
  {
   "cell_type": "markdown",
   "id": "b993cfd5",
   "metadata": {},
   "source": [
    "### Most profane speakers"
   ]
  },
  {
   "cell_type": "code",
   "execution_count": 38,
   "id": "f182d42d",
   "metadata": {},
   "outputs": [
    {
     "data": {
      "text/plain": [
       "speaker\n",
       "Lee Martin           0.993907\n",
       "Kristin Cavallari    0.983488\n",
       "Scott Alexander      0.970337\n",
       "Elizabeth Levy       0.951503\n",
       "Cady Huffman         0.943276\n",
       "Nic Pizzolatto       0.940754\n",
       "Ed Dwight            0.928452\n",
       "Joshua Rush          0.923477\n",
       "William Buckley      0.922743\n",
       "Will Young           0.918782\n",
       "Name: profanity, dtype: float64"
      ]
     },
     "execution_count": 38,
     "metadata": {},
     "output_type": "execute_result"
    }
   ],
   "source": [
    "df.groupby('speaker')['profanity'].mean().sort_values(ascending=False).head(10)"
   ]
  },
  {
   "cell_type": "code",
   "execution_count": 39,
   "id": "01efc2e5",
   "metadata": {},
   "outputs": [
    {
     "data": {
      "image/png": "[encoded data removed]",
      "text/plain": [
       "<Figure size 432x288 with 1 Axes>"
      ]
     },
     "metadata": {
      "needs_background": "light"
     },
     "output_type": "display_data"
    }
   ],
   "source": [
    "df_trump = df[df['speaker'] == ('President Donald Trump' or 'Donald Trump' or 'President Trump')]\n",
    "_ = df_trump['profanity'].plot(kind='box') # Trump profanity distribution"
   ]
  },
  {
   "cell_type": "markdown",
   "id": "e1f01776-6a2b-4b00-ad91-90adc06e9b94",
   "metadata": {},
   "source": [
    "### Most profane occupations"
   ]
  },
  {
   "cell_type": "code",
   "execution_count": 55,
   "id": "6cdaf109-7083-4339-bece-23ae77467336",
   "metadata": {},
   "outputs": [],
   "source": [
    "# Helper\n",
    "def append_to_list(occupations, profanity, counts):\n",
    "    if occupations is None: return\n",
    "    for occupation in occupations:\n",
    "        if occupation not in counts: counts[occupation] = []\n",
    "        counts[occupation].append(profanity)"
   ]
  },
  {
   "cell_type": "code",
   "execution_count": 56,
   "id": "db10a6b2-876d-4ff8-bfd2-38b0a75af2d7",
   "metadata": {},
   "outputs": [],
   "source": [
    "occupation_to_profanity_list = {}\n",
    "df_occupations['profanity'] = profanity_check.predict_prob(df_occupations['quotation']) # Add profanity feature\n",
    "_ = df_occupations.apply(lambda row: append_to_list(row['occupation_labels'], row['profanity'], occupation_to_profanity_list), axis=1)"
   ]
  },
  {
   "cell_type": "code",
   "execution_count": 57,
   "id": "7bacb85c-f0be-463b-b229-cca1e176c1ca",
   "metadata": {},
   "outputs": [],
   "source": [
    "occupation_to_profanity = {k: np.mean(v) for k, v in occupation_to_profanity_list.items()}"
   ]
  },
  {
   "cell_type": "code",
   "execution_count": 48,
   "id": "83b79c83-25ae-475c-8af2-6f615b0c3ae2",
   "metadata": {},
   "outputs": [
    {
     "data": {
      "image/png": "[encoded data removed]",
      "text/plain": [
       "<Figure size 1440x576 with 1 Axes>"
      ]
     },
     "metadata": {
      "needs_background": "light"
     },
     "output_type": "display_data"
    }
   ],
   "source": [
    "top10_by_profanity = sorted(occupation_to_profanity.items(), key=lambda x: x[1], reverse=True)[:10]\n",
    "plt.figure(figsize=(20,8))\n",
    "_ = sns.barplot(x=[x for x,y in top10_by_profanity], y=[y for x,y in top10_by_profanity])"
   ]
  },
  {
   "cell_type": "markdown",
   "id": "68b0d14c",
   "metadata": {},
   "source": [
    "### Profanity through time\n",
    "\n",
    "TODO: Add Dewmini's plots"
   ]
  }
 ],
 "metadata": {
  "kernelspec": {
   "display_name": "Python 3",
   "language": "python",
   "name": "python3"
  },
  "language_info": {
   "codemirror_mode": {
    "name": "ipython",
    "version": 3
   },
   "file_extension": ".py",
   "mimetype": "text/x-python",
   "name": "python",
   "nbconvert_exporter": "python",
   "pygments_lexer": "ipython3",
   "version": "3.8.8"
  }
 },
 "nbformat": 4,
 "nbformat_minor": 5
}
