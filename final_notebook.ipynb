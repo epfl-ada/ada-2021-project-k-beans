{
 "cells": [
  {
   "cell_type": "markdown",
   "id": "ced991dc-01cb-427e-9190-8b058d993dd5",
   "metadata": {
    "tags": []
   },
   "source": [
    "# !\\#$\\@: An obscene journey through quotations in media\n",
    "## ADA: Project Milestone 2\n",
    "#### Group: k-beans\n",
    "\n",
    "This notebook contains the initial analysis carried out for our project titled: **\"!#$@: An obscene journey through quotations in media\"**. \n",
    "\n",
    "For that matter, we install the requirements for the project, we load the data and we handle, explore and visualize it in order to understand it better and gain some insights. Specifically, we perform different analysis at quote, speaker and media source level, as they will be very important elements in our study. Moreover, the profanity score - which is the essence and main motivation for this project - is computed for all quotes considered and its presence in the dataset is analyzed as well, regarding different aspects. Time will also be considered as a relevant factor for the study. Finally, a small sentiment analysis experiment will be carried out so that we can present a clear idea of all different methods which are going to be used.\n",
    "\n",
    "Note: this initial analysis has been executed for 2020 quotebank data only for performance and flexibility aspects, it will be applied to the rest of the data for the next milestone."
   ]
  },
  {
   "cell_type": "markdown",
   "id": "70567216-962a-4b57-b916-dec19eeff210",
   "metadata": {},
   "source": [
    "## Requirements"
   ]
  },
  {
   "cell_type": "code",
   "execution_count": 1,
   "id": "0e948952-c44f-4191-91f7-547b43e18c4c",
   "metadata": {},
   "outputs": [
    {
     "name": "stdout",
     "output_type": "stream",
     "text": [
      "Collecting pyspark==3.1.1\n",
      "  Using cached pyspark-3.1.1-py2.py3-none-any.whl\n",
      "Requirement already satisfied: pyarrow in /home/maculjak/anaconda3/envs/ada/lib/python3.8/site-packages (3.0.0)\n",
      "Requirement already satisfied: tldextract in /home/maculjak/anaconda3/envs/ada/lib/python3.8/site-packages (3.1.2)\n",
      "Requirement already satisfied: nltk in /home/maculjak/anaconda3/envs/ada/lib/python3.8/site-packages (3.6.5)\n",
      "Collecting py4j==0.10.9\n",
      "  Using cached py4j-0.10.9-py2.py3-none-any.whl (198 kB)\n",
      "Requirement already satisfied: numpy>=1.16.6 in /home/maculjak/anaconda3/envs/ada/lib/python3.8/site-packages (from pyarrow) (1.21.2)\n",
      "Requirement already satisfied: requests-file>=1.4 in /home/maculjak/anaconda3/envs/ada/lib/python3.8/site-packages (from tldextract) (1.5.1)\n",
      "Requirement already satisfied: requests>=2.1.0 in /home/maculjak/anaconda3/envs/ada/lib/python3.8/site-packages (from tldextract) (2.26.0)\n",
      "Requirement already satisfied: idna in /home/maculjak/anaconda3/envs/ada/lib/python3.8/site-packages (from tldextract) (3.2)\n",
      "Requirement already satisfied: filelock>=3.0.8 in /home/maculjak/anaconda3/envs/ada/lib/python3.8/site-packages (from tldextract) (3.3.2)\n",
      "Requirement already satisfied: regex>=2021.8.3 in /home/maculjak/anaconda3/envs/ada/lib/python3.8/site-packages (from nltk) (2021.11.2)\n",
      "Requirement already satisfied: joblib in /home/maculjak/anaconda3/envs/ada/lib/python3.8/site-packages (from nltk) (1.1.0)\n",
      "Requirement already satisfied: click in /home/maculjak/anaconda3/envs/ada/lib/python3.8/site-packages (from nltk) (8.0.3)\n",
      "Requirement already satisfied: tqdm in /home/maculjak/anaconda3/envs/ada/lib/python3.8/site-packages (from nltk) (4.62.3)\n",
      "Requirement already satisfied: urllib3<1.27,>=1.21.1 in /home/maculjak/anaconda3/envs/ada/lib/python3.8/site-packages (from requests>=2.1.0->tldextract) (1.26.7)\n",
      "Requirement already satisfied: certifi>=2017.4.17 in /home/maculjak/anaconda3/envs/ada/lib/python3.8/site-packages (from requests>=2.1.0->tldextract) (2021.10.8)\n",
      "Requirement already satisfied: charset-normalizer~=2.0.0 in /home/maculjak/anaconda3/envs/ada/lib/python3.8/site-packages (from requests>=2.1.0->tldextract) (2.0.4)\n",
      "Requirement already satisfied: six in /home/maculjak/anaconda3/envs/ada/lib/python3.8/site-packages (from requests-file>=1.4->tldextract) (1.16.0)\n",
      "Installing collected packages: py4j, pyspark\n",
      "  Attempting uninstall: py4j\n",
      "    Found existing installation: py4j 0.10.9.2\n",
      "    Uninstalling py4j-0.10.9.2:\n",
      "      Successfully uninstalled py4j-0.10.9.2\n",
      "  Attempting uninstall: pyspark\n",
      "    Found existing installation: pyspark 3.1.2\n",
      "    Uninstalling pyspark-3.1.2:\n",
      "      Successfully uninstalled pyspark-3.1.2\n",
      "Successfully installed py4j-0.10.9 pyspark-3.1.1\n",
      "Collecting sparknlp\n",
      "  Using cached sparknlp-1.0.0-py3-none-any.whl (1.4 kB)\n",
      "Requirement already satisfied: spark-nlp in /home/maculjak/anaconda3/envs/ada/lib/python3.8/site-packages (from sparknlp) (3.3.2)\n",
      "Requirement already satisfied: numpy in /home/maculjak/anaconda3/envs/ada/lib/python3.8/site-packages (from sparknlp) (1.21.2)\n",
      "Installing collected packages: sparknlp\n",
      "Successfully installed sparknlp-1.0.0\n",
      "Requirement already satisfied: alt-profanity-check in /home/maculjak/anaconda3/envs/ada/lib/python3.8/site-packages (1.0.1)\n",
      "Requirement already satisfied: joblib>=1.1.0 in /home/maculjak/anaconda3/envs/ada/lib/python3.8/site-packages (from alt-profanity-check) (1.1.0)\n",
      "Requirement already satisfied: scikit-learn==1.0.1 in /home/maculjak/anaconda3/envs/ada/lib/python3.8/site-packages (from alt-profanity-check) (1.0.1)\n",
      "Requirement already satisfied: threadpoolctl>=2.0.0 in /home/maculjak/anaconda3/envs/ada/lib/python3.8/site-packages (from scikit-learn==1.0.1->alt-profanity-check) (3.0.0)\n",
      "Requirement already satisfied: numpy>=1.14.6 in /home/maculjak/anaconda3/envs/ada/lib/python3.8/site-packages (from scikit-learn==1.0.1->alt-profanity-check) (1.21.2)\n",
      "Requirement already satisfied: scipy>=1.1.0 in /home/maculjak/anaconda3/envs/ada/lib/python3.8/site-packages (from scikit-learn==1.0.1->alt-profanity-check) (1.7.2)\n"
     ]
    }
   ],
   "source": [
    "!pip install pyspark==3.1.1 pyarrow tldextract nltk\n",
    "!pip install sparknlp\n",
    "!pip install alt-profanity-check"
   ]
  },
  {
   "cell_type": "markdown",
   "id": "60aacce4-ac04-45fb-a386-b9a4a69d85da",
   "metadata": {
    "tags": []
   },
   "source": [
    "## Imports"
   ]
  },
  {
   "cell_type": "code",
   "execution_count": 9,
   "id": "b00d4edd-af15-4103-96e3-03d51621fc0a",
   "metadata": {},
   "outputs": [
    {
     "name": "stdout",
     "output_type": "stream",
     "text": [
      "env: PYSPARK_PYTHON=/usr/local/anaconda3/envs/ada/bin/python\n",
      "env: PYSPARK_DRIVER_PYTHON=/usr/local/anaconda3/envs/ada/bin/python\n"
     ]
    }
   ],
   "source": [
    "# Make sure that spark uses the same python distribution to avoid serialization issues due to missing packages\n",
    "%env PYSPARK_PYTHON=/usr/local/anaconda3/envs/ada/bin/python\n",
    "%env PYSPARK_DRIVER_PYTHON=/usr/local/anaconda3/envs/ada/bin/python"
   ]
  },
  {
   "cell_type": "code",
   "execution_count": 10,
   "id": "c79611c1-4307-4232-af01-998509944eaa",
   "metadata": {
    "tags": []
   },
   "outputs": [
    {
     "data": {
      "text/plain": [
       "'/usr/local/anaconda3/envs/ada/bin/python'"
      ]
     },
     "execution_count": 10,
     "metadata": {},
     "output_type": "execute_result"
    }
   ],
   "source": [
    "import sys\n",
    "sys.executable"
   ]
  },
  {
   "cell_type": "code",
   "execution_count": 11,
   "id": "09d95d8e-c8f8-4687-930e-25d2b0a70e3e",
   "metadata": {},
   "outputs": [
    {
     "name": "stderr",
     "output_type": "stream",
     "text": [
      "[nltk_data] Downloading package stopwords to /Users/MDS/nltk_data...\n",
      "[nltk_data]   Unzipping corpora/stopwords.zip.\n"
     ]
    }
   ],
   "source": [
    "# Data handling and visualization\n",
    "import pandas as pd\n",
    "import numpy as np\n",
    "import seaborn as sns\n",
    "import matplotlib.pyplot as plt\n",
    "\n",
    "# PySpark\n",
    "import pyspark\n",
    "from pyspark import SparkContext\n",
    "from pyspark.sql import SparkSession\n",
    "from pyspark.sql.types import StructType\n",
    "from pyspark.sql import functions as f\n",
    "from pyspark.sql.types import IntegerType, BooleanType, ArrayType, StringType, DoubleType\n",
    "\n",
    "#Spark NLP\n",
    "import sparknlp\n",
    "from sparknlp.base import *\n",
    "from sparknlp.annotator import *\n",
    "from sparknlp.pretrained import PretrainedPipeline\n",
    "\n",
    "# Helpers\n",
    "import os\n",
    "import json\n",
    "\n",
    "# External libraries\n",
    "import profanity_check\n",
    "import tldextract\n",
    "\n",
    "import nltk\n",
    "nltk.download('stopwords')\n",
    "from nltk.corpus import stopwords"
   ]
  },
  {
   "cell_type": "markdown",
   "id": "21499cf2-4faf-4846-b759-da7a698efa99",
   "metadata": {},
   "source": [
    "## Load Spark"
   ]
  },
  {
   "cell_type": "code",
   "execution_count": 13,
   "id": "91174d1a-6dd1-4ebc-98cc-43cc4e67d9e7",
   "metadata": {},
   "outputs": [
    {
     "data": {
      "text/html": [
       "\n",
       "            <div>\n",
       "                <p><b>SparkSession - in-memory</b></p>\n",
       "                \n",
       "        <div>\n",
       "            <p><b>SparkContext</b></p>\n",
       "\n",
       "            <p><a href=\"http://172.22.22.63:4041\">Spark UI</a></p>\n",
       "\n",
       "            <dl>\n",
       "              <dt>Version</dt>\n",
       "                <dd><code>v3.1.1</code></dd>\n",
       "              <dt>Master</dt>\n",
       "                <dd><code>local[*]</code></dd>\n",
       "              <dt>AppName</dt>\n",
       "                <dd><code>pyspark-shell</code></dd>\n",
       "            </dl>\n",
       "        </div>\n",
       "        \n",
       "            </div>\n",
       "        "
      ],
      "text/plain": [
       "<pyspark.sql.session.SparkSession at 0x7f86c64e5370>"
      ]
     },
     "execution_count": 13,
     "metadata": {},
     "output_type": "execute_result"
    }
   ],
   "source": [
    "conf = pyspark.SparkConf().setMaster(\"local[*]\").setAll([\n",
    "    ('spark.driver.memory','8G'),\n",
    "    ('spark.driver.maxResultSize', '8G'),\n",
    "    ('spark.sql.execution.arrow.pyspark.enabled', True),\n",
    "    ('spark.sql.execution.arrow.maxRecordsPerBatch', 10000),\n",
    "    ('spark.local.dir', '/tmp')\n",
    "])\n",
    "\n",
    "spark = SparkSession.builder.config(conf=conf).config('spark.jars.packages', 'com.johnsnowlabs.nlp:spark-nlp_2.12:3.3.2').getOrCreate()\n",
    "sc = spark.sparkContext\n",
    "sc.setLogLevel('ERROR')\n",
    "spark"
   ]
  },
  {
   "cell_type": "markdown",
   "id": "3d2eb75a-32c3-4173-835f-2a848222c32e",
   "metadata": {},
   "source": [
    "## Load data"
   ]
  },
  {
   "cell_type": "code",
   "execution_count": 16,
   "id": "83c2610c-f356-4489-a3c7-3fc814e20e0d",
   "metadata": {},
   "outputs": [],
   "source": [
    "DATA_DIR    = 'data/'\n",
    "QB_DATA_DIR = DATA_DIR + 'quotebank_data/'\n",
    "\n",
    "QB_DATA_JSON_PATH     = QB_DATA_DIR + 'json/quotes-%s.json'\n",
    "QB_DATA_JSON_BZ2_PATH = QB_DATA_DIR + 'json/quotes-%s.json.bz2'\n",
    "QB_DATA_PARQUET_PATH  = QB_DATA_DIR + 'parquet/quotes-%s.parquet'\n",
    "\n",
    "# QB_DATA_PROC_PATH contains qb data with profanity scores, tlds, prominent speaker qid, prominent speaker prob, prominent speaker label\n",
    "QB_DATA_PROC_PATH     = QB_DATA_DIR + 'processed/quotes-%s.parquet' \n",
    "\n",
    "SPK_ATTR_PATH             = DATA_DIR + 'speaker_attributes.parquet'\n",
    "SPK_ATTR_WITH_LABELS_PATH = DATA_DIR + 'speaker_attributes_with_labels.parquet'\n",
    "\n",
    "LABELS_PATH = DATA_DIR + 'wikidata_labels_descriptions_quotebank.csv.bz2'\n",
    "\n",
    "YEARS = ['2020']\n"
   ]
  },
  {
   "cell_type": "code",
   "execution_count": 17,
   "id": "9fc3e073-2867-474c-a161-b57d816e43df",
   "metadata": {},
   "outputs": [],
   "source": [
    "QB_JSON_SCHEMA = StructType.fromJson(json.loads(\n",
    "    '''{  \"type\": \"struct\", \n",
    "        \"fields\": [\n",
    "            {\"name\": \"date\", \"type\": \"string\", \"nullable\": true, \"metadata\": {}}, \n",
    "            {\"name\": \"numOccurrences\", \"type\": \"long\", \"nullable\": true,\"metadata\": {}}, \n",
    "            {\"name\": \"phase\", \"type\": \"string\", \"nullable\": true, \"metadata\": {}}, \n",
    "            {\"name\": \"probas\", \"type\": \n",
    "            {\"type\": \"array\", \"elementType\": {\"type\": \"array\", \"elementType\": \"string\", \"containsNull\": true}, \"containsNull\": true}, \"nullable\": true, \"metadata\": {}}, \n",
    "            {\"name\": \"qids\", \"type\": {\"type\": \"array\", \"elementType\": \"string\", \"containsNull\": true}, \"nullable\": true, \"metadata\": {}}, \n",
    "            {\"name\": \"quotation\", \"type\": \"string\", \"nullable\": true, \"metadata\": {}}, \n",
    "            {\"name\": \"quoteID\", \"type\": \"string\", \"nullable\": true, \"metadata\": {}}, \n",
    "            {\"name\": \"speaker\", \"type\": \"string\", \"nullable\": true, \"metadata\": {}}, \n",
    "            {\"name\": \"urls\", \"type\": {\"type\": \"array\", \"elementType\": \"string\", \"containsNull\": true}, \"nullable\": true, \"metadata\": {}}\n",
    "            ]\n",
    "    }'''))\n"
   ]
  },
  {
   "cell_type": "markdown",
   "id": "fd2d5a1c-5a01-436c-83b9-730d87eb7983",
   "metadata": {},
   "source": [
    "### Load the labels of QIDS"
   ]
  },
  {
   "cell_type": "code",
   "execution_count": 18,
   "id": "246010bd-acc4-4947-a075-5760a0683199",
   "metadata": {},
   "outputs": [],
   "source": [
    "labels = pd.read_csv(LABELS_PATH)\n",
    "labels = labels.set_index(\"QID\")"
   ]
  },
  {
   "cell_type": "markdown",
   "id": "e8b58d47-c09e-4b02-8c37-d8c6c55911ea",
   "metadata": {},
   "source": [
    "## Analysis of Speaker Attributes"
   ]
  },
  {
   "cell_type": "markdown",
   "id": "6b4089ce-4146-4c1e-bdf1-e0943edf9b86",
   "metadata": {},
   "source": [
    "We are given a dataset on all speakers whose quotes appear in the qutoebank data from 2015-2020. In the following, we do a general analysis of this dataset."
   ]
  },
  {
   "cell_type": "code",
   "execution_count": 19,
   "id": "2ee47482-0622-4b46-8888-6b6a3093ff73",
   "metadata": {},
   "outputs": [
    {
     "name": "stderr",
     "output_type": "stream",
     "text": [
      "                                                                                \r"
     ]
    },
    {
     "data": {
      "text/plain": [
       "'aliases, date_of_birth, nationality, gender, lastrevid, ethnic_group, US_congress_bio_ID, occupation, party, academic_degree, id, label, candidacy, type, religion'"
      ]
     },
     "execution_count": 19,
     "metadata": {},
     "output_type": "execute_result"
    }
   ],
   "source": [
    "spk_attr = spark.read.parquet(SPK_ATTR_PATH)\n",
    "\", \".join(spk_attr.columns)"
   ]
  },
  {
   "cell_type": "code",
   "execution_count": 20,
   "id": "765a9a8e-9e69-487d-9fd6-7757a8584e82",
   "metadata": {},
   "outputs": [
    {
     "name": "stderr",
     "output_type": "stream",
     "text": [
      "                                                                                \r"
     ]
    },
    {
     "data": {
      "text/plain": [
       "9055981"
      ]
     },
     "execution_count": 20,
     "metadata": {},
     "output_type": "execute_result"
    }
   ],
   "source": [
    "spk_attr.count()"
   ]
  },
  {
   "cell_type": "code",
   "execution_count": 26,
   "id": "99fa192a-194e-4070-9055-509f43f5e269",
   "metadata": {},
   "outputs": [
    {
     "name": "stderr",
     "output_type": "stream",
     "text": [
      "                                                                                \r"
     ]
    },
    {
     "data": {
      "text/html": [
       "<div>\n",
       "<style scoped>\n",
       "    .dataframe tbody tr th:only-of-type {\n",
       "        vertical-align: middle;\n",
       "    }\n",
       "\n",
       "    .dataframe tbody tr th {\n",
       "        vertical-align: top;\n",
       "    }\n",
       "\n",
       "    .dataframe thead th {\n",
       "        text-align: right;\n",
       "    }\n",
       "</style>\n",
       "<table border=\"1\" class=\"dataframe\">\n",
       "  <thead>\n",
       "    <tr style=\"text-align: right;\">\n",
       "      <th></th>\n",
       "      <th>non_null_count</th>\n",
       "    </tr>\n",
       "  </thead>\n",
       "  <tbody>\n",
       "    <tr>\n",
       "      <th>aliases</th>\n",
       "      <td>1203402</td>\n",
       "    </tr>\n",
       "    <tr>\n",
       "      <th>date_of_birth</th>\n",
       "      <td>5017333</td>\n",
       "    </tr>\n",
       "    <tr>\n",
       "      <th>nationality</th>\n",
       "      <td>3715852</td>\n",
       "    </tr>\n",
       "    <tr>\n",
       "      <th>gender</th>\n",
       "      <td>7105600</td>\n",
       "    </tr>\n",
       "    <tr>\n",
       "      <th>lastrevid</th>\n",
       "      <td>9055981</td>\n",
       "    </tr>\n",
       "    <tr>\n",
       "      <th>ethnic_group</th>\n",
       "      <td>130385</td>\n",
       "    </tr>\n",
       "    <tr>\n",
       "      <th>US_congress_bio_ID</th>\n",
       "      <td>12874</td>\n",
       "    </tr>\n",
       "    <tr>\n",
       "      <th>occupation</th>\n",
       "      <td>6373084</td>\n",
       "    </tr>\n",
       "    <tr>\n",
       "      <th>party</th>\n",
       "      <td>399176</td>\n",
       "    </tr>\n",
       "    <tr>\n",
       "      <th>academic_degree</th>\n",
       "      <td>99995</td>\n",
       "    </tr>\n",
       "    <tr>\n",
       "      <th>id</th>\n",
       "      <td>9055981</td>\n",
       "    </tr>\n",
       "    <tr>\n",
       "      <th>label</th>\n",
       "      <td>8543681</td>\n",
       "    </tr>\n",
       "    <tr>\n",
       "      <th>candidacy</th>\n",
       "      <td>65442</td>\n",
       "    </tr>\n",
       "    <tr>\n",
       "      <th>type</th>\n",
       "      <td>9055981</td>\n",
       "    </tr>\n",
       "    <tr>\n",
       "      <th>religion</th>\n",
       "      <td>196284</td>\n",
       "    </tr>\n",
       "    <tr>\n",
       "      <th>nationality_labels</th>\n",
       "      <td>3715852</td>\n",
       "    </tr>\n",
       "    <tr>\n",
       "      <th>gender_labels</th>\n",
       "      <td>7105600</td>\n",
       "    </tr>\n",
       "    <tr>\n",
       "      <th>ethnic_group_labels</th>\n",
       "      <td>130385</td>\n",
       "    </tr>\n",
       "    <tr>\n",
       "      <th>occupation_labels</th>\n",
       "      <td>6373084</td>\n",
       "    </tr>\n",
       "    <tr>\n",
       "      <th>party_labels</th>\n",
       "      <td>399176</td>\n",
       "    </tr>\n",
       "    <tr>\n",
       "      <th>academic_degree_labels</th>\n",
       "      <td>99995</td>\n",
       "    </tr>\n",
       "    <tr>\n",
       "      <th>candidacy_labels</th>\n",
       "      <td>65442</td>\n",
       "    </tr>\n",
       "    <tr>\n",
       "      <th>religion_labels</th>\n",
       "      <td>196284</td>\n",
       "    </tr>\n",
       "  </tbody>\n",
       "</table>\n",
       "</div>"
      ],
      "text/plain": [
       "                        non_null_count\n",
       "aliases                        1203402\n",
       "date_of_birth                  5017333\n",
       "nationality                    3715852\n",
       "gender                         7105600\n",
       "lastrevid                      9055981\n",
       "ethnic_group                    130385\n",
       "US_congress_bio_ID               12874\n",
       "occupation                     6373084\n",
       "party                           399176\n",
       "academic_degree                  99995\n",
       "id                             9055981\n",
       "label                          8543681\n",
       "candidacy                        65442\n",
       "type                           9055981\n",
       "religion                        196284\n",
       "nationality_labels             3715852\n",
       "gender_labels                  7105600\n",
       "ethnic_group_labels             130385\n",
       "occupation_labels              6373084\n",
       "party_labels                    399176\n",
       "academic_degree_labels           99995\n",
       "candidacy_labels                 65442\n",
       "religion_labels                 196284"
      ]
     },
     "execution_count": 26,
     "metadata": {},
     "output_type": "execute_result"
    }
   ],
   "source": [
    "spk_summary = pd.DataFrame( { 'non_null_count' : [ spk_attr.where(spk_attr[col].isNotNull()).count() for col in spk_attr.columns ] },\n",
    "                           index=spk_attr.columns )\n",
    "spk_summary"
   ]
  },
  {
   "cell_type": "markdown",
   "id": "04b6293d-67fe-4b43-b9d4-3d1d2b20bb82",
   "metadata": {},
   "source": [
    "We have speaker attributes provided for 9055981 many speakers, and following fields of data are provided:\n",
    "1. aliases\n",
    "2. date_of_birth\n",
    "3. nationality\n",
    "4. gender\n",
    "5. lastrevid\n",
    "6. ethnic_group\n",
    "7. US_congress_bio_ID\n",
    "8. occupation\n",
    "8. party\n",
    "9. academic_degree\n",
    "10. id\n",
    "11. label\n",
    "12. candidacy\n",
    "13. type\n",
    "14. religion\n",
    "\n",
    "For the fields, 'nationality', 'gender', 'ethnic_group', 'occupation', 'party', 'academic_degree', 'candidacy', 'religion', the provided data are in terms of the wiki-data identifiers. So we first extend the dataset by addinng new columns with the human readable labels, using the labels dataset.\n",
    "We save the new augmented data set in *parquet* format."
   ]
  },
  {
   "cell_type": "markdown",
   "id": "9ad212b6-1e07-4db9-8498-52252e2a69f2",
   "metadata": {},
   "source": [
    "### Extending speaker attributes with labels"
   ]
  },
  {
   "cell_type": "code",
   "execution_count": 25,
   "id": "c877324b-e674-40e3-a1d7-6725f6ae2ca7",
   "metadata": {},
   "outputs": [],
   "source": [
    "def qids_to_attr_labels(qids):\n",
    "    \"\"\"Returns the list of labels corresponding the each qid in the given list\"\"\"\n",
    "    if qids is None or len(qids) == 0:\n",
    "        return []\n",
    "    return list(map(lambda qid : labels.Label[qid] if qid in labels.index else qid, qids))\n",
    "\n",
    "def map_missing(iterator):\n",
    "    \"\"\"Applys qids_to_attr_labels to the data\"\"\"\n",
    "    for df in iterator:\n",
    "        for col in ['nationality', 'gender', 'ethnic_group', 'occupation', 'party', 'academic_degree', 'candidacy', 'religion']:\n",
    "            df[col + '_labels'] = df[col].apply(qids_to_attrib_labels)\n",
    "        yield df\n",
    "        \n",
    "def expand_spk_attr_with_labels():\n",
    "    spk_attr = spark.read.parquet(SPK_ATTR_PATH)\n",
    "    for col in ['nationality', 'gender', 'ethnic_group', 'occupation', 'party', 'academic_degree', 'candidacy', 'religion']:\n",
    "        spk_attr = spk_attr.withColumn(col + '_labels', spk_attr[col])\n",
    "    spk_attr.write.parquet(SPK_ATTR_WITH_LABELS_PATH, 'overwrite')"
   ]
  },
  {
   "cell_type": "code",
   "execution_count": null,
   "id": "5e74974f-3207-41e9-97d0-829c372c1348",
   "metadata": {},
   "outputs": [],
   "source": [
    "# Uncomment for the first-run to save the processed files\n",
    "# expand_spk_attr_with_labels()"
   ]
  },
  {
   "cell_type": "markdown",
   "id": "76b2a9a3-03eb-4a11-8083-3e90d460993b",
   "metadata": {},
   "source": [
    "**Note:** From this point onward, we use the speaker attributes extended with human readable labels."
   ]
  },
  {
   "cell_type": "code",
   "execution_count": 23,
   "id": "95373cc7-de99-4b25-809d-d00751bc09b3",
   "metadata": {},
   "outputs": [],
   "source": [
    "# Load expanded data\n",
    "spk_attr = spark.read.parquet(SPK_ATTR_WITH_LABELS_PATH)"
   ]
  },
  {
   "cell_type": "markdown",
   "id": "5b3efd98-86bf-4c66-a241-0b339edc19e9",
   "metadata": {
    "tags": []
   },
   "source": [
    "## Analysis of Quotebank Data"
   ]
  },
  {
   "cell_type": "markdown",
   "id": "68a2386b-e2be-445a-91c2-7635b475fb29",
   "metadata": {},
   "source": [
    "Load the raw quotebank dataset. Note that so far, we only consider 2020 dataset, but the pipeline supports all data."
   ]
  },
  {
   "cell_type": "code",
   "execution_count": 33,
   "id": "a4d40245-357b-4cfd-addf-16bbbf5ca8ee",
   "metadata": {},
   "outputs": [],
   "source": [
    "# Join the data from all the years - to be used later\n",
    "qb_raw = spark.read.parquet(QB_DATA_PARQUET_PATH % YEARS[0])\n",
    "for y in YEARS[1:]:\n",
    "    qb_raw = qb_raw.union(spark.read_parquet(QB_DATA_PARQUET_PATH % y))"
   ]
  },
  {
   "cell_type": "code",
   "execution_count": 29,
   "id": "66543496-fad2-42ae-a220-33fca80f6cc2",
   "metadata": {},
   "outputs": [
    {
     "data": {
      "text/plain": [
       "'date, numOccurrences, phase, probas, qids, quotation, quoteID, speaker, urls'"
      ]
     },
     "execution_count": 29,
     "metadata": {},
     "output_type": "execute_result"
    }
   ],
   "source": [
    "\", \".join(qb_raw.columns)"
   ]
  },
  {
   "cell_type": "code",
   "execution_count": 34,
   "id": "b656c51e-6602-43b8-b8b2-99f3390da291",
   "metadata": {},
   "outputs": [
    {
     "data": {
      "text/plain": [
       "5244449"
      ]
     },
     "execution_count": 34,
     "metadata": {},
     "output_type": "execute_result"
    }
   ],
   "source": [
    "qb_raw.count()"
   ]
  },
  {
   "cell_type": "code",
   "execution_count": 30,
   "id": "cd980c0c-5fdf-4765-9b00-3a193b231000",
   "metadata": {},
   "outputs": [],
   "source": [
    "@f.udf(returnType=BooleanType())\n",
    "def is_not_none_or_not_empty(val):\n",
    "    if val is None:\n",
    "        return False\n",
    "    if val == \"None\":\n",
    "        return False\n",
    "    return True"
   ]
  },
  {
   "cell_type": "code",
   "execution_count": 31,
   "id": "7d87fce4-0890-4ffb-87dd-67da794e03a3",
   "metadata": {},
   "outputs": [
    {
     "name": "stderr",
     "output_type": "stream",
     "text": [
      "                                                                                \r"
     ]
    },
    {
     "data": {
      "text/html": [
       "<div>\n",
       "<style scoped>\n",
       "    .dataframe tbody tr th:only-of-type {\n",
       "        vertical-align: middle;\n",
       "    }\n",
       "\n",
       "    .dataframe tbody tr th {\n",
       "        vertical-align: top;\n",
       "    }\n",
       "\n",
       "    .dataframe thead th {\n",
       "        text-align: right;\n",
       "    }\n",
       "</style>\n",
       "<table border=\"1\" class=\"dataframe\">\n",
       "  <thead>\n",
       "    <tr style=\"text-align: right;\">\n",
       "      <th></th>\n",
       "      <th>non_null_count</th>\n",
       "    </tr>\n",
       "  </thead>\n",
       "  <tbody>\n",
       "    <tr>\n",
       "      <th>date</th>\n",
       "      <td>5244449</td>\n",
       "    </tr>\n",
       "    <tr>\n",
       "      <th>numOccurrences</th>\n",
       "      <td>5244449</td>\n",
       "    </tr>\n",
       "    <tr>\n",
       "      <th>phase</th>\n",
       "      <td>5244449</td>\n",
       "    </tr>\n",
       "    <tr>\n",
       "      <th>probas</th>\n",
       "      <td>5244449</td>\n",
       "    </tr>\n",
       "    <tr>\n",
       "      <th>qids</th>\n",
       "      <td>5244449</td>\n",
       "    </tr>\n",
       "    <tr>\n",
       "      <th>quotation</th>\n",
       "      <td>5244449</td>\n",
       "    </tr>\n",
       "    <tr>\n",
       "      <th>quoteID</th>\n",
       "      <td>5244449</td>\n",
       "    </tr>\n",
       "    <tr>\n",
       "      <th>speaker</th>\n",
       "      <td>3443605</td>\n",
       "    </tr>\n",
       "    <tr>\n",
       "      <th>urls</th>\n",
       "      <td>5244449</td>\n",
       "    </tr>\n",
       "  </tbody>\n",
       "</table>\n",
       "</div>"
      ],
      "text/plain": [
       "                non_null_count\n",
       "date                   5244449\n",
       "numOccurrences         5244449\n",
       "phase                  5244449\n",
       "probas                 5244449\n",
       "qids                   5244449\n",
       "quotation              5244449\n",
       "quoteID                5244449\n",
       "speaker                3443605\n",
       "urls                   5244449"
      ]
     },
     "execution_count": 31,
     "metadata": {},
     "output_type": "execute_result"
    }
   ],
   "source": [
    "qb_summary = pd.DataFrame( { 'non_null_count' : [ qb_raw.where(is_not_none_or_not_empty(col)).count() for col in qb_raw.columns ] }, index=qb_raw.columns )\n",
    "qb_summary"
   ]
  },
  {
   "cell_type": "markdown",
   "id": "2673a9a7-aed9-4a50-90d3-77f44db77d8e",
   "metadata": {},
   "source": [
    "The 2020 dataset contains 5244449 entries but only 3443605 entries are associated with a speaker. For our analysis, we augment the dataset with a few additional fields.\n",
    "\n",
    "1. profanity - this field contains the profanity score computed by the package 'alt-profanity-check'.\n",
    "2. speaker_qid - the qid of the speaker that has the highest probability value.\n",
    "3. speaker_label - label of the speaker who is associated with 'speaker_qid'.\n",
    "4. speaker_prob - the probability associated with 'speaker_qid'\n",
    "5. tld - top-level-domain names of extracted from the url list using 'tldextract' package.\n"
   ]
  },
  {
   "cell_type": "markdown",
   "id": "d93f3b9e-f2d7-405a-a681-05a80d1f89ae",
   "metadata": {},
   "source": [
    "### Extending quotebank dataset with additional columns"
   ]
  },
  {
   "cell_type": "code",
   "execution_count": 42,
   "id": "66632dbf-73d2-4a0c-b631-f887205f286a",
   "metadata": {},
   "outputs": [],
   "source": [
    "def url_list_to_tlds(urls):\n",
    "    if urls is None or len(urls) == 0:\n",
    "        return None\n",
    "    res = list(map(lambda url : tldextract.extract(url).domain, urls))\n",
    "    return res if res else None\n",
    "\n",
    "def fill_columns(iterator):\n",
    "    for df in iterator:\n",
    "        df['profanity']     = profanity_check.predict_prob(df.quotation)\n",
    "        df['speaker_qid']   = df['qids'].apply(lambda qids : None if (qids is None or len(qids) == 0) else qids[0])         \n",
    "        df['speaker_prob']  = df['probas'].apply(lambda p : 0.0 if (p is None or len(p) == 0) else float(p[0][1]))\n",
    "        df['tlds']          = df['urls'].apply(url_list_to_tlds)\n",
    "        yield df\n",
    "        \n",
    "def prepare_data(df):    \n",
    "    df = df.withColumn('speaker_qid', f.lit(None).cast(StringType()))\n",
    "    df = df.withColumn('speaker_prob', f.lit(None).cast(DoubleType()))\n",
    "    df = df.withColumn('tlds', df.urls)\n",
    "    df = df.withColumn('profanity', f.lit(None).cast(DoubleType()))\n",
    "    df = df.mapInPandas(fill_columns, schema = df.schema)\n",
    "    return df\n",
    "\n",
    "def prepare_data_for_years(years):\n",
    "    for y in years:\n",
    "        df = spark.read.json(QB_DATA_JSON_PATH % y, schema=QB_JSON_SCHEMA)\n",
    "        df = prepare_data(df)\n",
    "        df.write.parquet(QB_DATA_PROC_PATH % y, 'overwrite')\n",
    "        "
   ]
  },
  {
   "cell_type": "code",
   "execution_count": 44,
   "id": "e13980bb-034a-4e50-be6e-411961e724ea",
   "metadata": {},
   "outputs": [],
   "source": [
    "# Uncomment for the first-run to save the processed files\n",
    "# prepare_data_for_years(YEARS)"
   ]
  },
  {
   "cell_type": "markdown",
   "id": "27fd2ae7-46a8-4d60-8b9f-2f5091205edc",
   "metadata": {},
   "source": [
    "From this point onwards, we use the augmented dataset."
   ]
  },
  {
   "cell_type": "code",
   "execution_count": 45,
   "id": "1fa86606-3990-4aba-8c32-192e73a35567",
   "metadata": {},
   "outputs": [],
   "source": [
    "# Join the data from all the years - to be used later\n",
    "qb = spark.read.parquet(QB_DATA_PROC_PATH % YEARS[0])\n",
    "for y in YEARS[1:]:\n",
    "    qb = qb.union(spark.read_parquet(QB_DATA_PROC_PATH % y))"
   ]
  },
  {
   "cell_type": "code",
   "execution_count": 46,
   "id": "59846cd3-22d2-43d8-9670-429ac27fc0f9",
   "metadata": {},
   "outputs": [
    {
     "name": "stderr",
     "output_type": "stream",
     "text": [
      "                                                                                \r"
     ]
    },
    {
     "data": {
      "text/html": [
       "<div>\n",
       "<style scoped>\n",
       "    .dataframe tbody tr th:only-of-type {\n",
       "        vertical-align: middle;\n",
       "    }\n",
       "\n",
       "    .dataframe tbody tr th {\n",
       "        vertical-align: top;\n",
       "    }\n",
       "\n",
       "    .dataframe thead th {\n",
       "        text-align: right;\n",
       "    }\n",
       "</style>\n",
       "<table border=\"1\" class=\"dataframe\">\n",
       "  <thead>\n",
       "    <tr style=\"text-align: right;\">\n",
       "      <th></th>\n",
       "      <th>date</th>\n",
       "      <th>numOccurrences</th>\n",
       "      <th>phase</th>\n",
       "      <th>probas</th>\n",
       "      <th>qids</th>\n",
       "      <th>quotation</th>\n",
       "      <th>quoteID</th>\n",
       "      <th>speaker</th>\n",
       "      <th>urls</th>\n",
       "      <th>speaker_qid</th>\n",
       "      <th>speaker_prob</th>\n",
       "      <th>tlds</th>\n",
       "      <th>profanity</th>\n",
       "    </tr>\n",
       "  </thead>\n",
       "  <tbody>\n",
       "    <tr>\n",
       "      <th>0</th>\n",
       "      <td>2020-04-13 01:09:40</td>\n",
       "      <td>1</td>\n",
       "      <td>E</td>\n",
       "      <td>[[Luke Garbutt, 0.7367], [None, 0.2477], [Tyro...</td>\n",
       "      <td>[Q723614]</td>\n",
       "      <td>A lot of players put a letter together in supp...</td>\n",
       "      <td>2020-04-13-000923</td>\n",
       "      <td>Luke Garbutt</td>\n",
       "      <td>[http://www.twtd.co.uk/ipswich-town-news/38158...</td>\n",
       "      <td>Q723614</td>\n",
       "      <td>0.7367</td>\n",
       "      <td>[twtd]</td>\n",
       "      <td>0.005782</td>\n",
       "    </tr>\n",
       "    <tr>\n",
       "      <th>1</th>\n",
       "      <td>2020-01-17 10:00:28</td>\n",
       "      <td>8</td>\n",
       "      <td>E</td>\n",
       "      <td>[[Bill de Blasio, 0.9639], [None, 0.0361]]</td>\n",
       "      <td>[Q4911497]</td>\n",
       "      <td>a luxury item that the vast majority of us wou...</td>\n",
       "      <td>2020-01-17-001641</td>\n",
       "      <td>Bill de Blasio</td>\n",
       "      <td>[https://www.nytimes.com/2020/01/17/nyregion/f...</td>\n",
       "      <td>Q4911497</td>\n",
       "      <td>0.9639</td>\n",
       "      <td>[nytimes, wral, pulse, businesstimes, powerlin...</td>\n",
       "      <td>0.062704</td>\n",
       "    </tr>\n",
       "    <tr>\n",
       "      <th>2</th>\n",
       "      <td>2020-03-31 06:20:04</td>\n",
       "      <td>2</td>\n",
       "      <td>E</td>\n",
       "      <td>[[Luka Jovic, 0.7114], [Kai Havertz, 0.195], [...</td>\n",
       "      <td>[Q16979983]</td>\n",
       "      <td>A magical player who makes the impossible, pos...</td>\n",
       "      <td>2020-03-31-001082</td>\n",
       "      <td>Luka Jovic</td>\n",
       "      <td>[https://www.dailystar.co.uk/sport/football/li...</td>\n",
       "      <td>Q16979983</td>\n",
       "      <td>0.7114</td>\n",
       "      <td>[dailystar, ibtimes]</td>\n",
       "      <td>0.006878</td>\n",
       "    </tr>\n",
       "    <tr>\n",
       "      <th>3</th>\n",
       "      <td>2020-02-10 09:28:00</td>\n",
       "      <td>1</td>\n",
       "      <td>E</td>\n",
       "      <td>[[None, 0.9589], [Charlotte Edwards, 0.0411]]</td>\n",
       "      <td>[]</td>\n",
       "      <td>A national broadsheet correctly reported that ...</td>\n",
       "      <td>2020-02-10-001684</td>\n",
       "      <td>None</td>\n",
       "      <td>[https://www.contractoruk.com/news/0014430hmrc...</td>\n",
       "      <td>None</td>\n",
       "      <td>0.9589</td>\n",
       "      <td>[contractoruk]</td>\n",
       "      <td>0.039021</td>\n",
       "    </tr>\n",
       "    <tr>\n",
       "      <th>4</th>\n",
       "      <td>2020-02-17 18:31:05</td>\n",
       "      <td>1</td>\n",
       "      <td>E</td>\n",
       "      <td>[[None, 0.545], [Paul Cox, 0.455]]</td>\n",
       "      <td>[]</td>\n",
       "      <td>A new date for the game has been agreed for Tu...</td>\n",
       "      <td>2020-02-17-001293</td>\n",
       "      <td>None</td>\n",
       "      <td>[http://www.northantstelegraph.co.uk/sport/foo...</td>\n",
       "      <td>None</td>\n",
       "      <td>0.5450</td>\n",
       "      <td>[northantstelegraph]</td>\n",
       "      <td>0.063222</td>\n",
       "    </tr>\n",
       "  </tbody>\n",
       "</table>\n",
       "</div>"
      ],
      "text/plain": [
       "                  date  numOccurrences phase  \\\n",
       "0  2020-04-13 01:09:40               1     E   \n",
       "1  2020-01-17 10:00:28               8     E   \n",
       "2  2020-03-31 06:20:04               2     E   \n",
       "3  2020-02-10 09:28:00               1     E   \n",
       "4  2020-02-17 18:31:05               1     E   \n",
       "\n",
       "                                              probas         qids  \\\n",
       "0  [[Luke Garbutt, 0.7367], [None, 0.2477], [Tyro...    [Q723614]   \n",
       "1         [[Bill de Blasio, 0.9639], [None, 0.0361]]   [Q4911497]   \n",
       "2  [[Luka Jovic, 0.7114], [Kai Havertz, 0.195], [...  [Q16979983]   \n",
       "3      [[None, 0.9589], [Charlotte Edwards, 0.0411]]           []   \n",
       "4                 [[None, 0.545], [Paul Cox, 0.455]]           []   \n",
       "\n",
       "                                           quotation            quoteID  \\\n",
       "0  A lot of players put a letter together in supp...  2020-04-13-000923   \n",
       "1  a luxury item that the vast majority of us wou...  2020-01-17-001641   \n",
       "2  A magical player who makes the impossible, pos...  2020-03-31-001082   \n",
       "3  A national broadsheet correctly reported that ...  2020-02-10-001684   \n",
       "4  A new date for the game has been agreed for Tu...  2020-02-17-001293   \n",
       "\n",
       "          speaker                                               urls  \\\n",
       "0    Luke Garbutt  [http://www.twtd.co.uk/ipswich-town-news/38158...   \n",
       "1  Bill de Blasio  [https://www.nytimes.com/2020/01/17/nyregion/f...   \n",
       "2      Luka Jovic  [https://www.dailystar.co.uk/sport/football/li...   \n",
       "3            None  [https://www.contractoruk.com/news/0014430hmrc...   \n",
       "4            None  [http://www.northantstelegraph.co.uk/sport/foo...   \n",
       "\n",
       "  speaker_qid  speaker_prob  \\\n",
       "0     Q723614        0.7367   \n",
       "1    Q4911497        0.9639   \n",
       "2   Q16979983        0.7114   \n",
       "3        None        0.9589   \n",
       "4        None        0.5450   \n",
       "\n",
       "                                                tlds  profanity  \n",
       "0                                             [twtd]   0.005782  \n",
       "1  [nytimes, wral, pulse, businesstimes, powerlin...   0.062704  \n",
       "2                               [dailystar, ibtimes]   0.006878  \n",
       "3                                     [contractoruk]   0.039021  \n",
       "4                               [northantstelegraph]   0.063222  "
      ]
     },
     "execution_count": 46,
     "metadata": {},
     "output_type": "execute_result"
    }
   ],
   "source": [
    "qb.limit(10).toPandas().head()"
   ]
  },
  {
   "cell_type": "code",
   "execution_count": null,
   "id": "96f18980-826f-4411-8f23-2acab353e3c4",
   "metadata": {},
   "outputs": [],
   "source": [
    "qb = qb.select(\"quoteID\", \"date\", \"numOccurrences\", \"quotation\", \"speaker\", \"speaker_qid\", \"speaker_prob\", \"urls\", \"tlds\", \"profanity\")"
   ]
  },
  {
   "cell_type": "markdown",
   "id": "4764f653-2803-4689-8490-1a7198ad72bc",
   "metadata": {},
   "source": [
    "## Data Exploration and Visualization"
   ]
  },
  {
   "cell_type": "markdown",
   "id": "c164be2f-595b-4a71-8a0a-d40ea68dccea",
   "metadata": {
    "tags": []
   },
   "source": [
    "### Exploring Quotes"
   ]
  },
  {
   "cell_type": "markdown",
   "id": "52ff6d07-620f-49a7-a193-1b5e6f59b404",
   "metadata": {},
   "source": [
    "#### Quotation length distribution"
   ]
  },
  {
   "cell_type": "code",
   "execution_count": 65,
   "id": "a7f77359-00a5-4d31-8a16-bfec3a104e6d",
   "metadata": {},
   "outputs": [
    {
     "name": "stderr",
     "output_type": "stream",
     "text": [
      "                                                                                \r"
     ]
    }
   ],
   "source": [
    "df = qb.withColumn(\"quote_length\", f.length(\"quotation\")).select(\"quote_length\", \"numOccurrences\").toPandas()"
   ]
  },
  {
   "cell_type": "code",
   "execution_count": 66,
   "id": "87441b7e-3767-4c38-8b7f-2f952c2f8a82",
   "metadata": {
    "tags": []
   },
   "outputs": [
    {
     "data": {
      "image/png": "[encoded data removed]",
      "text/plain": [
       "<Figure size 1440x144 with 1 Axes>"
      ]
     },
     "metadata": {
      "needs_background": "light"
     },
     "output_type": "display_data"
    }
   ],
   "source": [
    "_ = df[\"quote_length\"].plot(kind='box', figsize = [20, 2], vert=False) \n",
    "_ = plt.xlabel('Quotation length')"
   ]
  },
  {
   "cell_type": "code",
   "execution_count": 67,
   "id": "3717441f-cf66-44da-82c3-69ea5236fe9c",
   "metadata": {},
   "outputs": [
    {
     "data": {
      "image/png": "[encoded data removed]",
      "text/plain": [
       "<Figure size 1440x432 with 1 Axes>"
      ]
     },
     "metadata": {
      "needs_background": "light"
     },
     "output_type": "display_data"
    }
   ],
   "source": [
    "_ = df[\"quote_length\"].plot(kind='hist', bins=50, figsize = [20, 6])\n",
    "_ = plt.xlabel('Quotation length')"
   ]
  },
  {
   "cell_type": "markdown",
   "id": "3d74715b-14f8-4bdb-b049-3d881ad5a104",
   "metadata": {},
   "source": [
    "#### Occurrences distribution"
   ]
  },
  {
   "cell_type": "code",
   "execution_count": 68,
   "id": "a2652ded-1dde-41cc-82c1-00d24918c3e7",
   "metadata": {},
   "outputs": [
    {
     "data": {
      "image/png": "[encoded data removed]",
      "text/plain": [
       "<Figure size 1440x216 with 1 Axes>"
      ]
     },
     "metadata": {
      "needs_background": "light"
     },
     "output_type": "display_data"
    }
   ],
   "source": [
    "_ = df['numOccurrences'].plot(kind='box', figsize = [20, 3], vert=False)"
   ]
  },
  {
   "cell_type": "code",
   "execution_count": 85,
   "id": "b4f7e174-6a1b-4774-80de-55d2814a1347",
   "metadata": {},
   "outputs": [
    {
     "name": "stderr",
     "output_type": "stream",
     "text": [
      "[Stage 150:==================================================>     (9 + 1) / 10]\r"
     ]
    },
    {
     "name": "stdout",
     "output_type": "stream",
     "text": [
      "-RECORD 0--------------------------------------------------------------------------------------------------------------\n",
      " date           | 2020-02-28 14:08:52                                                                                  \n",
      " numOccurrences | 9210                                                                                                 \n",
      " phase          | E                                                                                                    \n",
      " probas         | [[None, 0.6861], [Mike Holmes, 0.3066], [Hideki Kamiya, 0.0065], [Sam Bishop, 8.0E-4]]               \n",
      " qids           | []                                                                                                   \n",
      " quotation      | something we talk about a lot                                                                        \n",
      " quoteID        | 2020-02-28-057818                                                                                    \n",
      " speaker        | None                                                                                                 \n",
      " urls           | [http://www.gamereactor.eu/?system=switch&sid=dd39141ee3db3e8e1308331b80210195, http://www.gamere... \n",
      " speaker_qid    | null                                                                                                 \n",
      " speaker_prob   | 0.6861                                                                                               \n",
      " tlds           | [gamereactor, gamereactor, gamereactor, gamereactor, gamereactor, gamereactor, gamereactor, gamer... \n",
      " profanity      | 0.019433930697652195                                                                                 \n",
      "\n"
     ]
    },
    {
     "name": "stderr",
     "output_type": "stream",
     "text": [
      "                                                                                \r"
     ]
    }
   ],
   "source": [
    "# Most occuring quote\n",
    "qb.where(qb.numOccurrences == df['numOccurrences'].max()).show(n = 10, vertical=True, truncate=100)"
   ]
  },
  {
   "cell_type": "code",
   "execution_count": 90,
   "id": "749b4836-69ba-43f9-b337-b1423486ddb0",
   "metadata": {},
   "outputs": [
    {
     "data": {
      "image/png": "[encoded data removed]",
      "text/plain": [
       "<Figure size 1080x432 with 1 Axes>"
      ]
     },
     "metadata": {
      "needs_background": "light"
     },
     "output_type": "display_data"
    }
   ],
   "source": [
    "# Visualize plot between quote length and occurrences \n",
    "_ = df.plot(kind='scatter', x='numOccurrences', y='quote_length', figsize = [20, 6])"
   ]
  },
  {
   "cell_type": "markdown",
   "id": "bf5e2136-08e7-4e72-bcbc-3d28a7823996",
   "metadata": {},
   "source": [
    "Observation: shorter quotes tend to be more cited."
   ]
  },
  {
   "cell_type": "markdown",
   "id": "7d1e287b-e604-4981-a8d7-6051c914bfaa",
   "metadata": {},
   "source": [
    "### Exploring speakers\n",
    "\n",
    "#### Speaker frequency"
   ]
  },
  {
   "cell_type": "code",
   "execution_count": 95,
   "id": "e22a9f3f-9159-407c-86c5-113f802ff525",
   "metadata": {},
   "outputs": [
    {
     "name": "stderr",
     "output_type": "stream",
     "text": [
      "                                                                                \r"
     ]
    },
    {
     "data": {
      "text/html": [
       "<div>\n",
       "<style scoped>\n",
       "    .dataframe tbody tr th:only-of-type {\n",
       "        vertical-align: middle;\n",
       "    }\n",
       "\n",
       "    .dataframe tbody tr th {\n",
       "        vertical-align: top;\n",
       "    }\n",
       "\n",
       "    .dataframe thead th {\n",
       "        text-align: right;\n",
       "    }\n",
       "</style>\n",
       "<table border=\"1\" class=\"dataframe\">\n",
       "  <thead>\n",
       "    <tr style=\"text-align: right;\">\n",
       "      <th></th>\n",
       "      <th>speaker_qid</th>\n",
       "      <th>count</th>\n",
       "    </tr>\n",
       "  </thead>\n",
       "  <tbody>\n",
       "    <tr>\n",
       "      <th>0</th>\n",
       "      <td>None</td>\n",
       "      <td>1800844</td>\n",
       "    </tr>\n",
       "    <tr>\n",
       "      <th>1</th>\n",
       "      <td>Q22686</td>\n",
       "      <td>48544</td>\n",
       "    </tr>\n",
       "    <tr>\n",
       "      <th>2</th>\n",
       "      <td>Q359442</td>\n",
       "      <td>13304</td>\n",
       "    </tr>\n",
       "    <tr>\n",
       "      <th>3</th>\n",
       "      <td>Q6279</td>\n",
       "      <td>12937</td>\n",
       "    </tr>\n",
       "    <tr>\n",
       "      <th>4</th>\n",
       "      <td>Q11673</td>\n",
       "      <td>11133</td>\n",
       "    </tr>\n",
       "    <tr>\n",
       "      <th>5</th>\n",
       "      <td>Q1058</td>\n",
       "      <td>8239</td>\n",
       "    </tr>\n",
       "    <tr>\n",
       "      <th>6</th>\n",
       "      <td>Q434706</td>\n",
       "      <td>7672</td>\n",
       "    </tr>\n",
       "    <tr>\n",
       "      <th>7</th>\n",
       "      <td>Q180589</td>\n",
       "      <td>7044</td>\n",
       "    </tr>\n",
       "    <tr>\n",
       "      <th>8</th>\n",
       "      <td>Q573246</td>\n",
       "      <td>6843</td>\n",
       "    </tr>\n",
       "    <tr>\n",
       "      <th>9</th>\n",
       "      <td>Q1286476</td>\n",
       "      <td>6734</td>\n",
       "    </tr>\n",
       "    <tr>\n",
       "      <th>10</th>\n",
       "      <td>Q7173106</td>\n",
       "      <td>6111</td>\n",
       "    </tr>\n",
       "    <tr>\n",
       "      <th>11</th>\n",
       "      <td>Q607</td>\n",
       "      <td>6041</td>\n",
       "    </tr>\n",
       "    <tr>\n",
       "      <th>12</th>\n",
       "      <td>Q473239</td>\n",
       "      <td>6000</td>\n",
       "    </tr>\n",
       "    <tr>\n",
       "      <th>13</th>\n",
       "      <td>Q170581</td>\n",
       "      <td>5656</td>\n",
       "    </tr>\n",
       "    <tr>\n",
       "      <th>14</th>\n",
       "      <td>Q16196017</td>\n",
       "      <td>4949</td>\n",
       "    </tr>\n",
       "  </tbody>\n",
       "</table>\n",
       "</div>"
      ],
      "text/plain": [
       "   speaker_qid    count\n",
       "0         None  1800844\n",
       "1       Q22686    48544\n",
       "2      Q359442    13304\n",
       "3        Q6279    12937\n",
       "4       Q11673    11133\n",
       "5        Q1058     8239\n",
       "6      Q434706     7672\n",
       "7      Q180589     7044\n",
       "8      Q573246     6843\n",
       "9     Q1286476     6734\n",
       "10    Q7173106     6111\n",
       "11        Q607     6041\n",
       "12     Q473239     6000\n",
       "13     Q170581     5656\n",
       "14   Q16196017     4949"
      ]
     },
     "execution_count": 95,
     "metadata": {},
     "output_type": "execute_result"
    }
   ],
   "source": [
    "speaker_freq = qb.groupby(\"speaker_qid\").count().sort(\"count\", ascending=False).toPandas()\n",
    "speaker_freq.head(15)"
   ]
  },
  {
   "cell_type": "code",
   "execution_count": 96,
   "id": "9977f435-7b47-4dea-9780-26a70fb773c0",
   "metadata": {},
   "outputs": [
    {
     "name": "stderr",
     "output_type": "stream",
     "text": [
      "                                                                                \r"
     ]
    },
    {
     "data": {
      "text/html": [
       "<div>\n",
       "<style scoped>\n",
       "    .dataframe tbody tr th:only-of-type {\n",
       "        vertical-align: middle;\n",
       "    }\n",
       "\n",
       "    .dataframe tbody tr th {\n",
       "        vertical-align: top;\n",
       "    }\n",
       "\n",
       "    .dataframe thead th {\n",
       "        text-align: right;\n",
       "    }\n",
       "</style>\n",
       "<table border=\"1\" class=\"dataframe\">\n",
       "  <thead>\n",
       "    <tr style=\"text-align: right;\">\n",
       "      <th></th>\n",
       "      <th>speaker</th>\n",
       "      <th>count</th>\n",
       "    </tr>\n",
       "  </thead>\n",
       "  <tbody>\n",
       "    <tr>\n",
       "      <th>0</th>\n",
       "      <td>None</td>\n",
       "      <td>1800844</td>\n",
       "    </tr>\n",
       "    <tr>\n",
       "      <th>1</th>\n",
       "      <td>President Donald Trump</td>\n",
       "      <td>28023</td>\n",
       "    </tr>\n",
       "    <tr>\n",
       "      <th>2</th>\n",
       "      <td>Bernie Sanders</td>\n",
       "      <td>13189</td>\n",
       "    </tr>\n",
       "    <tr>\n",
       "      <th>3</th>\n",
       "      <td>Joe Biden</td>\n",
       "      <td>12817</td>\n",
       "    </tr>\n",
       "    <tr>\n",
       "      <th>4</th>\n",
       "      <td>President Trump</td>\n",
       "      <td>12415</td>\n",
       "    </tr>\n",
       "    <tr>\n",
       "      <th>5</th>\n",
       "      <td>Andrew Cuomo</td>\n",
       "      <td>11088</td>\n",
       "    </tr>\n",
       "    <tr>\n",
       "      <th>6</th>\n",
       "      <td>Narendra Modi</td>\n",
       "      <td>8239</td>\n",
       "    </tr>\n",
       "    <tr>\n",
       "      <th>7</th>\n",
       "      <td>Elizabeth Warren</td>\n",
       "      <td>7647</td>\n",
       "    </tr>\n",
       "    <tr>\n",
       "      <th>8</th>\n",
       "      <td>Donald Trump</td>\n",
       "      <td>7104</td>\n",
       "    </tr>\n",
       "    <tr>\n",
       "      <th>9</th>\n",
       "      <td>Boris Johnson</td>\n",
       "      <td>6952</td>\n",
       "    </tr>\n",
       "    <tr>\n",
       "      <th>10</th>\n",
       "      <td>Scott Morrison</td>\n",
       "      <td>6601</td>\n",
       "    </tr>\n",
       "    <tr>\n",
       "      <th>11</th>\n",
       "      <td>Anthony Fauci</td>\n",
       "      <td>6508</td>\n",
       "    </tr>\n",
       "    <tr>\n",
       "      <th>12</th>\n",
       "      <td>Pete Buttigieg</td>\n",
       "      <td>6078</td>\n",
       "    </tr>\n",
       "    <tr>\n",
       "      <th>13</th>\n",
       "      <td>Mike Pompeo</td>\n",
       "      <td>5988</td>\n",
       "    </tr>\n",
       "    <tr>\n",
       "      <th>14</th>\n",
       "      <td>Nancy Pelosi</td>\n",
       "      <td>5632</td>\n",
       "    </tr>\n",
       "  </tbody>\n",
       "</table>\n",
       "</div>"
      ],
      "text/plain": [
       "                   speaker    count\n",
       "0                     None  1800844\n",
       "1   President Donald Trump    28023\n",
       "2           Bernie Sanders    13189\n",
       "3                Joe Biden    12817\n",
       "4          President Trump    12415\n",
       "5             Andrew Cuomo    11088\n",
       "6            Narendra Modi     8239\n",
       "7         Elizabeth Warren     7647\n",
       "8             Donald Trump     7104\n",
       "9            Boris Johnson     6952\n",
       "10          Scott Morrison     6601\n",
       "11           Anthony Fauci     6508\n",
       "12          Pete Buttigieg     6078\n",
       "13             Mike Pompeo     5988\n",
       "14            Nancy Pelosi     5632"
      ]
     },
     "execution_count": 96,
     "metadata": {},
     "output_type": "execute_result"
    }
   ],
   "source": [
    "speaker_freq = qb.groupby(\"speaker\").count().sort(\"count\", ascending=False).toPandas()\n",
    "speaker_freq.head(15)"
   ]
  },
  {
   "cell_type": "code",
   "execution_count": 97,
   "id": "5bc800e4-40c4-460a-b178-8846c72b9463",
   "metadata": {},
   "outputs": [
    {
     "data": {
      "text/html": [
       "<div>\n",
       "<style scoped>\n",
       "    .dataframe tbody tr th:only-of-type {\n",
       "        vertical-align: middle;\n",
       "    }\n",
       "\n",
       "    .dataframe tbody tr th {\n",
       "        vertical-align: top;\n",
       "    }\n",
       "\n",
       "    .dataframe thead th {\n",
       "        text-align: right;\n",
       "    }\n",
       "</style>\n",
       "<table border=\"1\" class=\"dataframe\">\n",
       "  <thead>\n",
       "    <tr style=\"text-align: right;\">\n",
       "      <th></th>\n",
       "      <th>count</th>\n",
       "    </tr>\n",
       "  </thead>\n",
       "  <tbody>\n",
       "    <tr>\n",
       "      <th>count</th>\n",
       "      <td>218414.000000</td>\n",
       "    </tr>\n",
       "    <tr>\n",
       "      <th>mean</th>\n",
       "      <td>15.766411</td>\n",
       "    </tr>\n",
       "    <tr>\n",
       "      <th>std</th>\n",
       "      <td>112.704624</td>\n",
       "    </tr>\n",
       "    <tr>\n",
       "      <th>min</th>\n",
       "      <td>1.000000</td>\n",
       "    </tr>\n",
       "    <tr>\n",
       "      <th>25%</th>\n",
       "      <td>2.000000</td>\n",
       "    </tr>\n",
       "    <tr>\n",
       "      <th>50%</th>\n",
       "      <td>4.000000</td>\n",
       "    </tr>\n",
       "    <tr>\n",
       "      <th>75%</th>\n",
       "      <td>11.000000</td>\n",
       "    </tr>\n",
       "    <tr>\n",
       "      <th>max</th>\n",
       "      <td>28023.000000</td>\n",
       "    </tr>\n",
       "  </tbody>\n",
       "</table>\n",
       "</div>"
      ],
      "text/plain": [
       "               count\n",
       "count  218414.000000\n",
       "mean       15.766411\n",
       "std       112.704624\n",
       "min         1.000000\n",
       "25%         2.000000\n",
       "50%         4.000000\n",
       "75%        11.000000\n",
       "max     28023.000000"
      ]
     },
     "execution_count": 97,
     "metadata": {},
     "output_type": "execute_result"
    }
   ],
   "source": [
    "speaker_freq[1:].describe() # without None"
   ]
  },
  {
   "cell_type": "code",
   "execution_count": 98,
   "id": "44b4e04b-4ae9-4654-9bf9-796b507c7b41",
   "metadata": {},
   "outputs": [
    {
     "data": {
      "image/png": "[encoded data removed]",
      "text/plain": [
       "<Figure size 1440x216 with 1 Axes>"
      ]
     },
     "metadata": {
      "needs_background": "light"
     },
     "output_type": "display_data"
    }
   ],
   "source": [
    "_ = speaker_freq[1:].plot(kind='box', figsize = [20, 3], vert=False) # without None"
   ]
  },
  {
   "cell_type": "markdown",
   "id": "95c23394-d3f2-4eff-92ad-8430aa54d7b5",
   "metadata": {},
   "source": [
    "#### Quote distributions by speaker demographics"
   ]
  },
  {
   "cell_type": "code",
   "execution_count": 100,
   "id": "c9584a8f-505f-4a35-b50c-00c2fa05a7e4",
   "metadata": {},
   "outputs": [],
   "source": [
    "def demographic_stats(qb, colname):\n",
    "    stats = qb.where(qb.speaker_qid.isNotNull()) \\\n",
    "    .join(spk_attr.withColumnRenamed('id', 'speaker_qid'), on='speaker_qid') \\\n",
    "    .withColumn(colname, f.explode(colname + '_labels')) \\\n",
    "    .groupby(colname) \\\n",
    "    .agg(f.count('quotation').alias('count')) \\\n",
    "    .sort('count', ascending=False).limit(50).toPandas()\n",
    "    stats[colname + '_label'] = stats[colname].apply(lambda qid : labels.Label[qid])\n",
    "    return stats\n",
    "\n",
    "def plot_info(title, xlabel, ylabel):\n",
    "    plt.title(title)\n",
    "    plt.xlabel(xlabel)\n",
    "    plt.ylabel(ylabel)\n",
    "    \n",
    "def plot_demographic(stats, colname):\n",
    "    plt.figure(figsize=(15,8))\n",
    "    ax = sns.barplot(y=colname + '_label', x='count', data=stats)\n",
    "    plot_info('Number of quotes by ' + colname, 'Number of quotes', colname.title())\n",
    "    return ax"
   ]
  },
  {
   "cell_type": "markdown",
   "id": "c8c52597-1933-40c1-9aa3-186a7d9961a8",
   "metadata": {},
   "source": [
    "We observe the following:\n",
    " - A significant number of quotes doesn't have an attributed speaker\n",
    " - The same speaker can have multiple differing labels (e.g. Donald Trump and President Donald Trump)\n",
    " - It is better to identify speakers by their QIDs"
   ]
  },
  {
   "cell_type": "markdown",
   "id": "613b1347-25d3-46ae-9aea-43a18cfa9be1",
   "metadata": {},
   "source": [
    "#### By occupation"
   ]
  },
  {
   "cell_type": "code",
   "execution_count": 101,
   "id": "fb309fc5-62d2-467c-af94-09c0b5e4ccce",
   "metadata": {},
   "outputs": [
    {
     "name": "stderr",
     "output_type": "stream",
     "text": [
      "                                                                                \r"
     ]
    }
   ],
   "source": [
    "occupation_stats = demographic_stats(qb, 'occupation')"
   ]
  },
  {
   "cell_type": "code",
   "execution_count": 102,
   "id": "8429c1b4-675f-4220-bbc3-99cfe427a929",
   "metadata": {},
   "outputs": [
    {
     "data": {
      "image/png": "[encoded data removed]",
      "text/plain": [
       "<Figure size 1080x576 with 1 Axes>"
      ]
     },
     "metadata": {
      "needs_background": "light"
     },
     "output_type": "display_data"
    }
   ],
   "source": [
    "ax = plot_demographic(occupation_stats, 'occupation')"
   ]
  },
  {
   "cell_type": "markdown",
   "id": "f8e30de8-5036-4649-abe4-dac2d0fcba7e",
   "metadata": {},
   "source": [
    "#### By gender"
   ]
  },
  {
   "cell_type": "code",
   "execution_count": 104,
   "id": "684c240c-9d84-4152-a1ba-438902a8b7b2",
   "metadata": {},
   "outputs": [
    {
     "name": "stderr",
     "output_type": "stream",
     "text": [
      "                                                                                \r"
     ]
    }
   ],
   "source": [
    "stats = demographic_stats(qb, 'gender')"
   ]
  },
  {
   "cell_type": "code",
   "execution_count": 105,
   "id": "42a83174-989f-4e82-ba2d-88fc99913b30",
   "metadata": {},
   "outputs": [
    {
     "data": {
      "image/png": "[encoded data removed]",
      "text/plain": [
       "<Figure size 1080x576 with 1 Axes>"
      ]
     },
     "metadata": {
      "needs_background": "light"
     },
     "output_type": "display_data"
    }
   ],
   "source": [
    "ax = plot_demographic(stats, 'gender')\n",
    "ax.set_xscale('log')"
   ]
  },
  {
   "cell_type": "markdown",
   "id": "a66ed6e5-b021-4083-8293-afa2fddadd50",
   "metadata": {},
   "source": [
    "#### By nationality"
   ]
  },
  {
   "cell_type": "code",
   "execution_count": 107,
   "id": "e414eb68-e928-497a-adc9-3ba719bc547b",
   "metadata": {},
   "outputs": [
    {
     "name": "stderr",
     "output_type": "stream",
     "text": [
      "                                                                                \r"
     ]
    }
   ],
   "source": [
    "nationality_stats = demographic_stats(qb, 'nationality')"
   ]
  },
  {
   "cell_type": "code",
   "execution_count": 108,
   "id": "665efa4c-4890-43cd-9dc9-d6660f5923dc",
   "metadata": {},
   "outputs": [
    {
     "data": {
      "image/png": "[encoded data removed]",
      "text/plain": [
       "<Figure size 1080x576 with 1 Axes>"
      ]
     },
     "metadata": {
      "needs_background": "light"
     },
     "output_type": "display_data"
    }
   ],
   "source": [
    "ax = plot_demographic(nationality_stats, 'nationality')\n",
    "ax.set_xscale('log')"
   ]
  },
  {
   "cell_type": "markdown",
   "id": "c5d872e1-8dc6-4656-9cdf-68614e11885e",
   "metadata": {},
   "source": [
    "#### By ethnic group"
   ]
  },
  {
   "cell_type": "code",
   "execution_count": 109,
   "id": "690a6961-5a4f-4a73-83fe-7b77b0524163",
   "metadata": {},
   "outputs": [
    {
     "name": "stderr",
     "output_type": "stream",
     "text": [
      "                                                                                \r"
     ]
    }
   ],
   "source": [
    "ethnic_group_stats = demographic_stats(qb, 'ethnic_group')"
   ]
  },
  {
   "cell_type": "code",
   "execution_count": 110,
   "id": "fd4bd7de-3295-4ac1-aead-652e5b594536",
   "metadata": {},
   "outputs": [
    {
     "data": {
      "image/png": "[encoded data removed]",
      "text/plain": [
       "<Figure size 1080x576 with 1 Axes>"
      ]
     },
     "metadata": {
      "needs_background": "light"
     },
     "output_type": "display_data"
    }
   ],
   "source": [
    "ax = plot_demographic(ethnic_group_stats, 'ethnic_group')\n",
    "ax.set_xscale('log')"
   ]
  },
  {
   "cell_type": "markdown",
   "id": "6cbc8341-080e-4ca4-af0f-01a6d43d734c",
   "metadata": {},
   "source": [
    "#### By religion"
   ]
  },
  {
   "cell_type": "code",
   "execution_count": 111,
   "id": "d72249f6-f784-4821-96b2-854e23e0e474",
   "metadata": {},
   "outputs": [
    {
     "name": "stderr",
     "output_type": "stream",
     "text": [
      "                                                                                \r"
     ]
    }
   ],
   "source": [
    "religion_stats = demographic_stats(qb, 'religion')"
   ]
  },
  {
   "cell_type": "code",
   "execution_count": 112,
   "id": "799f9961-f6de-4360-9d9d-3d0f6fc9f84f",
   "metadata": {},
   "outputs": [
    {
     "data": {
      "image/png": "[encoded data removed]",
      "text/plain": [
       "<Figure size 1080x576 with 1 Axes>"
      ]
     },
     "metadata": {
      "needs_background": "light"
     },
     "output_type": "display_data"
    }
   ],
   "source": [
    "ax = plot_demographic(religion_stats, 'religion')"
   ]
  },
  {
   "cell_type": "markdown",
   "id": "182ef3a1-27de-4cec-a067-6fa00a16e328",
   "metadata": {},
   "source": [
    "#### By political party"
   ]
  },
  {
   "cell_type": "code",
   "execution_count": 114,
   "id": "1b2fc08d-ecce-4b3b-9580-e7c0114e6227",
   "metadata": {},
   "outputs": [
    {
     "name": "stderr",
     "output_type": "stream",
     "text": [
      "                                                                                \r"
     ]
    }
   ],
   "source": [
    "party_stats = demographic_stats(qb, 'party')"
   ]
  },
  {
   "cell_type": "code",
   "execution_count": 115,
   "id": "cb893e73-a84f-423c-bfee-a5b4a74c4850",
   "metadata": {},
   "outputs": [
    {
     "data": {
      "image/png": "[encoded data removed]",
      "text/plain": [
       "<Figure size 1080x576 with 1 Axes>"
      ]
     },
     "metadata": {
      "needs_background": "light"
     },
     "output_type": "display_data"
    }
   ],
   "source": [
    "ax = plot_demographic(party_stats, 'party')\n",
    "ax.set_xscale('log')"
   ]
  },
  {
   "cell_type": "markdown",
   "id": "2f1a7da8-bb66-4435-983e-c508c83aab4e",
   "metadata": {},
   "source": [
    "#### By academic degree"
   ]
  },
  {
   "cell_type": "code",
   "execution_count": 116,
   "id": "25fb7080-7eae-4418-8c1d-f2a1a09041a0",
   "metadata": {},
   "outputs": [
    {
     "name": "stderr",
     "output_type": "stream",
     "text": [
      "                                                                                \r"
     ]
    }
   ],
   "source": [
    "academic_degree_stats = demographic_stats(qb, 'academic_degree')"
   ]
  },
  {
   "cell_type": "code",
   "execution_count": 117,
   "id": "ee67ef4e-d57c-49c2-b6cd-cd2e4b03258b",
   "metadata": {},
   "outputs": [
    {
     "data": {
      "image/png": "[encoded data removed]",
      "text/plain": [
       "<Figure size 1080x576 with 1 Axes>"
      ]
     },
     "metadata": {
      "needs_background": "light"
     },
     "output_type": "display_data"
    }
   ],
   "source": [
    "ax = plot_demographic(academic_degree_stats, 'academic_degree')\n",
    "ax.set_xscale('log')"
   ]
  },
  {
   "cell_type": "markdown",
   "id": "bd46aa2d-721b-489d-88fa-45238b1a9379",
   "metadata": {},
   "source": [
    "#### By year of birth"
   ]
  },
  {
   "cell_type": "code",
   "execution_count": 159,
   "id": "26c4d9b5-7934-49b0-87e3-6e0c9e1a7fb7",
   "metadata": {},
   "outputs": [],
   "source": [
    "@f.udf(IntegerType())\n",
    "def get_year(dob_list):\n",
    "    return int(dob_list[0][0:5])"
   ]
  },
  {
   "cell_type": "code",
   "execution_count": 160,
   "id": "a1ed3144-e6e9-42b4-bb89-e413c6533b77",
   "metadata": {},
   "outputs": [],
   "source": [
    "qb_yob = qb.where(qb.speaker_qid.isNotNull()) \\\n",
    "    .join(spk_attr.withColumnRenamed('id', 'speaker_qid'), on='speaker_qid') \\\n",
    "    .where(spk_attr.date_of_birth.isNotNull()).withColumn(\"birth_year\", get_year('date_of_birth'))"
   ]
  },
  {
   "cell_type": "code",
   "execution_count": 161,
   "id": "243d8689-1576-47fe-af69-c608bce24d27",
   "metadata": {},
   "outputs": [
    {
     "name": "stderr",
     "output_type": "stream",
     "text": [
      "                                                                                \r"
     ]
    }
   ],
   "source": [
    "yob_stats = qb_yob.groupby('birth_year').count().sort('birth_year').toPandas()"
   ]
  },
  {
   "cell_type": "code",
   "execution_count": 162,
   "id": "3e8511fc-0aa2-41b1-856a-ae1620772d0a",
   "metadata": {},
   "outputs": [
    {
     "data": {
      "text/plain": [
       "<AxesSubplot:xlabel='birth_year'>"
      ]
     },
     "execution_count": 162,
     "metadata": {},
     "output_type": "execute_result"
    },
    {
     "data": {
      "image/png": "[encoded data removed]",
      "text/plain": [
       "<Figure size 432x288 with 1 Axes>"
      ]
     },
     "metadata": {
      "needs_background": "light"
     },
     "output_type": "display_data"
    }
   ],
   "source": [
    "yob_stats[yob_stats.birth_year > 1800].plot.line(x='birth_year', y='count')"
   ]
  },
  {
   "cell_type": "code",
   "execution_count": 163,
   "id": "a4a2c4d6-4ec6-406a-b330-9723401ab04b",
   "metadata": {},
   "outputs": [
    {
     "name": "stderr",
     "output_type": "stream",
     "text": [
      "                                                                                \r"
     ]
    }
   ],
   "source": [
    "top_before_1950 = qb.where(qb.speaker_qid.isNotNull()) \\\n",
    "    .join(spk_attr.withColumnRenamed('id', 'speaker_qid'), on='speaker_qid') \\\n",
    "    .where(spk_attr.date_of_birth.isNotNull()).withColumn(\"birth_year\", get_year('date_of_birth')) \\\n",
    "    .where(f.col('birth_year') < 1950) \\\n",
    "    .groupby('speaker').count().sort('count', ascending=False).toPandas()"
   ]
  },
  {
   "cell_type": "code",
   "execution_count": 165,
   "id": "2e7beb00-d898-49d5-8de1-7e333698032d",
   "metadata": {},
   "outputs": [
    {
     "data": {
      "text/html": [
       "<div>\n",
       "<style scoped>\n",
       "    .dataframe tbody tr th:only-of-type {\n",
       "        vertical-align: middle;\n",
       "    }\n",
       "\n",
       "    .dataframe tbody tr th {\n",
       "        vertical-align: top;\n",
       "    }\n",
       "\n",
       "    .dataframe thead th {\n",
       "        text-align: right;\n",
       "    }\n",
       "</style>\n",
       "<table border=\"1\" class=\"dataframe\">\n",
       "  <thead>\n",
       "    <tr style=\"text-align: right;\">\n",
       "      <th></th>\n",
       "      <th>speaker</th>\n",
       "      <th>count</th>\n",
       "    </tr>\n",
       "  </thead>\n",
       "  <tbody>\n",
       "    <tr>\n",
       "      <th>0</th>\n",
       "      <td>President Donald Trump</td>\n",
       "      <td>28023</td>\n",
       "    </tr>\n",
       "    <tr>\n",
       "      <th>1</th>\n",
       "      <td>Bernie Sanders</td>\n",
       "      <td>13189</td>\n",
       "    </tr>\n",
       "    <tr>\n",
       "      <th>2</th>\n",
       "      <td>Joe Biden</td>\n",
       "      <td>12817</td>\n",
       "    </tr>\n",
       "    <tr>\n",
       "      <th>3</th>\n",
       "      <td>President Trump</td>\n",
       "      <td>12415</td>\n",
       "    </tr>\n",
       "    <tr>\n",
       "      <th>4</th>\n",
       "      <td>Elizabeth Warren</td>\n",
       "      <td>7647</td>\n",
       "    </tr>\n",
       "    <tr>\n",
       "      <th>5</th>\n",
       "      <td>Donald Trump</td>\n",
       "      <td>7104</td>\n",
       "    </tr>\n",
       "    <tr>\n",
       "      <th>6</th>\n",
       "      <td>Anthony Fauci</td>\n",
       "      <td>6508</td>\n",
       "    </tr>\n",
       "    <tr>\n",
       "      <th>7</th>\n",
       "      <td>Nancy Pelosi</td>\n",
       "      <td>5632</td>\n",
       "    </tr>\n",
       "    <tr>\n",
       "      <th>8</th>\n",
       "      <td>Pope Francis</td>\n",
       "      <td>4776</td>\n",
       "    </tr>\n",
       "    <tr>\n",
       "      <th>9</th>\n",
       "      <td>Michael Bloomberg</td>\n",
       "      <td>3348</td>\n",
       "    </tr>\n",
       "    <tr>\n",
       "      <th>10</th>\n",
       "      <td>Mitch McConnell</td>\n",
       "      <td>3329</td>\n",
       "    </tr>\n",
       "    <tr>\n",
       "      <th>11</th>\n",
       "      <td>Benjamin Netanyahu</td>\n",
       "      <td>3044</td>\n",
       "    </tr>\n",
       "    <tr>\n",
       "      <th>12</th>\n",
       "      <td>Peter Weber</td>\n",
       "      <td>2606</td>\n",
       "    </tr>\n",
       "    <tr>\n",
       "      <th>13</th>\n",
       "      <td>Mike Bloomberg</td>\n",
       "      <td>2498</td>\n",
       "    </tr>\n",
       "    <tr>\n",
       "      <th>14</th>\n",
       "      <td>Rodrigo Duterte</td>\n",
       "      <td>2045</td>\n",
       "    </tr>\n",
       "    <tr>\n",
       "      <th>15</th>\n",
       "      <td>Mike DeWine</td>\n",
       "      <td>1779</td>\n",
       "    </tr>\n",
       "    <tr>\n",
       "      <th>16</th>\n",
       "      <td>Hillary Clinton</td>\n",
       "      <td>1773</td>\n",
       "    </tr>\n",
       "    <tr>\n",
       "      <th>17</th>\n",
       "      <td>Antonio Guterres</td>\n",
       "      <td>1747</td>\n",
       "    </tr>\n",
       "    <tr>\n",
       "      <th>18</th>\n",
       "      <td>Muhammadu Buhari</td>\n",
       "      <td>1631</td>\n",
       "    </tr>\n",
       "    <tr>\n",
       "      <th>19</th>\n",
       "      <td>Doug Ford</td>\n",
       "      <td>1531</td>\n",
       "    </tr>\n",
       "  </tbody>\n",
       "</table>\n",
       "</div>"
      ],
      "text/plain": [
       "                   speaker  count\n",
       "0   President Donald Trump  28023\n",
       "1           Bernie Sanders  13189\n",
       "2                Joe Biden  12817\n",
       "3          President Trump  12415\n",
       "4         Elizabeth Warren   7647\n",
       "5             Donald Trump   7104\n",
       "6            Anthony Fauci   6508\n",
       "7             Nancy Pelosi   5632\n",
       "8             Pope Francis   4776\n",
       "9        Michael Bloomberg   3348\n",
       "10         Mitch McConnell   3329\n",
       "11      Benjamin Netanyahu   3044\n",
       "12             Peter Weber   2606\n",
       "13          Mike Bloomberg   2498\n",
       "14         Rodrigo Duterte   2045\n",
       "15             Mike DeWine   1779\n",
       "16         Hillary Clinton   1773\n",
       "17        Antonio Guterres   1747\n",
       "18        Muhammadu Buhari   1631\n",
       "19               Doug Ford   1531"
      ]
     },
     "execution_count": 165,
     "metadata": {},
     "output_type": "execute_result"
    }
   ],
   "source": [
    "top_before_1950.head(20)"
   ]
  },
  {
   "cell_type": "code",
   "execution_count": 164,
   "id": "590d2e96-8ce6-4494-a42a-57644c9a44d3",
   "metadata": {},
   "outputs": [
    {
     "name": "stderr",
     "output_type": "stream",
     "text": [
      "                                                                                \r"
     ]
    }
   ],
   "source": [
    "top_after_1990 = qb.where(qb.speaker_qid.isNotNull()) \\\n",
    "    .join(spk_attr.withColumnRenamed('id', 'speaker_qid'), on='speaker_qid') \\\n",
    "    .where(spk_attr.date_of_birth.isNotNull()).withColumn(\"birth_year\", get_year('date_of_birth')) \\\n",
    "    .where(f.col('birth_year') > 1990) \\\n",
    "    .groupby('speaker').count().sort('count', ascending=False).toPandas()"
   ]
  },
  {
   "cell_type": "code",
   "execution_count": 167,
   "id": "68f9a362-b35b-47e7-ac76-c485530b1526",
   "metadata": {},
   "outputs": [
    {
     "data": {
      "text/html": [
       "<div>\n",
       "<style scoped>\n",
       "    .dataframe tbody tr th:only-of-type {\n",
       "        vertical-align: middle;\n",
       "    }\n",
       "\n",
       "    .dataframe tbody tr th {\n",
       "        vertical-align: top;\n",
       "    }\n",
       "\n",
       "    .dataframe thead th {\n",
       "        text-align: right;\n",
       "    }\n",
       "</style>\n",
       "<table border=\"1\" class=\"dataframe\">\n",
       "  <thead>\n",
       "    <tr style=\"text-align: right;\">\n",
       "      <th></th>\n",
       "      <th>speaker</th>\n",
       "      <th>count</th>\n",
       "    </tr>\n",
       "  </thead>\n",
       "  <tbody>\n",
       "    <tr>\n",
       "      <th>0</th>\n",
       "      <td>Justin Bieber</td>\n",
       "      <td>2010</td>\n",
       "    </tr>\n",
       "    <tr>\n",
       "      <th>1</th>\n",
       "      <td>Selena Gomez</td>\n",
       "      <td>1628</td>\n",
       "    </tr>\n",
       "    <tr>\n",
       "      <th>2</th>\n",
       "      <td>Billie Eilish</td>\n",
       "      <td>1603</td>\n",
       "    </tr>\n",
       "    <tr>\n",
       "      <th>3</th>\n",
       "      <td>Demi Lovato</td>\n",
       "      <td>1261</td>\n",
       "    </tr>\n",
       "    <tr>\n",
       "      <th>4</th>\n",
       "      <td>Kevin McCarthy</td>\n",
       "      <td>1139</td>\n",
       "    </tr>\n",
       "    <tr>\n",
       "      <th>5</th>\n",
       "      <td>Greta Thunberg</td>\n",
       "      <td>1117</td>\n",
       "    </tr>\n",
       "    <tr>\n",
       "      <th>6</th>\n",
       "      <td>Brendan Rodgers</td>\n",
       "      <td>1076</td>\n",
       "    </tr>\n",
       "    <tr>\n",
       "      <th>7</th>\n",
       "      <td>Kylie Jenner</td>\n",
       "      <td>1014</td>\n",
       "    </tr>\n",
       "    <tr>\n",
       "      <th>8</th>\n",
       "      <td>Nick Kyrgios</td>\n",
       "      <td>915</td>\n",
       "    </tr>\n",
       "    <tr>\n",
       "      <th>9</th>\n",
       "      <td>Cardi B</td>\n",
       "      <td>866</td>\n",
       "    </tr>\n",
       "    <tr>\n",
       "      <th>10</th>\n",
       "      <td>Jimmy Garoppolo</td>\n",
       "      <td>716</td>\n",
       "    </tr>\n",
       "    <tr>\n",
       "      <th>11</th>\n",
       "      <td>Sanjay Singh</td>\n",
       "      <td>708</td>\n",
       "    </tr>\n",
       "    <tr>\n",
       "      <th>12</th>\n",
       "      <td>Miley Cyrus</td>\n",
       "      <td>689</td>\n",
       "    </tr>\n",
       "    <tr>\n",
       "      <th>13</th>\n",
       "      <td>Harry Styles</td>\n",
       "      <td>653</td>\n",
       "    </tr>\n",
       "    <tr>\n",
       "      <th>14</th>\n",
       "      <td>Zion Williamson</td>\n",
       "      <td>643</td>\n",
       "    </tr>\n",
       "    <tr>\n",
       "      <th>15</th>\n",
       "      <td>Dominic Thiem</td>\n",
       "      <td>634</td>\n",
       "    </tr>\n",
       "    <tr>\n",
       "      <th>16</th>\n",
       "      <td>Sofia Kenin</td>\n",
       "      <td>603</td>\n",
       "    </tr>\n",
       "    <tr>\n",
       "      <th>17</th>\n",
       "      <td>Pete Davidson</td>\n",
       "      <td>592</td>\n",
       "    </tr>\n",
       "    <tr>\n",
       "      <th>18</th>\n",
       "      <td>Marcus Smart</td>\n",
       "      <td>548</td>\n",
       "    </tr>\n",
       "    <tr>\n",
       "      <th>19</th>\n",
       "      <td>Kyrie Irving</td>\n",
       "      <td>547</td>\n",
       "    </tr>\n",
       "  </tbody>\n",
       "</table>\n",
       "</div>"
      ],
      "text/plain": [
       "            speaker  count\n",
       "0     Justin Bieber   2010\n",
       "1      Selena Gomez   1628\n",
       "2     Billie Eilish   1603\n",
       "3       Demi Lovato   1261\n",
       "4    Kevin McCarthy   1139\n",
       "5    Greta Thunberg   1117\n",
       "6   Brendan Rodgers   1076\n",
       "7      Kylie Jenner   1014\n",
       "8      Nick Kyrgios    915\n",
       "9           Cardi B    866\n",
       "10  Jimmy Garoppolo    716\n",
       "11     Sanjay Singh    708\n",
       "12      Miley Cyrus    689\n",
       "13     Harry Styles    653\n",
       "14  Zion Williamson    643\n",
       "15    Dominic Thiem    634\n",
       "16      Sofia Kenin    603\n",
       "17    Pete Davidson    592\n",
       "18     Marcus Smart    548\n",
       "19     Kyrie Irving    547"
      ]
     },
     "execution_count": 167,
     "metadata": {},
     "output_type": "execute_result"
    }
   ],
   "source": [
    "top_after_1990.head(20)"
   ]
  },
  {
   "cell_type": "markdown",
   "id": "37bae7ac-bc43-408f-80c2-7f1cd1f81cae",
   "metadata": {
    "tags": []
   },
   "source": [
    "### Exploring Media Sources"
   ]
  },
  {
   "cell_type": "code",
   "execution_count": 128,
   "id": "ad1b42a2-7e07-478f-b4aa-618b8a244afe",
   "metadata": {},
   "outputs": [
    {
     "name": "stderr",
     "output_type": "stream",
     "text": [
      "[Stage 89:=====================================================>(302 + 1) / 303]\r"
     ]
    },
    {
     "name": "stdout",
     "output_type": "stream",
     "text": [
      "+---------------+------+\n",
      "|            tld| count|\n",
      "+---------------+------+\n",
      "|        einnews|267567|\n",
      "|            msn|241598|\n",
      "|        news965|127998|\n",
      "|           wokv|119616|\n",
      "|businessinsider|102126|\n",
      "|      breitbart| 98428|\n",
      "|washingtontimes| 81833|\n",
      "|       wsbradio| 77257|\n",
      "|     indiatimes| 75690|\n",
      "|      nbcsports| 72913|\n",
      "|        nytimes| 70478|\n",
      "|        foxnews| 66660|\n",
      "|         sfgate| 64866|\n",
      "|    gamereactor| 57670|\n",
      "|    independent| 56300|\n",
      "|        nbcnews| 55788|\n",
      "|            smh| 54683|\n",
      "|         newsok| 54674|\n",
      "|           krmg| 54602|\n",
      "|          stuff| 53077|\n",
      "+---------------+------+\n",
      "only showing top 20 rows\n",
      "\n"
     ]
    },
    {
     "name": "stderr",
     "output_type": "stream",
     "text": [
      "                                                                                \r"
     ]
    }
   ],
   "source": [
    "# Top 20 most frequent domains. The number may seem high, but this is becauase the same quote can appear in multiple articles.\n",
    "domain_counts = df.where(f.col('date').rlike('^2020'))\\\n",
    "                .select(f.explode(f.udf(url_list_to_tlds, ArrayType(StringType()))(f.col('urls'))).alias('tld'))\\\n",
    "                .groupby('tld')\\\n",
    "                .count()\\\n",
    "                .sort('count', ascending=False)\\\n",
    "                .show()"
   ]
  },
  {
   "cell_type": "markdown",
   "id": "2d3de5dd-e882-419c-93c9-465c99ea492b",
   "metadata": {},
   "source": [
    "### Exploring Profanity"
   ]
  },
  {
   "cell_type": "markdown",
   "id": "00f95660-6052-4395-9628-8d2fc2c241d3",
   "metadata": {},
   "source": [
    "#### Visualize profanity score distribution"
   ]
  },
  {
   "cell_type": "code",
   "execution_count": 120,
   "id": "2fdfcd73-913e-4b51-840d-d109d6a1ccd9",
   "metadata": {},
   "outputs": [
    {
     "name": "stderr",
     "output_type": "stream",
     "text": [
      "                                                                                \r"
     ]
    }
   ],
   "source": [
    "df_prof = qb.select(\"profanity\").toPandas()"
   ]
  },
  {
   "cell_type": "code",
   "execution_count": 125,
   "id": "cecd62c6-2b96-462e-9bcd-590f288001a3",
   "metadata": {},
   "outputs": [
    {
     "data": {
      "text/html": [
       "<div>\n",
       "<style scoped>\n",
       "    .dataframe tbody tr th:only-of-type {\n",
       "        vertical-align: middle;\n",
       "    }\n",
       "\n",
       "    .dataframe tbody tr th {\n",
       "        vertical-align: top;\n",
       "    }\n",
       "\n",
       "    .dataframe thead th {\n",
       "        text-align: right;\n",
       "    }\n",
       "</style>\n",
       "<table border=\"1\" class=\"dataframe\">\n",
       "  <thead>\n",
       "    <tr style=\"text-align: right;\">\n",
       "      <th></th>\n",
       "      <th>profanity</th>\n",
       "    </tr>\n",
       "  </thead>\n",
       "  <tbody>\n",
       "    <tr>\n",
       "      <th>count</th>\n",
       "      <td>5.244449e+06</td>\n",
       "    </tr>\n",
       "    <tr>\n",
       "      <th>mean</th>\n",
       "      <td>6.039174e-02</td>\n",
       "    </tr>\n",
       "    <tr>\n",
       "      <th>std</th>\n",
       "      <td>1.001643e-01</td>\n",
       "    </tr>\n",
       "    <tr>\n",
       "      <th>min</th>\n",
       "      <td>1.231420e-04</td>\n",
       "    </tr>\n",
       "    <tr>\n",
       "      <th>25%</th>\n",
       "      <td>1.436037e-02</td>\n",
       "    </tr>\n",
       "    <tr>\n",
       "      <th>50%</th>\n",
       "      <td>3.006656e-02</td>\n",
       "    </tr>\n",
       "    <tr>\n",
       "      <th>75%</th>\n",
       "      <td>6.345237e-02</td>\n",
       "    </tr>\n",
       "    <tr>\n",
       "      <th>max</th>\n",
       "      <td>1.000000e+00</td>\n",
       "    </tr>\n",
       "  </tbody>\n",
       "</table>\n",
       "</div>"
      ],
      "text/plain": [
       "          profanity\n",
       "count  5.244449e+06\n",
       "mean   6.039174e-02\n",
       "std    1.001643e-01\n",
       "min    1.231420e-04\n",
       "25%    1.436037e-02\n",
       "50%    3.006656e-02\n",
       "75%    6.345237e-02\n",
       "max    1.000000e+00"
      ]
     },
     "execution_count": 125,
     "metadata": {},
     "output_type": "execute_result"
    }
   ],
   "source": [
    "df_prof.describe()"
   ]
  },
  {
   "cell_type": "code",
   "execution_count": 126,
   "id": "ada6f511-b097-48d0-ac46-d788d217f719",
   "metadata": {},
   "outputs": [
    {
     "data": {
      "image/png": "[encoded data removed]",
      "text/plain": [
       "<Figure size 1440x432 with 1 Axes>"
      ]
     },
     "metadata": {
      "needs_background": "light"
     },
     "output_type": "display_data"
    }
   ],
   "source": [
    "_ = df_prof.plot(kind='hist', bins=100, figsize = [20, 6])\n",
    "_ = plt.xlabel('profanity score')"
   ]
  },
  {
   "cell_type": "code",
   "execution_count": 127,
   "id": "c7b58dd4-1580-4052-92ca-d6c5bfc54257",
   "metadata": {},
   "outputs": [
    {
     "data": {
      "image/png": "[encoded data removed]",
      "text/plain": [
       "<Figure size 1440x432 with 1 Axes>"
      ]
     },
     "metadata": {
      "needs_background": "light"
     },
     "output_type": "display_data"
    }
   ],
   "source": [
    "_ = df_prof.plot(kind='box', figsize=[20, 6], vert=False)"
   ]
  },
  {
   "cell_type": "markdown",
   "id": "ed4f8360-100e-4d9e-baae-44957c1ca045",
   "metadata": {},
   "source": [
    "We use a threshold of 0.7 to identify high profanity quotes. This value will be finalized later."
   ]
  },
  {
   "cell_type": "code",
   "execution_count": 128,
   "id": "e323fdc0-09d2-4956-be63-787d570b0ad1",
   "metadata": {},
   "outputs": [],
   "source": [
    "PROF_THRESHOLD = 0.7"
   ]
  },
  {
   "cell_type": "code",
   "execution_count": 130,
   "id": "0219a61b-c697-47d9-920b-adab7ff1f6fe",
   "metadata": {},
   "outputs": [
    {
     "name": "stderr",
     "output_type": "stream",
     "text": [
      "                                                                                \r"
     ]
    },
    {
     "data": {
      "text/html": [
       "<div>\n",
       "<style scoped>\n",
       "    .dataframe tbody tr th:only-of-type {\n",
       "        vertical-align: middle;\n",
       "    }\n",
       "\n",
       "    .dataframe tbody tr th {\n",
       "        vertical-align: top;\n",
       "    }\n",
       "\n",
       "    .dataframe thead th {\n",
       "        text-align: right;\n",
       "    }\n",
       "</style>\n",
       "<table border=\"1\" class=\"dataframe\">\n",
       "  <thead>\n",
       "    <tr style=\"text-align: right;\">\n",
       "      <th></th>\n",
       "      <th>date</th>\n",
       "      <th>numOccurrences</th>\n",
       "      <th>phase</th>\n",
       "      <th>probas</th>\n",
       "      <th>qids</th>\n",
       "      <th>quotation</th>\n",
       "      <th>quoteID</th>\n",
       "      <th>speaker</th>\n",
       "      <th>urls</th>\n",
       "      <th>speaker_qid</th>\n",
       "      <th>speaker_prob</th>\n",
       "      <th>tlds</th>\n",
       "      <th>profanity</th>\n",
       "    </tr>\n",
       "  </thead>\n",
       "  <tbody>\n",
       "    <tr>\n",
       "      <th>0</th>\n",
       "      <td>2020-03-02 15:02:27</td>\n",
       "      <td>2</td>\n",
       "      <td>E</td>\n",
       "      <td>[[John Oliver, 0.8773], [None, 0.107], [Mike P...</td>\n",
       "      <td>[Q1701249, Q1701254, Q21598301, Q22279481, Q47...</td>\n",
       "      <td>Don't be complacent, and don't be a f -- ing i...</td>\n",
       "      <td>2020-03-02-011684</td>\n",
       "      <td>John Oliver</td>\n",
       "      <td>[https://www.onenewspage.com/n/US/1zlqy6wejc/J...</td>\n",
       "      <td>Q1701249</td>\n",
       "      <td>0.8773</td>\n",
       "      <td>[onenewspage, thewrap]</td>\n",
       "      <td>0.999671</td>\n",
       "    </tr>\n",
       "    <tr>\n",
       "      <th>1</th>\n",
       "      <td>2020-02-04 11:19:14</td>\n",
       "      <td>1</td>\n",
       "      <td>E</td>\n",
       "      <td>[[None, 0.6552], [Justin Scott, 0.2545], [03 G...</td>\n",
       "      <td>[]</td>\n",
       "      <td>Fuck Cozy Boys II,</td>\n",
       "      <td>2020-02-04-021291</td>\n",
       "      <td>None</td>\n",
       "      <td>[https://www.highsnobiety.com/p/j-scott-asap-m...</td>\n",
       "      <td>None</td>\n",
       "      <td>0.6552</td>\n",
       "      <td>[highsnobiety]</td>\n",
       "      <td>0.999760</td>\n",
       "    </tr>\n",
       "    <tr>\n",
       "      <th>2</th>\n",
       "      <td>2020-02-14 19:00:19</td>\n",
       "      <td>1</td>\n",
       "      <td>E</td>\n",
       "      <td>[[John Zogby, 0.8239], [None, 0.1574], [Presid...</td>\n",
       "      <td>[Q6265340]</td>\n",
       "      <td>have expressed not even so much a problem with...</td>\n",
       "      <td>2020-02-14-023051</td>\n",
       "      <td>John Zogby</td>\n",
       "      <td>[https://www.washingtonexaminer.com/washington...</td>\n",
       "      <td>Q6265340</td>\n",
       "      <td>0.8239</td>\n",
       "      <td>[washingtonexaminer]</td>\n",
       "      <td>0.727978</td>\n",
       "    </tr>\n",
       "    <tr>\n",
       "      <th>3</th>\n",
       "      <td>2020-03-13 14:14:51</td>\n",
       "      <td>1</td>\n",
       "      <td>E</td>\n",
       "      <td>[[Kate Beckinsale, 0.9123], [None, 0.0877]]</td>\n",
       "      <td>[Q179414]</td>\n",
       "      <td>he started screaming `you stupid fucking C -- ...</td>\n",
       "      <td>2020-03-13-018338</td>\n",
       "      <td>Kate Beckinsale</td>\n",
       "      <td>[http://origin.thehollywoodgossip.com/2020/03/...</td>\n",
       "      <td>Q179414</td>\n",
       "      <td>0.9123</td>\n",
       "      <td>[thehollywoodgossip]</td>\n",
       "      <td>0.999828</td>\n",
       "    </tr>\n",
       "    <tr>\n",
       "      <th>4</th>\n",
       "      <td>2020-03-25 17:22:07</td>\n",
       "      <td>1</td>\n",
       "      <td>E</td>\n",
       "      <td>[[Dave Grohl, 0.6925], [None, 0.3075]]</td>\n",
       "      <td>[Q12006]</td>\n",
       "      <td>I look forward to sharing some of the more rid...</td>\n",
       "      <td>2020-03-25-026127</td>\n",
       "      <td>Dave Grohl</td>\n",
       "      <td>[https://myspace.com/article/2020/3/25/dave-gr...</td>\n",
       "      <td>Q12006</td>\n",
       "      <td>0.6925</td>\n",
       "      <td>[myspace]</td>\n",
       "      <td>0.980689</td>\n",
       "    </tr>\n",
       "  </tbody>\n",
       "</table>\n",
       "</div>"
      ],
      "text/plain": [
       "                  date  numOccurrences phase  \\\n",
       "0  2020-03-02 15:02:27               2     E   \n",
       "1  2020-02-04 11:19:14               1     E   \n",
       "2  2020-02-14 19:00:19               1     E   \n",
       "3  2020-03-13 14:14:51               1     E   \n",
       "4  2020-03-25 17:22:07               1     E   \n",
       "\n",
       "                                              probas  \\\n",
       "0  [[John Oliver, 0.8773], [None, 0.107], [Mike P...   \n",
       "1  [[None, 0.6552], [Justin Scott, 0.2545], [03 G...   \n",
       "2  [[John Zogby, 0.8239], [None, 0.1574], [Presid...   \n",
       "3        [[Kate Beckinsale, 0.9123], [None, 0.0877]]   \n",
       "4             [[Dave Grohl, 0.6925], [None, 0.3075]]   \n",
       "\n",
       "                                                qids  \\\n",
       "0  [Q1701249, Q1701254, Q21598301, Q22279481, Q47...   \n",
       "1                                                 []   \n",
       "2                                         [Q6265340]   \n",
       "3                                          [Q179414]   \n",
       "4                                           [Q12006]   \n",
       "\n",
       "                                           quotation            quoteID  \\\n",
       "0  Don't be complacent, and don't be a f -- ing i...  2020-03-02-011684   \n",
       "1                                 Fuck Cozy Boys II,  2020-02-04-021291   \n",
       "2  have expressed not even so much a problem with...  2020-02-14-023051   \n",
       "3  he started screaming `you stupid fucking C -- ...  2020-03-13-018338   \n",
       "4  I look forward to sharing some of the more rid...  2020-03-25-026127   \n",
       "\n",
       "           speaker                                               urls  \\\n",
       "0      John Oliver  [https://www.onenewspage.com/n/US/1zlqy6wejc/J...   \n",
       "1             None  [https://www.highsnobiety.com/p/j-scott-asap-m...   \n",
       "2       John Zogby  [https://www.washingtonexaminer.com/washington...   \n",
       "3  Kate Beckinsale  [http://origin.thehollywoodgossip.com/2020/03/...   \n",
       "4       Dave Grohl  [https://myspace.com/article/2020/3/25/dave-gr...   \n",
       "\n",
       "  speaker_qid  speaker_prob                    tlds  profanity  \n",
       "0    Q1701249        0.8773  [onenewspage, thewrap]   0.999671  \n",
       "1        None        0.6552          [highsnobiety]   0.999760  \n",
       "2    Q6265340        0.8239    [washingtonexaminer]   0.727978  \n",
       "3     Q179414        0.9123    [thehollywoodgossip]   0.999828  \n",
       "4      Q12006        0.6925               [myspace]   0.980689  "
      ]
     },
     "execution_count": 130,
     "metadata": {},
     "output_type": "execute_result"
    }
   ],
   "source": [
    "df_profane = qb.where(qb.profanity > PROF_THRESHOLD).toPandas()\n",
    "df_profane.head()"
   ]
  },
  {
   "cell_type": "code",
   "execution_count": 133,
   "id": "c1b09600-4454-4151-ad0a-976166e376ed",
   "metadata": {},
   "outputs": [
    {
     "data": {
      "image/png": "[encoded data removed]",
      "text/plain": [
       "<Figure size 1440x432 with 1 Axes>"
      ]
     },
     "metadata": {
      "needs_background": "light"
     },
     "output_type": "display_data"
    }
   ],
   "source": [
    "_ = df_profane['profanity'].plot(kind='hist', bins=100, figsize=[20, 6])\n",
    "_ = plt.xlabel('Profanity score')"
   ]
  },
  {
   "cell_type": "code",
   "execution_count": 134,
   "id": "422c94ce-0847-4255-8352-65e8e4169ce5",
   "metadata": {},
   "outputs": [
    {
     "data": {
      "text/plain": [
       "date                                            2020-04-06 00:00:00\n",
       "numOccurrences                                                  441\n",
       "phase                                                             E\n",
       "probas            [[Thomas Modly, 0.5532], [None, 0.3445], [Pres...\n",
       "qids                                                    [Q41598755]\n",
       "quotation                                  too naive or too stupid,\n",
       "quoteID                                           2020-04-06-053110\n",
       "speaker                                                Thomas Modly\n",
       "urls              [http://hpr2.org/post/navy-leader-calls-fired-...\n",
       "speaker_qid                                               Q41598755\n",
       "speaker_prob                                                 0.5532\n",
       "tlds              [hpr2, kob, kpbs, foxnews, seattletimes, nbclo...\n",
       "profanity                                                  0.960096\n",
       "Name: 3151, dtype: object"
      ]
     },
     "execution_count": 134,
     "metadata": {},
     "output_type": "execute_result"
    }
   ],
   "source": [
    "# Quote most common with highest profanity \n",
    "df_profane.iloc[df_profane['numOccurrences'].argmax()]"
   ]
  },
  {
   "cell_type": "code",
   "execution_count": 136,
   "id": "ab8b4dfc-73db-4b23-aa4b-400efb3efc26",
   "metadata": {
    "scrolled": true
   },
   "outputs": [
    {
     "data": {
      "text/plain": [
       "date                                            2020-01-27 18:40:00\n",
       "numOccurrences                                                    1\n",
       "phase                                                             E\n",
       "probas            [[None, 0.8483], [Matthew Keys, 0.1024], [Kobe...\n",
       "qids                                                             []\n",
       "quotation            Piece of fucking shit. Go fuck yourself. Cunt.\n",
       "quoteID                                           2020-01-27-058755\n",
       "speaker                                                        None\n",
       "urls              [https://www.vox.com/2020/1/27/21083682/kobe-b...\n",
       "speaker_qid                                                    None\n",
       "speaker_prob                                                 0.8483\n",
       "tlds                                                          [vox]\n",
       "profanity                                                       1.0\n",
       "Name: 29108, dtype: object"
      ]
     },
     "execution_count": 136,
     "metadata": {},
     "output_type": "execute_result"
    }
   ],
   "source": [
    "# Quote with highest profanity\n",
    "df_profane.loc[df_profane['profanity'].argmax()] # Highest profanity quote"
   ]
  },
  {
   "cell_type": "markdown",
   "id": "060f1d27-1fb2-4410-9bc7-04ab90af6e75",
   "metadata": {},
   "source": [
    "#### Most frequent words in high profanity quotations"
   ]
  },
  {
   "cell_type": "code",
   "execution_count": 197,
   "id": "3a5cc361-1166-40d6-9fdb-0dd61073f4d8",
   "metadata": {},
   "outputs": [],
   "source": [
    "words = df_profane.quotation.str.split(expand=True).stack()"
   ]
  },
  {
   "cell_type": "code",
   "execution_count": 200,
   "id": "22e347ef-0bdc-4e49-8c42-9d722da24a43",
   "metadata": {},
   "outputs": [],
   "source": [
    "stopword_set = set(stopwords.words())"
   ]
  },
  {
   "cell_type": "code",
   "execution_count": 201,
   "id": "5cd390c3-165c-45a3-accb-adb761074eb8",
   "metadata": {
    "tags": []
   },
   "outputs": [],
   "source": [
    "filtered_words = pd.Series(filter(lambda word: word.lower() not in stopword_set, words))"
   ]
  },
  {
   "cell_type": "code",
   "execution_count": 202,
   "id": "b20455d6-a579-44c1-99d8-7310686eaae0",
   "metadata": {},
   "outputs": [
    {
     "data": {
      "text/plain": [
       "I'm        3633\n",
       "like       3542\n",
       "get        2392\n",
       "--         2315\n",
       "going      2299\n",
       "f          2031\n",
       "fucking    1955\n",
       "people     1928\n",
       "got        1700\n",
       "know       1691\n",
       "*          1566\n",
       "shit       1527\n",
       "would      1374\n",
       "stupid     1365\n",
       "like,      1339\n",
       "[          1282\n",
       "go         1226\n",
       "kill       1187\n",
       "think      1181\n",
       "fuck       1135\n",
       "dtype: int64"
      ]
     },
     "execution_count": 202,
     "metadata": {},
     "output_type": "execute_result"
    }
   ],
   "source": [
    "filtered_words.value_counts().head(20)"
   ]
  },
  {
   "cell_type": "markdown",
   "id": "cce674da-3ba6-49a7-bb16-833639f95e0a",
   "metadata": {},
   "source": [
    "#### Speaker frequency in high profanity quotations"
   ]
  },
  {
   "cell_type": "code",
   "execution_count": 203,
   "id": "f1206fe6-9071-4ed7-95a1-ee24b07e75e8",
   "metadata": {},
   "outputs": [
    {
     "data": {
      "text/plain": [
       "None                      12195\n",
       "President Donald Trump      229\n",
       "President Trump             125\n",
       "Cardi B                     125\n",
       "Billie Eilish               124\n",
       "Bernie Sanders              120\n",
       "Pete Davidson               103\n",
       "Snoop Dogg                   88\n",
       "Boosie Badazz                83\n",
       "Piers Morgan                 82\n",
       "Megan Thee Stallion          76\n",
       "Donald Trump                 75\n",
       "Taylor Swift                 71\n",
       "Chrissy Teigen               70\n",
       "50 Cent                      69\n",
       "Name: speaker, dtype: int64"
      ]
     },
     "execution_count": 203,
     "metadata": {},
     "output_type": "execute_result"
    }
   ],
   "source": [
    "df_profane['speaker'].value_counts().head(15)"
   ]
  },
  {
   "cell_type": "code",
   "execution_count": 146,
   "id": "4c0199c7-b608-48f8-a77d-93fe8573ae43",
   "metadata": {},
   "outputs": [
    {
     "data": {
      "image/png": "[encoded data removed]",
      "text/plain": [
       "<Figure size 1080x432 with 1 Axes>"
      ]
     },
     "metadata": {
      "needs_background": "light"
     },
     "output_type": "display_data"
    }
   ],
   "source": [
    "df_profane['quote_len'] = df_profane['quotation'].apply(len)\n",
    "_ = df_profane.plot(kind='scatter', x='quote_len', y='profanity', figsize=[15, 6]) # No visible correlation"
   ]
  },
  {
   "cell_type": "code",
   "execution_count": 147,
   "id": "e4cf4cf0-6b8a-4c7d-83c5-51338b3fcb63",
   "metadata": {},
   "outputs": [
    {
     "data": {
      "image/png": "[encoded data removed]",
      "text/plain": [
       "<Figure size 1080x432 with 1 Axes>"
      ]
     },
     "metadata": {
      "needs_background": "light"
     },
     "output_type": "display_data"
    }
   ],
   "source": [
    "_ = df_profane.plot(kind='scatter', x='numOccurrences', y='profanity', figsize=[15, 6])"
   ]
  },
  {
   "cell_type": "markdown",
   "id": "ff835809-201b-4da8-9c77-137efb45a06d",
   "metadata": {},
   "source": [
    "#### Most profane speakers"
   ]
  },
  {
   "cell_type": "code",
   "execution_count": 153,
   "id": "3c1475b5-738f-4c8d-80ec-b7a3e87c819c",
   "metadata": {},
   "outputs": [
    {
     "name": "stderr",
     "output_type": "stream",
     "text": [
      "                                                                                \r"
     ]
    },
    {
     "data": {
      "text/html": [
       "<div>\n",
       "<style scoped>\n",
       "    .dataframe tbody tr th:only-of-type {\n",
       "        vertical-align: middle;\n",
       "    }\n",
       "\n",
       "    .dataframe tbody tr th {\n",
       "        vertical-align: top;\n",
       "    }\n",
       "\n",
       "    .dataframe thead th {\n",
       "        text-align: right;\n",
       "    }\n",
       "</style>\n",
       "<table border=\"1\" class=\"dataframe\">\n",
       "  <thead>\n",
       "    <tr style=\"text-align: right;\">\n",
       "      <th></th>\n",
       "      <th>speaker</th>\n",
       "      <th>avg_profanity</th>\n",
       "    </tr>\n",
       "  </thead>\n",
       "  <tbody>\n",
       "    <tr>\n",
       "      <th>0</th>\n",
       "      <td>Jan Peter</td>\n",
       "      <td>1.000000</td>\n",
       "    </tr>\n",
       "    <tr>\n",
       "      <th>1</th>\n",
       "      <td>Elisapee Sheutiapik</td>\n",
       "      <td>1.000000</td>\n",
       "    </tr>\n",
       "    <tr>\n",
       "      <th>2</th>\n",
       "      <td>JOE ROGAN</td>\n",
       "      <td>1.000000</td>\n",
       "    </tr>\n",
       "    <tr>\n",
       "      <th>3</th>\n",
       "      <td>Christian Winter</td>\n",
       "      <td>0.999995</td>\n",
       "    </tr>\n",
       "    <tr>\n",
       "      <th>4</th>\n",
       "      <td>Piotr Wiwczarek</td>\n",
       "      <td>0.999994</td>\n",
       "    </tr>\n",
       "    <tr>\n",
       "      <th>5</th>\n",
       "      <td>Richard Desmond</td>\n",
       "      <td>0.999990</td>\n",
       "    </tr>\n",
       "    <tr>\n",
       "      <th>6</th>\n",
       "      <td>Jamie Zawinski</td>\n",
       "      <td>0.999988</td>\n",
       "    </tr>\n",
       "    <tr>\n",
       "      <th>7</th>\n",
       "      <td>jay z</td>\n",
       "      <td>0.999975</td>\n",
       "    </tr>\n",
       "    <tr>\n",
       "      <th>8</th>\n",
       "      <td>Daniel Ehrenhaft</td>\n",
       "      <td>0.999971</td>\n",
       "    </tr>\n",
       "    <tr>\n",
       "      <th>9</th>\n",
       "      <td>Richard Pennington</td>\n",
       "      <td>0.999971</td>\n",
       "    </tr>\n",
       "  </tbody>\n",
       "</table>\n",
       "</div>"
      ],
      "text/plain": [
       "               speaker  avg_profanity\n",
       "0            Jan Peter       1.000000\n",
       "1  Elisapee Sheutiapik       1.000000\n",
       "2            JOE ROGAN       1.000000\n",
       "3     Christian Winter       0.999995\n",
       "4      Piotr Wiwczarek       0.999994\n",
       "5      Richard Desmond       0.999990\n",
       "6       Jamie Zawinski       0.999988\n",
       "7                jay z       0.999975\n",
       "8     Daniel Ehrenhaft       0.999971\n",
       "9   Richard Pennington       0.999971"
      ]
     },
     "execution_count": 153,
     "metadata": {},
     "output_type": "execute_result"
    }
   ],
   "source": [
    "qb.groupby('speaker').agg(f.avg('profanity').alias('avg_profanity')).sort('avg_profanity', ascending=False).toPandas().head(10)"
   ]
  },
  {
   "cell_type": "code",
   "execution_count": 155,
   "id": "47b86b1d-d03d-4e8c-bf89-60e31fc38171",
   "metadata": {},
   "outputs": [
    {
     "name": "stderr",
     "output_type": "stream",
     "text": [
      "                                                                                \r"
     ]
    }
   ],
   "source": [
    "trump_qid = \"Q22686\"\n",
    "df_trump = qb.where(qb.speaker_qid == trump_qid).toPandas()"
   ]
  },
  {
   "cell_type": "code",
   "execution_count": 157,
   "id": "8c31faa5-117c-4f24-8369-383e17ce88ae",
   "metadata": {},
   "outputs": [
    {
     "data": {
      "image/png": "[encoded data removed]",
      "text/plain": [
       "<Figure size 1440x216 with 1 Axes>"
      ]
     },
     "metadata": {
      "needs_background": "light"
     },
     "output_type": "display_data"
    }
   ],
   "source": [
    "_ = df_trump['profanity'].plot(kind='box', figsize=[20, 3], vert=False) # Trump profanity distribution"
   ]
  },
  {
   "cell_type": "markdown",
   "id": "f2358105-ccf0-4917-b4f3-3442baa59a4a",
   "metadata": {},
   "source": [
    "#### Profanity distribution by speaker demographics"
   ]
  },
  {
   "cell_type": "markdown",
   "id": "d27c5f69-7f8e-4edc-993f-1fb59ce28e18",
   "metadata": {},
   "source": [
    "#### Profanity by speaker occupations"
   ]
  },
  {
   "cell_type": "code",
   "execution_count": 189,
   "id": "269ba092-0a41-4999-8144-7671928e3b27",
   "metadata": {},
   "outputs": [],
   "source": [
    "def demographic_profanity(qb, colname, min_quotes):\n",
    "    df = prof_by_occupation = qb.where(qb.speaker_qid.isNotNull()) \\\n",
    "        .join(spk_attr.withColumnRenamed('id', 'speaker_qid'), on='speaker_qid') \\\n",
    "        .withColumn(colname, f.explode(colname + '_labels')) \\\n",
    "        .groupby(colname) \\\n",
    "        .agg(f.avg('profanity').alias('avg_profanity'), f.count('quotation').alias('count')) \\\n",
    "        .where(f.col('count') >= min_quotes) \\\n",
    "        .sort('avg_profanity', ascending=False).limit(10).toPandas()\n",
    "    df[colname + '_label'] = df[colname].apply(lambda qid: labels.Label[qid])\n",
    "    return df"
   ]
  },
  {
   "cell_type": "code",
   "execution_count": 190,
   "id": "1ca3dd22-c8e5-4b72-bfa1-19c5d447cde3",
   "metadata": {},
   "outputs": [
    {
     "name": "stderr",
     "output_type": "stream",
     "text": [
      "                                                                                \r"
     ]
    }
   ],
   "source": [
    "df_prof = demographic_profanity(qb, 'occupation', 1000)"
   ]
  },
  {
   "cell_type": "code",
   "execution_count": 193,
   "id": "7ca770c9-b2e6-42ba-b3a4-116d1afb88b2",
   "metadata": {},
   "outputs": [
    {
     "data": {
      "text/plain": [
       "<AxesSubplot:xlabel='occupation_label', ylabel='avg_profanity'>"
      ]
     },
     "execution_count": 193,
     "metadata": {},
     "output_type": "execute_result"
    },
    {
     "data": {
      "image/png": "[encoded data removed]",
      "text/plain": [
       "<Figure size 1440x576 with 1 Axes>"
      ]
     },
     "metadata": {
      "needs_background": "light"
     },
     "output_type": "display_data"
    }
   ],
   "source": [
    "plt.figure(figsize=(20,8))\n",
    "sns.barplot(x='occupation_label', y='avg_profanity', data=df_prof)"
   ]
  },
  {
   "cell_type": "markdown",
   "id": "09644778-1a4f-413b-9aee-4473eff663ec",
   "metadata": {},
   "source": [
    "#### Profanity by speaker gender"
   ]
  },
  {
   "cell_type": "code",
   "execution_count": 177,
   "id": "6c2e4a0d-51c5-4b89-a960-58b3176637f5",
   "metadata": {},
   "outputs": [],
   "source": [
    "qb_hp = qb.where(qb.profanity > PROF_THRESHOLD)"
   ]
  },
  {
   "cell_type": "code",
   "execution_count": 178,
   "id": "3f7d9b3b-17a7-4d12-9b4a-11a43de9c29f",
   "metadata": {},
   "outputs": [
    {
     "name": "stderr",
     "output_type": "stream",
     "text": [
      "                                                                                \r"
     ]
    }
   ],
   "source": [
    "all_quotes = qb.where(qb.speaker_qid.isNotNull()).count()\n",
    "hp_quotes = qb_hp.where(qb.speaker_qid.isNotNull()).count()"
   ]
  },
  {
   "cell_type": "code",
   "execution_count": 179,
   "id": "daa89c76-65c5-44bd-b352-876318e690fb",
   "metadata": {},
   "outputs": [
    {
     "name": "stderr",
     "output_type": "stream",
     "text": [
      "                                                                                \r"
     ]
    }
   ],
   "source": [
    "gender_stats_all = demographic_stats(qb, 'gender')\n",
    "gender_stats_hp = demographic_stats(qb_hp, 'gender')"
   ]
  },
  {
   "cell_type": "code",
   "execution_count": 180,
   "id": "9e312dd1-803a-4088-be4f-898a8cd011fd",
   "metadata": {},
   "outputs": [
    {
     "data": {
      "text/html": [
       "<div>\n",
       "<style scoped>\n",
       "    .dataframe tbody tr th:only-of-type {\n",
       "        vertical-align: middle;\n",
       "    }\n",
       "\n",
       "    .dataframe tbody tr th {\n",
       "        vertical-align: top;\n",
       "    }\n",
       "\n",
       "    .dataframe thead th {\n",
       "        text-align: right;\n",
       "    }\n",
       "</style>\n",
       "<table border=\"1\" class=\"dataframe\">\n",
       "  <thead>\n",
       "    <tr style=\"text-align: right;\">\n",
       "      <th></th>\n",
       "      <th>gender</th>\n",
       "      <th>count</th>\n",
       "      <th>gender_label</th>\n",
       "      <th>kind</th>\n",
       "      <th>fraction</th>\n",
       "    </tr>\n",
       "  </thead>\n",
       "  <tbody>\n",
       "    <tr>\n",
       "      <th>0</th>\n",
       "      <td>Q6581097</td>\n",
       "      <td>2726341</td>\n",
       "      <td>male</td>\n",
       "      <td>all</td>\n",
       "      <td>0.791711</td>\n",
       "    </tr>\n",
       "    <tr>\n",
       "      <th>1</th>\n",
       "      <td>Q6581072</td>\n",
       "      <td>648546</td>\n",
       "      <td>female</td>\n",
       "      <td>all</td>\n",
       "      <td>0.188333</td>\n",
       "    </tr>\n",
       "    <tr>\n",
       "      <th>0</th>\n",
       "      <td>Q6581097</td>\n",
       "      <td>13780</td>\n",
       "      <td>male</td>\n",
       "      <td>high_profanity</td>\n",
       "      <td>0.735954</td>\n",
       "    </tr>\n",
       "    <tr>\n",
       "      <th>1</th>\n",
       "      <td>Q6581072</td>\n",
       "      <td>4630</td>\n",
       "      <td>female</td>\n",
       "      <td>high_profanity</td>\n",
       "      <td>0.247276</td>\n",
       "    </tr>\n",
       "  </tbody>\n",
       "</table>\n",
       "</div>"
      ],
      "text/plain": [
       "     gender    count gender_label            kind  fraction\n",
       "0  Q6581097  2726341         male             all  0.791711\n",
       "1  Q6581072   648546       female             all  0.188333\n",
       "0  Q6581097    13780         male  high_profanity  0.735954\n",
       "1  Q6581072     4630       female  high_profanity  0.247276"
      ]
     },
     "execution_count": 180,
     "metadata": {},
     "output_type": "execute_result"
    }
   ],
   "source": [
    "gender_stats_all['kind'] = 'all'\n",
    "gender_stats_all['fraction'] = gender_stats_all['count'] / all_quotes\n",
    "gender_stats_hp['kind']='high_profanity'\n",
    "gender_stats_hp['fraction'] = gender_stats_hp['count'] / hp_quotes\n",
    "gender_stats_cat = pd.concat([gender_stats_all, gender_stats_hp])\n",
    "gender_stats_cat = gender_stats_cat[gender_stats_cat.fraction > 0.01]\n",
    "gender_stats_cat"
   ]
  },
  {
   "cell_type": "code",
   "execution_count": 182,
   "id": "cfb2a24f-3b3f-40ca-a695-ec42cb598833",
   "metadata": {},
   "outputs": [
    {
     "data": {
      "image/png": "[encoded data removed]",
      "text/plain": [
       "<Figure size 467.875x360 with 1 Axes>"
      ]
     },
     "metadata": {
      "needs_background": "light"
     },
     "output_type": "display_data"
    }
   ],
   "source": [
    "sns.catplot(x='gender_label', y='fraction', hue='kind', kind='bar', data=gender_stats_cat)\n",
    "plt.xlabel('Gender')\n",
    "plt.ylabel('Fraction of quotes');"
   ]
  },
  {
   "cell_type": "markdown",
   "id": "d014de4e-8c0f-41da-85d2-35867312f8cc",
   "metadata": {
    "tags": []
   },
   "source": [
    "#### Top news domains with high profanity quotes"
   ]
  },
  {
   "cell_type": "code",
   "execution_count": null,
   "id": "e02e0318-eaf1-4ef0-ae75-6cb681a08577",
   "metadata": {
    "tags": []
   },
   "outputs": [],
   "source": [
    "def profanity_by_news_outlet(df, min_quotes = 10000):\n",
    "    return df \\\n",
    "        .withColumn('tld', f.explode('tlds')) \\\n",
    "        .groupby('tld') \\\n",
    "        .agg(f.avg('profanity').alias('avg_profanity'), f.count('quotation').alias('count')) \\\n",
    "        .where(f.col('count') >= min_quotes) \\\n",
    "        .sort('avg_profanity', ascending=False)"
   ]
  },
  {
   "cell_type": "code",
   "execution_count": null,
   "id": "3e92daa6-f283-4e27-aaae-418c4d8dc38d",
   "metadata": {},
   "outputs": [
    {
     "name": "stderr",
     "output_type": "stream",
     "text": [
      "                                                                                \r"
     ]
    },
    {
     "data": {
      "text/html": [
       "<div>\n",
       "<style scoped>\n",
       "    .dataframe tbody tr th:only-of-type {\n",
       "        vertical-align: middle;\n",
       "    }\n",
       "\n",
       "    .dataframe tbody tr th {\n",
       "        vertical-align: top;\n",
       "    }\n",
       "\n",
       "    .dataframe thead th {\n",
       "        text-align: right;\n",
       "    }\n",
       "</style>\n",
       "<table border=\"1\" class=\"dataframe\">\n",
       "  <thead>\n",
       "    <tr style=\"text-align: right;\">\n",
       "      <th></th>\n",
       "      <th>tld</th>\n",
       "      <th>avg_profanity</th>\n",
       "      <th>count</th>\n",
       "    </tr>\n",
       "  </thead>\n",
       "  <tbody>\n",
       "    <tr>\n",
       "      <th>0</th>\n",
       "      <td>nme</td>\n",
       "      <td>0.123961</td>\n",
       "      <td>10657</td>\n",
       "    </tr>\n",
       "    <tr>\n",
       "      <th>1</th>\n",
       "      <td>thehollywoodgossip</td>\n",
       "      <td>0.101081</td>\n",
       "      <td>12271</td>\n",
       "    </tr>\n",
       "    <tr>\n",
       "      <th>2</th>\n",
       "      <td>inquisitr</td>\n",
       "      <td>0.093002</td>\n",
       "      <td>23046</td>\n",
       "    </tr>\n",
       "    <tr>\n",
       "      <th>3</th>\n",
       "      <td>eonline</td>\n",
       "      <td>0.088969</td>\n",
       "      <td>11800</td>\n",
       "    </tr>\n",
       "    <tr>\n",
       "      <th>4</th>\n",
       "      <td>thedailybeast</td>\n",
       "      <td>0.088715</td>\n",
       "      <td>13377</td>\n",
       "    </tr>\n",
       "    <tr>\n",
       "      <th>5</th>\n",
       "      <td>cheatsheet</td>\n",
       "      <td>0.088293</td>\n",
       "      <td>29177</td>\n",
       "    </tr>\n",
       "    <tr>\n",
       "      <th>6</th>\n",
       "      <td>etcanada</td>\n",
       "      <td>0.088131</td>\n",
       "      <td>10862</td>\n",
       "    </tr>\n",
       "    <tr>\n",
       "      <th>7</th>\n",
       "      <td>thesun</td>\n",
       "      <td>0.087975</td>\n",
       "      <td>35166</td>\n",
       "    </tr>\n",
       "    <tr>\n",
       "      <th>8</th>\n",
       "      <td>usmagazine</td>\n",
       "      <td>0.085605</td>\n",
       "      <td>13111</td>\n",
       "    </tr>\n",
       "    <tr>\n",
       "      <th>9</th>\n",
       "      <td>people</td>\n",
       "      <td>0.085066</td>\n",
       "      <td>26263</td>\n",
       "    </tr>\n",
       "    <tr>\n",
       "      <th>10</th>\n",
       "      <td>vice</td>\n",
       "      <td>0.083988</td>\n",
       "      <td>12531</td>\n",
       "    </tr>\n",
       "    <tr>\n",
       "      <th>11</th>\n",
       "      <td>femalefirst</td>\n",
       "      <td>0.083538</td>\n",
       "      <td>13719</td>\n",
       "    </tr>\n",
       "    <tr>\n",
       "      <th>12</th>\n",
       "      <td>wordpress</td>\n",
       "      <td>0.082511</td>\n",
       "      <td>21260</td>\n",
       "    </tr>\n",
       "    <tr>\n",
       "      <th>13</th>\n",
       "      <td>mirror</td>\n",
       "      <td>0.080327</td>\n",
       "      <td>46170</td>\n",
       "    </tr>\n",
       "    <tr>\n",
       "      <th>14</th>\n",
       "      <td>billboard</td>\n",
       "      <td>0.080222</td>\n",
       "      <td>15511</td>\n",
       "    </tr>\n",
       "    <tr>\n",
       "      <th>15</th>\n",
       "      <td>dailystar</td>\n",
       "      <td>0.080138</td>\n",
       "      <td>29499</td>\n",
       "    </tr>\n",
       "    <tr>\n",
       "      <th>16</th>\n",
       "      <td>irishmirror</td>\n",
       "      <td>0.079773</td>\n",
       "      <td>29566</td>\n",
       "    </tr>\n",
       "    <tr>\n",
       "      <th>17</th>\n",
       "      <td>hollywoodreporter</td>\n",
       "      <td>0.076386</td>\n",
       "      <td>11697</td>\n",
       "    </tr>\n",
       "    <tr>\n",
       "      <th>18</th>\n",
       "      <td>nypost</td>\n",
       "      <td>0.074969</td>\n",
       "      <td>16602</td>\n",
       "    </tr>\n",
       "    <tr>\n",
       "      <th>19</th>\n",
       "      <td>onenewspage</td>\n",
       "      <td>0.073895</td>\n",
       "      <td>13412</td>\n",
       "    </tr>\n",
       "  </tbody>\n",
       "</table>\n",
       "</div>"
      ],
      "text/plain": [
       "                   tld  avg_profanity  count\n",
       "0                  nme       0.123961  10657\n",
       "1   thehollywoodgossip       0.101081  12271\n",
       "2            inquisitr       0.093002  23046\n",
       "3              eonline       0.088969  11800\n",
       "4        thedailybeast       0.088715  13377\n",
       "5           cheatsheet       0.088293  29177\n",
       "6             etcanada       0.088131  10862\n",
       "7               thesun       0.087975  35166\n",
       "8           usmagazine       0.085605  13111\n",
       "9               people       0.085066  26263\n",
       "10                vice       0.083988  12531\n",
       "11         femalefirst       0.083538  13719\n",
       "12           wordpress       0.082511  21260\n",
       "13              mirror       0.080327  46170\n",
       "14           billboard       0.080222  15511\n",
       "15           dailystar       0.080138  29499\n",
       "16         irishmirror       0.079773  29566\n",
       "17   hollywoodreporter       0.076386  11697\n",
       "18              nypost       0.074969  16602\n",
       "19         onenewspage       0.073895  13412"
      ]
     },
     "execution_count": 172,
     "metadata": {},
     "output_type": "execute_result"
    }
   ],
   "source": [
    "profanity_by_news_outlet(qb, 10000).toPandas().head(20)"
   ]
  },
  {
   "cell_type": "markdown",
   "id": "4e726e59-f61a-49c0-8863-2231395c0480",
   "metadata": {},
   "source": [
    "## Temporal Analysis"
   ]
  },
  {
   "cell_type": "code",
   "execution_count": 64,
   "id": "fc7cda4c-ec6b-42dc-9e72-a8627cb35527",
   "metadata": {},
   "outputs": [],
   "source": [
    "# Extract the yyyy-mm part from the date\n",
    "@f.udf(StringType())\n",
    "def get_month(date_str):\n",
    "    return \"-\".join(date_str.split(\"-\")[:2])\n",
    "\n",
    "@f.udf(StringType())\n",
    "def get_date(date_str):\n",
    "    return \"-\".join(date_str.split(\"-\")[:3])\n",
    "\n",
    "def normalize(key, pdf):\n",
    "    return pd.DataFrame({\"key\": [ key[0] ], \"mean\" : [ pdf.profanity.mean() ], \"sem\" : [ pdf.profanity.sem() ]})\n",
    "\n",
    "def plot_distribution(df, title):\n",
    "    plt.figure(figsize=(6,8))\n",
    "    plt.ylim(0.99 * df['mean'].min(), 1.01 * df['mean'].max())\n",
    "    sns.barplot(x=df[\"key\"], y=df[\"mean\"], yerr=1.96*df[\"sem\"])\n",
    "    plt.xlabel(\"month\")\n",
    "    plt.ylabel(\"average profanity with 95% error bars\")\n",
    "    plt.title(title)\n",
    "    plt.show()"
   ]
  },
  {
   "cell_type": "markdown",
   "id": "a2519b47-849e-4d41-98aa-7e501ca4ec01",
   "metadata": {},
   "source": [
    "#### Moving average of profanities"
   ]
  },
  {
   "cell_type": "code",
   "execution_count": 49,
   "id": "f62d47aa-ae6b-4b04-a45f-94c3c67817bc",
   "metadata": {},
   "outputs": [
    {
     "name": "stderr",
     "output_type": "stream",
     "text": [
      "                                                                                \r"
     ]
    }
   ],
   "source": [
    "daily_avg = qb \\\n",
    "        .withColumn('date', get_date(f.col('quoteID'))) \\\n",
    "        .groupby('date') \\\n",
    "        .applyInPandas(normalize, schema=\"key string, mean double, sem double\") \\\n",
    "        .sort(\"key\") \\\n",
    "        .toPandas()"
   ]
  },
  {
   "cell_type": "code",
   "execution_count": 52,
   "id": "ae0b9132-7a27-467c-951f-657e1773ccba",
   "metadata": {},
   "outputs": [],
   "source": [
    "daily_avg = daily_avg.set_index('key')\n",
    "mavg = daily_avg.rolling(14).mean()"
   ]
  },
  {
   "cell_type": "code",
   "execution_count": 58,
   "id": "cabeeb35-91db-4328-bb17-243a156ddde1",
   "metadata": {},
   "outputs": [
    {
     "name": "stderr",
     "output_type": "stream",
     "text": [
      "/usr/local/anaconda3/envs/ada/lib/python3.8/site-packages/numpy/core/_asarray.py:171: UserWarning: Warning: converting a masked element to nan.\n",
      "  return array(a, dtype, copy=False, order=order, subok=True)\n"
     ]
    },
    {
     "data": {
      "text/plain": [
       "<AxesSubplot:xlabel='key'>"
      ]
     },
     "execution_count": 58,
     "metadata": {},
     "output_type": "execute_result"
    },
    {
     "data": {
      "image/png": "[encoded data removed]",
      "text/plain": [
       "<Figure size 576x432 with 1 Axes>"
      ]
     },
     "metadata": {
      "needs_background": "light"
     },
     "output_type": "display_data"
    }
   ],
   "source": [
    "plt.figure(figsize=(8, 6))\n",
    "mavg['mean'].plot.line(yerr=mavg['sem'])"
   ]
  },
  {
   "cell_type": "markdown",
   "id": "6d12f281-8e9e-4a2d-a9b5-70702e54e966",
   "metadata": {},
   "source": [
    "#### Monthly average profanity"
   ]
  },
  {
   "cell_type": "code",
   "execution_count": 67,
   "id": "bdc47802-d5ff-407a-8203-932ace6aff24",
   "metadata": {},
   "outputs": [
    {
     "name": "stderr",
     "output_type": "stream",
     "text": [
      "                                                                                \r"
     ]
    }
   ],
   "source": [
    "d1 = qb.where(qb.speaker_qid.isNotNull()) \\\n",
    "        .withColumn('date', get_month(f.col('quoteID'))) \\\n",
    "        .groupby('date') \\\n",
    "        .applyInPandas(normalize, schema=\"key string, mean double, sem double\") \\\n",
    "        .sort(\"key\") \\\n",
    "        .toPandas()"
   ]
  },
  {
   "cell_type": "code",
   "execution_count": 68,
   "id": "7a54ddfd-0cad-4359-8b02-1a79682d9194",
   "metadata": {},
   "outputs": [
    {
     "name": "stderr",
     "output_type": "stream",
     "text": [
      "                                                                                \r"
     ]
    }
   ],
   "source": [
    "d2 = qb.where(qb.speaker_qid.isNotNull()) \\\n",
    "        .withColumn('date', get_month(f.col('quoteID'))) \\\n",
    "        .where( (qb.speaker != \"President Donald Trump\") \\\n",
    "               & (qb.speaker != \"President Trump\") \\\n",
    "               & (qb.speaker != \"Donald Trump\") ) \\\n",
    "        .groupby(\"date\") \\\n",
    "        .applyInPandas(normalize, schema=\"key string, mean double, sem double\") \\\n",
    "        .sort(\"key\") \\\n",
    "        .toPandas()"
   ]
  },
  {
   "cell_type": "code",
   "execution_count": 69,
   "id": "c9e510f7-309f-4c74-b451-7c35ecb451dd",
   "metadata": {},
   "outputs": [
    {
     "data": {
      "image/png": "[encoded data removed]",
      "text/plain": [
       "<Figure size 432x576 with 1 Axes>"
      ]
     },
     "metadata": {
      "needs_background": "light"
     },
     "output_type": "display_data"
    },
    {
     "data": {
      "image/png": "[encoded data removed]",
      "text/plain": [
       "<Figure size 432x576 with 1 Axes>"
      ]
     },
     "metadata": {
      "needs_background": "light"
     },
     "output_type": "display_data"
    }
   ],
   "source": [
    "plot_distribution(d1, \"Monthly average profanity\")\n",
    "plot_distribution(d2, \"Monthly averate profanity excluding Trump\")"
   ]
  },
  {
   "cell_type": "markdown",
   "id": "1bf5f76a-de3c-4119-b7d4-67d592a939a9",
   "metadata": {},
   "source": [
    "#### Profanity with and without Donald Trump"
   ]
  },
  {
   "cell_type": "code",
   "execution_count": 70,
   "id": "f457ba52-6edf-4f1f-b111-a79bc829d890",
   "metadata": {},
   "outputs": [
    {
     "data": {
      "text/plain": [
       "(0.05621509567879076, 0.06116344827488733)"
      ]
     },
     "execution_count": 70,
     "metadata": {},
     "output_type": "execute_result"
    },
    {
     "data": {
      "image/png": "[encoded data removed]",
      "text/plain": [
       "<Figure size 469x360 with 1 Axes>"
      ]
     },
     "metadata": {
      "needs_background": "light"
     },
     "output_type": "display_data"
    }
   ],
   "source": [
    "d1['kind'] = 'With Trump'\n",
    "d2['kind'] = 'Without Trump'\n",
    "d = pd.concat([d1, d2])\n",
    "sns.catplot(x='key', y='mean', hue='kind', data=d, kind='bar', yerr=1.96 * d1['sem'])\n",
    "plt.ylim(0.99 * d['mean'].min(), 1.01 * d['mean'].max())"
   ]
  },
  {
   "cell_type": "markdown",
   "id": "44826195-2392-4884-977f-953a961b46ae",
   "metadata": {},
   "source": [
    "## Sentiment analysis with SparkNLP"
   ]
  },
  {
   "cell_type": "code",
   "execution_count": 8,
   "id": "9cd7852d-7830-4d9d-8e71-e2ad6c702dff",
   "metadata": {},
   "outputs": [
    {
     "name": "stdout",
     "output_type": "stream",
     "text": [
      "analyze_sentiment download started this may take some time.\n",
      "Approx size to download 4.9 MB\n",
      "[OK!]\n"
     ]
    }
   ],
   "source": [
    "# Loading the model\n",
    "pipeline = PretrainedPipeline('analyze_sentiment', lang='en')"
   ]
  },
  {
   "cell_type": "code",
   "execution_count": null,
   "id": "dcc17833-4c63-4e25-aa87-b3f46fe75ccb",
   "metadata": {},
   "outputs": [],
   "source": [
    "# Calculating sentiments of the quotes. We will select only the quoteID, sentiment, and classifier confidence so that the sentiments can be joined with other data.\n",
    "sentiment = pipeline.fullAnnotate(df.where(f.col('date').rlike('^2020')), column='quotation')\\\n",
    "                    .select('quoteID',\n",
    "                            f.col('sentiment.result').getItem(0).alias('sentiment'),\n",
    "                            f.col('sentiment.metadata').getItem(0).confidence.alias('confidence'))\n",
    "\n",
    "# Save sentiment sentiment scores for 2020 data so that they don't have to be recomputed\n",
    "sentiment.write.parquet('data/2020-sentiments.parquet')\n",
    "\n",
    "# It took ~43 minutes to calculate sentiments for the 2020 data. For the entire data it would then take ~16 hours, which is doable."
   ]
  },
  {
   "cell_type": "code",
   "execution_count": 68,
   "id": "13fdc7d7-e8a1-49d7-8824-718678e3d9df",
   "metadata": {},
   "outputs": [],
   "source": [
    "sentiment = spark.read.parquet('data/2020-sentiments.parquet')\n",
    "\n",
    "# Join the datasets\n",
    "df = df.join(sentiment, on='quoteID')"
   ]
  },
  {
   "cell_type": "code",
   "execution_count": null,
   "id": "09339d58-1926-4c97-935c-297af20ceca1",
   "metadata": {},
   "outputs": [],
   "source": [
    "# Overall sentiment distribution\n",
    "sentiment_counts = df.groupby('sentiment').count().toPandas()"
   ]
  },
  {
   "cell_type": "code",
   "execution_count": 64,
   "id": "43ccf093-1fa2-4249-8ded-86b217e6ca79",
   "metadata": {},
   "outputs": [
    {
     "data": {
      "text/plain": [
       "<AxesSubplot:title={'center':'Overall sentiment distribution'}, xlabel='sentiment', ylabel='count'>"
      ]
     },
     "execution_count": 64,
     "metadata": {},
     "output_type": "execute_result"
    },
    {
     "data": {
      "image/png": "[encoded data removed]",
      "text/plain": [
       "<Figure size 720x360 with 1 Axes>"
      ]
     },
     "metadata": {
      "needs_background": "light"
     },
     "output_type": "display_data"
    }
   ],
   "source": [
    "sentiment_counts.loc[sentiment_counts['sentiment'] == 'na', 'sentiment'] = 'neutral'\n",
    "sentiment_counts.plot.bar(x='sentiment', y='count', figsize=[10, 5], title='Overall sentiment distribution', ylabel='count')"
   ]
  },
  {
   "cell_type": "markdown",
   "id": "620116f3-a74f-4f93-9821-75e992247fbf",
   "metadata": {},
   "source": [
    "'na' sentiment actually corresponds to the situation where the classifier is confident neither in positive nor negative sentiment. Here we refer to it is neutral, but as it can be seen, this portion is rather small. Currently, by default, the classifier assigns 'na' label only when its confidence is zero (as it can be seen below) so the overall distribution may change if we decide to use some higher confidence threshold. "
   ]
  },
  {
   "cell_type": "code",
   "execution_count": 66,
   "id": "efce2f59-1e04-4f58-8be6-a81a7c6880f4",
   "metadata": {},
   "outputs": [
    {
     "name": "stderr",
     "output_type": "stream",
     "text": [
      "                                                                                \r"
     ]
    },
    {
     "name": "stdout",
     "output_type": "stream",
     "text": [
      "+---------+-----+\n",
      "|sentiment|count|\n",
      "+---------+-----+\n",
      "|       na| 3390|\n",
      "+---------+-----+\n",
      "\n"
     ]
    }
   ],
   "source": [
    "df.where((f.col('confidence') < 1e-6)).groupby('sentiment').count().show()"
   ]
  },
  {
   "cell_type": "code",
   "execution_count": 171,
   "id": "85fcd459-1814-4b16-ac00-e64700db80e7",
   "metadata": {},
   "outputs": [
    {
     "name": "stderr",
     "output_type": "stream",
     "text": [
      "                                                                                \r"
     ]
    },
    {
     "data": {
      "text/html": [
       "<div>\n",
       "<style scoped>\n",
       "    .dataframe tbody tr th:only-of-type {\n",
       "        vertical-align: middle;\n",
       "    }\n",
       "\n",
       "    .dataframe tbody tr th {\n",
       "        vertical-align: top;\n",
       "    }\n",
       "\n",
       "    .dataframe thead th {\n",
       "        text-align: right;\n",
       "    }\n",
       "</style>\n",
       "<table border=\"1\" class=\"dataframe\">\n",
       "  <thead>\n",
       "    <tr style=\"text-align: right;\">\n",
       "      <th></th>\n",
       "      <th>speaker</th>\n",
       "      <th>sentiment</th>\n",
       "      <th>count</th>\n",
       "    </tr>\n",
       "  </thead>\n",
       "  <tbody>\n",
       "    <tr>\n",
       "      <th>0</th>\n",
       "      <td>Veng Sakhon</td>\n",
       "      <td>negative</td>\n",
       "      <td>7</td>\n",
       "    </tr>\n",
       "    <tr>\n",
       "      <th>1</th>\n",
       "      <td>Amarinder Singh</td>\n",
       "      <td>negative</td>\n",
       "      <td>395</td>\n",
       "    </tr>\n",
       "    <tr>\n",
       "      <th>2</th>\n",
       "      <td>Lynn Hamilton</td>\n",
       "      <td>negative</td>\n",
       "      <td>23</td>\n",
       "    </tr>\n",
       "    <tr>\n",
       "      <th>3</th>\n",
       "      <td>Reilly Smith</td>\n",
       "      <td>negative</td>\n",
       "      <td>32</td>\n",
       "    </tr>\n",
       "    <tr>\n",
       "      <th>4</th>\n",
       "      <td>Christian Diaz</td>\n",
       "      <td>negative</td>\n",
       "      <td>7</td>\n",
       "    </tr>\n",
       "  </tbody>\n",
       "</table>\n",
       "</div>"
      ],
      "text/plain": [
       "           speaker sentiment  count\n",
       "0      Veng Sakhon  negative      7\n",
       "1  Amarinder Singh  negative    395\n",
       "2    Lynn Hamilton  negative     23\n",
       "3     Reilly Smith  negative     32\n",
       "4   Christian Diaz  negative      7"
      ]
     },
     "execution_count": 171,
     "metadata": {},
     "output_type": "execute_result"
    }
   ],
   "source": [
    "# Count quotes with positive and negative sentiment for each speaker\n",
    "speaker_sentiments = df.where(f.col('speaker') != 'None')\\\n",
    "                        .groupby('speaker', 'sentiment')\\\n",
    "                        .agg(f.count('quoteID').alias('count'))\\\n",
    "                        .toPandas()\n",
    "\n",
    "# Counts -> percenages per speaker\n",
    "speaker_sentiments.head()"
   ]
  },
  {
   "cell_type": "code",
   "execution_count": 7,
   "id": "caeb9ee1-f121-435e-8ec7-6909942a34a5",
   "metadata": {},
   "outputs": [],
   "source": [
    "def replace_value(df, column, value_old, value_new):\n",
    "    \"\"\"Replaces a given value in a given column of a dataframe with a new one\"\"\"\n",
    "    df.loc[df[column] == value_old, column] = value_new\n",
    "    return df\n",
    "\n",
    "# Calculate average sentiments\n",
    "speaker_sentiments = replace_value(speaker_sentiments, 'sentiment', 'positive', 1)\n",
    "speaker_sentiments = replace_value(speaker_sentiments, 'sentiment', 'negative', -1)\n",
    "speaker_sentiments = replace_value(speaker_sentiments, 'sentiment', 'na', 0)\n",
    "\n",
    "speaker_sentiments.head()"
   ]
  },
  {
   "cell_type": "code",
   "execution_count": 183,
   "id": "ca20210a-6bed-4a49-922f-848716c13b1f",
   "metadata": {},
   "outputs": [
    {
     "name": "stderr",
     "output_type": "stream",
     "text": [
      "                                                                                \r"
     ]
    }
   ],
   "source": [
    "# We are only considering the speakers with 1000 or more quotes\n",
    "more_than_1000_speakers = set([i.speaker for i in df.groupby('speaker')\n",
    "                                                   .agg(f.count('quoteID').alias('count'))\n",
    "                                                   .where(f.col('count') >= 1000).collect()])"
   ]
  },
  {
   "cell_type": "code",
   "execution_count": 196,
   "id": "c1a11b13-c720-4790-8622-0c62a2cf1503",
   "metadata": {},
   "outputs": [],
   "source": [
    "# Computing average sentiment for each speaker\n",
    "speaker_sentiments = speaker_sentiments[speaker_sentiments['speaker'].isin(more_than_1000_speakers)]\n",
    "speaker_sentiments['sentiment_sum'] = speaker_sentiments['sentiment'] * speaker_sentiments['count']\n",
    "value_sums = speaker_sentiments.groupby('speaker').sum(0)\n",
    "average_sentiments = value_sums['sentiment_sum'] / value_sums['count']\n",
    "\n",
    "most_negative = average_sentiments.nsmallest(10)\n",
    "most_positive = average_sentiments.nlargest(10)"
   ]
  },
  {
   "cell_type": "code",
   "execution_count": 197,
   "id": "38a2a869-c332-46dc-b700-97a03958e3f0",
   "metadata": {},
   "outputs": [
    {
     "data": {
      "text/plain": [
       "speaker\n",
       "Nick Nurse        -0.306852\n",
       "Jimmy Kimmel      -0.261181\n",
       "Piers Morgan      -0.248230\n",
       "Stephen Colbert   -0.247863\n",
       "Rush Limbaugh     -0.246301\n",
       "Jim Cramer        -0.236842\n",
       "Francisco Duque   -0.236111\n",
       "Tucker Carlson    -0.234508\n",
       "William Barr      -0.220322\n",
       "Pope Francis      -0.214615\n",
       "dtype: float64"
      ]
     },
     "execution_count": 197,
     "metadata": {},
     "output_type": "execute_result"
    }
   ],
   "source": [
    "most_negative"
   ]
  },
  {
   "cell_type": "code",
   "execution_count": 198,
   "id": "c866be5c-a00d-4a37-8d12-d754d814dc20",
   "metadata": {},
   "outputs": [
    {
     "data": {
      "text/plain": [
       "speaker\n",
       "Selena Gomez          0.041769\n",
       "Dwyane Wade           0.039537\n",
       "Virat Kohli          -0.001448\n",
       "Rafael Nadal         -0.001946\n",
       "Demi Lovato          -0.026170\n",
       "Tom Steyer           -0.027656\n",
       "Gladys Berejiklian   -0.028571\n",
       "Jessica Simpson      -0.031161\n",
       "Billie Eilish        -0.036806\n",
       "Taylor Swift         -0.044223\n",
       "dtype: float64"
      ]
     },
     "execution_count": 198,
     "metadata": {},
     "output_type": "execute_result"
    }
   ],
   "source": [
    "most_positive"
   ]
  },
  {
   "cell_type": "code",
   "execution_count": 10,
   "id": "286dbdb5-27b1-43f7-85b0-275b21a1e0cb",
   "metadata": {},
   "outputs": [],
   "source": [
    "@f.udf(StringType())\n",
    "def get_month(date_str):\n",
    "    return \"-\".join(date_str.split(\"-\")[:2])\n",
    "\n",
    "@f.udf(StringType())\n",
    "def get_date(date_str):\n",
    "    return \"-\".join(date_str.split(\"-\")[:3])\n",
    "\n",
    "def normalize_sentiment(key, pdf):\n",
    "    pdf = replace_value(pdf, 'sentiment', 'positive', 1)\n",
    "    pdf = replace_value(pdf, 'sentiment', 'negative', -1)\n",
    "    pdf = replace_value(pdf, 'sentiment', 'na', 0)\n",
    "    \n",
    "    return pd.DataFrame({\"key\": [ key[0] ], \"mean\" : [ pdf.sentiment.mean() ], \"sem\" : [ pdf.sentiment.sem() ]})"
   ]
  },
  {
   "cell_type": "code",
   "execution_count": 12,
   "id": "fe2f5901-1d35-47a2-ab6b-4f2527857fad",
   "metadata": {},
   "outputs": [
    {
     "name": "stderr",
     "output_type": "stream",
     "text": [
      "                                                                                \r"
     ]
    }
   ],
   "source": [
    "# Moving average of sentiment\n",
    "sentiment_through_time = df \\\n",
    "        .select('quoteID', 'sentiment')\\\n",
    "        .withColumn('date', get_date(f.col('quoteID'))) \\\n",
    "        .groupby('date') \\\n",
    "        .applyInPandas(normalize_sentiment, schema=\"key string, mean double, sem double\") \\\n",
    "        .sort(\"key\") \\\n",
    "        .toPandas() \\\n",
    "        .set_index('key')"
   ]
  },
  {
   "cell_type": "code",
   "execution_count": 13,
   "id": "b3db6ac5-a93e-420b-866d-9d7ecbf60055",
   "metadata": {},
   "outputs": [],
   "source": [
    "mavg = sentiment_through_time.rolling(14).mean()"
   ]
  },
  {
   "cell_type": "markdown",
   "id": "f8086b60-930a-4bbe-bad7-20778331f62c",
   "metadata": {
    "tags": []
   },
   "source": [
    "# EMPATH\n",
    "Here we simply analyze whether it is feasible to use EMPATH."
   ]
  },
  {
   "cell_type": "code",
   "execution_count": 69,
   "id": "74ecd74d-8631-4009-aee3-6ccec6fa3993",
   "metadata": {},
   "outputs": [],
   "source": [
    "lexicon = Empath()\n",
    "get_aggression = f.udf(lambda x: lexicon.analyze(x, categories=['aggression'], normalize=True)['aggression'], FloatType())"
   ]
  },
  {
   "cell_type": "code",
   "execution_count": 80,
   "id": "13529d83-5192-4cc8-ba96-355598695b85",
   "metadata": {},
   "outputs": [],
   "source": [
    "aggressions = df.where(f.col('date').rlike('^2020'))\\\n",
    "                       .select('quoteID', get_aggression(f.col('quotation')).alias('aggression')) # Get aggression scores\n",
    "aggressions.write.parquet('data/2020-aggression.parquet') # Save the data to memory\n",
    "\n",
    "# Assigning aggression scores on the 2020 data took only ~2 minutes, which means it would take ~46 minutes for the entire data, which is fine.\n",
    "# However it is important to note that this number will be multiplied by the number of categories that we opt for."
   ]
  },
  {
   "cell_type": "code",
   "execution_count": 81,
   "id": "fa96b477-74e8-46a4-a7b9-87cd85645552",
   "metadata": {},
   "outputs": [],
   "source": [
    "# Load aggression scores\n",
    "aggressions = spark.read.parquet('data/2020-aggression.parquet')"
   ]
  },
  {
   "cell_type": "code",
   "execution_count": 92,
   "id": "7389ee63-f28d-437b-823d-f584c08fb8fa",
   "metadata": {},
   "outputs": [],
   "source": [
    "def normalize_sentiment(key, pdf):\n",
    "    pdf = replace_value(pdf, 'aggression', 'positive', 1)\n",
    "    pdf = replace_value(pdf, 'aggression', 'negative', -1)\n",
    "    pdf = replace_value(pdf, 'aggression', 'na', 0)\n",
    "    \n",
    "    return pd.DataFrame({\"key\": [ key[0] ], \"mean\" : [ pdf.aggression.mean() ], \"sem\" : [ pdf.aggression.sem() ]})"
   ]
  },
  {
   "cell_type": "code",
   "execution_count": 95,
   "id": "ccf50247-dbec-434a-8191-6b0787639919",
   "metadata": {},
   "outputs": [
    {
     "name": "stderr",
     "output_type": "stream",
     "text": [
      "                                                                                \r"
     ]
    }
   ],
   "source": [
    "# A simple plot of aggression through time\n",
    "ggression_through_time = aggressions \\\n",
    "        .select('quoteID', 'aggression')\\\n",
    "        .withColumn('date', get_date(f.col('quoteID'))) \\\n",
    "        .groupby('date') \\\n",
    "        .applyInPandas(normalize_sentiment, schema=\"key string, mean double, sem double\") \\\n",
    "        .sort(\"key\") \\\n",
    "        .toPandas() \\\n",
    "        .set_index('key')"
   ]
  },
  {
   "cell_type": "code",
   "execution_count": 96,
   "id": "e2e1a7bb-a214-4de2-8d05-1a756e627f0e",
   "metadata": {},
   "outputs": [
    {
     "name": "stderr",
     "output_type": "stream",
     "text": [
      "/home/maculjak/anaconda3/envs/ada/lib/python3.8/site-packages/matplotlib/cbook/__init__.py:1061: UserWarning: Warning: converting a masked element to nan.\n",
      "  x = np.asanyarray(x)\n"
     ]
    },
    {
     "data": {
      "text/plain": [
       "<AxesSubplot:xlabel='Date', ylabel='Average aggression'>"
      ]
     },
     "execution_count": 96,
     "metadata": {},
     "output_type": "execute_result"
    },
    {
     "data": {
      "image/png": "[encoded data removed]",
      "text/plain": [
       "<Figure size 576x432 with 1 Axes>"
      ]
     },
     "metadata": {
      "needs_background": "light"
     },
     "output_type": "display_data"
    }
   ],
   "source": [
    "mavg = aggression_through_time.rolling(14).mean()\n",
    "\n",
    "plt.figure(figsize=(8, 6))\n",
    "mavg['mean'].plot.line(yerr=mavg['sem'], ylabel='Average aggression', xlabel='Date')"
   ]
  },
  {
   "cell_type": "code",
   "execution_count": 106,
   "id": "f9ddc9ba-3b95-42de-985c-4b0b1ae395f9",
   "metadata": {
    "jupyter": {
     "source_hidden": true
    }
   },
   "outputs": [],
   "source": [
    "def url_list_to_tlds(urls):\n",
    "    if urls is None or len(urls) == 0:\n",
    "        return None\n",
    "    res = list(map(lambda url : tldextract.extract(url).domain, urls))\n",
    "    return res if res else None\n"
   ]
  }
 ],
 "metadata": {
  "kernelspec": {
   "display_name": "Python 3 (ipykernel)",
   "language": "python",
   "name": "python3"
  },
  "language_info": {
   "codemirror_mode": {
    "name": "ipython",
    "version": 3
   },
   "file_extension": ".py",
   "mimetype": "text/x-python",
   "name": "python",
   "nbconvert_exporter": "python",
   "pygments_lexer": "ipython3",
   "version": "3.8.12"
  }
 },
 "nbformat": 4,
 "nbformat_minor": 5
}
