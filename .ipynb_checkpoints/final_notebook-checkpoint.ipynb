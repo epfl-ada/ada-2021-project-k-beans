{
 "cells": [
  {
   "cell_type": "markdown",
   "id": "ced991dc-01cb-427e-9190-8b058d993dd5",
   "metadata": {
    "tags": []
   },
   "source": [
    "# !\\#$\\@: An obscene journey through quotations in media\n",
    "## ADA: Project Milestone 2\n",
    "#### Group: k-beans\n",
    "\n",
    "This notebook contains the initial analysis carried out for our project titled: **\"!#$@: An obscene journey through quotations in media\"**. \n",
    "\n",
    "For that matter, we install the requirements for the project, we load the data and we handle, explore and visualize it in order to understand it better and gain some insights. Specifically, we perform different analysis at quote, speaker and media source level, as they will be very important elements in our study. Moreover, the profanity score - which is the essence and main motivation for this project - is computed for all quotes considered and its presence in the dataset is analyzed as well, regarding different aspects. Time will also be considered as a relevant factor for the study. Finally, a small sentiment analysis experiment will be carried out so that we can present a clear idea of all different methods which are going to be used.\n",
    "\n",
    "Note: this initial analysis has been executed for 2020 quotebank data only for performance and flexibility aspects, it will be applied to the rest of the data for the next milestone."
   ]
  },
  {
   "cell_type": "markdown",
   "id": "70567216-962a-4b57-b916-dec19eeff210",
   "metadata": {},
   "source": [
    "## Requirements"
   ]
  },
  {
   "cell_type": "code",
   "execution_count": null,
   "id": "0e948952-c44f-4191-91f7-547b43e18c4c",
   "metadata": {},
   "outputs": [
    {
     "name": "stdout",
     "output_type": "stream",
     "text": [
      "Requirement already satisfied: pyspark==3.1.1 in /usr/local/anaconda3/envs/ada/lib/python3.8/site-packages (3.1.1)\n",
      "Requirement already satisfied: pyarrow in /usr/local/anaconda3/envs/ada/lib/python3.8/site-packages (6.0.0)\n",
      "Requirement already satisfied: tldextract in /usr/local/anaconda3/envs/ada/lib/python3.8/site-packages (3.1.2)\n",
      "Requirement already satisfied: py4j==0.10.9 in /usr/local/anaconda3/envs/ada/lib/python3.8/site-packages (from pyspark==3.1.1) (0.10.9)\n",
      "Requirement already satisfied: numpy>=1.16.6 in /usr/local/anaconda3/envs/ada/lib/python3.8/site-packages (from pyarrow) (1.20.3)\n",
      "Requirement already satisfied: requests-file>=1.4 in /usr/local/anaconda3/envs/ada/lib/python3.8/site-packages (from tldextract) (1.5.1)\n",
      "Requirement already satisfied: idna in /usr/local/anaconda3/envs/ada/lib/python3.8/site-packages (from tldextract) (3.2)\n",
      "Requirement already satisfied: requests>=2.1.0 in /usr/local/anaconda3/envs/ada/lib/python3.8/site-packages (from tldextract) (2.26.0)\n",
      "Requirement already satisfied: filelock>=3.0.8 in /usr/local/anaconda3/envs/ada/lib/python3.8/site-packages (from tldextract) (3.3.2)\n",
      "Requirement already satisfied: certifi>=2017.4.17 in /usr/local/anaconda3/envs/ada/lib/python3.8/site-packages (from requests>=2.1.0->tldextract) (2021.5.30)\n",
      "Requirement already satisfied: urllib3<1.27,>=1.21.1 in /usr/local/anaconda3/envs/ada/lib/python3.8/site-packages (from requests>=2.1.0->tldextract) (1.26.6)\n",
      "Requirement already satisfied: charset-normalizer~=2.0.0 in /usr/local/anaconda3/envs/ada/lib/python3.8/site-packages (from requests>=2.1.0->tldextract) (2.0.4)\n",
      "Requirement already satisfied: six in /usr/local/anaconda3/envs/ada/lib/python3.8/site-packages (from requests-file>=1.4->tldextract) (1.16.0)\n",
      "Note: you may need to restart the kernel to use updated packages.\n"
     ]
    }
   ],
   "source": [
    "!pip install pyspark==3.1.1 pyarrow tldextract\n",
    "!pip install alt-profanity-check"
   ]
  },
  {
   "cell_type": "markdown",
   "id": "60aacce4-ac04-45fb-a386-b9a4a69d85da",
   "metadata": {
    "tags": []
   },
   "source": [
    "## Imports"
   ]
  },
  {
   "cell_type": "code",
   "execution_count": 3,
   "id": "b00d4edd-af15-4103-96e3-03d51621fc0a",
   "metadata": {},
   "outputs": [
    {
     "name": "stdout",
     "output_type": "stream",
     "text": [
      "env: PYSPARK_PYTHON=/usr/local/anaconda3/envs/ada/bin/python\n",
      "env: PYSPARK_DRIVER_PYTHON=/usr/local/anaconda3/envs/ada/bin/python\n"
     ]
    }
   ],
   "source": [
    "# Make sure that spark uses the same python distribution to avoid serialization issues due to missing packages\n",
    "%env PYSPARK_PYTHON=/usr/local/anaconda3/envs/ada/bin/python\n",
    "%env PYSPARK_DRIVER_PYTHON=/usr/local/anaconda3/envs/ada/bin/python"
   ]
  },
  {
   "cell_type": "code",
   "execution_count": 2,
   "id": "c79611c1-4307-4232-af01-998509944eaa",
   "metadata": {
    "tags": []
   },
   "outputs": [
    {
     "data": {
      "text/plain": [
       "'/usr/local/anaconda3/envs/ada/bin/python'"
      ]
     },
     "execution_count": 2,
     "metadata": {},
     "output_type": "execute_result"
    }
   ],
   "source": [
    "import sys\n",
    "sys.executable"
   ]
  },
  {
   "cell_type": "code",
   "execution_count": 29,
   "id": "09d95d8e-c8f8-4687-930e-25d2b0a70e3e",
   "metadata": {},
   "outputs": [],
   "source": [
    "# Data handling and visualization\n",
    "import pandas as pd\n",
    "import numpy as np\n",
    "import seaborn as sns\n",
    "import matplotlib.pyplot as plt\n",
    "\n",
    "# PySpark\n",
    "import pyspark\n",
    "from pyspark import SparkContext\n",
    "from pyspark.sql import SparkSession\n",
    "from pyspark.sql.types import StructType\n",
    "from pyspark.sql import functions as f\n",
    "from pyspark.sql.types import IntegerType, BooleanType, ArrayType, StringType, DoubleType\n",
    "\n",
    "# Helpers\n",
    "import os\n",
    "import json\n",
    "\n",
    "# External libraries\n",
    "import profanity_check\n",
    "import tldextract\n",
    "import nltk\n",
    "nltk.download('stopwords')\n",
    "from nltk.corpus import stopwords"
   ]
  },
  {
   "cell_type": "markdown",
   "id": "21499cf2-4faf-4846-b759-da7a698efa99",
   "metadata": {},
   "source": [
    "## Load Spark"
   ]
  },
  {
   "cell_type": "code",
   "execution_count": 5,
   "id": "91174d1a-6dd1-4ebc-98cc-43cc4e67d9e7",
   "metadata": {},
   "outputs": [
    {
     "name": "stdout",
     "output_type": "stream",
     "text": [
      ":: loading settings :: url = jar:file:/usr/local/anaconda3/envs/ada/lib/python3.8/site-packages/pyspark/jars/ivy-2.4.0.jar!/org/apache/ivy/core/settings/ivysettings.xml\n"
     ]
    },
    {
     "name": "stderr",
     "output_type": "stream",
     "text": [
      "Ivy Default Cache set to: /Users/MDS/.ivy2/cache\n",
      "The jars for the packages stored in: /Users/MDS/.ivy2/jars\n",
      "com.johnsnowlabs.nlp#spark-nlp_2.12 added as a dependency\n",
      ":: resolving dependencies :: org.apache.spark#spark-submit-parent-ca5a238b-b5e1-46fa-a818-aca39c110586;1.0\n",
      "\tconfs: [default]\n",
      "\tfound com.johnsnowlabs.nlp#spark-nlp_2.12;3.3.2 in central\n",
      "\tfound com.typesafe#config;1.4.1 in central\n",
      "\tfound org.rocksdb#rocksdbjni;6.5.3 in central\n",
      "\tfound com.amazonaws#aws-java-sdk-bundle;1.11.603 in central\n",
      "\tfound com.github.universal-automata#liblevenshtein;3.0.0 in central\n",
      "\tfound com.google.code.findbugs#annotations;3.0.1 in central\n",
      "\tfound net.jcip#jcip-annotations;1.0 in central\n",
      "\tfound com.google.code.findbugs#jsr305;3.0.1 in central\n",
      "\tfound com.google.protobuf#protobuf-java-util;3.0.0-beta-3 in central\n",
      "\tfound com.google.protobuf#protobuf-java;3.0.0-beta-3 in central\n",
      "\tfound com.google.code.gson#gson;2.3 in central\n",
      "\tfound it.unimi.dsi#fastutil;7.0.12 in central\n",
      "\tfound org.projectlombok#lombok;1.16.8 in central\n",
      "\tfound org.slf4j#slf4j-api;1.7.21 in central\n",
      "\tfound com.navigamez#greex;1.0 in central\n",
      "\tfound dk.brics.automaton#automaton;1.11-8 in central\n",
      "\tfound org.json4s#json4s-ext_2.12;3.5.3 in central\n",
      "\tfound joda-time#joda-time;2.9.5 in central\n",
      "\tfound org.joda#joda-convert;1.8.1 in central\n",
      "\tfound com.johnsnowlabs.nlp#tensorflow-cpu_2.12;0.3.3 in central\n",
      "\tfound net.sf.trove4j#trove4j;3.0.3 in central\n",
      ":: resolution report :: resolve 2738ms :: artifacts dl 28ms\n",
      "\t:: modules in use:\n",
      "\tcom.amazonaws#aws-java-sdk-bundle;1.11.603 from central in [default]\n",
      "\tcom.github.universal-automata#liblevenshtein;3.0.0 from central in [default]\n",
      "\tcom.google.code.findbugs#annotations;3.0.1 from central in [default]\n",
      "\tcom.google.code.findbugs#jsr305;3.0.1 from central in [default]\n",
      "\tcom.google.code.gson#gson;2.3 from central in [default]\n",
      "\tcom.google.protobuf#protobuf-java;3.0.0-beta-3 from central in [default]\n",
      "\tcom.google.protobuf#protobuf-java-util;3.0.0-beta-3 from central in [default]\n",
      "\tcom.johnsnowlabs.nlp#spark-nlp_2.12;3.3.2 from central in [default]\n",
      "\tcom.johnsnowlabs.nlp#tensorflow-cpu_2.12;0.3.3 from central in [default]\n",
      "\tcom.navigamez#greex;1.0 from central in [default]\n",
      "\tcom.typesafe#config;1.4.1 from central in [default]\n",
      "\tdk.brics.automaton#automaton;1.11-8 from central in [default]\n",
      "\tit.unimi.dsi#fastutil;7.0.12 from central in [default]\n",
      "\tjoda-time#joda-time;2.9.5 from central in [default]\n",
      "\tnet.jcip#jcip-annotations;1.0 from central in [default]\n",
      "\tnet.sf.trove4j#trove4j;3.0.3 from central in [default]\n",
      "\torg.joda#joda-convert;1.8.1 from central in [default]\n",
      "\torg.json4s#json4s-ext_2.12;3.5.3 from central in [default]\n",
      "\torg.projectlombok#lombok;1.16.8 from central in [default]\n",
      "\torg.rocksdb#rocksdbjni;6.5.3 from central in [default]\n",
      "\torg.slf4j#slf4j-api;1.7.21 from central in [default]\n",
      "\t---------------------------------------------------------------------\n",
      "\t|                  |            modules            ||   artifacts   |\n",
      "\t|       conf       | number| search|dwnlded|evicted|| number|dwnlded|\n",
      "\t---------------------------------------------------------------------\n",
      "\t|      default     |   21  |   3   |   3   |   0   ||   21  |   0   |\n",
      "\t---------------------------------------------------------------------\n",
      "\n",
      ":: problems summary ::\n",
      ":::: ERRORS\n",
      "\tunknown resolver null\n",
      "\n",
      "\tunknown resolver null\n",
      "\n",
      "\tunknown resolver null\n",
      "\n",
      "\n",
      ":: USE VERBOSE OR DEBUG MESSAGE LEVEL FOR MORE DETAILS\n",
      ":: retrieving :: org.apache.spark#spark-submit-parent-ca5a238b-b5e1-46fa-a818-aca39c110586\n",
      "\tconfs: [default]\n",
      "\t0 artifacts copied, 21 already retrieved (0kB/36ms)\n",
      "21/11/12 07:18:00 WARN NativeCodeLoader: Unable to load native-hadoop library for your platform... using builtin-java classes where applicable\n",
      "Using Spark's default log4j profile: org/apache/spark/log4j-defaults.properties\n",
      "Setting default log level to \"WARN\".\n",
      "To adjust logging level use sc.setLogLevel(newLevel). For SparkR, use setLogLevel(newLevel).\n",
      "21/11/12 07:18:01 WARN SparkConf: Note that spark.local.dir will be overridden by the value set by the cluster manager (via SPARK_LOCAL_DIRS in mesos/standalone/kubernetes and LOCAL_DIRS in YARN).\n"
     ]
    },
    {
     "data": {
      "text/html": [
       "\n",
       "            <div>\n",
       "                <p><b>SparkSession - in-memory</b></p>\n",
       "                \n",
       "        <div>\n",
       "            <p><b>SparkContext</b></p>\n",
       "\n",
       "            <p><a href=\"http://172.22.22.63:4040\">Spark UI</a></p>\n",
       "\n",
       "            <dl>\n",
       "              <dt>Version</dt>\n",
       "                <dd><code>v3.1.1</code></dd>\n",
       "              <dt>Master</dt>\n",
       "                <dd><code>local[*]</code></dd>\n",
       "              <dt>AppName</dt>\n",
       "                <dd><code>pyspark-shell</code></dd>\n",
       "            </dl>\n",
       "        </div>\n",
       "        \n",
       "            </div>\n",
       "        "
      ],
      "text/plain": [
       "<pyspark.sql.session.SparkSession at 0x7fa5be375850>"
      ]
     },
     "execution_count": 5,
     "metadata": {},
     "output_type": "execute_result"
    }
   ],
   "source": [
    "conf = pyspark.SparkConf().setMaster(\"local[*]\").setAll([\n",
    "    ('spark.driver.memory','8G'),\n",
    "    ('spark.driver.maxResultSize', '8G'),\n",
    "    ('spark.sql.execution.arrow.pyspark.enabled', True),\n",
    "    ('spark.sql.execution.arrow.maxRecordsPerBatch', 10000),\n",
    "    ('spark.local.dir', '/tmp')\n",
    "])\n",
    "\n",
    "spark = SparkSession.builder.config(conf=conf).config('spark.jars.packages', 'com.johnsnowlabs.nlp:spark-nlp_2.12:3.3.2').getOrCreate()\n",
    "sc = spark.sparkContext\n",
    "sc.setLogLevel('ERROR')\n",
    "spark"
   ]
  },
  {
   "cell_type": "markdown",
   "id": "3d2eb75a-32c3-4173-835f-2a848222c32e",
   "metadata": {},
   "source": [
    "## Load data"
   ]
  },
  {
   "cell_type": "code",
   "execution_count": 50,
   "id": "83c2610c-f356-4489-a3c7-3fc814e20e0d",
   "metadata": {},
   "outputs": [],
   "source": [
    "DATA_DIR    = 'data/'\n",
    "QB_DATA_DIR = DATA_DIR + 'quotebank_data/'\n",
    "\n",
    "QB_DATA_JSON_PATH     = QB_DATA_DIR + 'json/quotes-%s.json'\n",
    "QB_DATA_JSON_BZ2_PATH = QB_DATA_DIR + 'json/quotes-%s.json.bz2'\n",
    "QB_DATA_PARQUET_PATH  = QB_DATA_DIR + 'parquet/quotes-%s.parquet'\n",
    "QB_DATA_PROC_PATH     = QB_DATA_DIR + 'processed/quotes-%s.parquet' # contains qb data with profanity scores, tlds, prominent speaker qid, prominent speaker prob, prominent speaker label\n",
    "\n",
    "SPK_ATTR_PATH             = DATA_DIR + 'speaker_attributes.parquet'\n",
    "SPK_ATTR_WITH_LABELS_PATH = DATA_DIR + 'speaker_attributes_with_labels.parquet'\n",
    "\n",
    "LABELS_PATH = DATA_DIR + 'wikidata_labels_descriptions_quotebank.csv.bz2'\n",
    "\n",
    "YEARS = ['2020']"
   ]
  },
  {
   "cell_type": "code",
   "execution_count": 7,
   "id": "9fc3e073-2867-474c-a161-b57d816e43df",
   "metadata": {},
   "outputs": [],
   "source": [
    "QB_JSON_SCHEMA = StructType.fromJson(json.loads(\n",
    "    '''{  \"type\": \"struct\", \n",
    "        \"fields\": [\n",
    "            {\"name\": \"date\", \"type\": \"string\", \"nullable\": true, \"metadata\": {}}, \n",
    "            {\"name\": \"numOccurrences\", \"type\": \"long\", \"nullable\": true,\"metadata\": {}}, \n",
    "            {\"name\": \"phase\", \"type\": \"string\", \"nullable\": true, \"metadata\": {}}, \n",
    "            {\"name\": \"probas\", \"type\": \n",
    "            {\"type\": \"array\", \"elementType\": {\"type\": \"array\", \"elementType\": \"string\", \"containsNull\": true}, \"containsNull\": true}, \"nullable\": true, \"metadata\": {}}, \n",
    "            {\"name\": \"qids\", \"type\": {\"type\": \"array\", \"elementType\": \"string\", \"containsNull\": true}, \"nullable\": true, \"metadata\": {}}, \n",
    "            {\"name\": \"quotation\", \"type\": \"string\", \"nullable\": true, \"metadata\": {}}, \n",
    "            {\"name\": \"quoteID\", \"type\": \"string\", \"nullable\": true, \"metadata\": {}}, \n",
    "            {\"name\": \"speaker\", \"type\": \"string\", \"nullable\": true, \"metadata\": {}}, \n",
    "            {\"name\": \"urls\", \"type\": {\"type\": \"array\", \"elementType\": \"string\", \"containsNull\": true}, \"nullable\": true, \"metadata\": {}}\n",
    "            ]\n",
    "    }'''))"
   ]
  },
  {
   "cell_type": "markdown",
   "id": "376ce20d-faf1-4392-91a9-dada70ee2298",
   "metadata": {},
   "source": [
    "# Dewmini"
   ]
  },
  {
   "cell_type": "markdown",
   "id": "fd2d5a1c-5a01-436c-83b9-730d87eb7983",
   "metadata": {},
   "source": [
    "### Load the labels of QIDS"
   ]
  },
  {
   "cell_type": "code",
   "execution_count": 8,
   "id": "246010bd-acc4-4947-a075-5760a0683199",
   "metadata": {},
   "outputs": [],
   "source": [
    "labels = pd.read_csv(LABELS_PATH)\n",
    "labels = labels.set_index(\"QID\")"
   ]
  },
  {
   "cell_type": "markdown",
   "id": "e8b58d47-c09e-4b02-8c37-d8c6c55911ea",
   "metadata": {},
   "source": [
    "### Expand speaker attributes with labels"
   ]
  },
  {
   "cell_type": "code",
   "execution_count": 9,
   "id": "c877324b-e674-40e3-a1d7-6725f6ae2ca7",
   "metadata": {},
   "outputs": [],
   "source": [
    "def qids_to_attr_labels(qids):\n",
    "    if qids is None or len(qids) == 0:\n",
    "        return []\n",
    "    return list(map(lambda qid : labels.Label[qid] if qid in labels.index else qid, qids))\n",
    "\n",
    "def map_missing(iterator):\n",
    "    for df in iterator:\n",
    "        for col in ['nationality', 'gender', 'ethnic_group', 'occupation', 'party', 'academic_degree', 'candidacy', 'religion']:\n",
    "            df[col + '_labels'] = df[col].apply(qids_to_attrib_labels)\n",
    "        yield df\n",
    "        \n",
    "def expand_spk_attr_with_labels():\n",
    "    spk_attr = spark.read.parquet(SPK_ATTR_PATH)\n",
    "    for col in ['nationality', 'gender', 'ethnic_group', 'occupation', 'party', 'academic_degree', 'candidacy', 'religion']:\n",
    "        spk_attr = spk_attr.withColumn(col + '_labels', spk_attr[col])\n",
    "    spk_attr.write.parquet(SPK_ATTR_WITH_LABELS_PATH, 'overwrite')"
   ]
  },
  {
   "cell_type": "code",
   "execution_count": 51,
   "id": "39ee0b15-94b5-4c94-b1fc-070e0b476219",
   "metadata": {},
   "outputs": [],
   "source": [
    "# Uncomment for the first-run to save the processed files\n",
    "# expand_spk_attr_with_labels()"
   ]
  },
  {
   "cell_type": "code",
   "execution_count": 52,
   "id": "95373cc7-de99-4b25-809d-d00751bc09b3",
   "metadata": {},
   "outputs": [],
   "source": [
    "# Load expanded data\n",
    "spk_attr = spark.read.parquet(SPK_ATTR_WITH_LABELS_PATH)"
   ]
  },
  {
   "cell_type": "markdown",
   "id": "5b3efd98-86bf-4c66-a241-0b339edc19e9",
   "metadata": {},
   "source": [
    "### Expand the quotebank data with top-level-domains, profanity-scores, etc. and save for eaiser loading in the future"
   ]
  },
  {
   "cell_type": "code",
   "execution_count": 48,
   "id": "66632dbf-73d2-4a0c-b631-f887205f286a",
   "metadata": {},
   "outputs": [],
   "source": [
    "def url_list_to_tlds(urls):\n",
    "    if urls is None or len(urls) == 0:\n",
    "        return None\n",
    "    res = list(map(lambda url : tldextract.extract(url).domain, urls))\n",
    "    return res if res else None\n",
    "\n",
    "def fill_columns(iterator):\n",
    "    for df in iterator:\n",
    "        df['profanity'] = profanity_check.predict_prob(df.quotation)\n",
    "        df['speaker_qid'] = df['qids'].apply(lambda qids : None if (qids is None or len(qids) == 0) else qids[0])         \n",
    "        df['speaker_label'] = df['qids'].apply(lambda qids : None if (qids is None or len(qids) == 0) else (labels.Label[qids[0]] if qids[0] in labels.index else None))\n",
    "        df['tlds'] = df['urls'].apply(url_list_to_tlds)\n",
    "        df['speaker_prob'] = df['probas'].apply(lambda p : 0.0 if (p is None or len(p) == 0) else float(p[0][1]))\n",
    "        yield df\n",
    "        \n",
    "def prepare_data(df):    \n",
    "    df = df.withColumn('speaker_qid', f.lit(None).cast(StringType()))\n",
    "    df = df.withColumn('speaker_label', f.lit(None).cast(StringType()))\n",
    "    df = df.withColumn('speaker_prob', f.lit(None).cast(DoubleType()))\n",
    "    df = df.withColumn('tlds', df.urls)\n",
    "    df = df.withColumn('profanity', f.lit(None).cast(DoubleType()))\n",
    "    df = df.mapInPandas(fill_columns, schema = df.schema)\n",
    "    return df\n",
    "\n",
    "def prepare_data_for_years(years):\n",
    "    for y in years:\n",
    "        df = spark.read.json(QB_DATA_JSON_PATH % y, schema=QB_JSON_SCHEMA)\n",
    "        df = prepare_data(df)\n",
    "        df.write.parquet(QB_DATA_PROC_PATH % y, 'overwrite')\n",
    "        "
   ]
  },
  {
   "cell_type": "code",
   "execution_count": 49,
   "id": "e13980bb-034a-4e50-be6e-411961e724ea",
   "metadata": {},
   "outputs": [
    {
     "name": "stderr",
     "output_type": "stream",
     "text": [
      "                                                                                \r"
     ]
    }
   ],
   "source": [
    "# Uncomment for the first-run to save the processed files\n",
    "#prepare_data_for_years(YEARS)"
   ]
  },
  {
   "cell_type": "code",
   "execution_count": 53,
   "id": "9d9617f9-6063-4828-8007-1f80ce98f72c",
   "metadata": {},
   "outputs": [],
   "source": [
    "qb = spark.read.parquet(QB_DATA_PROC_PATH % YEARS[0])\n",
    "for y in YEARS[1:]:\n",
    "    qb = qb.union(spark.read_parquet(QB_DATA_PROC_PATH % y))"
   ]
  },
  {
   "cell_type": "markdown",
   "id": "e2ddce49-c62b-40cd-9299-b7acf88d61ce",
   "metadata": {},
   "source": [
    "# Mauro"
   ]
  },
  {
   "cell_type": "code",
   "execution_count": 6,
   "id": "7ea34c85-8345-4e4f-bbc1-f8659e636177",
   "metadata": {},
   "outputs": [],
   "source": [
    "# Run it with 2020 data\n",
    "speaker_attribs = pd.read_parquet(DATA_DIR + 'speaker_attributes.parquet')\n",
    "speaker_attribs = speaker_attribs.set_index('id')\n",
    "attrib_labels = pd.read_csv('data/wikidata_labels_descriptions_quotebank.csv.bz2')\n",
    "attrib_labels = attrib_labels.set_index(\"QID\")"
   ]
  },
  {
   "cell_type": "code",
   "execution_count": 3,
   "id": "ae9dc7f4-0553-44af-bf3b-0d2a4cf34d68",
   "metadata": {},
   "outputs": [],
   "source": [
    "dfs = []\n",
    "for i in os.listdir(QUOTEBANK_DATA_DIR):\n",
    "    dfs.append(pd.read_json((QUOTEBANK_DATA_DIR + i), lines=True))\n",
    "               \n",
    "df = dfs[0]\n",
    "if len(dfs) > 1:\n",
    "    for df_part in dfs[1:]:\n",
    "        df = df.union(df_part)"
   ]
  },
  {
   "cell_type": "code",
   "execution_count": 4,
   "id": "59846cd3-22d2-43d8-9670-429ac27fc0f9",
   "metadata": {},
   "outputs": [
    {
     "data": {
      "text/html": [
       "<div>\n",
       "<style scoped>\n",
       "    .dataframe tbody tr th:only-of-type {\n",
       "        vertical-align: middle;\n",
       "    }\n",
       "\n",
       "    .dataframe tbody tr th {\n",
       "        vertical-align: top;\n",
       "    }\n",
       "\n",
       "    .dataframe thead th {\n",
       "        text-align: right;\n",
       "    }\n",
       "</style>\n",
       "<table border=\"1\" class=\"dataframe\">\n",
       "  <thead>\n",
       "    <tr style=\"text-align: right;\">\n",
       "      <th></th>\n",
       "      <th>quoteID</th>\n",
       "      <th>quotation</th>\n",
       "      <th>speaker</th>\n",
       "      <th>qids</th>\n",
       "      <th>date</th>\n",
       "      <th>numOccurrences</th>\n",
       "      <th>probas</th>\n",
       "      <th>urls</th>\n",
       "      <th>phase</th>\n",
       "    </tr>\n",
       "  </thead>\n",
       "  <tbody>\n",
       "    <tr>\n",
       "      <th>0</th>\n",
       "      <td>2019-04-17-024782</td>\n",
       "      <td>It is not a low-income immigration,</td>\n",
       "      <td>James Fisher</td>\n",
       "      <td>[Q16213953, Q20707104, Q43143598, Q58886302, Q...</td>\n",
       "      <td>2019-04-17 13:31:18</td>\n",
       "      <td>1</td>\n",
       "      <td>[[James Fisher, 0.7475], [None, 0.2525]]</td>\n",
       "      <td>[https://www.nytimes.com/2019/04/17/realestate...</td>\n",
       "      <td>E</td>\n",
       "    </tr>\n",
       "    <tr>\n",
       "      <th>1</th>\n",
       "      <td>2019-04-02-001128</td>\n",
       "      <td>a champion figure skater switching to roller s...</td>\n",
       "      <td>John Updike</td>\n",
       "      <td>[Q105756]</td>\n",
       "      <td>2019-04-02 14:58:33</td>\n",
       "      <td>2</td>\n",
       "      <td>[[John Updike, 0.5856], [None, 0.4144]]</td>\n",
       "      <td>[https://www.nytimes.com/2019/04/02/opinion/vl...</td>\n",
       "      <td>E</td>\n",
       "    </tr>\n",
       "    <tr>\n",
       "      <th>2</th>\n",
       "      <td>2019-05-09-055187</td>\n",
       "      <td>It makes it much more difficult for him to mak...</td>\n",
       "      <td>None</td>\n",
       "      <td>[]</td>\n",
       "      <td>2019-05-09 18:11:29</td>\n",
       "      <td>1</td>\n",
       "      <td>[[None, 0.6493], [President Bill Clinton, 0.27...</td>\n",
       "      <td>[http://mobile.nytimes.com/2019/05/09/world/as...</td>\n",
       "      <td>E</td>\n",
       "    </tr>\n",
       "    <tr>\n",
       "      <th>3</th>\n",
       "      <td>2019-10-31-056366</td>\n",
       "      <td>It puts me in a predicament,</td>\n",
       "      <td>Xavier Becerra</td>\n",
       "      <td>[Q1855840]</td>\n",
       "      <td>2019-10-31 16:45:15</td>\n",
       "      <td>3</td>\n",
       "      <td>[[Xavier Becerra, 0.9065], [None, 0.0909], [St...</td>\n",
       "      <td>[http://www.nytimes.com/2019/10/31/technology/...</td>\n",
       "      <td>E</td>\n",
       "    </tr>\n",
       "    <tr>\n",
       "      <th>4</th>\n",
       "      <td>2019-01-04-001792</td>\n",
       "      <td>A Pile of Leaves.</td>\n",
       "      <td>None</td>\n",
       "      <td>[]</td>\n",
       "      <td>2019-01-04 10:00:07</td>\n",
       "      <td>1</td>\n",
       "      <td>[[None, 0.8737], [Jason Fulford, 0.1263]]</td>\n",
       "      <td>[https://www.nytimes.com/2019/01/04/books/revi...</td>\n",
       "      <td>E</td>\n",
       "    </tr>\n",
       "  </tbody>\n",
       "</table>\n",
       "</div>"
      ],
      "text/plain": [
       "             quoteID                                          quotation  \\\n",
       "0  2019-04-17-024782                It is not a low-income immigration,   \n",
       "1  2019-04-02-001128  a champion figure skater switching to roller s...   \n",
       "2  2019-05-09-055187  It makes it much more difficult for him to mak...   \n",
       "3  2019-10-31-056366                       It puts me in a predicament,   \n",
       "4  2019-01-04-001792                                  A Pile of Leaves.   \n",
       "\n",
       "          speaker                                               qids  \\\n",
       "0    James Fisher  [Q16213953, Q20707104, Q43143598, Q58886302, Q...   \n",
       "1     John Updike                                          [Q105756]   \n",
       "2            None                                                 []   \n",
       "3  Xavier Becerra                                         [Q1855840]   \n",
       "4            None                                                 []   \n",
       "\n",
       "                 date  numOccurrences  \\\n",
       "0 2019-04-17 13:31:18               1   \n",
       "1 2019-04-02 14:58:33               2   \n",
       "2 2019-05-09 18:11:29               1   \n",
       "3 2019-10-31 16:45:15               3   \n",
       "4 2019-01-04 10:00:07               1   \n",
       "\n",
       "                                              probas  \\\n",
       "0           [[James Fisher, 0.7475], [None, 0.2525]]   \n",
       "1            [[John Updike, 0.5856], [None, 0.4144]]   \n",
       "2  [[None, 0.6493], [President Bill Clinton, 0.27...   \n",
       "3  [[Xavier Becerra, 0.9065], [None, 0.0909], [St...   \n",
       "4          [[None, 0.8737], [Jason Fulford, 0.1263]]   \n",
       "\n",
       "                                                urls phase  \n",
       "0  [https://www.nytimes.com/2019/04/17/realestate...     E  \n",
       "1  [https://www.nytimes.com/2019/04/02/opinion/vl...     E  \n",
       "2  [http://mobile.nytimes.com/2019/05/09/world/as...     E  \n",
       "3  [http://www.nytimes.com/2019/10/31/technology/...     E  \n",
       "4  [https://www.nytimes.com/2019/01/04/books/revi...     E  "
      ]
     },
     "execution_count": 4,
     "metadata": {},
     "output_type": "execute_result"
    }
   ],
   "source": [
    "df.head()"
   ]
  },
  {
   "cell_type": "markdown",
   "id": "bb1ebc95-bb7e-4b03-ad53-d47c8bff5024",
   "metadata": {},
   "source": [
    "## Data Cleaning - Preprocessing (to be extended)"
   ]
  },
  {
   "cell_type": "code",
   "execution_count": 5,
   "id": "40b2cff9-f5cd-41db-8aa9-7c86232d2a08",
   "metadata": {},
   "outputs": [
    {
     "data": {
      "text/plain": [
       "0"
      ]
     },
     "execution_count": 5,
     "metadata": {},
     "output_type": "execute_result"
    }
   ],
   "source": [
    "len(df[df.duplicated('quoteID')]) # 0 ~> no duplicate rows"
   ]
  },
  {
   "cell_type": "markdown",
   "id": "4764f653-2803-4689-8490-1a7198ad72bc",
   "metadata": {},
   "source": [
    "## Data Exploration and Visualization"
   ]
  },
  {
   "cell_type": "markdown",
   "id": "c164be2f-595b-4a71-8a0a-d40ea68dccea",
   "metadata": {
    "tags": []
   },
   "source": [
    "### Exploring Quotes\n",
    "\n",
    "#### Quotation length distribution"
   ]
  },
  {
   "cell_type": "code",
   "execution_count": 18,
   "id": "87441b7e-3767-4c38-8b7f-2f952c2f8a82",
   "metadata": {
    "tags": []
   },
   "outputs": [
    {
     "data": {
      "image/png": "[encoded data removed]",
      "text/plain": [
       "<Figure size 432x288 with 1 Axes>"
      ]
     },
     "metadata": {
      "needs_background": "light"
     },
     "output_type": "display_data"
    }
   ],
   "source": [
    "df['len'] = df['quotation'].apply(len) # Add quotation length feature\n",
    "_ = df['len'].plot(kind='box', ylabel=\"quotation length\", xlabel=\"quotation length\") "
   ]
  },
  {
   "cell_type": "code",
   "execution_count": 19,
   "id": "3717441f-cf66-44da-82c3-69ea5236fe9c",
   "metadata": {},
   "outputs": [
    {
     "data": {
      "image/png": "[encoded data removed]",
      "text/plain": [
       "<Figure size 432x288 with 1 Axes>"
      ]
     },
     "metadata": {
      "needs_background": "light"
     },
     "output_type": "display_data"
    }
   ],
   "source": [
    "_ = df['len'].plot(kind='hist', bins=50, xlabel=\"quotation length\")"
   ]
  },
  {
   "cell_type": "markdown",
   "id": "3d74715b-14f8-4bdb-b049-3d881ad5a104",
   "metadata": {},
   "source": [
    "#### Occurrences distribution"
   ]
  },
  {
   "cell_type": "code",
   "execution_count": 20,
   "id": "a2652ded-1dde-41cc-82c1-00d24918c3e7",
   "metadata": {},
   "outputs": [
    {
     "data": {
      "image/png": "[encoded data removed]",
      "text/plain": [
       "<Figure size 432x288 with 1 Axes>"
      ]
     },
     "metadata": {
      "needs_background": "light"
     },
     "output_type": "display_data"
    }
   ],
   "source": [
    "_ = df['numOccurrences'].plot(kind='box')"
   ]
  },
  {
   "cell_type": "code",
   "execution_count": 21,
   "id": "b4f7e174-6a1b-4774-80de-55d2814a1347",
   "metadata": {},
   "outputs": [
    {
     "data": {
      "text/plain": [
       "quoteID                                           2019-04-12-080259\n",
       "quotation                 Star... [ + ] Wars: The Rise of Skywalker\n",
       "speaker                                                        None\n",
       "qids                                                             []\n",
       "date                                            2019-04-12 00:00:00\n",
       "numOccurrences                                                12095\n",
       "probas            [[None, 0.4952], [J.J. Abrams, 0.0752], [Daisy...\n",
       "urls              [http://chronicle.northcoastnow.com/national-n...\n",
       "phase                                                             E\n",
       "len                                                              41\n",
       "Name: 21764, dtype: object"
      ]
     },
     "execution_count": 21,
     "metadata": {},
     "output_type": "execute_result"
    }
   ],
   "source": [
    "# Most cited quote\n",
    "df.loc[df['numOccurrences'].argmax()]"
   ]
  },
  {
   "cell_type": "code",
   "execution_count": 22,
   "id": "749b4836-69ba-43f9-b337-b1423486ddb0",
   "metadata": {},
   "outputs": [
    {
     "data": {
      "image/png": "[encoded data removed]",
      "text/plain": [
       "<Figure size 432x288 with 1 Axes>"
      ]
     },
     "metadata": {
      "needs_background": "light"
     },
     "output_type": "display_data"
    }
   ],
   "source": [
    "# Visualize plot between quote length and occurrences \n",
    "_ = df.plot(kind='scatter', x='numOccurrences', y='len') # Shorter quotes are more cited"
   ]
  },
  {
   "cell_type": "markdown",
   "id": "7d1e287b-e604-4981-a8d7-6051c914bfaa",
   "metadata": {},
   "source": [
    "### Exploring speakers\n",
    "\n",
    "#### Speaker frequency"
   ]
  },
  {
   "cell_type": "code",
   "execution_count": 7,
   "id": "e22a9f3f-9159-407c-86c5-113f802ff525",
   "metadata": {},
   "outputs": [
    {
     "data": {
      "text/plain": [
       "None                      75582\n",
       "President Donald Trump     2217\n",
       "President Trump            1919\n",
       "Elizabeth Warren            783\n",
       "Joe Biden                   762\n",
       "Bernie Sanders              562\n",
       "Nancy Pelosi                560\n",
       "Pete Buttigieg              549\n",
       "Mike Pompeo                 469\n",
       "Donald Trump                338\n",
       "Bill de Blasio              335\n",
       "Cory Booker                 312\n",
       "Stephen Colbert             305\n",
       "Mitch McConnell             265\n",
       "Amy Klobuchar               259\n",
       "Name: speaker, dtype: int64"
      ]
     },
     "execution_count": 7,
     "metadata": {},
     "output_type": "execute_result"
    }
   ],
   "source": [
    "speaker_freq = df['speaker'].value_counts()\n",
    "speaker_freq.head(15)"
   ]
  },
  {
   "cell_type": "markdown",
   "id": "c8c52597-1933-40c1-9aa3-186a7d9961a8",
   "metadata": {},
   "source": [
    "We can notice a few problems: \n",
    " - most quotes don't have an attributed speaker\n",
    " - same speaker can have multiple differing labels"
   ]
  },
  {
   "cell_type": "code",
   "execution_count": 8,
   "id": "5bc800e4-40c4-460a-b178-8846c72b9463",
   "metadata": {},
   "outputs": [
    {
     "data": {
      "text/plain": [
       "count    26579.000000\n",
       "mean         4.964257\n",
       "std         22.688574\n",
       "min          1.000000\n",
       "25%          1.000000\n",
       "50%          2.000000\n",
       "75%          5.000000\n",
       "max       2217.000000\n",
       "Name: speaker, dtype: float64"
      ]
     },
     "execution_count": 8,
     "metadata": {},
     "output_type": "execute_result"
    }
   ],
   "source": [
    "speaker_freq[1:].describe() # without None"
   ]
  },
  {
   "cell_type": "code",
   "execution_count": 9,
   "id": "44b4e04b-4ae9-4654-9bf9-796b507c7b41",
   "metadata": {},
   "outputs": [
    {
     "data": {
      "image/png": "[encoded data removed]",
      "text/plain": [
       "<Figure size 432x288 with 1 Axes>"
      ]
     },
     "metadata": {
      "needs_background": "light"
     },
     "output_type": "display_data"
    }
   ],
   "source": [
    "_ = speaker_freq[1:].plot(kind='box') # without None"
   ]
  },
  {
   "cell_type": "markdown",
   "id": "95c23394-d3f2-4eff-92ad-8430aa54d7b5",
   "metadata": {},
   "source": [
    "#### Speaker occupations"
   ]
  },
  {
   "cell_type": "code",
   "execution_count": 1,
   "id": "adff2b7a-cce2-4556-a7a8-2f39c6acd526",
   "metadata": {},
   "outputs": [],
   "source": [
    "# Helper functions\n",
    "def speaker_to_occupation(qid):\n",
    "    \"\"\"Return the label associated with a qid or None if not available.\"\"\"\n",
    "    if qid in speaker_attribs.index:\n",
    "        return speaker_attribs.occupation[qid]\n",
    "    return None\n",
    "\n",
    "def qid_to_label(qid):\n",
    "    \"\"\"Return the label associated with a qid or None if not available.\"\"\"\n",
    "    if qid in attrib_labels.index:\n",
    "        return attrib_labels.Label[qid]\n",
    "    return None\n",
    "    \n",
    "def map_list(fn, values):\n",
    "    if values is not None:\n",
    "        return list(map(fn, values))\n",
    "    return []\n",
    "\n",
    "def freq_count(vals, counts):\n",
    "    if vals is None: return\n",
    "    for val in vals:\n",
    "        if val not in counts: counts[val] = 0\n",
    "        counts[val] += 1"
   ]
  },
  {
   "cell_type": "code",
   "execution_count": 11,
   "id": "1c9539db-4266-45b9-b907-f89b9aadbdc8",
   "metadata": {},
   "outputs": [],
   "source": [
    "df_occupations = df.replace(to_replace='None', value=np.nan).dropna()\n",
    "df_occupations[\"occupation\"] = df_occupations.qids.apply(lambda val : speaker_to_occupation(val[0]))\n",
    "df_occupations[\"occupation_labels\"] = df_occupations.occupation.apply(lambda val : map_list(qid_to_label, val))"
   ]
  },
  {
   "cell_type": "code",
   "execution_count": 12,
   "id": "a65387af-6f30-41a4-adc6-2115f184d9ee",
   "metadata": {},
   "outputs": [
    {
     "data": {
      "text/html": [
       "<div>\n",
       "<style scoped>\n",
       "    .dataframe tbody tr th:only-of-type {\n",
       "        vertical-align: middle;\n",
       "    }\n",
       "\n",
       "    .dataframe tbody tr th {\n",
       "        vertical-align: top;\n",
       "    }\n",
       "\n",
       "    .dataframe thead th {\n",
       "        text-align: right;\n",
       "    }\n",
       "</style>\n",
       "<table border=\"1\" class=\"dataframe\">\n",
       "  <thead>\n",
       "    <tr style=\"text-align: right;\">\n",
       "      <th></th>\n",
       "      <th>quoteID</th>\n",
       "      <th>quotation</th>\n",
       "      <th>speaker</th>\n",
       "      <th>qids</th>\n",
       "      <th>date</th>\n",
       "      <th>numOccurrences</th>\n",
       "      <th>probas</th>\n",
       "      <th>urls</th>\n",
       "      <th>phase</th>\n",
       "      <th>occupation</th>\n",
       "      <th>occupation_labels</th>\n",
       "    </tr>\n",
       "  </thead>\n",
       "  <tbody>\n",
       "    <tr>\n",
       "      <th>0</th>\n",
       "      <td>2019-04-17-024782</td>\n",
       "      <td>It is not a low-income immigration,</td>\n",
       "      <td>James Fisher</td>\n",
       "      <td>[Q16213953, Q20707104, Q43143598, Q58886302, Q...</td>\n",
       "      <td>2019-04-17 13:31:18</td>\n",
       "      <td>1</td>\n",
       "      <td>[[James Fisher, 0.7475], [None, 0.2525]]</td>\n",
       "      <td>[https://www.nytimes.com/2019/04/17/realestate...</td>\n",
       "      <td>E</td>\n",
       "      <td>[Q33999, Q10798782, Q3282637]</td>\n",
       "      <td>[actor, television actor, film producer]</td>\n",
       "    </tr>\n",
       "    <tr>\n",
       "      <th>1</th>\n",
       "      <td>2019-04-02-001128</td>\n",
       "      <td>a champion figure skater switching to roller s...</td>\n",
       "      <td>John Updike</td>\n",
       "      <td>[Q105756]</td>\n",
       "      <td>2019-04-02 14:58:33</td>\n",
       "      <td>2</td>\n",
       "      <td>[[John Updike, 0.5856], [None, 0.4144]]</td>\n",
       "      <td>[https://www.nytimes.com/2019/04/02/opinion/vl...</td>\n",
       "      <td>E</td>\n",
       "      <td>[Q49757, Q36180, Q6625963, Q11774202, Q214917,...</td>\n",
       "      <td>[poet, writer, novelist, essayist, playwright,...</td>\n",
       "    </tr>\n",
       "    <tr>\n",
       "      <th>3</th>\n",
       "      <td>2019-10-31-056366</td>\n",
       "      <td>It puts me in a predicament,</td>\n",
       "      <td>Xavier Becerra</td>\n",
       "      <td>[Q1855840]</td>\n",
       "      <td>2019-10-31 16:45:15</td>\n",
       "      <td>3</td>\n",
       "      <td>[[Xavier Becerra, 0.9065], [None, 0.0909], [St...</td>\n",
       "      <td>[http://www.nytimes.com/2019/10/31/technology/...</td>\n",
       "      <td>E</td>\n",
       "      <td>[Q82955, Q40348]</td>\n",
       "      <td>[politician, lawyer]</td>\n",
       "    </tr>\n",
       "    <tr>\n",
       "      <th>5</th>\n",
       "      <td>2019-08-15-002017</td>\n",
       "      <td>A Senator we can call our own.</td>\n",
       "      <td>Tom Rath</td>\n",
       "      <td>[Q7817334]</td>\n",
       "      <td>2019-08-15 22:36:33</td>\n",
       "      <td>1</td>\n",
       "      <td>[[Tom Rath, 0.7598], [None, 0.1993], [Warren R...</td>\n",
       "      <td>[http://www.nytimes.com/2019/08/15/us/politics...</td>\n",
       "      <td>E</td>\n",
       "      <td>[Q36180]</td>\n",
       "      <td>[writer]</td>\n",
       "    </tr>\n",
       "    <tr>\n",
       "      <th>8</th>\n",
       "      <td>2019-07-22-032883</td>\n",
       "      <td>It's a success, a relief and a technical feat,</td>\n",
       "      <td>Florence Parly</td>\n",
       "      <td>[Q3074013]</td>\n",
       "      <td>2019-07-22 02:37:50</td>\n",
       "      <td>21</td>\n",
       "      <td>[[Florence Parly, 0.9262], [None, 0.0738]]</td>\n",
       "      <td>[http://www.breitbart.com/news/french-submarin...</td>\n",
       "      <td>E</td>\n",
       "      <td>[Q82955]</td>\n",
       "      <td>[politician]</td>\n",
       "    </tr>\n",
       "  </tbody>\n",
       "</table>\n",
       "</div>"
      ],
      "text/plain": [
       "             quoteID                                          quotation  \\\n",
       "0  2019-04-17-024782                It is not a low-income immigration,   \n",
       "1  2019-04-02-001128  a champion figure skater switching to roller s...   \n",
       "3  2019-10-31-056366                       It puts me in a predicament,   \n",
       "5  2019-08-15-002017                     A Senator we can call our own.   \n",
       "8  2019-07-22-032883     It's a success, a relief and a technical feat,   \n",
       "\n",
       "          speaker                                               qids  \\\n",
       "0    James Fisher  [Q16213953, Q20707104, Q43143598, Q58886302, Q...   \n",
       "1     John Updike                                          [Q105756]   \n",
       "3  Xavier Becerra                                         [Q1855840]   \n",
       "5        Tom Rath                                         [Q7817334]   \n",
       "8  Florence Parly                                         [Q3074013]   \n",
       "\n",
       "                 date  numOccurrences  \\\n",
       "0 2019-04-17 13:31:18               1   \n",
       "1 2019-04-02 14:58:33               2   \n",
       "3 2019-10-31 16:45:15               3   \n",
       "5 2019-08-15 22:36:33               1   \n",
       "8 2019-07-22 02:37:50              21   \n",
       "\n",
       "                                              probas  \\\n",
       "0           [[James Fisher, 0.7475], [None, 0.2525]]   \n",
       "1            [[John Updike, 0.5856], [None, 0.4144]]   \n",
       "3  [[Xavier Becerra, 0.9065], [None, 0.0909], [St...   \n",
       "5  [[Tom Rath, 0.7598], [None, 0.1993], [Warren R...   \n",
       "8         [[Florence Parly, 0.9262], [None, 0.0738]]   \n",
       "\n",
       "                                                urls phase  \\\n",
       "0  [https://www.nytimes.com/2019/04/17/realestate...     E   \n",
       "1  [https://www.nytimes.com/2019/04/02/opinion/vl...     E   \n",
       "3  [http://www.nytimes.com/2019/10/31/technology/...     E   \n",
       "5  [http://www.nytimes.com/2019/08/15/us/politics...     E   \n",
       "8  [http://www.breitbart.com/news/french-submarin...     E   \n",
       "\n",
       "                                          occupation  \\\n",
       "0                      [Q33999, Q10798782, Q3282637]   \n",
       "1  [Q49757, Q36180, Q6625963, Q11774202, Q214917,...   \n",
       "3                                   [Q82955, Q40348]   \n",
       "5                                           [Q36180]   \n",
       "8                                           [Q82955]   \n",
       "\n",
       "                                   occupation_labels  \n",
       "0           [actor, television actor, film producer]  \n",
       "1  [poet, writer, novelist, essayist, playwright,...  \n",
       "3                               [politician, lawyer]  \n",
       "5                                           [writer]  \n",
       "8                                       [politician]  "
      ]
     },
     "execution_count": 12,
     "metadata": {},
     "output_type": "execute_result"
    }
   ],
   "source": [
    "df_occupations.head()"
   ]
  },
  {
   "cell_type": "code",
   "execution_count": 61,
   "id": "326a3b13-1d94-43bf-9ca5-0723542a5991",
   "metadata": {},
   "outputs": [
    {
     "name": "stderr",
     "output_type": "stream",
     "text": [
      "                                                                                \r"
     ]
    }
   ],
   "source": [
    "occupation_stats = qb.where(qb.speaker_qid.isNotNull()) \\\n",
    "    .join(spk_attr.withColumnRenamed('id', 'speaker_qid'), on='speaker_qid') \\\n",
    "    .withColumn('profession', f.explode('occupation_labels')) \\\n",
    "    .groupby('profession') \\\n",
    "    .agg(f.count('quotation').alias('count')) \\\n",
    "    .sort('count', ascending=False).limit(10).toPandas()"
   ]
  },
  {
   "cell_type": "code",
   "execution_count": 63,
   "id": "3c557ddb-8feb-4abe-a63c-0284cd53c35c",
   "metadata": {},
   "outputs": [
    {
     "data": {
      "text/plain": [
       "Text(0, 0.5, 'Profession')"
      ]
     },
     "execution_count": 63,
     "metadata": {},
     "output_type": "execute_result"
    },
    {
     "data": {
      "image/png": "[encoded data removed]",
      "text/plain": [
       "<Figure size 1080x576 with 1 Axes>"
      ]
     },
     "metadata": {
      "needs_background": "light"
     },
     "output_type": "display_data"
    }
   ],
   "source": [
    "occupation_stats['profession_label'] = occupation_stats.profession.apply(lambda qid : labels.Label[qid])\n",
    "plt.figure(figsize=(15,8))\n",
    "sns.barplot(y='profession_label', x='count', data=occupation_stats)\n",
    "plt.title(\"Number of quotes by profession\")\n",
    "plt.xlabel(\"Number of quotes\")\n",
    "plt.ylabel(\"Profession\")"
   ]
  },
  {
   "cell_type": "markdown",
   "id": "2352000a-a9a4-43ae-9358-ede78edc0005",
   "metadata": {},
   "source": [
    "#### Speaker gender"
   ]
  },
  {
   "cell_type": "markdown",
   "id": "47192268-f625-48b8-bbe0-e9aafec36ca3",
   "metadata": {},
   "source": [
    "#### Speaker age"
   ]
  },
  {
   "cell_type": "markdown",
   "id": "37bae7ac-bc43-408f-80c2-7f1cd1f81cae",
   "metadata": {
    "tags": []
   },
   "source": [
    "### Exploring Media Sources\n",
    "#### Top news domains with high profanity quotes"
   ]
  },
  {
   "cell_type": "code",
   "execution_count": 54,
   "id": "699fe26b-4396-476f-8f3d-6a68660272bb",
   "metadata": {},
   "outputs": [],
   "source": [
    "def profanity_by_news_outlet(df, min_quotes = 10000):\n",
    "    return df \\\n",
    "        .withColumn('tld', f.explode('tlds')) \\\n",
    "        .groupby('tld') \\\n",
    "        .agg(f.avg('profanity').alias('avg_profanity'), f.count('quotation').alias('count')) \\\n",
    "        .where(f.col('count') >= min_quotes) \\\n",
    "        .sort('avg_profanity', ascending=False)"
   ]
  },
  {
   "cell_type": "code",
   "execution_count": 55,
   "id": "a08666f9-5724-4d1a-8eb1-5d420fffae07",
   "metadata": {},
   "outputs": [
    {
     "name": "stderr",
     "output_type": "stream",
     "text": [
      "[Stage 32:==================================================>   (187 + 4) / 200]\r"
     ]
    },
    {
     "name": "stdout",
     "output_type": "stream",
     "text": [
      "+------------------+-------------------+-----+\n",
      "|               tld|      avg_profanity|count|\n",
      "+------------------+-------------------+-----+\n",
      "|               nme|0.12396075646092378|10657|\n",
      "|thehollywoodgossip| 0.1010810278703445|12271|\n",
      "|         inquisitr|0.09300202883093707|23046|\n",
      "|           eonline|0.08896868517040082|11800|\n",
      "|     thedailybeast|0.08871525342695481|13377|\n",
      "|        cheatsheet|0.08829257405797264|29177|\n",
      "|          etcanada|0.08813149158649779|10862|\n",
      "|            thesun|0.08797538194233366|35166|\n",
      "|        usmagazine|0.08560456494210512|13111|\n",
      "|            people|0.08506631683579856|26263|\n",
      "|              vice|0.08398846484226385|12531|\n",
      "|       femalefirst|0.08353762173273721|13719|\n",
      "|         wordpress|0.08251095076109365|21260|\n",
      "|            mirror|0.08032704952593808|46170|\n",
      "|         billboard|0.08022228466629261|15511|\n",
      "|         dailystar|0.08013808967264716|29499|\n",
      "|       irishmirror|0.07977294491611693|29566|\n",
      "| hollywoodreporter|0.07638583168069987|11697|\n",
      "|            nypost|0.07496871204762696|16602|\n",
      "|       onenewspage|0.07389546373587501|13412|\n",
      "+------------------+-------------------+-----+\n",
      "only showing top 20 rows\n",
      "\n"
     ]
    },
    {
     "name": "stderr",
     "output_type": "stream",
     "text": [
      "                                                                                \r"
     ]
    }
   ],
   "source": [
    "profanity_by_news_outlet(qb, 10000).show()"
   ]
  },
  {
   "cell_type": "markdown",
   "id": "2d3de5dd-e882-419c-93c9-465c99ea492b",
   "metadata": {},
   "source": [
    "### Exploring Profanity"
   ]
  },
  {
   "cell_type": "markdown",
   "id": "913b6934-8a23-4bf1-b4b3-ed00215d4019",
   "metadata": {},
   "source": [
    "#### Compute profanity score for all quotes and add it to the dataframe as a feature"
   ]
  },
  {
   "cell_type": "code",
   "execution_count": 23,
   "id": "1379536c-23b6-4bb8-aeee-b37840466f9f",
   "metadata": {},
   "outputs": [
    {
     "data": {
      "text/html": [
       "<div>\n",
       "<style scoped>\n",
       "    .dataframe tbody tr th:only-of-type {\n",
       "        vertical-align: middle;\n",
       "    }\n",
       "\n",
       "    .dataframe tbody tr th {\n",
       "        vertical-align: top;\n",
       "    }\n",
       "\n",
       "    .dataframe thead th {\n",
       "        text-align: right;\n",
       "    }\n",
       "</style>\n",
       "<table border=\"1\" class=\"dataframe\">\n",
       "  <thead>\n",
       "    <tr style=\"text-align: right;\">\n",
       "      <th></th>\n",
       "      <th>quoteID</th>\n",
       "      <th>quotation</th>\n",
       "      <th>speaker</th>\n",
       "      <th>qids</th>\n",
       "      <th>date</th>\n",
       "      <th>numOccurrences</th>\n",
       "      <th>probas</th>\n",
       "      <th>urls</th>\n",
       "      <th>phase</th>\n",
       "      <th>len</th>\n",
       "      <th>profanity</th>\n",
       "    </tr>\n",
       "  </thead>\n",
       "  <tbody>\n",
       "    <tr>\n",
       "      <th>0</th>\n",
       "      <td>2019-04-17-024782</td>\n",
       "      <td>It is not a low-income immigration,</td>\n",
       "      <td>James Fisher</td>\n",
       "      <td>[Q16213953, Q20707104, Q43143598, Q58886302, Q...</td>\n",
       "      <td>2019-04-17 13:31:18</td>\n",
       "      <td>1</td>\n",
       "      <td>[[James Fisher, 0.7475], [None, 0.2525]]</td>\n",
       "      <td>[https://www.nytimes.com/2019/04/17/realestate...</td>\n",
       "      <td>E</td>\n",
       "      <td>35</td>\n",
       "      <td>0.017196</td>\n",
       "    </tr>\n",
       "    <tr>\n",
       "      <th>1</th>\n",
       "      <td>2019-04-02-001128</td>\n",
       "      <td>a champion figure skater switching to roller s...</td>\n",
       "      <td>John Updike</td>\n",
       "      <td>[Q105756]</td>\n",
       "      <td>2019-04-02 14:58:33</td>\n",
       "      <td>2</td>\n",
       "      <td>[[John Updike, 0.5856], [None, 0.4144]]</td>\n",
       "      <td>[https://www.nytimes.com/2019/04/02/opinion/vl...</td>\n",
       "      <td>E</td>\n",
       "      <td>52</td>\n",
       "      <td>0.012897</td>\n",
       "    </tr>\n",
       "    <tr>\n",
       "      <th>2</th>\n",
       "      <td>2019-05-09-055187</td>\n",
       "      <td>It makes it much more difficult for him to mak...</td>\n",
       "      <td>None</td>\n",
       "      <td>[]</td>\n",
       "      <td>2019-05-09 18:11:29</td>\n",
       "      <td>1</td>\n",
       "      <td>[[None, 0.6493], [President Bill Clinton, 0.27...</td>\n",
       "      <td>[http://mobile.nytimes.com/2019/05/09/world/as...</td>\n",
       "      <td>E</td>\n",
       "      <td>71</td>\n",
       "      <td>0.025312</td>\n",
       "    </tr>\n",
       "    <tr>\n",
       "      <th>3</th>\n",
       "      <td>2019-10-31-056366</td>\n",
       "      <td>It puts me in a predicament,</td>\n",
       "      <td>Xavier Becerra</td>\n",
       "      <td>[Q1855840]</td>\n",
       "      <td>2019-10-31 16:45:15</td>\n",
       "      <td>3</td>\n",
       "      <td>[[Xavier Becerra, 0.9065], [None, 0.0909], [St...</td>\n",
       "      <td>[http://www.nytimes.com/2019/10/31/technology/...</td>\n",
       "      <td>E</td>\n",
       "      <td>28</td>\n",
       "      <td>0.046677</td>\n",
       "    </tr>\n",
       "    <tr>\n",
       "      <th>4</th>\n",
       "      <td>2019-01-04-001792</td>\n",
       "      <td>A Pile of Leaves.</td>\n",
       "      <td>None</td>\n",
       "      <td>[]</td>\n",
       "      <td>2019-01-04 10:00:07</td>\n",
       "      <td>1</td>\n",
       "      <td>[[None, 0.8737], [Jason Fulford, 0.1263]]</td>\n",
       "      <td>[https://www.nytimes.com/2019/01/04/books/revi...</td>\n",
       "      <td>E</td>\n",
       "      <td>17</td>\n",
       "      <td>0.125558</td>\n",
       "    </tr>\n",
       "  </tbody>\n",
       "</table>\n",
       "</div>"
      ],
      "text/plain": [
       "             quoteID                                          quotation  \\\n",
       "0  2019-04-17-024782                It is not a low-income immigration,   \n",
       "1  2019-04-02-001128  a champion figure skater switching to roller s...   \n",
       "2  2019-05-09-055187  It makes it much more difficult for him to mak...   \n",
       "3  2019-10-31-056366                       It puts me in a predicament,   \n",
       "4  2019-01-04-001792                                  A Pile of Leaves.   \n",
       "\n",
       "          speaker                                               qids  \\\n",
       "0    James Fisher  [Q16213953, Q20707104, Q43143598, Q58886302, Q...   \n",
       "1     John Updike                                          [Q105756]   \n",
       "2            None                                                 []   \n",
       "3  Xavier Becerra                                         [Q1855840]   \n",
       "4            None                                                 []   \n",
       "\n",
       "                 date  numOccurrences  \\\n",
       "0 2019-04-17 13:31:18               1   \n",
       "1 2019-04-02 14:58:33               2   \n",
       "2 2019-05-09 18:11:29               1   \n",
       "3 2019-10-31 16:45:15               3   \n",
       "4 2019-01-04 10:00:07               1   \n",
       "\n",
       "                                              probas  \\\n",
       "0           [[James Fisher, 0.7475], [None, 0.2525]]   \n",
       "1            [[John Updike, 0.5856], [None, 0.4144]]   \n",
       "2  [[None, 0.6493], [President Bill Clinton, 0.27...   \n",
       "3  [[Xavier Becerra, 0.9065], [None, 0.0909], [St...   \n",
       "4          [[None, 0.8737], [Jason Fulford, 0.1263]]   \n",
       "\n",
       "                                                urls phase  len  profanity  \n",
       "0  [https://www.nytimes.com/2019/04/17/realestate...     E   35   0.017196  \n",
       "1  [https://www.nytimes.com/2019/04/02/opinion/vl...     E   52   0.012897  \n",
       "2  [http://mobile.nytimes.com/2019/05/09/world/as...     E   71   0.025312  \n",
       "3  [http://www.nytimes.com/2019/10/31/technology/...     E   28   0.046677  \n",
       "4  [https://www.nytimes.com/2019/01/04/books/revi...     E   17   0.125558  "
      ]
     },
     "execution_count": 23,
     "metadata": {},
     "output_type": "execute_result"
    }
   ],
   "source": [
    "df['profanity'] = profanity_check.predict_prob(df['quotation']) \n",
    "df.head()"
   ]
  },
  {
   "cell_type": "markdown",
   "id": "00f95660-6052-4395-9628-8d2fc2c241d3",
   "metadata": {},
   "source": [
    "#### Visualize profanity score distribution"
   ]
  },
  {
   "cell_type": "code",
   "execution_count": 24,
   "id": "ada6f511-b097-48d0-ac46-d788d217f719",
   "metadata": {},
   "outputs": [
    {
     "data": {
      "image/png": "[encoded data removed]",
      "text/plain": [
       "<Figure size 432x288 with 1 Axes>"
      ]
     },
     "metadata": {
      "needs_background": "light"
     },
     "output_type": "display_data"
    }
   ],
   "source": [
    "_ = df['profanity'].plot(kind='hist', bins=30, xlabel='profanity')"
   ]
  },
  {
   "cell_type": "code",
   "execution_count": 25,
   "id": "c7b58dd4-1580-4052-92ca-d6c5bfc54257",
   "metadata": {},
   "outputs": [
    {
     "data": {
      "text/plain": [
       "count    207527.000000\n",
       "mean          0.071493\n",
       "std           0.109267\n",
       "min           0.000230\n",
       "25%           0.017624\n",
       "50%           0.036600\n",
       "75%           0.076663\n",
       "max           1.000000\n",
       "Name: profanity, dtype: float64"
      ]
     },
     "execution_count": 25,
     "metadata": {},
     "output_type": "execute_result"
    },
    {
     "data": {
      "image/png": "[encoded data removed]",
      "text/plain": [
       "<Figure size 432x288 with 1 Axes>"
      ]
     },
     "metadata": {
      "needs_background": "light"
     },
     "output_type": "display_data"
    }
   ],
   "source": [
    "_ = df['profanity'].plot(kind='box')\n",
    "df['profanity'].describe()"
   ]
  },
  {
   "cell_type": "markdown",
   "id": "ed4f8360-100e-4d9e-baae-44957c1ca045",
   "metadata": {},
   "source": [
    "#### Distribution of quotations with higher profanity"
   ]
  },
  {
   "cell_type": "code",
   "execution_count": 26,
   "id": "0219a61b-c697-47d9-920b-adab7ff1f6fe",
   "metadata": {},
   "outputs": [
    {
     "name": "stdout",
     "output_type": "stream",
     "text": [
      "1389 quotes with profanity score > 0.7\n"
     ]
    },
    {
     "data": {
      "text/html": [
       "<div>\n",
       "<style scoped>\n",
       "    .dataframe tbody tr th:only-of-type {\n",
       "        vertical-align: middle;\n",
       "    }\n",
       "\n",
       "    .dataframe tbody tr th {\n",
       "        vertical-align: top;\n",
       "    }\n",
       "\n",
       "    .dataframe thead th {\n",
       "        text-align: right;\n",
       "    }\n",
       "</style>\n",
       "<table border=\"1\" class=\"dataframe\">\n",
       "  <thead>\n",
       "    <tr style=\"text-align: right;\">\n",
       "      <th></th>\n",
       "      <th>quoteID</th>\n",
       "      <th>quotation</th>\n",
       "      <th>speaker</th>\n",
       "      <th>qids</th>\n",
       "      <th>date</th>\n",
       "      <th>numOccurrences</th>\n",
       "      <th>probas</th>\n",
       "      <th>urls</th>\n",
       "      <th>phase</th>\n",
       "      <th>len</th>\n",
       "      <th>profanity</th>\n",
       "    </tr>\n",
       "  </thead>\n",
       "  <tbody>\n",
       "    <tr>\n",
       "      <th>172</th>\n",
       "      <td>2019-01-10-120671</td>\n",
       "      <td>You can put perfume on a pile of dung, and it ...</td>\n",
       "      <td>None</td>\n",
       "      <td>[]</td>\n",
       "      <td>2019-01-10 00:54:59</td>\n",
       "      <td>2</td>\n",
       "      <td>[[None, 0.876], [Michael Harrison, 0.0715], [M...</td>\n",
       "      <td>[http://www.nytimes.com/2019/01/09/us/baltimor...</td>\n",
       "      <td>E</td>\n",
       "      <td>144</td>\n",
       "      <td>0.747473</td>\n",
       "    </tr>\n",
       "    <tr>\n",
       "      <th>232</th>\n",
       "      <td>2019-09-21-039668</td>\n",
       "      <td>Tell her to keep her mouth shut,</td>\n",
       "      <td>President Barack Obama</td>\n",
       "      <td>[Q76]</td>\n",
       "      <td>2019-09-21 09:00:11</td>\n",
       "      <td>2</td>\n",
       "      <td>[[President Barack Obama, 0.6097], [David Axel...</td>\n",
       "      <td>[http://www.nytimes.com/2019/09/21/us/politics...</td>\n",
       "      <td>E</td>\n",
       "      <td>32</td>\n",
       "      <td>0.975267</td>\n",
       "    </tr>\n",
       "    <tr>\n",
       "      <th>275</th>\n",
       "      <td>2019-07-05-076464</td>\n",
       "      <td>We wanted to blow all that up,</td>\n",
       "      <td>Steven Wilson</td>\n",
       "      <td>[Q352766]</td>\n",
       "      <td>2019-07-05 19:00:56</td>\n",
       "      <td>4</td>\n",
       "      <td>[[Steven Wilson, 0.7926], [None, 0.2074]]</td>\n",
       "      <td>[http://mobile.nytimes.com/2019/07/05/nyregion...</td>\n",
       "      <td>E</td>\n",
       "      <td>30</td>\n",
       "      <td>0.743172</td>\n",
       "    </tr>\n",
       "    <tr>\n",
       "      <th>355</th>\n",
       "      <td>2019-09-19-033144</td>\n",
       "      <td>I find myself more concerned about the terribl...</td>\n",
       "      <td>None</td>\n",
       "      <td>[]</td>\n",
       "      <td>2019-09-19 14:11:58</td>\n",
       "      <td>1</td>\n",
       "      <td>[[None, 0.918], [President Trump, 0.082]]</td>\n",
       "      <td>[https://www.nytimes.com/2019/09/19/style/patt...</td>\n",
       "      <td>E</td>\n",
       "      <td>210</td>\n",
       "      <td>0.745001</td>\n",
       "    </tr>\n",
       "    <tr>\n",
       "      <th>362</th>\n",
       "      <td>2019-06-27-034157</td>\n",
       "      <td>I think he was a racist,</td>\n",
       "      <td>Gabriel Sherman</td>\n",
       "      <td>[Q16210395]</td>\n",
       "      <td>2019-06-27 18:00:46</td>\n",
       "      <td>1</td>\n",
       "      <td>[[Gabriel Sherman, 0.8783], [None, 0.1044], [R...</td>\n",
       "      <td>[https://www.nytimes.com/2019/06/27/arts/telev...</td>\n",
       "      <td>E</td>\n",
       "      <td>24</td>\n",
       "      <td>0.813794</td>\n",
       "    </tr>\n",
       "  </tbody>\n",
       "</table>\n",
       "</div>"
      ],
      "text/plain": [
       "               quoteID                                          quotation  \\\n",
       "172  2019-01-10-120671  You can put perfume on a pile of dung, and it ...   \n",
       "232  2019-09-21-039668                   Tell her to keep her mouth shut,   \n",
       "275  2019-07-05-076464                     We wanted to blow all that up,   \n",
       "355  2019-09-19-033144  I find myself more concerned about the terribl...   \n",
       "362  2019-06-27-034157                           I think he was a racist,   \n",
       "\n",
       "                    speaker         qids                date  numOccurrences  \\\n",
       "172                    None           [] 2019-01-10 00:54:59               2   \n",
       "232  President Barack Obama        [Q76] 2019-09-21 09:00:11               2   \n",
       "275           Steven Wilson    [Q352766] 2019-07-05 19:00:56               4   \n",
       "355                    None           [] 2019-09-19 14:11:58               1   \n",
       "362         Gabriel Sherman  [Q16210395] 2019-06-27 18:00:46               1   \n",
       "\n",
       "                                                probas  \\\n",
       "172  [[None, 0.876], [Michael Harrison, 0.0715], [M...   \n",
       "232  [[President Barack Obama, 0.6097], [David Axel...   \n",
       "275          [[Steven Wilson, 0.7926], [None, 0.2074]]   \n",
       "355          [[None, 0.918], [President Trump, 0.082]]   \n",
       "362  [[Gabriel Sherman, 0.8783], [None, 0.1044], [R...   \n",
       "\n",
       "                                                  urls phase  len  profanity  \n",
       "172  [http://www.nytimes.com/2019/01/09/us/baltimor...     E  144   0.747473  \n",
       "232  [http://www.nytimes.com/2019/09/21/us/politics...     E   32   0.975267  \n",
       "275  [http://mobile.nytimes.com/2019/07/05/nyregion...     E   30   0.743172  \n",
       "355  [https://www.nytimes.com/2019/09/19/style/patt...     E  210   0.745001  \n",
       "362  [https://www.nytimes.com/2019/06/27/arts/telev...     E   24   0.813794  "
      ]
     },
     "execution_count": 26,
     "metadata": {},
     "output_type": "execute_result"
    }
   ],
   "source": [
    "# The following threshold is key for filtering out the most profane quotations\n",
    "# Its final value still remains uncertain\n",
    "threshold = 0.7\n",
    "df_profane = df[df['profanity'] > threshold]\n",
    "print(f\"{len(df_profane)} quotes with profanity score > {threshold}\")\n",
    "df_profane.head()"
   ]
  },
  {
   "cell_type": "code",
   "execution_count": 27,
   "id": "c1b09600-4454-4151-ad0a-976166e376ed",
   "metadata": {},
   "outputs": [
    {
     "data": {
      "image/png": "[encoded data removed]",
      "text/plain": [
       "<Figure size 432x288 with 1 Axes>"
      ]
     },
     "metadata": {
      "needs_background": "light"
     },
     "output_type": "display_data"
    }
   ],
   "source": [
    "_ = df_profane['profanity'].plot(kind='hist', bins=30)"
   ]
  },
  {
   "cell_type": "code",
   "execution_count": 36,
   "id": "422c94ce-0847-4255-8352-65e8e4169ce5",
   "metadata": {},
   "outputs": [
    {
     "data": {
      "text/plain": [
       "quoteID                                           2019-07-24-011721\n",
       "quotation                disgusting, rat, and rodent infested mess.\n",
       "speaker                                      President Donald Trump\n",
       "qids                                                       [Q22686]\n",
       "date                                            2019-07-24 21:11:30\n",
       "numOccurrences                                                 3119\n",
       "probas            [[President Donald Trump, 0.4486], [None, 0.22...\n",
       "urls              [https://www.mitchellrepublic.com/news/nation/...\n",
       "phase                                                             E\n",
       "len                                                              42\n",
       "profanity                                                  0.931411\n",
       "Name: 186166, dtype: object"
      ]
     },
     "execution_count": 36,
     "metadata": {},
     "output_type": "execute_result"
    }
   ],
   "source": [
    "# Quote most common with highest profanity \n",
    "df_profane.iloc[df_profane['numOccurrences'].argmax()]"
   ]
  },
  {
   "cell_type": "code",
   "execution_count": 37,
   "id": "ab8b4dfc-73db-4b23-aa4b-400efb3efc26",
   "metadata": {
    "scrolled": true
   },
   "outputs": [
    {
     "data": {
      "text/plain": [
       "quoteID                                           2019-06-21-021744\n",
       "quotation                                         Fuck you, Sparky.\n",
       "speaker                                                        None\n",
       "qids                                                             []\n",
       "date                                            2019-06-21 14:57:07\n",
       "numOccurrences                                                    3\n",
       "probas            [[None, 0.5406], [Jeremy Denk, 0.3325], [Errol...\n",
       "urls              [http://www.nytimes.com/interactive/2019/06/21...\n",
       "phase                                                             E\n",
       "len                                                              17\n",
       "profanity                                                       1.0\n",
       "Name: 37622, dtype: object"
      ]
     },
     "execution_count": 37,
     "metadata": {},
     "output_type": "execute_result"
    }
   ],
   "source": [
    "# Quote with highest profanity\n",
    "df.loc[df['profanity'].argmax()] # Highest profanity quote"
   ]
  },
  {
   "cell_type": "markdown",
   "id": "060f1d27-1fb2-4410-9bc7-04ab90af6e75",
   "metadata": {},
   "source": [
    "#### Most frequent words in high profanity quotations"
   ]
  },
  {
   "cell_type": "code",
   "execution_count": 43,
   "id": "5cd390c3-165c-45a3-accb-adb761074eb8",
   "metadata": {
    "tags": []
   },
   "outputs": [],
   "source": [
    "words = df_profane.quotation.str.split(expand=True).stack()\n",
    "filtered_words = pd.Series(filter(lambda word: word.lower() not in stopwords.words(), words))"
   ]
  },
  {
   "cell_type": "code",
   "execution_count": 44,
   "id": "b20455d6-a579-44c1-99d8-7310686eaae0",
   "metadata": {},
   "outputs": [
    {
     "data": {
      "text/plain": [
       "I'm       99\n",
       "like      99\n",
       "going     73\n",
       "--        63\n",
       "kill      63\n",
       "people    61\n",
       "get       56\n",
       "stupid    52\n",
       "would     49\n",
       "hate      48\n",
       "hell      46\n",
       "think     43\n",
       "gay       39\n",
       "like,     38\n",
       "know      38\n",
       "shut      36\n",
       "black     35\n",
       "got       34\n",
       "white     33\n",
       "racist    33\n",
       "dtype: int64"
      ]
     },
     "execution_count": 44,
     "metadata": {},
     "output_type": "execute_result"
    }
   ],
   "source": [
    "filtered_words.value_counts().head(20)"
   ]
  },
  {
   "cell_type": "markdown",
   "id": "cce674da-3ba6-49a7-bb16-833639f95e0a",
   "metadata": {},
   "source": [
    "#### Speaker frequency in high profanity quotations"
   ]
  },
  {
   "cell_type": "code",
   "execution_count": 28,
   "id": "f1206fe6-9071-4ed7-95a1-ee24b07e75e8",
   "metadata": {},
   "outputs": [
    {
     "data": {
      "text/plain": [
       "None                      570\n",
       "President Donald Trump     37\n",
       "President Trump            23\n",
       "Joe Biden                  16\n",
       "Elizabeth Warren            8\n",
       "JIMMY KIMMEL                7\n",
       "Bernie Sanders              6\n",
       "Pete Buttigieg              5\n",
       "Lindsey Graham              5\n",
       "Kirsten Gillibrand          5\n",
       "Javier Marías               4\n",
       "Saeed Jones                 3\n",
       "Bill de Blasio              3\n",
       "STEPHEN COLBERT             3\n",
       "Rodrigo Duterte             3\n",
       "Name: speaker, dtype: int64"
      ]
     },
     "execution_count": 28,
     "metadata": {},
     "output_type": "execute_result"
    }
   ],
   "source": [
    "df_profane['speaker'].value_counts().head(15)"
   ]
  },
  {
   "cell_type": "code",
   "execution_count": 29,
   "id": "4c0199c7-b608-48f8-a77d-93fe8573ae43",
   "metadata": {},
   "outputs": [
    {
     "data": {
      "image/png": "[encoded data removed]",
      "text/plain": [
       "<Figure size 432x288 with 1 Axes>"
      ]
     },
     "metadata": {
      "needs_background": "light"
     },
     "output_type": "display_data"
    }
   ],
   "source": [
    "_ = df_profane.plot(kind='scatter', x='len', y='profanity', xlabel='quotation length') # No visible correlation"
   ]
  },
  {
   "cell_type": "code",
   "execution_count": 35,
   "id": "e4cf4cf0-6b8a-4c7d-83c5-51338b3fcb63",
   "metadata": {},
   "outputs": [
    {
     "data": {
      "image/png": "[encoded data removed]",
      "text/plain": [
       "<Figure size 432x288 with 1 Axes>"
      ]
     },
     "metadata": {
      "needs_background": "light"
     },
     "output_type": "display_data"
    }
   ],
   "source": [
    "_ = df_profane.plot(kind='scatter', x='numOccurrences', y='profanity')"
   ]
  },
  {
   "cell_type": "markdown",
   "id": "ff835809-201b-4da8-9c77-137efb45a06d",
   "metadata": {},
   "source": [
    "#### Most profane speakers"
   ]
  },
  {
   "cell_type": "code",
   "execution_count": 38,
   "id": "3c1475b5-738f-4c8d-80ec-b7a3e87c819c",
   "metadata": {},
   "outputs": [
    {
     "data": {
      "text/plain": [
       "speaker\n",
       "Lee Martin           0.993907\n",
       "Kristin Cavallari    0.983488\n",
       "Scott Alexander      0.970337\n",
       "Elizabeth Levy       0.951503\n",
       "Cady Huffman         0.943276\n",
       "Nic Pizzolatto       0.940754\n",
       "Ed Dwight            0.928452\n",
       "Joshua Rush          0.923477\n",
       "William Buckley      0.922743\n",
       "Will Young           0.918782\n",
       "Name: profanity, dtype: float64"
      ]
     },
     "execution_count": 38,
     "metadata": {},
     "output_type": "execute_result"
    }
   ],
   "source": [
    "df.groupby('speaker')['profanity'].mean().sort_values(ascending=False).head(10)"
   ]
  },
  {
   "cell_type": "code",
   "execution_count": 39,
   "id": "47b86b1d-d03d-4e8c-bf89-60e31fc38171",
   "metadata": {},
   "outputs": [
    {
     "data": {
      "image/png": "[encoded data removed]",
      "text/plain": [
       "<Figure size 432x288 with 1 Axes>"
      ]
     },
     "metadata": {
      "needs_background": "light"
     },
     "output_type": "display_data"
    }
   ],
   "source": [
    "df_trump = df[df['speaker'] == ('President Donald Trump' or 'Donald Trump' or 'President Trump')]\n",
    "_ = df_trump['profanity'].plot(kind='box') # Trump profanity distribution"
   ]
  },
  {
   "cell_type": "markdown",
   "id": "d27c5f69-7f8e-4edc-993f-1fb59ce28e18",
   "metadata": {},
   "source": [
    "#### Profanity by occupations"
   ]
  },
  {
   "cell_type": "code",
   "execution_count": 55,
   "id": "0b5994cf-19a2-4152-a811-3c7f7d7d8cf3",
   "metadata": {},
   "outputs": [],
   "source": [
    "# Helper\n",
    "def append_to_list(occupations, profanity, counts):\n",
    "    if occupations is None: return\n",
    "    for occupation in occupations:\n",
    "        if occupation not in counts: counts[occupation] = []\n",
    "        counts[occupation].append(profanity)"
   ]
  },
  {
   "cell_type": "code",
   "execution_count": 56,
   "id": "9889216f-2ec7-4a9a-863a-e22a261d7656",
   "metadata": {},
   "outputs": [],
   "source": [
    "occupation_to_profanity_list = {}\n",
    "df_occupations['profanity'] = profanity_check.predict_prob(df_occupations['quotation']) # Add profanity feature\n",
    "_ = df_occupations.apply(lambda row: append_to_list(row['occupation_labels'], row['profanity'], occupation_to_profanity_list), axis=1)"
   ]
  },
  {
   "cell_type": "code",
   "execution_count": 57,
   "id": "d7b39b4a-6de9-4d0c-acc4-ab704d6b1d58",
   "metadata": {},
   "outputs": [],
   "source": [
    "occupation_to_profanity = {k: np.mean(v) for k, v in occupation_to_profanity_list.items()}"
   ]
  },
  {
   "cell_type": "code",
   "execution_count": 48,
   "id": "2e3c7adf-7a95-4b0e-8b7b-e0094e360bc5",
   "metadata": {},
   "outputs": [
    {
     "data": {
      "image/png": "[encoded data removed]",
      "text/plain": [
       "<Figure size 1440x576 with 1 Axes>"
      ]
     },
     "metadata": {
      "needs_background": "light"
     },
     "output_type": "display_data"
    }
   ],
   "source": [
    "top10_by_profanity = sorted(occupation_to_profanity.items(), key=lambda x: x[1], reverse=True)[:10]\n",
    "plt.figure(figsize=(20,8))\n",
    "_ = sns.barplot(x=[x for x,y in top10_by_profanity], y=[y for x,y in top10_by_profanity])"
   ]
  },
  {
   "cell_type": "markdown",
   "id": "5f7b55c5-6f6d-4d57-8033-4a54339c4245",
   "metadata": {},
   "source": [
    "#### Profanity by age"
   ]
  },
  {
   "cell_type": "markdown",
   "id": "09644778-1a4f-413b-9aee-4473eff663ec",
   "metadata": {},
   "source": [
    "#### Profanity by gender"
   ]
  },
  {
   "cell_type": "markdown",
   "id": "4e726e59-f61a-49c0-8863-2231395c0480",
   "metadata": {},
   "source": [
    "## Temporal Analysis"
   ]
  },
  {
   "cell_type": "code",
   "execution_count": 64,
   "id": "fc7cda4c-ec6b-42dc-9e72-a8627cb35527",
   "metadata": {},
   "outputs": [],
   "source": [
    "# Extract the yyyy-mm part from the date\n",
    "@f.udf(StringType())\n",
    "def get_month(date_str):\n",
    "    return \"-\".join(date_str.split(\"-\")[:2])\n",
    "\n",
    "@f.udf(StringType())\n",
    "def get_date(date_str):\n",
    "    return \"-\".join(date_str.split(\"-\")[:3])\n",
    "\n",
    "def normalize(key, pdf):\n",
    "    return pd.DataFrame({\"key\": [ key[0] ], \"mean\" : [ pdf.profanity.mean() ], \"sem\" : [ pdf.profanity.sem() ]})\n",
    "\n",
    "def plot_distribution(df, title):\n",
    "    plt.figure(figsize=(6,8))\n",
    "    plt.ylim(0.99 * df['mean'].min(), 1.01 * df['mean'].max())\n",
    "    sns.barplot(x=df[\"key\"], y=df[\"mean\"], yerr=1.96*df[\"sem\"])\n",
    "    plt.xlabel(\"month\")\n",
    "    plt.ylabel(\"average profanity with 95% error bars\")\n",
    "    plt.title(title)\n",
    "    plt.show()"
   ]
  },
  {
   "cell_type": "markdown",
   "id": "a2519b47-849e-4d41-98aa-7e501ca4ec01",
   "metadata": {},
   "source": [
    "#### Moving average of profanities"
   ]
  },
  {
   "cell_type": "code",
   "execution_count": 49,
   "id": "f62d47aa-ae6b-4b04-a45f-94c3c67817bc",
   "metadata": {},
   "outputs": [
    {
     "name": "stderr",
     "output_type": "stream",
     "text": [
      "                                                                                \r"
     ]
    }
   ],
   "source": [
    "daily_avg = qb \\\n",
    "        .withColumn('date', get_date(f.col('quoteID'))) \\\n",
    "        .groupby('date') \\\n",
    "        .applyInPandas(normalize, schema=\"key string, mean double, sem double\") \\\n",
    "        .sort(\"key\") \\\n",
    "        .toPandas()"
   ]
  },
  {
   "cell_type": "code",
   "execution_count": 52,
   "id": "ae0b9132-7a27-467c-951f-657e1773ccba",
   "metadata": {},
   "outputs": [],
   "source": [
    "daily_avg = daily_avg.set_index('key')\n",
    "mavg = daily_avg.rolling(14).mean()"
   ]
  },
  {
   "cell_type": "code",
   "execution_count": 58,
   "id": "cabeeb35-91db-4328-bb17-243a156ddde1",
   "metadata": {},
   "outputs": [
    {
     "name": "stderr",
     "output_type": "stream",
     "text": [
      "/usr/local/anaconda3/envs/ada/lib/python3.8/site-packages/numpy/core/_asarray.py:171: UserWarning: Warning: converting a masked element to nan.\n",
      "  return array(a, dtype, copy=False, order=order, subok=True)\n"
     ]
    },
    {
     "data": {
      "text/plain": [
       "<AxesSubplot:xlabel='key'>"
      ]
     },
     "execution_count": 58,
     "metadata": {},
     "output_type": "execute_result"
    },
    {
     "data": {
      "image/png": "[encoded data removed]",
      "text/plain": [
       "<Figure size 576x432 with 1 Axes>"
      ]
     },
     "metadata": {
      "needs_background": "light"
     },
     "output_type": "display_data"
    }
   ],
   "source": [
    "plt.figure(figsize=(8, 6))\n",
    "mavg['mean'].plot.line(yerr=mavg['sem'])"
   ]
  },
  {
   "cell_type": "markdown",
   "id": "6d12f281-8e9e-4a2d-a9b5-70702e54e966",
   "metadata": {},
   "source": [
    "#### Monthly average profanity"
   ]
  },
  {
   "cell_type": "code",
   "execution_count": 67,
   "id": "bdc47802-d5ff-407a-8203-932ace6aff24",
   "metadata": {},
   "outputs": [
    {
     "name": "stderr",
     "output_type": "stream",
     "text": [
      "                                                                                \r"
     ]
    }
   ],
   "source": [
    "d1 = qb.where(qb.speaker_qid.isNotNull()) \\\n",
    "        .withColumn('date', get_month(f.col('quoteID'))) \\\n",
    "        .groupby('date') \\\n",
    "        .applyInPandas(normalize, schema=\"key string, mean double, sem double\") \\\n",
    "        .sort(\"key\") \\\n",
    "        .toPandas()"
   ]
  },
  {
   "cell_type": "code",
   "execution_count": 68,
   "id": "7a54ddfd-0cad-4359-8b02-1a79682d9194",
   "metadata": {},
   "outputs": [
    {
     "name": "stderr",
     "output_type": "stream",
     "text": [
      "                                                                                \r"
     ]
    }
   ],
   "source": [
    "d2 = qb.where(qb.speaker_qid.isNotNull()) \\\n",
    "        .withColumn('date', get_month(f.col('quoteID'))) \\\n",
    "        .where( (qb.speaker != \"President Donald Trump\") \\\n",
    "               & (qb.speaker != \"President Trump\") \\\n",
    "               & (qb.speaker != \"Donald Trump\") ) \\\n",
    "        .groupby(\"date\") \\\n",
    "        .applyInPandas(normalize, schema=\"key string, mean double, sem double\") \\\n",
    "        .sort(\"key\") \\\n",
    "        .toPandas()"
   ]
  },
  {
   "cell_type": "code",
   "execution_count": 69,
   "id": "c9e510f7-309f-4c74-b451-7c35ecb451dd",
   "metadata": {},
   "outputs": [
    {
     "data": {
      "image/png": "[encoded data removed]",
      "text/plain": [
       "<Figure size 432x576 with 1 Axes>"
      ]
     },
     "metadata": {
      "needs_background": "light"
     },
     "output_type": "display_data"
    },
    {
     "data": {
      "image/png": "[encoded data removed]",
      "text/plain": [
       "<Figure size 432x576 with 1 Axes>"
      ]
     },
     "metadata": {
      "needs_background": "light"
     },
     "output_type": "display_data"
    }
   ],
   "source": [
    "plot_distribution(d1, \"Monthly average profanity\")\n",
    "plot_distribution(d2, \"Monthly averate profanity excluding Trump\")"
   ]
  },
  {
   "cell_type": "code",
   "execution_count": 70,
   "id": "f457ba52-6edf-4f1f-b111-a79bc829d890",
   "metadata": {},
   "outputs": [
    {
     "data": {
      "text/plain": [
       "(0.05621509567879076, 0.06116344827488733)"
      ]
     },
     "execution_count": 70,
     "metadata": {},
     "output_type": "execute_result"
    },
    {
     "data": {
      "image/png": "[encoded data removed]",
      "text/plain": [
       "<Figure size 469x360 with 1 Axes>"
      ]
     },
     "metadata": {
      "needs_background": "light"
     },
     "output_type": "display_data"
    }
   ],
   "source": [
    "d1['kind'] = 'With Trump'\n",
    "d2['kind'] = 'Without Trump'\n",
    "d = pd.concat([d1, d2])\n",
    "sns.catplot(x='key', y='mean', hue='kind', data=d, kind='bar', yerr=1.96 * d1['sem'])\n",
    "plt.ylim(0.99 * d['mean'].min(), 1.01 * d['mean'].max())"
   ]
  },
  {
   "cell_type": "code",
   "execution_count": null,
   "id": "441a7b2f-6fc2-4e3f-bf82-bc4b455e86f9",
   "metadata": {},
   "outputs": [],
   "source": []
  }
 ],
 "metadata": {
  "kernelspec": {
   "display_name": "Python 3 (ipykernel)",
   "language": "python",
   "name": "python3"
  },
  "language_info": {
   "codemirror_mode": {
    "name": "ipython",
    "version": 3
   },
   "file_extension": ".py",
   "mimetype": "text/x-python",
   "name": "python",
   "nbconvert_exporter": "python",
   "pygments_lexer": "ipython3",
   "version": "3.8.12"
  }
 },
 "nbformat": 4,
 "nbformat_minor": 5
}
