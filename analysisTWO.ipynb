{
 "cells": [
  {
   "cell_type": "code",
   "execution_count": 1,
   "id": "5466deb4-918e-432f-9d88-3bd48c533b02",
   "metadata": {},
   "outputs": [],
   "source": [
    "# Data handling and visualization\n",
    "import numpy as np\n",
    "import pandas as pd\n",
    "import matplotlib.pyplot as plt\n",
    "import seaborn as sns\n",
    "\n",
    "# PySpark\n",
    "import pyspark\n",
    "from pyspark import SparkContext\n",
    "from pyspark.sql import functions as f\n",
    "from pyspark.sql import SparkSession, Window\n",
    "from pyspark.sql.types import IntegerType, BooleanType, ArrayType, StringType\n",
    "\n",
    "#Spark NLP\n",
    "import sparknlp\n",
    "from sparknlp.base import *\n",
    "from sparknlp.annotator import *\n",
    "from sparknlp.pretrained import PretrainedPipeline\n",
    "\n",
    "# Helpers\n",
    "import os"
   ]
  },
  {
   "cell_type": "code",
   "execution_count": 3,
   "id": "c17b71a4-8f55-48f1-bf41-10d3e705a355",
   "metadata": {},
   "outputs": [
    {
     "data": {
      "text/html": [
       "\n",
       "            <div>\n",
       "                <p><b>SparkSession - in-memory</b></p>\n",
       "                \n",
       "        <div>\n",
       "            <p><b>SparkContext</b></p>\n",
       "\n",
       "            <p><a href=\"http://172.22.22.63:4040\">Spark UI</a></p>\n",
       "\n",
       "            <dl>\n",
       "              <dt>Version</dt>\n",
       "                <dd><code>v3.1.1</code></dd>\n",
       "              <dt>Master</dt>\n",
       "                <dd><code>local[*]</code></dd>\n",
       "              <dt>AppName</dt>\n",
       "                <dd><code>pyspark-shell</code></dd>\n",
       "            </dl>\n",
       "        </div>\n",
       "        \n",
       "            </div>\n",
       "        "
      ],
      "text/plain": [
       "<pyspark.sql.session.SparkSession at 0x7feed591cd90>"
      ]
     },
     "execution_count": 3,
     "metadata": {},
     "output_type": "execute_result"
    }
   ],
   "source": [
    "conf = pyspark.SparkConf().setMaster(\"local[*]\").setAll([\n",
    "    ('spark.driver.memory','16G'),\n",
    "    ('spark.driver.maxResultSize', '8G'),\n",
    "    ('spark.sql.execution.arrow.pyspark.enabled', True),\n",
    "    ('spark.local.dir', '/tmp')\n",
    "])\n",
    "\n",
    "spark = SparkSession.builder.config(conf=conf).config(\"spark.jars.packages\", \"com.johnsnowlabs.nlp:spark-nlp_2.12:3.3.2\").getOrCreate()\n",
    "sc = spark.sparkContext\n",
    "sc.setLogLevel(\"ERROR\")\n",
    "spark\n"
   ]
  },
  {
   "cell_type": "code",
   "execution_count": 4,
   "id": "c5484c2c-7553-4b28-bd0d-9d0016953a00",
   "metadata": {},
   "outputs": [],
   "source": [
    "DATA_DIR = 'data/'\n",
    "QUOTEBANK_DATA_DIR = DATA_DIR + 'quotebank_data_raw/'"
   ]
  },
  {
   "cell_type": "code",
   "execution_count": 5,
   "id": "18569935-07d1-4c5c-9a1f-b0511285bcd1",
   "metadata": {},
   "outputs": [],
   "source": [
    "speaker_attribs = pd.read_parquet(DATA_DIR + 'qb_data.parquet')\n",
    "speaker_attribs = speaker_attribs.set_index('id')"
   ]
  },
  {
   "cell_type": "code",
   "execution_count": 6,
   "id": "243c5dd6-fae6-49be-bb6a-384da8fa48a8",
   "metadata": {},
   "outputs": [],
   "source": [
    "attrib_labels = pd.read_csv('data/wikidata_labels_descriptions_quotebank.csv.bz2')\n",
    "attrib_labels = attrib_labels.set_index(\"QID\")\n",
    "\n",
    "#df_attrib = spark.read.parquet(DATA_DIR + 'qb_data.parquet')"
   ]
  },
  {
   "cell_type": "code",
   "execution_count": 7,
   "id": "c226b2db-9acc-46e5-b51d-cdb610c87821",
   "metadata": {},
   "outputs": [
    {
     "name": "stderr",
     "output_type": "stream",
     "text": [
      "                                                                                \r"
     ]
    }
   ],
   "source": [
    "dfs = []\n",
    "for i in os.listdir(QUOTEBANK_DATA_DIR):\n",
    "    dfs.append(spark.read.json(QUOTEBANK_DATA_DIR + i))"
   ]
  },
  {
   "cell_type": "code",
   "execution_count": 8,
   "id": "a0578ae4-be6b-4893-86e6-5c91a01d41bf",
   "metadata": {},
   "outputs": [],
   "source": [
    "df = dfs[0]\n",
    "for df_part in dfs[1:]:\n",
    "    df = df.union(df_part)"
   ]
  },
  {
   "cell_type": "code",
   "execution_count": 10,
   "id": "eaffa134-0492-4d61-81e2-73ea0b499087",
   "metadata": {},
   "outputs": [],
   "source": [
    "kw_econ = [\"economy\", \"economic\"]\n",
    "\n",
    "def topic_match(q, kws):\n",
    "    q = q.lower()\n",
    "    for kw in kws:\n",
    "        if kw in q: return True\n",
    "    return False\n",
    "\n",
    "# User defined function for mapping a column to True/False based on whether the column\n",
    "# contains the keywords related to economy\n",
    "@f.udf(returnType=BooleanType())\n",
    "def econ_topic_match(q):\n",
    "    return topic_match(q, kw_econ)\n",
    "\n",
    "# User defined function for mapping a column to True/False based on whether the column\n",
    "# is null/empty list\n",
    "@f.udf(returnType=BooleanType())\n",
    "def is_empty(val_list):\n",
    "    return val_list is None or len(val_list) == 0"
   ]
  },
  {
   "cell_type": "code",
   "execution_count": 11,
   "id": "1d7a4b48-5f1f-4912-be81-df960a4a0a8e",
   "metadata": {},
   "outputs": [
    {
     "name": "stderr",
     "output_type": "stream",
     "text": [
      "                                                                                \r"
     ]
    },
    {
     "data": {
      "text/plain": [
       "3443605"
      ]
     },
     "execution_count": 11,
     "metadata": {},
     "output_type": "execute_result"
    }
   ],
   "source": [
    "df_has_speaker = df.where(df.speaker != \"None\").where(~is_empty(df.qids))\n",
    "df_has_speaker.count()"
   ]
  },
  {
   "cell_type": "code",
   "execution_count": 12,
   "id": "b186c93c-a572-433d-81ea-4dd75e020b95",
   "metadata": {},
   "outputs": [
    {
     "name": "stderr",
     "output_type": "stream",
     "text": [
      "                                                                                \r"
     ]
    },
    {
     "data": {
      "text/plain": [
       "45953"
      ]
     },
     "execution_count": 12,
     "metadata": {},
     "output_type": "execute_result"
    }
   ],
   "source": [
    "df_econ = df_has_speaker.where(econ_topic_match(df_has_speaker.quotation))\n",
    "df_econ.count()"
   ]
  },
  {
   "cell_type": "code",
   "execution_count": 13,
   "id": "7fa78b60-09a4-4dff-9d68-e59e277c0892",
   "metadata": {},
   "outputs": [
    {
     "name": "stderr",
     "output_type": "stream",
     "text": [
      "                                                                                \r"
     ]
    }
   ],
   "source": [
    "df_econ_pd = df_econ.toPandas()"
   ]
  },
  {
   "cell_type": "code",
   "execution_count": 14,
   "id": "60496d5e-e6d2-4bd1-96d6-f09cd265849f",
   "metadata": {},
   "outputs": [],
   "source": [
    "def speaker_to_occupation(qid):\n",
    "    \"\"\"Return the label associated with a qid or None if not available.\"\"\"\n",
    "    if qid in speaker_attribs.index:\n",
    "        return speaker_attribs.occupation[qid]\n",
    "    return None"
   ]
  },
  {
   "cell_type": "code",
   "execution_count": 15,
   "id": "4f1d74ab-fb36-49e1-b18e-aedabe30f42d",
   "metadata": {},
   "outputs": [],
   "source": [
    "df_econ_pd[\"occupation\"] = df_econ_pd.qids.apply(lambda val : speaker_to_occupation(val[0]))"
   ]
  },
  {
   "cell_type": "code",
   "execution_count": 16,
   "id": "a2541e23-c3c0-4975-a36f-a2d6bc413549",
   "metadata": {},
   "outputs": [],
   "source": [
    "def qid_to_label(qid):\n",
    "    \"\"\"Return the label associated with a qid or None if not available.\"\"\"\n",
    "    if qid in attrib_labels.index:\n",
    "        return attrib_labels.Label[qid]\n",
    "    return None\n",
    "    \n",
    "def map_list(fn, values):\n",
    "    if values is not None:\n",
    "        return list(map(fn, values))\n",
    "    return []"
   ]
  },
  {
   "cell_type": "code",
   "execution_count": 17,
   "id": "46576802-14a7-46e6-9edd-adb5ef666bae",
   "metadata": {},
   "outputs": [],
   "source": [
    "df_econ_pd[\"occupation_labels\"] = df_econ_pd.occupation.apply(lambda val : map_list(qid_to_label, val))"
   ]
  },
  {
   "cell_type": "code",
   "execution_count": 18,
   "id": "f1da3c8e-b0a9-44da-9f17-8e962b48cfc3",
   "metadata": {},
   "outputs": [
    {
     "data": {
      "text/html": [
       "<div>\n",
       "<style scoped>\n",
       "    .dataframe tbody tr th:only-of-type {\n",
       "        vertical-align: middle;\n",
       "    }\n",
       "\n",
       "    .dataframe tbody tr th {\n",
       "        vertical-align: top;\n",
       "    }\n",
       "\n",
       "    .dataframe thead th {\n",
       "        text-align: right;\n",
       "    }\n",
       "</style>\n",
       "<table border=\"1\" class=\"dataframe\">\n",
       "  <thead>\n",
       "    <tr style=\"text-align: right;\">\n",
       "      <th></th>\n",
       "      <th>date</th>\n",
       "      <th>numOccurrences</th>\n",
       "      <th>phase</th>\n",
       "      <th>probas</th>\n",
       "      <th>qids</th>\n",
       "      <th>quotation</th>\n",
       "      <th>quoteID</th>\n",
       "      <th>speaker</th>\n",
       "      <th>urls</th>\n",
       "      <th>occupation</th>\n",
       "      <th>occupation_labels</th>\n",
       "    </tr>\n",
       "  </thead>\n",
       "  <tbody>\n",
       "    <tr>\n",
       "      <th>0</th>\n",
       "      <td>2020-01-22 09:14:24</td>\n",
       "      <td>2</td>\n",
       "      <td>E</td>\n",
       "      <td>[[Lim Guan Eng, 0.9581], [None, 0.0419]]</td>\n",
       "      <td>[Q707164]</td>\n",
       "      <td>Coupled with solid institutions as measured by...</td>\n",
       "      <td>2020-01-22-015396</td>\n",
       "      <td>Lim Guan Eng</td>\n",
       "      <td>[http://www.themalaymailonline.com/news/money/...</td>\n",
       "      <td>[Q82955]</td>\n",
       "      <td>[politician]</td>\n",
       "    </tr>\n",
       "    <tr>\n",
       "      <th>1</th>\n",
       "      <td>2020-04-03 22:00:00</td>\n",
       "      <td>1</td>\n",
       "      <td>E</td>\n",
       "      <td>[[Frank Pavone, 0.5178], [None, 0.2799], [Pres...</td>\n",
       "      <td>[Q5488928]</td>\n",
       "      <td>economy and the free market from the threat of...</td>\n",
       "      <td>2020-04-03-012199</td>\n",
       "      <td>Frank Pavone</td>\n",
       "      <td>[http://catholicnewsagency.com/news/catholics-...</td>\n",
       "      <td>[Q36180]</td>\n",
       "      <td>[writer]</td>\n",
       "    </tr>\n",
       "    <tr>\n",
       "      <th>2</th>\n",
       "      <td>2020-03-18 13:00:00</td>\n",
       "      <td>17</td>\n",
       "      <td>E</td>\n",
       "      <td>[[Philip Lowe, 0.8229], [None, 0.0994], [Matt ...</td>\n",
       "      <td>[Q1981766, Q27922677]</td>\n",
       "      <td>having a very major impact on the economy and ...</td>\n",
       "      <td>2020-03-18-019177</td>\n",
       "      <td>Philip Lowe</td>\n",
       "      <td>[https://www.byronnews.com.au/news/cba-slammed...</td>\n",
       "      <td>[Q188094]</td>\n",
       "      <td>[economist]</td>\n",
       "    </tr>\n",
       "    <tr>\n",
       "      <th>3</th>\n",
       "      <td>2020-01-02 00:00:00</td>\n",
       "      <td>1</td>\n",
       "      <td>E</td>\n",
       "      <td>[[Steve Bartlett, 0.9232], [None, 0.0754], [Pr...</td>\n",
       "      <td>[Q185480]</td>\n",
       "      <td>I enjoy your analysis and instruction on polli...</td>\n",
       "      <td>2020-01-02-019876</td>\n",
       "      <td>Steve Bartlett</td>\n",
       "      <td>[http://feeds.foxnews.com/~r/foxnews/politics/...</td>\n",
       "      <td>[Q82955, Q11986654]</td>\n",
       "      <td>[politician, lobbyist]</td>\n",
       "    </tr>\n",
       "    <tr>\n",
       "      <th>4</th>\n",
       "      <td>2020-04-03 14:03:00</td>\n",
       "      <td>2</td>\n",
       "      <td>E</td>\n",
       "      <td>[[Ursula von der Leyen, 0.9706], [None, 0.0294]]</td>\n",
       "      <td>[Q60772]</td>\n",
       "      <td>invest whatever is necessary to have the econo...</td>\n",
       "      <td>2020-04-03-031101</td>\n",
       "      <td>Ursula von der Leyen</td>\n",
       "      <td>[http://express.co.uk/news/uk/1264562/eu-news-...</td>\n",
       "      <td>[Q39631, Q82955, Q2730732]</td>\n",
       "      <td>[physician, politician, equestrian]</td>\n",
       "    </tr>\n",
       "  </tbody>\n",
       "</table>\n",
       "</div>"
      ],
      "text/plain": [
       "                  date  numOccurrences phase  \\\n",
       "0  2020-01-22 09:14:24               2     E   \n",
       "1  2020-04-03 22:00:00               1     E   \n",
       "2  2020-03-18 13:00:00              17     E   \n",
       "3  2020-01-02 00:00:00               1     E   \n",
       "4  2020-04-03 14:03:00               2     E   \n",
       "\n",
       "                                              probas                   qids  \\\n",
       "0           [[Lim Guan Eng, 0.9581], [None, 0.0419]]              [Q707164]   \n",
       "1  [[Frank Pavone, 0.5178], [None, 0.2799], [Pres...             [Q5488928]   \n",
       "2  [[Philip Lowe, 0.8229], [None, 0.0994], [Matt ...  [Q1981766, Q27922677]   \n",
       "3  [[Steve Bartlett, 0.9232], [None, 0.0754], [Pr...              [Q185480]   \n",
       "4   [[Ursula von der Leyen, 0.9706], [None, 0.0294]]               [Q60772]   \n",
       "\n",
       "                                           quotation            quoteID  \\\n",
       "0  Coupled with solid institutions as measured by...  2020-01-22-015396   \n",
       "1  economy and the free market from the threat of...  2020-04-03-012199   \n",
       "2  having a very major impact on the economy and ...  2020-03-18-019177   \n",
       "3  I enjoy your analysis and instruction on polli...  2020-01-02-019876   \n",
       "4  invest whatever is necessary to have the econo...  2020-04-03-031101   \n",
       "\n",
       "                speaker                                               urls  \\\n",
       "0          Lim Guan Eng  [http://www.themalaymailonline.com/news/money/...   \n",
       "1          Frank Pavone  [http://catholicnewsagency.com/news/catholics-...   \n",
       "2           Philip Lowe  [https://www.byronnews.com.au/news/cba-slammed...   \n",
       "3        Steve Bartlett  [http://feeds.foxnews.com/~r/foxnews/politics/...   \n",
       "4  Ursula von der Leyen  [http://express.co.uk/news/uk/1264562/eu-news-...   \n",
       "\n",
       "                   occupation                    occupation_labels  \n",
       "0                    [Q82955]                         [politician]  \n",
       "1                    [Q36180]                             [writer]  \n",
       "2                   [Q188094]                          [economist]  \n",
       "3         [Q82955, Q11986654]               [politician, lobbyist]  \n",
       "4  [Q39631, Q82955, Q2730732]  [physician, politician, equestrian]  "
      ]
     },
     "execution_count": 18,
     "metadata": {},
     "output_type": "execute_result"
    }
   ],
   "source": [
    "df_econ_pd.head()"
   ]
  },
  {
   "cell_type": "code",
   "execution_count": 19,
   "id": "39478f3c-99a9-4969-bd8a-d7432453df65",
   "metadata": {},
   "outputs": [],
   "source": [
    "def freq_count(vals, counts):\n",
    "    if vals is None: return\n",
    "    for val in vals:\n",
    "        if val not in counts: counts[val] = 0\n",
    "        counts[val] += 1"
   ]
  },
  {
   "cell_type": "code",
   "execution_count": 20,
   "id": "f44f5dee-276b-4b9c-b7b5-c719c65d5b56",
   "metadata": {},
   "outputs": [],
   "source": [
    "econ_quotes_by_profession = {}\n",
    "df_econ_pd.occupation_labels.apply(lambda vals: freq_count(vals, econ_quotes_by_profession));"
   ]
  },
  {
   "cell_type": "code",
   "execution_count": 21,
   "id": "28de2f23-210f-49ad-a6eb-7e32e8556c66",
   "metadata": {},
   "outputs": [],
   "source": [
    "kvs = sorted(list(econ_quotes_by_profession.items()), key = lambda x : x[1], reverse=True)"
   ]
  },
  {
   "cell_type": "code",
   "execution_count": 22,
   "id": "3b1ef3e5-e490-407b-bfbe-609f41912b89",
   "metadata": {},
   "outputs": [
    {
     "data": {
      "text/plain": [
       "<AxesSubplot:>"
      ]
     },
     "execution_count": 22,
     "metadata": {},
     "output_type": "execute_result"
    },
    {
     "data": {
      "image/png": "[encoded data removed]",
      "text/plain": [
       "<Figure size 1080x576 with 1 Axes>"
      ]
     },
     "metadata": {
      "needs_background": "light"
     },
     "output_type": "display_data"
    }
   ],
   "source": [
    "top_10_for_econ = kvs[:10]\n",
    "plt.figure(figsize=(15,8))\n",
    "sns.barplot(x=[x for x,y in top_10_for_econ], y=[y for x,y in top_10_for_econ])"
   ]
  }
 ],
 "metadata": {
  "kernelspec": {
   "display_name": "Python 3 (ipykernel)",
   "language": "python",
   "name": "python3"
  },
  "language_info": {
   "codemirror_mode": {
    "name": "ipython",
    "version": 3
   },
   "file_extension": ".py",
   "mimetype": "text/x-python",
   "name": "python",
   "nbconvert_exporter": "python",
   "pygments_lexer": "ipython3",
   "version": "3.8.11"
  }
 },
 "nbformat": 4,
 "nbformat_minor": 5
}
