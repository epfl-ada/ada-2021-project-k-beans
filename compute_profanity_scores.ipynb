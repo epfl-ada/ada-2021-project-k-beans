{
 "cells": [
  {
   "cell_type": "code",
   "execution_count": 1,
   "id": "527b043c-fcce-499e-888e-e46ff8eb97f5",
   "metadata": {},
   "outputs": [
    {
     "name": "stdout",
     "output_type": "stream",
     "text": [
      "Requirement already satisfied: pyspark==3.1.1 in /usr/local/anaconda3/envs/ada/lib/python3.8/site-packages (3.1.1)\n",
      "Requirement already satisfied: pyarrow in /usr/local/anaconda3/envs/ada/lib/python3.8/site-packages (6.0.0)\n",
      "Requirement already satisfied: alt-profanity-check in /usr/local/anaconda3/envs/ada/lib/python3.8/site-packages (1.0.1)\n",
      "Requirement already satisfied: py4j==0.10.9 in /usr/local/anaconda3/envs/ada/lib/python3.8/site-packages (from pyspark==3.1.1) (0.10.9)\n",
      "Requirement already satisfied: joblib>=1.1.0 in /usr/local/anaconda3/envs/ada/lib/python3.8/site-packages (from alt-profanity-check) (1.1.0)\n",
      "Requirement already satisfied: scikit-learn==1.0.1 in /usr/local/anaconda3/envs/ada/lib/python3.8/site-packages (from alt-profanity-check) (1.0.1)\n",
      "Requirement already satisfied: threadpoolctl>=2.0.0 in /usr/local/anaconda3/envs/ada/lib/python3.8/site-packages (from scikit-learn==1.0.1->alt-profanity-check) (3.0.0)\n",
      "Requirement already satisfied: scipy>=1.1.0 in /usr/local/anaconda3/envs/ada/lib/python3.8/site-packages (from scikit-learn==1.0.1->alt-profanity-check) (1.7.1)\n",
      "Requirement already satisfied: numpy>=1.14.6 in /usr/local/anaconda3/envs/ada/lib/python3.8/site-packages (from scikit-learn==1.0.1->alt-profanity-check) (1.20.3)\n",
      "Note: you may need to restart the kernel to use updated packages.\n"
     ]
    }
   ],
   "source": [
    "%pip install pyspark==3.1.1 pyarrow alt-profanity-check"
   ]
  },
  {
   "cell_type": "code",
   "execution_count": 2,
   "id": "2b9bcb00-48a0-4fe8-9ba6-75335d21fd07",
   "metadata": {},
   "outputs": [
    {
     "data": {
      "text/plain": [
       "'/usr/local/anaconda3/envs/ada/bin/python'"
      ]
     },
     "execution_count": 2,
     "metadata": {},
     "output_type": "execute_result"
    }
   ],
   "source": [
    "import sys\n",
    "sys.executable"
   ]
  },
  {
   "cell_type": "code",
   "execution_count": 3,
   "id": "d8cca67f-bfa3-4de2-aaf5-e1c1c6e0960a",
   "metadata": {},
   "outputs": [
    {
     "name": "stdout",
     "output_type": "stream",
     "text": [
      "env: SPARK_PYTHON=/usr/local/anaconda3/envs/ada/bin/python\n",
      "env: SPARK_DRIVER=/usr/local/anaconda3/envs/ada/bin/python\n"
     ]
    }
   ],
   "source": [
    "# Make sure that spark uses the same python distribution to avoid serialization issues due to missing packages\n",
    "%env SPARK_PYTHON=/usr/local/anaconda3/envs/ada/bin/python\n",
    "%env SPARK_DRIVER=/usr/local/anaconda3/envs/ada/bin/python"
   ]
  },
  {
   "cell_type": "code",
   "execution_count": 2,
   "id": "36dd4ee0-313a-4028-8da4-20e10ee7adf0",
   "metadata": {},
   "outputs": [],
   "source": [
    "# Data handling\n",
    "import pandas as pd\n",
    "\n",
    "# PySpark\n",
    "import pyspark\n",
    "from pyspark.sql import functions as f\n",
    "from pyspark.sql import SparkSession\n",
    "\n",
    "# Profanity check\n",
    "import profanity_check\n",
    "\n",
    "# Helpers\n",
    "import os"
   ]
  },
  {
   "cell_type": "code",
   "execution_count": 4,
   "id": "fc34c58f-586f-4e41-9f53-2a1e3f69cb5f",
   "metadata": {},
   "outputs": [
    {
     "data": {
      "text/html": [
       "\n",
       "            <div>\n",
       "                <p><b>SparkSession - in-memory</b></p>\n",
       "                \n",
       "        <div>\n",
       "            <p><b>SparkContext</b></p>\n",
       "\n",
       "            <p><a href=\"http://172.22.22.63:4042\">Spark UI</a></p>\n",
       "\n",
       "            <dl>\n",
       "              <dt>Version</dt>\n",
       "                <dd><code>v3.1.1</code></dd>\n",
       "              <dt>Master</dt>\n",
       "                <dd><code>local[*]</code></dd>\n",
       "              <dt>AppName</dt>\n",
       "                <dd><code>pyspark-shell</code></dd>\n",
       "            </dl>\n",
       "        </div>\n",
       "        \n",
       "            </div>\n",
       "        "
      ],
      "text/plain": [
       "<pyspark.sql.session.SparkSession at 0x7ff829912fd0>"
      ]
     },
     "execution_count": 4,
     "metadata": {},
     "output_type": "execute_result"
    }
   ],
   "source": [
    "conf = pyspark.SparkConf().setMaster(\"local[*]\").setAll([\n",
    "    ('spark.driver.memory','8G'),\n",
    "    ('spark.driver.maxResultSize', '8G'),\n",
    "    ('spark.sql.execution.arrow.pyspark.enabled', True),\n",
    "    ('spark.sql.execution.arrow.maxRecordsPerBatch', 10000),\n",
    "    ('spark.local.dir', '/tmp')\n",
    "])\n",
    "\n",
    "spark = SparkSession.builder.config(conf=conf).config('spark.jars.packages', 'com.johnsnowlabs.nlp:spark-nlp_2.12:3.3.2').getOrCreate()\n",
    "sc = spark.sparkContext\n",
    "sc.setLogLevel('ERROR')\n",
    "spark"
   ]
  },
  {
   "cell_type": "code",
   "execution_count": 6,
   "id": "f5532c48-5bf5-4a61-99ba-8324f5636abf",
   "metadata": {},
   "outputs": [],
   "source": [
    "DATA_DIR = 'data/'\n",
    "QUOTEBANK_DATA_DIR = DATA_DIR + 'quotebank_data/'\n",
    "PROFANITY_SCORES_DIR = DATA_DIR + 'profanity_scores/'"
   ]
  },
  {
   "cell_type": "code",
   "execution_count": 7,
   "id": "c6c0cdc4-7a11-4cfc-b65f-27302f0f3df6",
   "metadata": {},
   "outputs": [],
   "source": [
    "# Works on an iterator of pandas dataframes and used for mapInPandas()\n",
    "def compute_profanity(iterator):\n",
    "    for pdf in iterator:\n",
    "        yield pd.DataFrame({\"quoteID\": pdf.quoteID, \"profanity\": profanity_check.predict_prob(pdf.quotation)})"
   ]
  },
  {
   "cell_type": "code",
   "execution_count": 8,
   "id": "1782f754-0fd9-4ff4-b3ca-4b86cfd99904",
   "metadata": {},
   "outputs": [],
   "source": [
    "def compute_all_profanity_scores(file_list=None):\n",
    "    if not file_list:\n",
    "        file_list = os.listdir(QUOTEBANK_DATA_DIR + 'parquet')\n",
    "    for fn in file_list:\n",
    "        df = spark.read.parquet(QUOTEBANK_DATA_DIR + 'parquet/' + fn)\n",
    "        df = df.mapInPandas(compute_profanity, schema=\"quoteID string, profanity double\")\n",
    "        df.write.parquet(PROFANITY_SCORES_DIR + 'profanity' + fn[6:], 'overwrite')"
   ]
  },
  {
   "cell_type": "code",
   "execution_count": null,
   "id": "187d492b-4eea-4111-bd33-532836ea0806",
   "metadata": {},
   "outputs": [
    {
     "name": "stderr",
     "output_type": "stream",
     "text": [
      "                                                                                \r"
     ]
    }
   ],
   "source": [
    "%%time\n",
    "compute_all_profanity_scores(file_list=['quotes-2020.parquet'])"
   ]
  },
  {
   "cell_type": "code",
   "execution_count": null,
   "id": "791de819-c2dc-4564-a648-88648222af66",
   "metadata": {},
   "outputs": [],
   "source": []
  },
  {
   "cell_type": "code",
   "execution_count": null,
   "id": "23d7ccfc-bcaf-4a0b-8f90-32f0762cbbe0",
   "metadata": {},
   "outputs": [],
   "source": []
  }
 ],
 "metadata": {
  "kernelspec": {
   "display_name": "Python 3 (ipykernel)",
   "language": "python",
   "name": "python3"
  },
  "language_info": {
   "codemirror_mode": {
    "name": "ipython",
    "version": 3
   },
   "file_extension": ".py",
   "mimetype": "text/x-python",
   "name": "python",
   "nbconvert_exporter": "python",
   "pygments_lexer": "ipython3",
   "version": "3.8.11"
  }
 },
 "nbformat": 4,
 "nbformat_minor": 5
}
