{
 "cells": [
  {
   "cell_type": "code",
   "execution_count": 13,
   "id": "0fe6af4c-8879-4cbb-ab34-675ca40717ba",
   "metadata": {},
   "outputs": [
    {
     "name": "stdout",
     "output_type": "stream",
     "text": [
      "Requirement already satisfied: pyspark==3.1.1 in /usr/local/anaconda3/envs/ada/lib/python3.8/site-packages (3.1.1)\n",
      "Requirement already satisfied: pyarrow in /usr/local/anaconda3/envs/ada/lib/python3.8/site-packages (6.0.0)\n",
      "Requirement already satisfied: py4j==0.10.9 in /usr/local/anaconda3/envs/ada/lib/python3.8/site-packages (from pyspark==3.1.1) (0.10.9)\n",
      "Requirement already satisfied: numpy>=1.16.6 in /usr/local/anaconda3/envs/ada/lib/python3.8/site-packages (from pyarrow) (1.20.3)\n",
      "Note: you may need to restart the kernel to use updated packages.\n"
     ]
    }
   ],
   "source": [
    "%pip install pyspark==3.1.1 pyarrow"
   ]
  },
  {
   "cell_type": "code",
   "execution_count": 14,
   "id": "2b9bcb00-48a0-4fe8-9ba6-75335d21fd07",
   "metadata": {},
   "outputs": [
    {
     "data": {
      "text/plain": [
       "'/usr/local/anaconda3/envs/ada/bin/python'"
      ]
     },
     "execution_count": 14,
     "metadata": {},
     "output_type": "execute_result"
    }
   ],
   "source": [
    "import sys\n",
    "sys.executable"
   ]
  },
  {
   "cell_type": "code",
   "execution_count": 15,
   "id": "d8cca67f-bfa3-4de2-aaf5-e1c1c6e0960a",
   "metadata": {},
   "outputs": [
    {
     "name": "stdout",
     "output_type": "stream",
     "text": [
      "env: SPARK_PYTHON=/usr/local/anaconda3/envs/ada/bin/python\n",
      "env: SPARK_DRIVER=/usr/local/anaconda3/envs/ada/bin/python\n"
     ]
    }
   ],
   "source": [
    "# Make sure that spark uses the same python distribution to avoid serialization issues due to missing packages\n",
    "%env SPARK_PYTHON=/usr/local/anaconda3/envs/ada/bin/python\n",
    "%env SPARK_DRIVER=/usr/local/anaconda3/envs/ada/bin/python"
   ]
  },
  {
   "cell_type": "code",
   "execution_count": 48,
   "id": "36dd4ee0-313a-4028-8da4-20e10ee7adf0",
   "metadata": {},
   "outputs": [],
   "source": [
    "# PySpark\n",
    "import pyspark\n",
    "from pyspark import SparkContext\n",
    "from pyspark.sql import SparkSession\n",
    "from pyspark.sql.types import StructType\n",
    "\n",
    "# Helpers\n",
    "import os\n",
    "import json"
   ]
  },
  {
   "cell_type": "code",
   "execution_count": 49,
   "id": "fc34c58f-586f-4e41-9f53-2a1e3f69cb5f",
   "metadata": {},
   "outputs": [
    {
     "data": {
      "text/html": [
       "\n",
       "            <div>\n",
       "                <p><b>SparkSession - in-memory</b></p>\n",
       "                \n",
       "        <div>\n",
       "            <p><b>SparkContext</b></p>\n",
       "\n",
       "            <p><a href=\"http://172.22.22.63:4040\">Spark UI</a></p>\n",
       "\n",
       "            <dl>\n",
       "              <dt>Version</dt>\n",
       "                <dd><code>v3.1.1</code></dd>\n",
       "              <dt>Master</dt>\n",
       "                <dd><code>local[*]</code></dd>\n",
       "              <dt>AppName</dt>\n",
       "                <dd><code>pyspark-shell</code></dd>\n",
       "            </dl>\n",
       "        </div>\n",
       "        \n",
       "            </div>\n",
       "        "
      ],
      "text/plain": [
       "<pyspark.sql.session.SparkSession at 0x7fd6420857f0>"
      ]
     },
     "execution_count": 49,
     "metadata": {},
     "output_type": "execute_result"
    }
   ],
   "source": [
    "conf = pyspark.SparkConf().setMaster(\"local[*]\").setAll([\n",
    "    ('spark.driver.memory','8G'),\n",
    "    ('spark.driver.maxResultSize', '8G'),\n",
    "    ('spark.sql.execution.arrow.pyspark.enabled', True),\n",
    "    ('spark.sql.execution.arrow.maxRecordsPerBatch', 10000),\n",
    "    ('spark.local.dir', '/tmp')\n",
    "])\n",
    "\n",
    "spark = SparkSession.builder.config(conf=conf).config('spark.jars.packages', 'com.johnsnowlabs.nlp:spark-nlp_2.12:3.3.2').getOrCreate()\n",
    "sc = spark.sparkContext\n",
    "sc.setLogLevel('ERROR')\n",
    "spark"
   ]
  },
  {
   "cell_type": "code",
   "execution_count": 18,
   "id": "f5532c48-5bf5-4a61-99ba-8324f5636abf",
   "metadata": {},
   "outputs": [],
   "source": [
    "DATA_DIR = 'data/'\n",
    "QUOTEBANK_DATA_DIR = DATA_DIR + 'quotebank_data/'"
   ]
  },
  {
   "cell_type": "code",
   "execution_count": 50,
   "id": "b53bd989-097a-49bb-9bc2-7b6d5ce75034",
   "metadata": {},
   "outputs": [],
   "source": [
    "JSON_SCHEMA = StructType.fromJson(json.loads(\n",
    "    '''{  \"type\": \"struct\", \n",
    "        \"fields\": [\n",
    "            {\"name\": \"date\", \"type\": \"string\", \"nullable\": true, \"metadata\": {}}, \n",
    "            {\"name\": \"numOccurrences\", \"type\": \"long\", \"nullable\": true,\"metadata\": {}}, \n",
    "            {\"name\": \"phase\", \"type\": \"string\", \"nullable\": true, \"metadata\": {}}, \n",
    "            {\"name\": \"probas\", \"type\": \n",
    "            {\"type\": \"array\", \"elementType\": {\"type\": \"array\", \"elementType\": \"string\", \"containsNull\": true}, \"containsNull\": true}, \"nullable\": true, \"metadata\": {}}, \n",
    "            {\"name\": \"qids\", \"type\": {\"type\": \"array\", \"elementType\": \"string\", \"containsNull\": true}, \"nullable\": true, \"metadata\": {}}, \n",
    "            {\"name\": \"quotation\", \"type\": \"string\", \"nullable\": true, \"metadata\": {}}, \n",
    "            {\"name\": \"quoteID\", \"type\": \"string\", \"nullable\": true, \"metadata\": {}}, \n",
    "            {\"name\": \"speaker\", \"type\": \"string\", \"nullable\": true, \"metadata\": {}}, \n",
    "            {\"name\": \"urls\", \"type\": {\"type\": \"array\", \"elementType\": \"string\", \"containsNull\": true}, \"nullable\": true, \"metadata\": {}}\n",
    "            ]\n",
    "    }'''))\n",
    "            "
   ]
  },
  {
   "cell_type": "code",
   "execution_count": 51,
   "id": "8770baa9-baa5-436a-8929-e14bac26eaf1",
   "metadata": {
    "tags": []
   },
   "outputs": [],
   "source": [
    "def convert_quotebank_to_parquet():\n",
    "    for fn in os.listdir(QUOTEBANK_DATA_DIR + 'json'):\n",
    "        df = spark.read.json(QUOTEBANK_DATA_DIR + 'json/' + fn, schema=JSON_SCHEMA)\n",
    "        df.write.parquet(QUOTEBANK_DATA_DIR + 'parquet/' + fn[:-4] + 'parquet', 'overwrite')"
   ]
  },
  {
   "cell_type": "code",
   "execution_count": 52,
   "id": "1782f754-0fd9-4ff4-b3ca-4b86cfd99904",
   "metadata": {},
   "outputs": [
    {
     "name": "stderr",
     "output_type": "stream",
     "text": [
      "                                                                                \r"
     ]
    },
    {
     "name": "stdout",
     "output_type": "stream",
     "text": [
      "CPU times: user 331 ms, sys: 160 ms, total: 491 ms\n",
      "Wall time: 8min 40s\n"
     ]
    }
   ],
   "source": [
    "%%time\n",
    "convert_quotebank_to_parquet()"
   ]
  },
  {
   "cell_type": "code",
   "execution_count": null,
   "id": "80462df6-3936-4426-a688-1957cd6546b0",
   "metadata": {},
   "outputs": [],
   "source": []
  }
 ],
 "metadata": {
  "kernelspec": {
   "display_name": "Python 3 (ipykernel)",
   "language": "python",
   "name": "python3"
  },
  "language_info": {
   "codemirror_mode": {
    "name": "ipython",
    "version": 3
   },
   "file_extension": ".py",
   "mimetype": "text/x-python",
   "name": "python",
   "nbconvert_exporter": "python",
   "pygments_lexer": "ipython3",
   "version": "3.8.11"
  }
 },
 "nbformat": 4,
 "nbformat_minor": 5
}
