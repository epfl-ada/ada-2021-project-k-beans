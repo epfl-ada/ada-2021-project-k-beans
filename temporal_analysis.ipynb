{
 "cells": [
  {
   "cell_type": "code",
   "execution_count": 1,
   "id": "337bf5cc-cfd7-4a19-8341-472e22e9e82a",
   "metadata": {},
   "outputs": [
    {
     "name": "stdout",
     "output_type": "stream",
     "text": [
      "Requirement already satisfied: pyspark==3.1.1 in /usr/local/anaconda3/envs/ada/lib/python3.8/site-packages (3.1.1)\n",
      "Requirement already satisfied: pyarrow in /usr/local/anaconda3/envs/ada/lib/python3.8/site-packages (6.0.0)\n",
      "Requirement already satisfied: py4j==0.10.9 in /usr/local/anaconda3/envs/ada/lib/python3.8/site-packages (from pyspark==3.1.1) (0.10.9)\n",
      "Requirement already satisfied: numpy>=1.16.6 in /usr/local/anaconda3/envs/ada/lib/python3.8/site-packages (from pyarrow) (1.20.3)\n",
      "Note: you may need to restart the kernel to use updated packages.\n"
     ]
    }
   ],
   "source": [
    "%pip install pyspark==3.1.1 pyarrow"
   ]
  },
  {
   "cell_type": "code",
   "execution_count": 2,
   "id": "2b9bcb00-48a0-4fe8-9ba6-75335d21fd07",
   "metadata": {},
   "outputs": [
    {
     "data": {
      "text/plain": [
       "'/usr/local/anaconda3/envs/ada/bin/python'"
      ]
     },
     "execution_count": 2,
     "metadata": {},
     "output_type": "execute_result"
    }
   ],
   "source": [
    "import sys\n",
    "sys.executable"
   ]
  },
  {
   "cell_type": "code",
   "execution_count": 3,
   "id": "d8cca67f-bfa3-4de2-aaf5-e1c1c6e0960a",
   "metadata": {},
   "outputs": [
    {
     "name": "stdout",
     "output_type": "stream",
     "text": [
      "env: SPARK_PYTHON=/usr/local/anaconda3/envs/ada/bin/python\n",
      "env: SPARK_DRIVER=/usr/local/anaconda3/envs/ada/bin/python\n"
     ]
    }
   ],
   "source": [
    "# Make sure that spark uses the same python distribution to avoid serialization issues due to missing packages\n",
    "%env SPARK_PYTHON=/usr/local/anaconda3/envs/ada/bin/python\n",
    "%env SPARK_DRIVER=/usr/local/anaconda3/envs/ada/bin/python"
   ]
  },
  {
   "cell_type": "code",
   "execution_count": 34,
   "id": "36dd4ee0-313a-4028-8da4-20e10ee7adf0",
   "metadata": {},
   "outputs": [],
   "source": [
    "# Data handling and visualization\n",
    "import pandas as pd\n",
    "import seaborn as sns\n",
    "import matplotlib.pyplot as plt\n",
    "\n",
    "# PySpark\n",
    "import pyspark\n",
    "from pyspark.sql import functions as f\n",
    "from pyspark.sql import SparkSession\n",
    "from pyspark.sql.types import IntegerType, BooleanType, ArrayType, StringType, DoubleType\n",
    "\n",
    "# Helpers\n",
    "import os"
   ]
  },
  {
   "cell_type": "code",
   "execution_count": 91,
   "id": "fc34c58f-586f-4e41-9f53-2a1e3f69cb5f",
   "metadata": {},
   "outputs": [
    {
     "data": {
      "text/html": [
       "\n",
       "            <div>\n",
       "                <p><b>SparkSession - in-memory</b></p>\n",
       "                \n",
       "        <div>\n",
       "            <p><b>SparkContext</b></p>\n",
       "\n",
       "            <p><a href=\"http://172.22.22.63:4041\">Spark UI</a></p>\n",
       "\n",
       "            <dl>\n",
       "              <dt>Version</dt>\n",
       "                <dd><code>v3.1.1</code></dd>\n",
       "              <dt>Master</dt>\n",
       "                <dd><code>local[*]</code></dd>\n",
       "              <dt>AppName</dt>\n",
       "                <dd><code>pyspark-shell</code></dd>\n",
       "            </dl>\n",
       "        </div>\n",
       "        \n",
       "            </div>\n",
       "        "
      ],
      "text/plain": [
       "<pyspark.sql.session.SparkSession at 0x7fa22eba5d90>"
      ]
     },
     "execution_count": 91,
     "metadata": {},
     "output_type": "execute_result"
    }
   ],
   "source": [
    "conf = pyspark.SparkConf().setMaster(\"local[*]\").setAll([\n",
    "    ('spark.driver.memory','8G'),\n",
    "    ('spark.driver.maxResultSize', '8G'),\n",
    "    ('spark.sql.execution.arrow.pyspark.enabled', True),\n",
    "    ('spark.sql.execution.arrow.maxRecordsPerBatch', 10000),\n",
    "    ('spark.local.dir', '/tmp')\n",
    "])\n",
    "\n",
    "spark = SparkSession.builder.config(conf=conf).config(\"spark.jars.packages\", \"com.johnsnowlabs.nlp:spark-nlp_2.12:3.3.2\").getOrCreate()\n",
    "sc = spark.sparkContext\n",
    "sc.setLogLevel(\"ERROR\")\n",
    "spark"
   ]
  },
  {
   "cell_type": "code",
   "execution_count": 6,
   "id": "f5532c48-5bf5-4a61-99ba-8324f5636abf",
   "metadata": {},
   "outputs": [],
   "source": [
    "DATA_DIR = 'data/'\n",
    "QUOTEBANK_DATA_DIR = DATA_DIR + 'quotebank_data/'\n",
    "PROFANITY_SCORES_DIR = DATA_DIR + 'profanity_scores/'"
   ]
  },
  {
   "cell_type": "code",
   "execution_count": 7,
   "id": "80aca4be-c84f-4194-a656-283355695433",
   "metadata": {},
   "outputs": [],
   "source": [
    "def load_parquet_data(file_list):\n",
    "    df_all = None\n",
    "    for fn in file_list:\n",
    "        df = spark.read.parquet(fn)\n",
    "        if df_all:\n",
    "            df_all = df_all.union(df)\n",
    "        else:\n",
    "            df_all = df\n",
    "    return df_all"
   ]
  },
  {
   "cell_type": "code",
   "execution_count": 8,
   "id": "a98cfabb-e73a-4802-9a6a-bfe6821cb6b9",
   "metadata": {},
   "outputs": [],
   "source": [
    "QB_FILE_PATTERN = QUOTEBANK_DATA_DIR + 'parquet/quotes-%s.parquet'\n",
    "PROFANITY_FILE_PATTERN = PROFANITY_SCORES_DIR + 'profanity-%s.parquet'\n",
    "YEARS = ['2020']"
   ]
  },
  {
   "cell_type": "code",
   "execution_count": 9,
   "id": "1f4dade7-3c26-4202-878c-ef7f58b43305",
   "metadata": {},
   "outputs": [
    {
     "name": "stderr",
     "output_type": "stream",
     "text": [
      "                                                                                \r"
     ]
    },
    {
     "name": "stdout",
     "output_type": "stream",
     "text": [
      "CPU times: user 6.73 ms, sys: 4.38 ms, total: 11.1 ms\n",
      "Wall time: 7.22 s\n"
     ]
    }
   ],
   "source": [
    "%%time\n",
    "df_all = load_parquet_data([ (QB_FILE_PATTERN % fn) for fn in YEARS ])\n",
    "df_has_spk = df_all.where(df_all.speaker != \"None\")"
   ]
  },
  {
   "cell_type": "code",
   "execution_count": 21,
   "id": "897e22f4-79e4-47a6-9292-d598788db509",
   "metadata": {},
   "outputs": [
    {
     "name": "stdout",
     "output_type": "stream",
     "text": [
      "CPU times: user 3.18 ms, sys: 2.57 ms, total: 5.75 ms\n",
      "Wall time: 441 ms\n"
     ]
    },
    {
     "name": "stderr",
     "output_type": "stream",
     "text": [
      "                                                                                \r"
     ]
    }
   ],
   "source": [
    "%%time\n",
    "dfp = load_parquet_data([ (PROFANITY_FILE_PATTERN % fn) for fn in YEARS ])"
   ]
  },
  {
   "cell_type": "code",
   "execution_count": 11,
   "id": "1ee12559-eecb-452f-b700-985326fe3bee",
   "metadata": {},
   "outputs": [
    {
     "data": {
      "text/html": [
       "<div>\n",
       "<style scoped>\n",
       "    .dataframe tbody tr th:only-of-type {\n",
       "        vertical-align: middle;\n",
       "    }\n",
       "\n",
       "    .dataframe tbody tr th {\n",
       "        vertical-align: top;\n",
       "    }\n",
       "\n",
       "    .dataframe thead th {\n",
       "        text-align: right;\n",
       "    }\n",
       "</style>\n",
       "<table border=\"1\" class=\"dataframe\">\n",
       "  <thead>\n",
       "    <tr style=\"text-align: right;\">\n",
       "      <th></th>\n",
       "      <th>profanity</th>\n",
       "    </tr>\n",
       "    <tr>\n",
       "      <th>quoteID</th>\n",
       "      <th></th>\n",
       "    </tr>\n",
       "  </thead>\n",
       "  <tbody>\n",
       "    <tr>\n",
       "      <th>2020-03-11-007341</th>\n",
       "      <td>0.018511</td>\n",
       "    </tr>\n",
       "    <tr>\n",
       "      <th>2020-01-23-009919</th>\n",
       "      <td>0.204860</td>\n",
       "    </tr>\n",
       "    <tr>\n",
       "      <th>2020-01-09-009596</th>\n",
       "      <td>0.063560</td>\n",
       "    </tr>\n",
       "    <tr>\n",
       "      <th>2020-03-30-006035</th>\n",
       "      <td>0.151097</td>\n",
       "    </tr>\n",
       "    <tr>\n",
       "      <th>2020-02-21-007083</th>\n",
       "      <td>0.111848</td>\n",
       "    </tr>\n",
       "  </tbody>\n",
       "</table>\n",
       "</div>"
      ],
      "text/plain": [
       "                   profanity\n",
       "quoteID                     \n",
       "2020-03-11-007341   0.018511\n",
       "2020-01-23-009919   0.204860\n",
       "2020-01-09-009596   0.063560\n",
       "2020-03-30-006035   0.151097\n",
       "2020-02-21-007083   0.111848"
      ]
     },
     "execution_count": 11,
     "metadata": {},
     "output_type": "execute_result"
    }
   ],
   "source": [
    "#dfp.head()"
   ]
  },
  {
   "cell_type": "code",
   "execution_count": 12,
   "id": "24fa0032-e171-4de8-9cea-9576976608a3",
   "metadata": {},
   "outputs": [],
   "source": [
    "# Extract the yyyy-mm part from the date\n",
    "@f.udf(StringType())\n",
    "def get_month(date_str):\n",
    "    return \"-\".join(date_str.split(\"-\")[:2])"
   ]
  },
  {
   "cell_type": "code",
   "execution_count": 13,
   "id": "dc1d2301-7de8-4482-b4ed-b1d44b6bb4da",
   "metadata": {},
   "outputs": [],
   "source": [
    "def normalize(key, pdf):\n",
    "    return pd.DataFrame({\"key\": [ key[0] ], \"mean\" : [ pdf.profanity.mean() ], \"sem\" : [ pdf.profanity.sem() ]})"
   ]
  },
  {
   "cell_type": "code",
   "execution_count": 32,
   "id": "e3050f4e-493b-4388-830e-188d4c56c5f1",
   "metadata": {},
   "outputs": [],
   "source": [
    "def plot_distribution(df, title):\n",
    "    plt.figure(figsize=(15,8))\n",
    "    plt.ylim(0.9 * df['mean'].min(), 1.1 * df['mean'].max())\n",
    "    sns.barplot(x=df[\"key\"], y=df[\"mean\"], yerr=1.96*df[\"sem\"])\n",
    "    plt.xlabel(\"month\")\n",
    "    plt.ylabel(\"average profanity with 95% error bars\")\n",
    "    plt.title(title)\n",
    "    plt.show()\n"
   ]
  },
  {
   "cell_type": "code",
   "execution_count": 90,
   "id": "3cec236e-d996-44b0-aa6a-5b42aa9784cf",
   "metadata": {},
   "outputs": [],
   "source": [
    "d = df_has_spk.join(dfp, 'quoteID')\n",
    "# d.write.parquet(DATA_DIR + 'qb_with_profanity.parquet', 'overwrite')"
   ]
  },
  {
   "cell_type": "code",
   "execution_count": 26,
   "id": "5fa9820e-172a-488a-9297-bc3f064f0ec4",
   "metadata": {},
   "outputs": [],
   "source": [
    "df_has_spk = spark.read.parquet(DATA_DIR + 'qb_with_profanity.parquet')"
   ]
  },
  {
   "cell_type": "code",
   "execution_count": 28,
   "id": "cb2b1b14-bc23-4c4f-9355-b7ed95948a6e",
   "metadata": {},
   "outputs": [
    {
     "name": "stderr",
     "output_type": "stream",
     "text": [
      "[Stage 23:=====================================================>(199 + 1) / 200]\r"
     ]
    },
    {
     "name": "stdout",
     "output_type": "stream",
     "text": [
      "CPU times: user 219 ms, sys: 177 ms, total: 396 ms\n",
      "Wall time: 1min 54s\n"
     ]
    },
    {
     "name": "stderr",
     "output_type": "stream",
     "text": [
      "                                                                                \r"
     ]
    }
   ],
   "source": [
    "%%time\n",
    "d1 = df_has_spk \\\n",
    "        .withColumn('date', get_month(f.col('quoteID'))) \\\n",
    "        .groupby('date') \\\n",
    "        .applyInPandas(normalize, schema=\"key string, mean double, sem double\") \\\n",
    "        .sort(\"key\") \\\n",
    "        .toPandas()"
   ]
  },
  {
   "cell_type": "code",
   "execution_count": 38,
   "id": "0e2a8a17-948c-45f9-8fc4-d95740cd6817",
   "metadata": {},
   "outputs": [
    {
     "name": "stderr",
     "output_type": "stream",
     "text": [
      "[Stage 28:=====================================================>(199 + 1) / 200]\r"
     ]
    },
    {
     "name": "stdout",
     "output_type": "stream",
     "text": [
      "CPU times: user 169 ms, sys: 122 ms, total: 291 ms\n",
      "Wall time: 2min 4s\n"
     ]
    },
    {
     "name": "stderr",
     "output_type": "stream",
     "text": [
      "                                                                                \r"
     ]
    }
   ],
   "source": [
    "%%time\n",
    "d2 = df_has_spk \\\n",
    "        .withColumn('date', get_month(f.col('quoteID'))) \\\n",
    "        .where( (df_has_spk.speaker != \"President Donald Trump\") \\\n",
    "               & (df_has_spk.speaker != \"President Trump\") \\\n",
    "               & (df_has_spk.speaker != \"Donald Trump\") ) \\\n",
    "        .groupby(\"date\") \\\n",
    "        .applyInPandas(normalize, schema=\"key string, mean double, sem double\") \\\n",
    "        .sort(\"key\") \\\n",
    "        .toPandas()"
   ]
  },
  {
   "cell_type": "code",
   "execution_count": 35,
   "id": "0649bb06-b667-4fad-aeed-e1dc8d8a07cd",
   "metadata": {},
   "outputs": [
    {
     "data": {
      "image/png": "[encoded data removed]",
      "text/plain": [
       "<Figure size 432x288 with 1 Axes>"
      ]
     },
     "metadata": {
      "needs_background": "light"
     },
     "output_type": "display_data"
    }
   ],
   "source": [
    "plot_distribution(d1, \"Monthly average profanity\")"
   ]
  },
  {
   "cell_type": "code",
   "execution_count": 39,
   "id": "f4eb44a7-534b-4052-981e-26c035ebe7c1",
   "metadata": {},
   "outputs": [
    {
     "data": {
      "image/png": "[encoded data removed]",
      "text/plain": [
       "<Figure size 432x288 with 1 Axes>"
      ]
     },
     "metadata": {
      "needs_background": "light"
     },
     "output_type": "display_data"
    }
   ],
   "source": [
    "plot_distribution(d2, \"Monthly averate profanity excluding Trump\")"
   ]
  },
  {
   "cell_type": "code",
   "execution_count": 69,
   "id": "61acd0ba-b58e-4b71-baa7-4c1b46991e5c",
   "metadata": {},
   "outputs": [],
   "source": [
    "d1['kind'] = 'With Trump'"
   ]
  },
  {
   "cell_type": "code",
   "execution_count": 68,
   "id": "b5b8ac19-ca6a-45c0-a578-960e9e6255a1",
   "metadata": {},
   "outputs": [],
   "source": [
    "d2['kind'] = 'Without Trump'"
   ]
  },
  {
   "cell_type": "code",
   "execution_count": 88,
   "id": "f1db15e2-a25c-4811-9c46-986bbfb88f07",
   "metadata": {},
   "outputs": [
    {
     "data": {
      "text/plain": [
       "(0.05621509567879259, 0.061163448274884874)"
      ]
     },
     "execution_count": 88,
     "metadata": {},
     "output_type": "execute_result"
    },
    {
     "data": {
      "image/png": "[encoded data removed]",
      "text/plain": [
       "<Figure size 469x360 with 1 Axes>"
      ]
     },
     "metadata": {
      "needs_background": "light"
     },
     "output_type": "display_data"
    }
   ],
   "source": [
    "d = pd.concat([d1, d2])\n",
    "sns.catplot(x='key', y='mean', hue='kind', data=d, kind='bar', yerr=1.6 * d1['sem'])\n",
    "plt.ylim(0.99 * d['mean'].min(), 1.01 * d['mean'].max())"
   ]
  },
  {
   "cell_type": "code",
   "execution_count": null,
   "id": "202b72a0-d631-4485-8920-f4cc5884d917",
   "metadata": {},
   "outputs": [],
   "source": []
  }
 ],
 "metadata": {
  "kernelspec": {
   "display_name": "Python 3 (ipykernel)",
   "language": "python",
   "name": "python3"
  },
  "language_info": {
   "codemirror_mode": {
    "name": "ipython",
    "version": 3
   },
   "file_extension": ".py",
   "mimetype": "text/x-python",
   "name": "python",
   "nbconvert_exporter": "python",
   "pygments_lexer": "ipython3",
   "version": "3.8.11"
  }
 },
 "nbformat": 4,
 "nbformat_minor": 5
}
